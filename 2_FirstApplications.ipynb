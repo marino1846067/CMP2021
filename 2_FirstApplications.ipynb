{
  "nbformat": 4,
  "nbformat_minor": 0,
  "metadata": {
    "kernelspec": {
      "display_name": "Python 3 (ipykernel)",
      "language": "python",
      "name": "python3"
    },
    "language_info": {
      "codemirror_mode": {
        "name": "ipython",
        "version": 3
      },
      "file_extension": ".py",
      "mimetype": "text/x-python",
      "name": "python",
      "nbconvert_exporter": "python",
      "pygments_lexer": "ipython3",
      "version": "3.8.2"
    },
    "colab": {
      "name": "2-FirstApplications.ipynb",
      "provenance": [],
      "collapsed_sections": [
        "Mj_hUIvYCcQo"
      ],
      "include_colab_link": true
    }
  },
  "cells": [
    {
      "cell_type": "markdown",
      "metadata": {
        "id": "view-in-github",
        "colab_type": "text"
      },
      "source": [
        "<a href=\"https://colab.research.google.com/github/marino1846067/python/blob/main/2_FirstApplications.ipynb\" target=\"_parent\"><img src=\"https://colab.research.google.com/assets/colab-badge.svg\" alt=\"Open In Colab\"/></a>"
      ]
    },
    {
      "cell_type": "markdown",
      "metadata": {
        "id": "Mj_hUIvYCcQo"
      },
      "source": [
        "# 1. COUNTING WORDS"
      ]
    },
    {
      "cell_type": "code",
      "metadata": {
        "colab": {
          "base_uri": "https://localhost:8080/"
        },
        "id": "tDWwIlFQCcQt",
        "outputId": "52e593a5-7de3-443c-bda5-26da9d3828eb"
      },
      "source": [
        "# Get the name of the file and open it.\n",
        "# If you are running on google colab, make sure you\n",
        "# upload examples/Python/words.txt to the directory\n",
        "# content/ (the default search space for a jupyter\n",
        "# notebook on colab)\n",
        "\n",
        "name = input('Enter file (default is words.txt):')\n",
        "try:\n",
        "    handle = open(name, 'r')\n",
        "except:\n",
        "    handle = open(\"words.txt\", 'r')\n",
        "    \n",
        "# Count word frequency\n",
        "counts = dict()\n",
        "for line in handle:\n",
        "    words = line.split()\n",
        "    for word in words:\n",
        "        counts[word] = counts.get(word,0) + 1 \n",
        "\n",
        "# Find the most common word\n",
        "# None: defines a null value, or no value at all\n",
        "# - It is not the same as 0, False, or an empty string\n",
        "# - It is a data type of its own (NoneType)\n",
        "# - Only None can be None\n",
        "bigcount = None\n",
        "bigword = None\n",
        "for word,count in counts.items():\n",
        "    if bigcount is None or count > bigcount:\n",
        "        bigword = word\n",
        "        bigcount = count\n",
        "\n",
        "# All done\n",
        "print(\"The most common word is '{0}'. It appears {2} times in '{1}'.\".format(bigword, handle.name, bigcount))"
      ],
      "execution_count": null,
      "outputs": [
        {
          "output_type": "stream",
          "name": "stdout",
          "text": [
            "Enter file (default is words.txt):\n",
            "The most common word is 'in'. It appears 3 times in 'words.txt'.\n"
          ]
        }
      ]
    },
    {
      "cell_type": "markdown",
      "metadata": {
        "id": "_e55U1o6CcQw"
      },
      "source": [
        "# 2. USING LISTS FOR PLOTTING: MOTION OF A BODY UNDER GRAVITY\n",
        "\n",
        "We want to simulate the motion of a body under gravity. We also want to plot the trajectory to check our results. To do so, we will use `matplotlib`, a Python library to create static, animated, and interactive visualizations.\n",
        "\n",
        "\n",
        "\n",
        "**Important:** \n",
        "- In the following you will see the magic commands `%matplotlib notebook` and `%matplotlib inline`: this kind of command is only needed in Jupyter and should not be placed in a Python program.\n",
        "- It is needed **only once** in the notebook before plotting. Here, we have it once per cell to make each cell standalone.  [The same is true about all the `import`'s you will find.]\n",
        "- On Google Colab `%matplotlib notebook` does not seem to work as expected, so try using `%matplotlib inline` (but do try `%matplotlib notebook` on your personal machine).\n"
      ]
    },
    {
      "cell_type": "code",
      "metadata": {
        "colab": {
          "base_uri": "https://localhost:8080/",
          "height": 300
        },
        "id": "Kr8RXV2eEx5P",
        "outputId": "1adb9028-1604-409b-c136-a7a3a15cadeb"
      },
      "source": [
        "# ONLY for Jupyter notebook\n",
        "#%matplotlib notebook\n",
        "%matplotlib inline\n",
        "\n",
        "# Import modules \n",
        "import matplotlib.pyplot as plt\n",
        "import math\n",
        "\n",
        "# Data, settings and initial conditions\n",
        "g = 9.8 # m/s^2\n",
        "t = 0.\n",
        "h = 0.\n",
        "theta = math.radians(45.)\n",
        "v0 = 1.\n",
        "dt = 0.01\n",
        "        \n",
        "# Compute velocity components\n",
        "v0x = v0*math.cos(theta)\n",
        "v0y = v0*math.sin(theta)\n",
        "print(\"v0_x: %.3f m/s \\t v0_y: %.3f m/s\"%(v0x,v0y))\n",
        "\n",
        "# Results containers\n",
        "x = []\n",
        "y = []\n",
        "\n",
        "# Evolve\n",
        "xi = 0.\n",
        "yi = h\n",
        "while yi>=0:\n",
        "    x.append(xi)\n",
        "    y.append(yi)\n",
        "    t += dt\n",
        "    xi = v0x*t\n",
        "    yi = h + v0y*t - 0.5*g*t*t\n",
        "\n",
        "# Plot results\n",
        "plt.plot(x, y, label=\"trajectory\", color='red', marker='.')\n",
        "plt.legend()\n",
        "\n",
        "# Only for script\n",
        "#plt.show()"
      ],
      "execution_count": 1,
      "outputs": [
        {
          "output_type": "stream",
          "name": "stdout",
          "text": [
            "v0_x: 0.707 m/s \t v0_y: 0.707 m/s\n"
          ]
        },
        {
          "output_type": "execute_result",
          "data": {
            "text/plain": [
              "<matplotlib.legend.Legend at 0x7fc8da6fcfd0>"
            ]
          },
          "metadata": {},
          "execution_count": 1
        },
        {
          "output_type": "display_data",
          "data": {
            "image/png": "[encoded data removed]",
            "text/plain": [
              "<Figure size 432x288 with 1 Axes>"
            ]
          },
          "metadata": {
            "needs_background": "light"
          }
        }
      ]
    },
    {
      "cell_type": "code",
      "metadata": {
        "colab": {
          "base_uri": "https://localhost:8080/",
          "height": 299
        },
        "id": "eo8FJwcRCcQx",
        "outputId": "a48eda33-2915-418a-bc95-15840116220b"
      },
      "source": [
        "# ONLY for Jupyter notebook\n",
        "#%matplotlib notebook\n",
        "%matplotlib inline\n",
        "\n",
        "# Import modules \n",
        "import matplotlib.pyplot as plt\n",
        "import math\n",
        "\n",
        "# Data, settings and initial conditions\n",
        "g = 9.8 # m/s^2\n",
        "t = 0.\n",
        "h = 0.\n",
        "theta = math.radians(45.)\n",
        "v0 = 1.\n",
        "dt = 0.01\n",
        "        \n",
        "# Compute velocity components\n",
        "v0x = v0*math.cos(theta)\n",
        "v0y = v0*math.sin(theta)\n",
        "print(\"v0_x: %.3f m/s \\t v0_y: %.3f m/s\"%(v0x,v0y))\n",
        "\n",
        "# Results containers\n",
        "x = []\n",
        "y = []\n",
        "\n",
        "# Evolve\n",
        "xi = 0.\n",
        "yi = h\n",
        "while yi>=0:\n",
        "    x.append(xi)\n",
        "    y.append(yi)\n",
        "    t += dt\n",
        "    xi = v0x*t\n",
        "    yi = h + v0y*t - 0.5*g*t*t\n",
        "\n",
        "# Plot results\n",
        "plt.plot(x, y, label=\"trajectory\", color='red', marker='.')\n",
        "plt.legend()\n",
        "\n",
        "# Only for script\n",
        "#plot.show()"
      ],
      "execution_count": null,
      "outputs": [
        {
          "output_type": "stream",
          "name": "stdout",
          "text": [
            "v0_x: 0.707 m/s \t v0_y: 0.707 m/s\n"
          ]
        },
        {
          "output_type": "execute_result",
          "data": {
            "text/plain": [
              "<matplotlib.legend.Legend at 0x7fe14d65a850>"
            ]
          },
          "metadata": {},
          "execution_count": 2
        },
        {
          "output_type": "display_data",
          "data": {
            "image/png": "[encoded data removed]",
            "text/plain": [
              "<Figure size 432x288 with 1 Axes>"
            ]
          },
          "metadata": {
            "needs_background": "light"
          }
        }
      ]
    },
    {
      "cell_type": "markdown",
      "metadata": {
        "id": "6kuMCLH5CcQy"
      },
      "source": [
        "### To make it more flexible we could ask the user to provide initial conditons, e.g., the angle"
      ]
    },
    {
      "cell_type": "code",
      "metadata": {
        "id": "-7evwko2CcQy",
        "colab": {
          "base_uri": "https://localhost:8080/",
          "height": 316
        },
        "outputId": "1670f1b5-82bb-447c-e95c-e3b3804f78cb"
      },
      "source": [
        "# ONLY for Jupyter notebook\n",
        "#%matplotlib notebook\n",
        "%matplotlib inline\n",
        "\n",
        "# Import modules\n",
        "import matplotlib.pyplot as plt\n",
        "import math\n",
        "\n",
        "# Data, settings and initial conditions\n",
        "g = 9.8\n",
        "h = 0.\n",
        "t = 0.\n",
        "v0 = 10.\n",
        "dt = 0.1\n",
        "\n",
        "# Let user pick angle\n",
        "while True:\n",
        "    try:\n",
        "        theta = float(input(\"Angle theta in [0,90] degrees: \"))\n",
        "    except:\n",
        "        theta = -1.\n",
        "    finally:\n",
        "        if(theta>0 and theta<90): break\n",
        "theta = math.radians(theta)\n",
        "\n",
        "# Compute velocity components\n",
        "v0x = v0*math.cos(theta)\n",
        "v0y = v0*math.sin(theta)\n",
        "print(\"v0_x: %.3f m/s \\t v0_y: %.3f m/s\"%(v0x,v0y))\n",
        "\n",
        "# Results containers\n",
        "x = []\n",
        "y = []\n",
        "\n",
        "# Evolve\n",
        "xi = 0\n",
        "yi = h\n",
        "while yi>=0:\n",
        "    x.append(xi)\n",
        "    y.append(yi)\n",
        "    t += dt\n",
        "    xi = v0x*t\n",
        "    yi = h + v0y*t - 0.5*g*t*t\n",
        "\n",
        "# Plot results\n",
        "plt.plot(x, y, marker='x', color='magenta')\n",
        "\n",
        "# Only for script\n",
        "#plot.show()"
      ],
      "execution_count": null,
      "outputs": [
        {
          "output_type": "stream",
          "name": "stdout",
          "text": [
            "Angle theta in [0,90] degrees: 45\n",
            "v0_x: 7.071 m/s \t v0_y: 7.071 m/s\n"
          ]
        },
        {
          "output_type": "execute_result",
          "data": {
            "text/plain": [
              "[<matplotlib.lines.Line2D at 0x7fe14666d2d0>]"
            ]
          },
          "metadata": {},
          "execution_count": 3
        },
        {
          "output_type": "display_data",
          "data": {
            "image/png": "[encoded data removed]",
            "text/plain": [
              "<Figure size 432x288 with 1 Axes>"
            ]
          },
          "metadata": {
            "needs_background": "light"
          }
        }
      ]
    },
    {
      "cell_type": "markdown",
      "metadata": {
        "id": "Yf0IEPdYCcQz"
      },
      "source": [
        "### To make it more user friendly we could provide a default value for the angle!\n",
        "\n",
        "We do this by providing a default and pressing return w/o any input"
      ]
    },
    {
      "cell_type": "code",
      "metadata": {
        "id": "qoyXstU9CcQz",
        "colab": {
          "base_uri": "https://localhost:8080/",
          "height": 316
        },
        "outputId": "dbe58f33-c7e6-4a4f-a9bc-2df2ffbaad8b"
      },
      "source": [
        "# ONLY for Jupyter notebook\n",
        "#%matplotlib notebook\n",
        "%matplotlib inline\n",
        "\n",
        "# Import modules\n",
        "import matplotlib.pyplot as plt\n",
        "import math\n",
        "\n",
        "# Data, settings and initial conditions\n",
        "g = 9.8\n",
        "h = 0.\n",
        "t = 0.\n",
        "v0 = 10.\n",
        "dt = 0.1\n",
        "\n",
        "# Let user pick angle\n",
        "theta_default = 23. # Default value\n",
        "while True:\n",
        "    x = input(\"Angle theta in [0,90] degrees (press return for {0} degrees): \".format(theta_default))\n",
        "    if x == \"\":\n",
        "        theta = theta_default\n",
        "        break\n",
        "    try:\n",
        "        theta = float(x)\n",
        "    except:\n",
        "        theta = -1.\n",
        "    if(theta>0 and theta<90):\n",
        "        break\n",
        "theta = math.radians(theta)\n",
        " \n",
        "# Compute velocity components\n",
        "v0x = v0*math.cos(theta)\n",
        "v0y = v0*math.sin(theta)\n",
        "print(\"v0_x: %.3f m/s \\t v0_y: %.3f m/s\"%(v0x,v0y))\n",
        "\n",
        "# Results containers\n",
        "x = []\n",
        "y = []\n",
        "\n",
        "# Evolve\n",
        "xi = 0\n",
        "yi = h\n",
        "while yi>=0:\n",
        "    x.append(xi)\n",
        "    y.append(yi)\n",
        "    t += dt\n",
        "    xi = v0x*t\n",
        "    yi = h + v0y*t - 0.5*g*t*t\n",
        "\n",
        "# Plot results\n",
        "plt.plot(x, y, marker='.')\n",
        "\n",
        "# Only for script\n",
        "#plt.show()"
      ],
      "execution_count": null,
      "outputs": [
        {
          "output_type": "stream",
          "name": "stdout",
          "text": [
            "Angle theta in [0,90] degrees (press return for 23.0 degrees): \n",
            "v0_x: 9.205 m/s \t v0_y: 3.907 m/s\n"
          ]
        },
        {
          "output_type": "execute_result",
          "data": {
            "text/plain": [
              "[<matplotlib.lines.Line2D at 0x7fe1465d6a50>]"
            ]
          },
          "metadata": {},
          "execution_count": 4
        },
        {
          "output_type": "display_data",
          "data": {
            "image/png": "[encoded data removed]",
            "text/plain": [
              "<Figure size 432x288 with 1 Axes>"
            ]
          },
          "metadata": {
            "needs_background": "light"
          }
        }
      ]
    },
    {
      "cell_type": "markdown",
      "metadata": {
        "id": "SLzzYwE_CcQ0"
      },
      "source": [
        "### We now allow the user to specify all initial conditions"
      ]
    },
    {
      "cell_type": "code",
      "metadata": {
        "id": "MP4ZfQFHCcQ0",
        "colab": {
          "base_uri": "https://localhost:8080/",
          "height": 380
        },
        "outputId": "25d301d6-cc05-4134-f1cd-f086b2a990c3"
      },
      "source": [
        "# ONLY for Jupyter notebook\n",
        "#%matplotlib notebook\n",
        "%matplotlib inline\n",
        "\n",
        "# Import modules\n",
        "import matplotlib.pyplot as plt\n",
        "import math\n",
        "\n",
        "# Data and settings\n",
        "g = 9.8\n",
        "h = 0.\n",
        "t = 0.\n",
        "\n",
        "# Initial conditions and integration setting provided by the user\n",
        "theta_default = 23. # Default value\n",
        "while True:\n",
        "    x = input(\"Angle theta in [0,90] degrees (press return for {0} degree): \".format(theta_default))\n",
        "    if x == \"\":\n",
        "        theta = theta_default\n",
        "        break\n",
        "    try:\n",
        "        theta = float(x)\n",
        "    except:\n",
        "        theta = -1.\n",
        "    if(theta>0 and theta<90):\n",
        "        break\n",
        "theta = math.radians(theta)\n",
        "\n",
        "h_default = 5. # Default value\n",
        "while True:\n",
        "    x = input(\"Initial height h in m: (press return for h = {} m): \".format(h_default))\n",
        "    if x == \"\":\n",
        "        h = h_default\n",
        "        break\n",
        "    try:\n",
        "        h = float(x)\n",
        "    except:\n",
        "        h = -1\n",
        "    if(h>=0):\n",
        "        break\n",
        "\n",
        "v0_default = 10. # Default value\n",
        "while True:\n",
        "    x = input(\"Insert v_0 > 0 in m/s (press return for {0} m/s): \".format(v0_default))\n",
        "    if x == \"\":\n",
        "        v0 = v0_default\n",
        "        break\n",
        "    try:\n",
        "        v0 = float(x)\n",
        "    except:\n",
        "        v0 = -1\n",
        "    if(v0>0):\n",
        "        break\n",
        "\n",
        "dt_default = 0.1 # Default value\n",
        "while True:\n",
        "    x = input(\"Insert dt > 0 in sec (press return for {0} sec): \".format(dt_default))\n",
        "    if x == \"\":\n",
        "        dt = dt_default\n",
        "        break\n",
        "    try:\n",
        "        dt = float(x)\n",
        "    except:\n",
        "        dt = -1\n",
        "    if(dt>0):\n",
        "        break\n",
        "\n",
        "# Compute velocity components\n",
        "v0x = v0*math.cos(theta)\n",
        "v0y = v0*math.sin(theta)\n",
        "print(\"v0_x: %.3f m/s \\t v0_y: %.3f m/s\"%(v0x,v0y))\n",
        "\n",
        "# Results containers\n",
        "x = []\n",
        "y = []\n",
        "\n",
        "# Evolve\n",
        "xi = 0\n",
        "yi = h\n",
        "while yi>=0:\n",
        "    x.append(xi)\n",
        "    y.append(yi)\n",
        "    t += dt\n",
        "    xi = v0x*t\n",
        "    yi = h + v0y*t - 0.5*g*t*t\n",
        "\n",
        "# Plot results...\n",
        "plt.plot(x, y, label='trajectory', color='red', marker='.')\n",
        "plt.legend()\n",
        "\n",
        "# ...and make them look good\n",
        "plt.title('motion under gravity')\n",
        "plt.xlabel(\"x [m]\")\n",
        "plt.ylabel(\"y [m]\")\n",
        "plt.grid(True)\n",
        "plt.xlim(-0.1, max(x)*1.1)\n",
        "plt.ylim(-0.1,max(y)*1.10)\n",
        "plt.show()\n",
        "\n",
        "# Only for script\n",
        "#plt.show()"
      ],
      "execution_count": null,
      "outputs": [
        {
          "output_type": "stream",
          "name": "stdout",
          "text": [
            "Angle theta in [0,90] degrees (press return for 23.0 degree): \n",
            "Initial height h in m: (press return for h = 5.0 m): \n",
            "Insert v_0 > 0 in m/s (press return for 10.0 m/s): \n",
            "Insert dt > 0 in sec (press return for 0.1 sec): \n",
            "v0_x: 9.205 m/s \t v0_y: 3.907 m/s\n"
          ]
        },
        {
          "output_type": "display_data",
          "data": {
            "image/png": "[encoded data removed]",
            "text/plain": [
              "<Figure size 432x288 with 1 Axes>"
            ]
          },
          "metadata": {
            "needs_background": "light"
          }
        }
      ]
    },
    {
      "cell_type": "markdown",
      "metadata": {
        "id": "Tzd-qh4tCcQ1"
      },
      "source": [
        "# 4. MOTION OF A BODY UNDER GRAVITY USING COMPREHENSIONS\n",
        "\n",
        "We now revisit the original program to simulate motion of a mass under gravity.\n",
        "\n",
        "For convenience this is also reported in `examples/Python/gravity1.py`."
      ]
    },
    {
      "cell_type": "markdown",
      "metadata": {
        "id": "F4JScfXWCcQ2"
      },
      "source": [
        "```python\n",
        "# ONLY for Jupyter notebook\n",
        "#%matplotlib notebook\n",
        "#%matplotlib inline\n",
        "\n",
        "# Import modules \n",
        "import matplotlib.pyplot as plt\n",
        "import math\n",
        "\n",
        "# Data, settings and initial conditions\n",
        "g = 9.8\n",
        "t = 0.\n",
        "h = 0.\n",
        "theta = math.radians(45.)\n",
        "v0 = 1.\n",
        "dt = 0.01\n",
        "        \n",
        "# Compute velocity components\n",
        "v0x = v0*math.cos(theta)\n",
        "v0y = v0*math.sin(theta)\n",
        "print(\"v0_x: %.3f m/s \\t v0_y: %.3f m/s\"%(v0x,v0y))\n",
        "\n",
        "# Results containers\n",
        "x = []\n",
        "y = []\n",
        "\n",
        "# Evolve\n",
        "xi = 0.\n",
        "yi = h\n",
        "while yi>=0:\n",
        "    x.append(xi)\n",
        "    y.append(yi)\n",
        "    t += dt\n",
        "    xi = v0x*t\n",
        "    yi = h + v0y*t - 0.5*g*t*t\n",
        "\n",
        "# Plot results\n",
        "plt.plot(x, y, label=\"trajectory\", color='red', marker='.')\n",
        "plt.legend()\n",
        "\n",
        "# Only for script\n",
        "plt.show()\n",
        "# or\n",
        "#plt.savefig(\"./gravity1.png\")\n",
        "```"
      ]
    },
    {
      "cell_type": "markdown",
      "metadata": {
        "id": "iUfTxrprCcQ3"
      },
      "source": [
        "We can rewrite the computational part with comprehensions: rather than computing the time at each step, we first create a list of times to iterate over.\n",
        "\n",
        "We will use the NumPy function `arange()`:\n",
        "```python\n",
        "arange([start,] stop[, step,])\n",
        "```\n",
        "It returns evenly spaced values within a given interval.\n",
        "\n",
        "We will learn more about NumPy in future lectures"
      ]
    },
    {
      "cell_type": "code",
      "metadata": {
        "scrolled": false,
        "id": "wbUp4buhCcQ3",
        "colab": {
          "base_uri": "https://localhost:8080/",
          "height": 380
        },
        "outputId": "3ac7ce85-c6f7-4986-e3bf-ac83345442aa"
      },
      "source": [
        "# ONLY for Jupyter notebook\n",
        "#%matplotlib notebook\n",
        "%matplotlib inline\n",
        "\n",
        "# Import modules \n",
        "import matplotlib.pyplot as plt\n",
        "import math\n",
        "import numpy as np\n",
        "\n",
        "# Data, settings and initial conditions\n",
        "g = 9.8\n",
        "t = 0.\n",
        "h = 0.\n",
        "theta = math.radians(45.)\n",
        "v0 = 1.\n",
        "dt = 0.01\n",
        "x0 = 0\n",
        "y0 = h\n",
        "\n",
        "# Compute velocity components\n",
        "v0x = v0*math.cos(theta)\n",
        "v0y = v0*math.sin(theta)\n",
        "print(\"v0_x: %.3f m/s \\t v0_y: %.3f m/s\"%(v0x,v0y))\n",
        "\n",
        "\n",
        "# Evolution functions\n",
        "def x(t):\n",
        "    return x0 + v0x*t\n",
        "\n",
        "def y(t):\n",
        "    return y0 + v0y*t - 0.5*g*t*t\n",
        "\n",
        "\n",
        "# Generate list of times for sampling\n",
        "times = np.arange(0., 1000., 0.01).tolist() \n",
        "\n",
        "# Print first 10 elements\n",
        "print(times[:10])\n",
        "\n",
        "# Compute x(t_i)\n",
        "xi = [x(t) for t in times if y(t)>=0.]\n",
        "\n",
        "# Compute y(t_i)\n",
        "yi = [y(t) for t in times if y(t)>=0.]\n",
        "\n",
        "print( \"total steps:\\t %-4d\"%len(xi))\n",
        "print( \"last x:\\t\\t %.2f\"%xi[-1])\n",
        "print( \"last y:\\t\\t %.3f\"%yi[-1])\n",
        "\n",
        "# Plot results...\n",
        "plt.plot(xi, yi, label='trajectory', color='red', marker='.')\n",
        "plt.legend()\n",
        "\n",
        "# ...and make them look good\n",
        "plt.title('motion under gravity')\n",
        "plt.xlabel(\"x [m]\")\n",
        "plt.ylabel(\"y [m]\")\n",
        "plt.grid(True)\n",
        "plt.xlim(-0.01, max(xi)*1.1)\n",
        "plt.ylim(-0.01,max(yi)*1.10)\n",
        "plt.show()\n",
        "\n",
        "# Only for script\n",
        "#plt.show()"
      ],
      "execution_count": null,
      "outputs": [
        {
          "output_type": "stream",
          "name": "stdout",
          "text": [
            "v0_x: 0.707 m/s \t v0_y: 0.707 m/s\n",
            "[0.0, 0.01, 0.02, 0.03, 0.04, 0.05, 0.06, 0.07, 0.08, 0.09]\n",
            "total steps:\t 15  \n",
            "last x:\t\t 0.10\n",
            "last y:\t\t 0.003\n"
          ]
        },
        {
          "output_type": "display_data",
          "data": {
            "image/png": "[encoded data removed]",
            "text/plain": [
              "<Figure size 432x288 with 1 Axes>"
            ]
          },
          "metadata": {
            "needs_background": "light"
          }
        }
      ]
    },
    {
      "cell_type": "markdown",
      "metadata": {
        "id": "VVgEjyivCcQ4"
      },
      "source": [
        "# 3. PLOTTING A HISTOGRAM\n",
        "\n",
        "All you need are two collections (lists in this case)\n",
        "- values on the *x* axis\n",
        "- the number of counts for each value of *x*\n",
        "\n",
        "We use the [matplotlib.pyplot.bar](https://matplotlib.org/3.1.1/api/_as_gen/matplotlib.pyplot.bar.html) function for this purpose"
      ]
    },
    {
      "cell_type": "markdown",
      "metadata": {
        "id": "AIAB3NnaCcQ5"
      },
      "source": [
        "Our data"
      ]
    },
    {
      "cell_type": "code",
      "metadata": {
        "id": "3BDxsHljCcQ6"
      },
      "source": [
        "import random as r\n",
        "\n",
        "grades = []\n",
        "\n",
        "for i in range(50):\n",
        "    grades.append(r.randrange(10,31))\n",
        "\n",
        "vals = set(grades)\n",
        "\n",
        "data = {}\n",
        "for v in vals:\n",
        "    data[v] = grades.count(v)"
      ],
      "execution_count": null,
      "outputs": []
    },
    {
      "cell_type": "code",
      "metadata": {
        "id": "qlQfaDvJCcQ6",
        "colab": {
          "base_uri": "https://localhost:8080/",
          "height": 312
        },
        "outputId": "c6bd8e6d-ddd8-47be-e665-d86512d7e78f"
      },
      "source": [
        "# ONLY for Jupyter notebook\n",
        "#%matplotlib notebook\n",
        "%matplotlib inline\n",
        "\n",
        "import matplotlib.pyplot as plt\n",
        "\n",
        "plt.bar(list(data.keys()), list(data.values()), color='magenta', label=\"grades\")\n",
        "plt.title(\"Distribution of grades in the exam\")\n",
        "plt.xlabel('grade')\n",
        "plt.ylabel('frequency')\n",
        "plt.grid()\n",
        "plt.legend()\n",
        "#plt.show()"
      ],
      "execution_count": null,
      "outputs": [
        {
          "output_type": "execute_result",
          "data": {
            "text/plain": [
              "<matplotlib.legend.Legend at 0x7fe146b6d050>"
            ]
          },
          "metadata": {},
          "execution_count": 9
        },
        {
          "output_type": "display_data",
          "data": {
            "image/png": "[encoded data removed]",
            "text/plain": [
              "<Figure size 432x288 with 1 Axes>"
            ]
          },
          "metadata": {
            "needs_background": "light"
          }
        }
      ]
    },
    {
      "cell_type": "markdown",
      "metadata": {
        "id": "2yKQkxKoCcQ6"
      },
      "source": [
        "You could also create a histogram using  [matplotlib.pyplot.hist](https://matplotlib.org/3.3.3/api/_as_gen/matplotlib.pyplot.hist.html)\n",
        "\n",
        "Note the strange-looking syntax since `hist` is returning more than one value! This is a feature of functions in Python which we will discuss shortly"
      ]
    },
    {
      "cell_type": "code",
      "metadata": {
        "id": "ww_kbWU7CcQ7",
        "colab": {
          "base_uri": "https://localhost:8080/",
          "height": 350
        },
        "outputId": "9e98e590-0688-4578-ad52-8bbe1d730377"
      },
      "source": [
        "# ONLY for Jupyter notebook\n",
        "#%matplotlib notebook\n",
        "%matplotlib inline\n",
        "\n",
        "n, bins, patches = plt.hist(grades, bins=len(set(grades)),facecolor='green')\n",
        "print(n)\n",
        "print(bins)"
      ],
      "execution_count": null,
      "outputs": [
        {
          "output_type": "stream",
          "name": "stdout",
          "text": [
            "[6. 1. 1. 2. 2. 5. 1. 5. 4. 4. 1. 2. 0. 1. 0. 2. 5. 5. 3.]\n",
            "[10.         11.05263158 12.10526316 13.15789474 14.21052632 15.26315789\n",
            " 16.31578947 17.36842105 18.42105263 19.47368421 20.52631579 21.57894737\n",
            " 22.63157895 23.68421053 24.73684211 25.78947368 26.84210526 27.89473684\n",
            " 28.94736842 30.        ]\n"
          ]
        },
        {
          "output_type": "display_data",
          "data": {
            "image/png": "[encoded data removed]",
            "text/plain": [
              "<Figure size 432x288 with 1 Axes>"
            ]
          },
          "metadata": {
            "needs_background": "light"
          }
        }
      ]
    },
    {
      "cell_type": "markdown",
      "metadata": {
        "id": "oCe9f4XwCcQ7"
      },
      "source": [
        "# READY FOR `examples/Python/3-MoreFuncs.ipynb`!"
      ]
    }
  ]
}