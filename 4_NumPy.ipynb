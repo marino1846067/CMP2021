{
  "nbformat": 4,
  "nbformat_minor": 0,
  "metadata": {
    "colab": {
      "name": "4-NumPy.ipynb",
      "provenance": [],
      "collapsed_sections": [],
      "include_colab_link": true
    },
    "kernelspec": {
      "display_name": "Python 3 (ipykernel)",
      "language": "python",
      "name": "python3"
    },
    "language_info": {
      "codemirror_mode": {
        "name": "ipython",
        "version": 3
      },
      "file_extension": ".py",
      "mimetype": "text/x-python",
      "name": "python",
      "nbconvert_exporter": "python",
      "pygments_lexer": "ipython3",
      "version": "3.9.8"
    }
  },
  "cells": [
    {
      "cell_type": "markdown",
      "metadata": {
        "id": "view-in-github",
        "colab_type": "text"
      },
      "source": [
        "<a href=\"https://colab.research.google.com/github/marino1846067/CMP2021/blob/main/4_NumPy.ipynb\" target=\"_parent\"><img src=\"https://colab.research.google.com/assets/colab-badge.svg\" alt=\"Open In Colab\"/></a>"
      ]
    },
    {
      "cell_type": "markdown",
      "metadata": {
        "id": "Db8e13vz4nPt"
      },
      "source": [
        "# NumPy: Numerical Python package \n",
        "\n",
        "- [NumPy](https://www.numpy.org) is perhaps the most important  package for numerical computing in Python\n",
        "- The n-dimentional array in NumPy is used as a a basic object in most Python packages for data exchange\n",
        "  - We will look at its methods and semantics through examples\n",
        "- Some of the most important features of NumPy are \n",
        "  - `ndarray`: multidimensional array for **fast and efficient array-oriented operations** and arithmetics\n",
        "  - Mathematical functions for **fast operation on arrays without using loops and iterations**\n",
        "  - Tools for I/O to and from disk\n",
        "  - Linear algebra\n",
        "  - Random generation \n",
        "  - API (application programming interface) to connect NumPy with C and C++ libraries"
      ]
    },
    {
      "cell_type": "markdown",
      "metadata": {
        "id": "h6HzEQDW4nPw"
      },
      "source": [
        "## 1. NumPy `ndarray`: a multidimensional array object\n",
        "`ndarray` is an array that can have an arbirary number of dimensions. We will see examples in 2D and 3D for calculations.\n",
        "\n",
        "Its main feature: vector calculations are extremely fast!\n",
        "\n",
        "Let's see how much faster an `ndarray` object is compared to a loop (with comprehension)."
      ]
    },
    {
      "cell_type": "code",
      "metadata": {
        "colab": {
          "base_uri": "https://localhost:8080/"
        },
        "id": "uSNIe4yd4nPx",
        "scrolled": true,
        "outputId": "d7de779e-e5d2-4185-9015-1c66623505c2"
      },
      "source": [
        "import numpy as np\n",
        "import math as m\n",
        "\n",
        "nmax = 100000\n",
        "\n",
        "my_arr = np.arange(1,nmax)\n",
        "print(type(my_arr))\n",
        "\n",
        "my_list = list(range(1,nmax))\n",
        "print(type(my_list))\n",
        "\n",
        "n_test = 100\n",
        "\n",
        "%time for _ in range(n_test): my_arr2 = my_arr * 2\n",
        "\n",
        "%time for _ in range(n_test): my_list2 = [x*2 for x in my_list]"
      ],
      "execution_count": null,
      "outputs": [
        {
          "name": "stdout",
          "output_type": "stream",
          "text": [
            "<class 'numpy.ndarray'>\n",
            "<class 'list'>\n",
            "CPU times: user 17.4 ms, sys: 3.85 ms, total: 21.2 ms\n",
            "Wall time: 29.9 ms\n",
            "CPU times: user 1.18 s, sys: 70.8 ms, total: 1.25 s\n",
            "Wall time: 1.32 s\n"
          ]
        }
      ]
    },
    {
      "cell_type": "markdown",
      "metadata": {
        "id": "HkCqMp1q4nPy"
      },
      "source": [
        "__NumPy based algorithms are generally 10 to 100 times faster than pure Python counterparts!__\n",
        "\n",
        "In the examples below you should also notice how much `**` costs in terms of runtime.  **Never forget to try to optimize small things like these: they can make a big difference.**"
      ]
    },
    {
      "cell_type": "code",
      "metadata": {
        "colab": {
          "base_uri": "https://localhost:8080/"
        },
        "id": "OE2wk0KX4nPz",
        "outputId": "899c8eb8-e07f-4bf0-83e8-f24af2497aea"
      },
      "source": [
        "%time for _ in range(n_test): my_arr3 = my_arr **3\n",
        "%time for _ in range(n_test): my_arr3 = my_arr * my_arr * my_arr\n",
        "\n",
        "%time for _ in range(n_test): my_list3 = [x**3 for x in my_list]\n",
        "%time for _ in range(n_test): my_list3 = [x*x*x for x in my_list] "
      ],
      "execution_count": null,
      "outputs": [
        {
          "name": "stdout",
          "output_type": "stream",
          "text": [
            "CPU times: user 31.9 ms, sys: 2.82 ms, total: 34.7 ms\n",
            "Wall time: 36.9 ms\n",
            "CPU times: user 25 ms, sys: 1.1 ms, total: 26.1 ms\n",
            "Wall time: 25.7 ms\n",
            "CPU times: user 3.07 s, sys: 78.5 ms, total: 3.15 s\n",
            "Wall time: 3.16 s\n",
            "CPU times: user 1.21 s, sys: 11 ms, total: 1.22 s\n",
            "Wall time: 1.22 s\n"
          ]
        }
      ]
    },
    {
      "cell_type": "code",
      "metadata": {
        "colab": {
          "base_uri": "https://localhost:8080/"
        },
        "id": "xI_1_SAo4nPz",
        "outputId": "1edcccd5-2889-4c66-bd2a-2766387b7195"
      },
      "source": [
        "%time for _ in range(n_test): my_arr3 = np.log(my_arr**2)\n",
        "%time for _ in range(n_test): my_arr3 = np.log(my_arr*my_arr)\n",
        "\n",
        "%time for _ in range(n_test): my_list3 = [m.log(x**2) for x in my_list]\n",
        "%time for _ in range(n_test): my_list3 = [m.log(x*x) for x in my_list]"
      ],
      "execution_count": null,
      "outputs": [
        {
          "name": "stdout",
          "output_type": "stream",
          "text": [
            "CPU times: user 247 ms, sys: 1.75 ms, total: 249 ms\n",
            "Wall time: 254 ms\n",
            "CPU times: user 246 ms, sys: 3.89 ms, total: 250 ms\n",
            "Wall time: 253 ms\n",
            "CPU times: user 4.59 s, sys: 25.5 ms, total: 4.62 s\n",
            "Wall time: 4.64 s\n",
            "CPU times: user 2.62 s, sys: 14.5 ms, total: 2.64 s\n",
            "Wall time: 2.64 s\n"
          ]
        }
      ]
    },
    {
      "cell_type": "markdown",
      "metadata": {
        "id": "mhopcEmh4nP0"
      },
      "source": [
        "## 2. Creating `ndarray`s\n",
        "Just like the example below, all NumPy functions and classes use `ndarray` as return type. All the user needs to do is to specify the dimensions and the size of the array to be created."
      ]
    },
    {
      "cell_type": "code",
      "metadata": {
        "id": "pQmJ1WOH4nP0",
        "outputId": "cfa676e4-4c3e-4dd2-d5c8-d117fd99a0e8"
      },
      "source": [
        "my_arr = np.arange(1,nmax)\n",
        "print(type(my_arr))"
      ],
      "execution_count": null,
      "outputs": [
        {
          "name": "stdout",
          "output_type": "stream",
          "text": [
            "<class 'numpy.ndarray'>\n"
          ]
        }
      ]
    },
    {
      "cell_type": "markdown",
      "metadata": {
        "id": "RooD-DWX4nP0"
      },
      "source": [
        "### Array of uniformly sampled random numbers (between 0 and 1)\n",
        "\n",
        "If you need a different intervale, use `np.random.uniform`"
      ]
    },
    {
      "cell_type": "code",
      "metadata": {
        "id": "wPJ6hEnT4nP0",
        "scrolled": false,
        "outputId": "453f4e72-7814-4f99-d3fc-3097a8628f64"
      },
      "source": [
        "np.random.rand(10,3)"
      ],
      "execution_count": null,
      "outputs": [
        {
          "data": {
            "text/plain": [
              "array([[0.9613549 , 0.60348376, 0.77351869],\n",
              "       [0.49896084, 0.09007416, 0.76665024],\n",
              "       [0.35323922, 0.84314206, 0.53321587],\n",
              "       [0.88502903, 0.15000282, 0.20361445],\n",
              "       [0.87111551, 0.94147856, 0.60125332],\n",
              "       [0.76225207, 0.98688153, 0.93141443],\n",
              "       [0.03702631, 0.45878799, 0.39554424],\n",
              "       [0.11759647, 0.7421717 , 0.90094193],\n",
              "       [0.27207621, 0.71472789, 0.43706352],\n",
              "       [0.93658986, 0.09190916, 0.99770963]])"
            ]
          },
          "execution_count": 5,
          "metadata": {},
          "output_type": "execute_result"
        }
      ]
    },
    {
      "cell_type": "code",
      "metadata": {
        "id": "cWSP8_Wx4nP1",
        "outputId": "f4eae9ab-0d31-4508-f46a-b7a88ce17f7b"
      },
      "source": [
        "np.random.rand(2,3,4)"
      ],
      "execution_count": null,
      "outputs": [
        {
          "data": {
            "text/plain": [
              "array([[[8.03220257e-04, 7.46413889e-01, 4.06438445e-01, 8.06656074e-01],\n",
              "        [7.91045594e-01, 6.96977463e-01, 5.31382026e-01, 8.18508065e-01],\n",
              "        [7.06893840e-01, 7.26978953e-01, 9.67188190e-01, 9.67519985e-01]],\n",
              "\n",
              "       [[9.65168769e-01, 4.11025797e-01, 7.82740810e-01, 8.48717532e-01],\n",
              "        [2.03858698e-01, 8.95617606e-03, 3.02288653e-01, 4.91814598e-01],\n",
              "        [9.45817192e-01, 3.60288183e-01, 4.02794024e-02, 8.39014849e-01]]])"
            ]
          },
          "execution_count": 6,
          "metadata": {},
          "output_type": "execute_result"
        }
      ]
    },
    {
      "cell_type": "markdown",
      "metadata": {
        "id": "xO2xYfbi4nP1"
      },
      "source": [
        "### Array of zeros"
      ]
    },
    {
      "cell_type": "code",
      "metadata": {
        "id": "ZfPT4ovn4nP2",
        "outputId": "30306ed0-de85-477b-bb9c-a612f14688e8"
      },
      "source": [
        "v = np.zeros(3)\n",
        "print(v)"
      ],
      "execution_count": null,
      "outputs": [
        {
          "name": "stdout",
          "output_type": "stream",
          "text": [
            "[0. 0. 0.]\n"
          ]
        }
      ]
    },
    {
      "cell_type": "markdown",
      "metadata": {
        "id": "BEBGCfK64nP2"
      },
      "source": [
        "You can specify the shape of the array with a tuple"
      ]
    },
    {
      "cell_type": "code",
      "metadata": {
        "id": "_T5dKuQk4nP2",
        "scrolled": true,
        "outputId": "cb57790e-f078-4e71-c6c1-574093a7723b"
      },
      "source": [
        "A = np.zeros((3,4))\n",
        "print(A)"
      ],
      "execution_count": null,
      "outputs": [
        {
          "name": "stdout",
          "output_type": "stream",
          "text": [
            "[[0. 0. 0. 0.]\n",
            " [0. 0. 0. 0.]\n",
            " [0. 0. 0. 0.]]\n"
          ]
        }
      ]
    },
    {
      "cell_type": "markdown",
      "metadata": {
        "id": "JrA2jJiP4nP3"
      },
      "source": [
        "### Array of ones"
      ]
    },
    {
      "cell_type": "code",
      "metadata": {
        "id": "EsQwmS4Q4nP3",
        "scrolled": true,
        "outputId": "b103025d-3577-46f4-ff55-53f107ee4b82"
      },
      "source": [
        "w = np.ones(4)\n",
        "print(w)"
      ],
      "execution_count": null,
      "outputs": [
        {
          "name": "stdout",
          "output_type": "stream",
          "text": [
            "[1. 1. 1. 1.]\n"
          ]
        }
      ]
    },
    {
      "cell_type": "code",
      "metadata": {
        "colab": {
          "base_uri": "https://localhost:8080/"
        },
        "id": "LfKdifR24nP3",
        "scrolled": true,
        "outputId": "5a99ea7b-5774-4060-a9dc-6a3efa5ad5a2"
      },
      "source": [
        "B = np.ones((3,4))\n",
        "print(B)"
      ],
      "execution_count": null,
      "outputs": [
        {
          "name": "stdout",
          "output_type": "stream",
          "text": [
            "[[1. 1. 1. 1.]\n",
            " [1. 1. 1. 1.]\n",
            " [1. 1. 1. 1.]]\n"
          ]
        }
      ]
    },
    {
      "cell_type": "markdown",
      "metadata": {
        "id": "o2bggdhY4nP4"
      },
      "source": [
        "You can multiply these by a constant"
      ]
    },
    {
      "cell_type": "code",
      "metadata": {
        "colab": {
          "base_uri": "https://localhost:8080/"
        },
        "id": "VBDqPsnZ4nP4",
        "outputId": "c141e305-783e-489a-a93a-bbc6cc275e9f"
      },
      "source": [
        "val = 3.6*B\n",
        "print(val)\n",
        "\n",
        "print(val*2.3)"
      ],
      "execution_count": null,
      "outputs": [
        {
          "name": "stdout",
          "output_type": "stream",
          "text": [
            "[[3.6 3.6 3.6 3.6]\n",
            " [3.6 3.6 3.6 3.6]\n",
            " [3.6 3.6 3.6 3.6]]\n",
            "[[8.28 8.28 8.28 8.28]\n",
            " [8.28 8.28 8.28 8.28]\n",
            " [8.28 8.28 8.28 8.28]]\n"
          ]
        }
      ]
    },
    {
      "cell_type": "markdown",
      "metadata": {
        "id": "3FVZ7SwA4nP4"
      },
      "source": [
        "But rather than multuplying ones by a scalar, you can directly create an array filled with a given value, **a method that is 2-3 times faster**."
      ]
    },
    {
      "cell_type": "code",
      "metadata": {
        "colab": {
          "base_uri": "https://localhost:8080/"
        },
        "id": "llDzlEsZ4nP4",
        "scrolled": true,
        "outputId": "4b1d1aae-b174-4c52-8d4a-f39594cc00dd"
      },
      "source": [
        "z = np.full(4, fill_value=3.12)\n",
        "print(z)"
      ],
      "execution_count": null,
      "outputs": [
        {
          "name": "stdout",
          "output_type": "stream",
          "text": [
            "[3.12 3.12 3.12 3.12]\n"
          ]
        }
      ]
    },
    {
      "cell_type": "code",
      "metadata": {
        "colab": {
          "base_uri": "https://localhost:8080/"
        },
        "id": "9R27MOyJ4nP5",
        "outputId": "911f7ae0-0220-498e-c8f6-ac229572dc20"
      },
      "source": [
        "N = 1000000\n",
        "\n",
        "%time 3.6*np.ones(N)\n",
        "\n",
        "%time np.full(N, fill_value=3.6)"
      ],
      "execution_count": null,
      "outputs": [
        {
          "name": "stdout",
          "output_type": "stream",
          "text": [
            "CPU times: user 2.92 ms, sys: 2.01 ms, total: 4.94 ms\n",
            "Wall time: 4.24 ms\n",
            "CPU times: user 1.51 ms, sys: 934 µs, total: 2.44 ms\n",
            "Wall time: 1.43 ms\n"
          ]
        },
        {
          "data": {
            "text/plain": [
              "array([3.6, 3.6, 3.6, ..., 3.6, 3.6, 3.6])"
            ]
          },
          "execution_count": 7,
          "metadata": {},
          "output_type": "execute_result"
        }
      ]
    },
    {
      "cell_type": "markdown",
      "metadata": {
        "id": "_ZYncSGo4nP5"
      },
      "source": [
        "Use a tuple to specify the shape of the array to be filled"
      ]
    },
    {
      "cell_type": "code",
      "metadata": {
        "colab": {
          "base_uri": "https://localhost:8080/"
        },
        "id": "WYKehR0Y4nP5",
        "scrolled": false,
        "outputId": "b1abfcba-aaab-497f-c0ea-a8bce80fd0e1"
      },
      "source": [
        "C = np.full((7,7), fill_value=-4.3)\n",
        "print(C)"
      ],
      "execution_count": null,
      "outputs": [
        {
          "name": "stdout",
          "output_type": "stream",
          "text": [
            "[[-4.3 -4.3 -4.3 -4.3 -4.3 -4.3 -4.3]\n",
            " [-4.3 -4.3 -4.3 -4.3 -4.3 -4.3 -4.3]\n",
            " [-4.3 -4.3 -4.3 -4.3 -4.3 -4.3 -4.3]\n",
            " [-4.3 -4.3 -4.3 -4.3 -4.3 -4.3 -4.3]\n",
            " [-4.3 -4.3 -4.3 -4.3 -4.3 -4.3 -4.3]\n",
            " [-4.3 -4.3 -4.3 -4.3 -4.3 -4.3 -4.3]\n",
            " [-4.3 -4.3 -4.3 -4.3 -4.3 -4.3 -4.3]]\n"
          ]
        }
      ]
    },
    {
      "cell_type": "markdown",
      "metadata": {
        "id": "M8HIa0-G4nP5"
      },
      "source": [
        "### Identity array"
      ]
    },
    {
      "cell_type": "code",
      "metadata": {
        "colab": {
          "base_uri": "https://localhost:8080/"
        },
        "id": "vkToz1tc4nP6",
        "scrolled": false,
        "outputId": "06240e2b-058f-4299-d684-07f14ea1effd"
      },
      "source": [
        "data = np.identity(7)\n",
        "print(data)"
      ],
      "execution_count": null,
      "outputs": [
        {
          "name": "stdout",
          "output_type": "stream",
          "text": [
            "[[1. 0. 0. 0. 0. 0. 0.]\n",
            " [0. 1. 0. 0. 0. 0. 0.]\n",
            " [0. 0. 1. 0. 0. 0. 0.]\n",
            " [0. 0. 0. 1. 0. 0. 0.]\n",
            " [0. 0. 0. 0. 1. 0. 0.]\n",
            " [0. 0. 0. 0. 0. 1. 0.]\n",
            " [0. 0. 0. 0. 0. 0. 1.]]\n"
          ]
        }
      ]
    },
    {
      "cell_type": "markdown",
      "metadata": {
        "id": "Hl_ykUSK4nP6"
      },
      "source": [
        "### Custom array\n",
        "- You can use lists and tuples"
      ]
    },
    {
      "cell_type": "code",
      "metadata": {
        "colab": {
          "base_uri": "https://localhost:8080/"
        },
        "id": "DJYJmowT4nP6",
        "outputId": "8c811ecb-4bff-44fb-800d-8a3abd29e59c"
      },
      "source": [
        "D = np.array([[1,2],[1,2],[1,2],[1,2]])\n",
        "print(D)"
      ],
      "execution_count": null,
      "outputs": [
        {
          "name": "stdout",
          "output_type": "stream",
          "text": [
            "[[1 2]\n",
            " [1 2]\n",
            " [1 2]\n",
            " [1 2]]\n"
          ]
        }
      ]
    },
    {
      "cell_type": "code",
      "metadata": {
        "colab": {
          "base_uri": "https://localhost:8080/"
        },
        "id": "oe4Eq9Bn4nP6",
        "outputId": "9a980a67-a99f-46da-d42b-a7b779acc200"
      },
      "source": [
        "D = np.array([(1,2),(1,2),(1,2),(1,2)])\n",
        "print(D)"
      ],
      "execution_count": null,
      "outputs": [
        {
          "name": "stdout",
          "output_type": "stream",
          "text": [
            "[[1 2]\n",
            " [1 2]\n",
            " [1 2]\n",
            " [1 2]]\n"
          ]
        }
      ]
    },
    {
      "cell_type": "code",
      "metadata": {
        "colab": {
          "base_uri": "https://localhost:8080/"
        },
        "id": "zclEWrR44nP7",
        "outputId": "36ee8aac-4b61-4f56-8dd5-07f71e0032ce"
      },
      "source": [
        "D = np.array(([1,2],[1,2],[1,2],[1,2]))\n",
        "print(D)"
      ],
      "execution_count": null,
      "outputs": [
        {
          "name": "stdout",
          "output_type": "stream",
          "text": [
            "[[1 2]\n",
            " [1 2]\n",
            " [1 2]\n",
            " [1 2]]\n"
          ]
        }
      ]
    },
    {
      "cell_type": "code",
      "metadata": {
        "colab": {
          "base_uri": "https://localhost:8080/"
        },
        "id": "3NccP4yv4nP8",
        "outputId": "65697329-e21c-42f2-b40f-25cc98f78fa3"
      },
      "source": [
        "D = np.array(((1,2),(1,2),(1,2),(1,2)))\n",
        "print(D)"
      ],
      "execution_count": null,
      "outputs": [
        {
          "name": "stdout",
          "output_type": "stream",
          "text": [
            "[[1 2]\n",
            " [1 2]\n",
            " [1 2]\n",
            " [1 2]]\n"
          ]
        }
      ]
    },
    {
      "cell_type": "markdown",
      "metadata": {
        "id": "OJDuaQan4nP8"
      },
      "source": [
        "Watch out for the effect of using sets"
      ]
    },
    {
      "cell_type": "code",
      "metadata": {
        "colab": {
          "base_uri": "https://localhost:8080/"
        },
        "id": "7NvmPBwi4nP_",
        "outputId": "27ba4103-8bed-42cc-8cfb-699235188369"
      },
      "source": [
        "D = np.array({(1,2),(1,2),(1,2),(1,2)})\n",
        "print(D)"
      ],
      "execution_count": null,
      "outputs": [
        {
          "name": "stdout",
          "output_type": "stream",
          "text": [
            "{(1, 2)}\n"
          ]
        }
      ]
    },
    {
      "cell_type": "markdown",
      "metadata": {
        "id": "f_TOBjOx4nQA"
      },
      "source": [
        "## 3. Operations with arrays"
      ]
    },
    {
      "cell_type": "code",
      "metadata": {
        "colab": {
          "base_uri": "https://localhost:8080/"
        },
        "id": "gBL0expD8h_I",
        "outputId": "9772c18e-2aef-4649-d3bd-3ca4b5eff423"
      },
      "source": [
        "print(C)\n",
        "print(data)"
      ],
      "execution_count": null,
      "outputs": [
        {
          "name": "stdout",
          "output_type": "stream",
          "text": [
            "[[-4.3 -4.3 -4.3 -4.3 -4.3 -4.3 -4.3]\n",
            " [-4.3 -4.3 -4.3 -4.3 -4.3 -4.3 -4.3]\n",
            " [-4.3 -4.3 -4.3 -4.3 -4.3 -4.3 -4.3]\n",
            " [-4.3 -4.3 -4.3 -4.3 -4.3 -4.3 -4.3]\n",
            " [-4.3 -4.3 -4.3 -4.3 -4.3 -4.3 -4.3]\n",
            " [-4.3 -4.3 -4.3 -4.3 -4.3 -4.3 -4.3]\n",
            " [-4.3 -4.3 -4.3 -4.3 -4.3 -4.3 -4.3]]\n",
            "[[1. 0. 0. 0. 0. 0. 0.]\n",
            " [0. 1. 0. 0. 0. 0. 0.]\n",
            " [0. 0. 1. 0. 0. 0. 0.]\n",
            " [0. 0. 0. 1. 0. 0. 0.]\n",
            " [0. 0. 0. 0. 1. 0. 0.]\n",
            " [0. 0. 0. 0. 0. 1. 0.]\n",
            " [0. 0. 0. 0. 0. 0. 1.]]\n"
          ]
        }
      ]
    },
    {
      "cell_type": "code",
      "metadata": {
        "id": "ovFll_7L4nQC",
        "outputId": "70c2ff4e-b8d5-40ae-ef98-954fcc6b5f5e"
      },
      "source": [
        "print(data + C)"
      ],
      "execution_count": null,
      "outputs": [
        {
          "name": "stdout",
          "output_type": "stream",
          "text": [
            "[[-3.3 -4.3 -4.3 -4.3 -4.3 -4.3 -4.3]\n",
            " [-4.3 -3.3 -4.3 -4.3 -4.3 -4.3 -4.3]\n",
            " [-4.3 -4.3 -3.3 -4.3 -4.3 -4.3 -4.3]\n",
            " [-4.3 -4.3 -4.3 -3.3 -4.3 -4.3 -4.3]\n",
            " [-4.3 -4.3 -4.3 -4.3 -3.3 -4.3 -4.3]\n",
            " [-4.3 -4.3 -4.3 -4.3 -4.3 -3.3 -4.3]\n",
            " [-4.3 -4.3 -4.3 -4.3 -4.3 -4.3 -3.3]]\n"
          ]
        }
      ]
    },
    {
      "cell_type": "code",
      "metadata": {
        "colab": {
          "base_uri": "https://localhost:8080/"
        },
        "id": "cxKDbxpA4nQD",
        "outputId": "48fbe404-c562-4dba-ffde-b318a53551ad"
      },
      "source": [
        "print(data - C)"
      ],
      "execution_count": null,
      "outputs": [
        {
          "name": "stdout",
          "output_type": "stream",
          "text": [
            "[[5.3 4.3 4.3 4.3 4.3 4.3 4.3]\n",
            " [4.3 5.3 4.3 4.3 4.3 4.3 4.3]\n",
            " [4.3 4.3 5.3 4.3 4.3 4.3 4.3]\n",
            " [4.3 4.3 4.3 5.3 4.3 4.3 4.3]\n",
            " [4.3 4.3 4.3 4.3 5.3 4.3 4.3]\n",
            " [4.3 4.3 4.3 4.3 4.3 5.3 4.3]\n",
            " [4.3 4.3 4.3 4.3 4.3 4.3 5.3]]\n"
          ]
        }
      ]
    },
    {
      "cell_type": "markdown",
      "metadata": {
        "id": "9L3TunS14nQE"
      },
      "source": [
        "The following also happen **element-wise**!"
      ]
    },
    {
      "cell_type": "code",
      "metadata": {
        "colab": {
          "base_uri": "https://localhost:8080/"
        },
        "id": "p-a_7kcL4nQE",
        "scrolled": true,
        "outputId": "63869dca-49a8-4e0d-e7af-75bda8c61321"
      },
      "source": [
        "print(2.3*data)"
      ],
      "execution_count": null,
      "outputs": [
        {
          "name": "stdout",
          "output_type": "stream",
          "text": [
            "[[2.3 0.  0.  0.  0.  0.  0. ]\n",
            " [0.  2.3 0.  0.  0.  0.  0. ]\n",
            " [0.  0.  2.3 0.  0.  0.  0. ]\n",
            " [0.  0.  0.  2.3 0.  0.  0. ]\n",
            " [0.  0.  0.  0.  2.3 0.  0. ]\n",
            " [0.  0.  0.  0.  0.  2.3 0. ]\n",
            " [0.  0.  0.  0.  0.  0.  2.3]]\n"
          ]
        }
      ]
    },
    {
      "cell_type": "code",
      "metadata": {
        "colab": {
          "base_uri": "https://localhost:8080/"
        },
        "id": "gTK4uK4f4nQE",
        "scrolled": true,
        "outputId": "9ebd4a7d-8f23-4a1d-d953-84034978ee96"
      },
      "source": [
        "print(data/2.3)"
      ],
      "execution_count": null,
      "outputs": [
        {
          "name": "stdout",
          "output_type": "stream",
          "text": [
            "[[0.43478261 0.         0.         0.         0.         0.\n",
            "  0.        ]\n",
            " [0.         0.43478261 0.         0.         0.         0.\n",
            "  0.        ]\n",
            " [0.         0.         0.43478261 0.         0.         0.\n",
            "  0.        ]\n",
            " [0.         0.         0.         0.43478261 0.         0.\n",
            "  0.        ]\n",
            " [0.         0.         0.         0.         0.43478261 0.\n",
            "  0.        ]\n",
            " [0.         0.         0.         0.         0.         0.43478261\n",
            "  0.        ]\n",
            " [0.         0.         0.         0.         0.         0.\n",
            "  0.43478261]]\n"
          ]
        }
      ]
    },
    {
      "cell_type": "markdown",
      "metadata": {
        "id": "cn4XR1gW4nQE"
      },
      "source": [
        "Notice that below 0.5 is promoted to an array that has the shape of the denominator (D) and 0.5 in all its entries.  The division then happens entry by entry"
      ]
    },
    {
      "cell_type": "code",
      "metadata": {
        "colab": {
          "base_uri": "https://localhost:8080/"
        },
        "id": "7wN5yKiI4nQF",
        "outputId": "44f2fcf1-52e0-4cda-cf77-4b176ccb6c6a"
      },
      "source": [
        "D = np.array(((1,2),(1,2),(1,2),(1,2)))\n",
        "print(D)\n",
        "print(0.5/D)"
      ],
      "execution_count": null,
      "outputs": [
        {
          "name": "stdout",
          "output_type": "stream",
          "text": [
            "[[1 2]\n",
            " [1 2]\n",
            " [1 2]\n",
            " [1 2]]\n",
            "[[0.5  0.25]\n",
            " [0.5  0.25]\n",
            " [0.5  0.25]\n",
            " [0.5  0.25]]\n"
          ]
        }
      ]
    },
    {
      "cell_type": "markdown",
      "metadata": {
        "id": "Y5l22Qxy4nQF"
      },
      "source": [
        "### Looking for matrix multiplication?  `numpy.matmul` is your answer."
      ]
    },
    {
      "cell_type": "code",
      "metadata": {
        "colab": {
          "base_uri": "https://localhost:8080/"
        },
        "id": "MTv9FwEu4nQG",
        "outputId": "fe50fc02-8ddd-4d0e-91c6-7114009253c7"
      },
      "source": [
        "E = np.array([[2,3,4], [2,1,0]])\n",
        "F = np.array([[1,1], [1,3], [5,2]])\n",
        "\n",
        "print(E)\n",
        "print(F)\n",
        "\n",
        "np.matmul(E,F)"
      ],
      "execution_count": null,
      "outputs": [
        {
          "name": "stdout",
          "output_type": "stream",
          "text": [
            "[[2 3 4]\n",
            " [2 1 0]]\n",
            "[[1 1]\n",
            " [1 3]\n",
            " [5 2]]\n"
          ]
        },
        {
          "data": {
            "text/plain": [
              "array([[25, 19],\n",
              "       [ 3,  5]])"
            ]
          },
          "execution_count": 20,
          "metadata": {},
          "output_type": "execute_result"
        }
      ]
    },
    {
      "cell_type": "markdown",
      "metadata": {
        "id": "bBG5Z5H84nQG"
      },
      "source": [
        "### Applying functions\n",
        "\n",
        "This require using functions that accept NumPy `ndarray`s as arguments.  E.g., `np.sin` and not `math.sin`"
      ]
    },
    {
      "cell_type": "code",
      "metadata": {
        "id": "JXxVYWTg4nQH",
        "scrolled": false
      },
      "source": [
        "data = np.arange(1,101)\n",
        "\n",
        "datasq = data**2 # This is the power operator for NumPy `ndarray`s"
      ],
      "execution_count": null,
      "outputs": []
    },
    {
      "cell_type": "code",
      "metadata": {
        "colab": {
          "base_uri": "https://localhost:8080/"
        },
        "id": "vdBuAUIw4nQH",
        "scrolled": true,
        "outputId": "2c611912-e231-4b94-aca4-59dc41a2c090"
      },
      "source": [
        "print(data)\n",
        "print(datasq)"
      ],
      "execution_count": null,
      "outputs": [
        {
          "name": "stdout",
          "output_type": "stream",
          "text": [
            "[  1   2   3   4   5   6   7   8   9  10  11  12  13  14  15  16  17  18\n",
            "  19  20  21  22  23  24  25  26  27  28  29  30  31  32  33  34  35  36\n",
            "  37  38  39  40  41  42  43  44  45  46  47  48  49  50  51  52  53  54\n",
            "  55  56  57  58  59  60  61  62  63  64  65  66  67  68  69  70  71  72\n",
            "  73  74  75  76  77  78  79  80  81  82  83  84  85  86  87  88  89  90\n",
            "  91  92  93  94  95  96  97  98  99 100]\n",
            "[    1     4     9    16    25    36    49    64    81   100   121   144\n",
            "   169   196   225   256   289   324   361   400   441   484   529   576\n",
            "   625   676   729   784   841   900   961  1024  1089  1156  1225  1296\n",
            "  1369  1444  1521  1600  1681  1764  1849  1936  2025  2116  2209  2304\n",
            "  2401  2500  2601  2704  2809  2916  3025  3136  3249  3364  3481  3600\n",
            "  3721  3844  3969  4096  4225  4356  4489  4624  4761  4900  5041  5184\n",
            "  5329  5476  5625  5776  5929  6084  6241  6400  6561  6724  6889  7056\n",
            "  7225  7396  7569  7744  7921  8100  8281  8464  8649  8836  9025  9216\n",
            "  9409  9604  9801 10000]\n"
          ]
        }
      ]
    },
    {
      "cell_type": "code",
      "metadata": {
        "colab": {
          "base_uri": "https://localhost:8080/"
        },
        "id": "yIdc4piS4nQH",
        "scrolled": true,
        "outputId": "14b4d4b4-a62c-4bc2-c869-9dece6b43f6b"
      },
      "source": [
        "data_2 = np.log(datasq) + np.sin(data*np.pi)\n",
        "print(data_2)"
      ],
      "execution_count": null,
      "outputs": [
        {
          "name": "stdout",
          "output_type": "stream",
          "text": [
            "[1.22464680e-16 1.38629436e+00 2.19722458e+00 2.77258872e+00\n",
            " 3.21887582e+00 3.58351894e+00 3.89182030e+00 4.15888308e+00\n",
            " 4.39444915e+00 4.60517019e+00 4.79579055e+00 4.96981330e+00\n",
            " 5.12989871e+00 5.27811466e+00 5.41610040e+00 5.54517744e+00\n",
            " 5.66642669e+00 5.78074352e+00 5.88887796e+00 5.99146455e+00\n",
            " 6.08904488e+00 6.18208491e+00 6.27098843e+00 6.35610766e+00\n",
            " 6.43775165e+00 6.51619308e+00 6.59167373e+00 6.66440902e+00\n",
            " 6.73459166e+00 6.80239476e+00 6.86797441e+00 6.93147181e+00\n",
            " 6.99301512e+00 7.05272105e+00 7.11069612e+00 7.16703788e+00\n",
            " 7.22183583e+00 7.27517232e+00 7.32712329e+00 7.37775891e+00\n",
            " 7.42714413e+00 7.47533924e+00 7.52240023e+00 7.56837927e+00\n",
            " 7.61332498e+00 7.65728279e+00 7.70029520e+00 7.74240202e+00\n",
            " 7.78364060e+00 7.82404601e+00 7.86365127e+00 7.90248744e+00\n",
            " 7.94058383e+00 7.97796809e+00 8.01466637e+00 8.05070338e+00\n",
            " 8.08610254e+00 8.12088602e+00 8.15507489e+00 8.18868912e+00\n",
            " 8.22174773e+00 8.25426877e+00 8.28626945e+00 8.31776617e+00\n",
            " 8.34877454e+00 8.37930948e+00 8.40938524e+00 8.43901541e+00\n",
            " 8.46821301e+00 8.49699048e+00 8.52535975e+00 8.55333224e+00\n",
            " 8.58091888e+00 8.60813019e+00 8.63497623e+00 8.66146668e+00\n",
            " 8.68761084e+00 8.71341765e+00 8.73889570e+00 8.76405327e+00\n",
            " 8.78889831e+00 8.81343849e+00 8.83768122e+00 8.86163360e+00\n",
            " 8.88530251e+00 8.90869459e+00 8.93181624e+00 8.95467363e+00\n",
            " 8.97727274e+00 8.99961934e+00 9.02171901e+00 9.04357715e+00\n",
            " 9.06519899e+00 9.08658956e+00 9.10775378e+00 9.12869638e+00\n",
            " 9.14942196e+00 9.16993496e+00 9.19023970e+00 9.21034037e+00]\n"
          ]
        }
      ]
    },
    {
      "cell_type": "code",
      "metadata": {
        "colab": {
          "base_uri": "https://localhost:8080/"
        },
        "id": "WA4Flsie4nQH",
        "scrolled": true,
        "outputId": "c87e0d06-dbc9-49e0-a0d3-f80c9f766087"
      },
      "source": [
        "data_3 = np.sqrt(datasq)\n",
        "print(data_3)"
      ],
      "execution_count": null,
      "outputs": [
        {
          "name": "stdout",
          "output_type": "stream",
          "text": [
            "[  1.   2.   3.   4.   5.   6.   7.   8.   9.  10.  11.  12.  13.  14.\n",
            "  15.  16.  17.  18.  19.  20.  21.  22.  23.  24.  25.  26.  27.  28.\n",
            "  29.  30.  31.  32.  33.  34.  35.  36.  37.  38.  39.  40.  41.  42.\n",
            "  43.  44.  45.  46.  47.  48.  49.  50.  51.  52.  53.  54.  55.  56.\n",
            "  57.  58.  59.  60.  61.  62.  63.  64.  65.  66.  67.  68.  69.  70.\n",
            "  71.  72.  73.  74.  75.  76.  77.  78.  79.  80.  81.  82.  83.  84.\n",
            "  85.  86.  87.  88.  89.  90.  91.  92.  93.  94.  95.  96.  97.  98.\n",
            "  99. 100.]\n"
          ]
        }
      ]
    },
    {
      "cell_type": "markdown",
      "metadata": {
        "id": "pT6ldS514nQH"
      },
      "source": [
        "The following fails because the `math` module does not know what to do with the `ndarray` passed as argument of `sqrt`."
      ]
    },
    {
      "cell_type": "code",
      "metadata": {
        "colab": {
          "base_uri": "https://localhost:8080/",
          "height": 187
        },
        "id": "lyMmcUfO4nQH",
        "outputId": "b3c0ef6a-99f3-402d-8822-6f3cc3779c2a"
      },
      "source": [
        "m.sqrt(datasq)"
      ],
      "execution_count": null,
      "outputs": [
        {
          "ename": "TypeError",
          "evalue": "ignored",
          "output_type": "error",
          "traceback": [
            "\u001b[0;31m---------------------------------------------------------------------------\u001b[0m",
            "\u001b[0;31mTypeError\u001b[0m                                 Traceback (most recent call last)",
            "\u001b[0;32m<ipython-input-28-0910d42e7fb2>\u001b[0m in \u001b[0;36m<module>\u001b[0;34m()\u001b[0m\n\u001b[0;32m----> 1\u001b[0;31m \u001b[0mm\u001b[0m\u001b[0;34m.\u001b[0m\u001b[0msqrt\u001b[0m\u001b[0;34m(\u001b[0m\u001b[0mdatasq\u001b[0m\u001b[0;34m)\u001b[0m\u001b[0;34m\u001b[0m\u001b[0;34m\u001b[0m\u001b[0m\n\u001b[0m",
            "\u001b[0;31mTypeError\u001b[0m: only size-1 arrays can be converted to Python scalars"
          ]
        }
      ]
    },
    {
      "cell_type": "markdown",
      "metadata": {
        "id": "tV0RNVEP4nQI"
      },
      "source": [
        "There is a possible workaround (see next line), but with `ndarray`s you should always use NumPy functions or you will use the runtime benefits that come with `ndarray`s."
      ]
    },
    {
      "cell_type": "code",
      "metadata": {
        "colab": {
          "base_uri": "https://localhost:8080/"
        },
        "id": "cITslfiy4nQI",
        "outputId": "da949c9b-0e13-43e3-d79d-7f1bb59bb089"
      },
      "source": [
        "tmp = [m.sqrt(val) for val in datasq]\n",
        "print(tmp)"
      ],
      "execution_count": null,
      "outputs": [
        {
          "name": "stdout",
          "output_type": "stream",
          "text": [
            "[1.0, 2.0, 3.0, 4.0, 5.0, 6.0, 7.0, 8.0, 9.0, 10.0, 11.0, 12.0, 13.0, 14.0, 15.0, 16.0, 17.0, 18.0, 19.0, 20.0, 21.0, 22.0, 23.0, 24.0, 25.0, 26.0, 27.0, 28.0, 29.0, 30.0, 31.0, 32.0, 33.0, 34.0, 35.0, 36.0, 37.0, 38.0, 39.0, 40.0, 41.0, 42.0, 43.0, 44.0, 45.0, 46.0, 47.0, 48.0, 49.0, 50.0, 51.0, 52.0, 53.0, 54.0, 55.0, 56.0, 57.0, 58.0, 59.0, 60.0, 61.0, 62.0, 63.0, 64.0, 65.0, 66.0, 67.0, 68.0, 69.0, 70.0, 71.0, 72.0, 73.0, 74.0, 75.0, 76.0, 77.0, 78.0, 79.0, 80.0, 81.0, 82.0, 83.0, 84.0, 85.0, 86.0, 87.0, 88.0, 89.0, 90.0, 91.0, 92.0, 93.0, 94.0, 95.0, 96.0, 97.0, 98.0, 99.0, 100.0]\n"
          ]
        }
      ]
    },
    {
      "cell_type": "code",
      "metadata": {
        "colab": {
          "base_uri": "https://localhost:8080/"
        },
        "id": "0dDSVRIc4nQI",
        "outputId": "f61b9bd4-cea9-4618-9a1e-6dad176ecb2e"
      },
      "source": [
        "%time [m.sqrt(val) for val in datasq]\n",
        "%time np.sqrt(datasq)"
      ],
      "execution_count": null,
      "outputs": [
        {
          "name": "stdout",
          "output_type": "stream",
          "text": [
            "CPU times: user 61 µs, sys: 4 µs, total: 65 µs\n",
            "Wall time: 70.6 µs\n",
            "CPU times: user 0 ns, sys: 45 µs, total: 45 µs\n",
            "Wall time: 48.9 µs\n"
          ]
        },
        {
          "data": {
            "text/plain": [
              "array([  1.,   2.,   3.,   4.,   5.,   6.,   7.,   8.,   9.,  10.,  11.,\n",
              "        12.,  13.,  14.,  15.,  16.,  17.,  18.,  19.,  20.,  21.,  22.,\n",
              "        23.,  24.,  25.,  26.,  27.,  28.,  29.,  30.,  31.,  32.,  33.,\n",
              "        34.,  35.,  36.,  37.,  38.,  39.,  40.,  41.,  42.,  43.,  44.,\n",
              "        45.,  46.,  47.,  48.,  49.,  50.,  51.,  52.,  53.,  54.,  55.,\n",
              "        56.,  57.,  58.,  59.,  60.,  61.,  62.,  63.,  64.,  65.,  66.,\n",
              "        67.,  68.,  69.,  70.,  71.,  72.,  73.,  74.,  75.,  76.,  77.,\n",
              "        78.,  79.,  80.,  81.,  82.,  83.,  84.,  85.,  86.,  87.,  88.,\n",
              "        89.,  90.,  91.,  92.,  93.,  94.,  95.,  96.,  97.,  98.,  99.,\n",
              "       100.])"
            ]
          },
          "execution_count": 30,
          "metadata": {},
          "output_type": "execute_result"
        }
      ]
    },
    {
      "cell_type": "markdown",
      "metadata": {
        "id": "VrZcvrYY4nQI"
      },
      "source": [
        "## 4. Shape of arrays\n",
        "Every `ndarray` is characterized by its \n",
        "- shape\n",
        "- size \n",
        "- type of data"
      ]
    },
    {
      "cell_type": "code",
      "metadata": {
        "colab": {
          "base_uri": "https://localhost:8080/"
        },
        "id": "kXz0mmdc4nQI",
        "outputId": "a12fcfb1-2e31-4abf-b45c-a469667a320d"
      },
      "source": [
        "data = np.array([[-1., 2.3], [2.3, 4.5], [-8.4, 1.9]])\n",
        "print(\"type: \", type(data))\n",
        "print(\"data:\\n {0}\\n\".format(data))\n",
        "print(\"dimension: \", data.ndim)\n",
        "print(\"shape: \", data.shape)\n",
        "print(\"data type: \", data.dtype)"
      ],
      "execution_count": null,
      "outputs": [
        {
          "name": "stdout",
          "output_type": "stream",
          "text": [
            "type:  <class 'numpy.ndarray'>\n",
            "data:\n",
            " [[-1.   2.3]\n",
            " [ 2.3  4.5]\n",
            " [-8.4  1.9]]\n",
            "\n",
            "dimension:  2\n",
            "shape:  (3, 2)\n",
            "data type:  float64\n"
          ]
        }
      ]
    },
    {
      "cell_type": "markdown",
      "metadata": {
        "id": "DtrlQnge4nQJ"
      },
      "source": [
        "### Change type of data"
      ]
    },
    {
      "cell_type": "code",
      "metadata": {
        "colab": {
          "base_uri": "https://localhost:8080/"
        },
        "id": "hS9xzglh4nQJ",
        "outputId": "0fdfd816-7fc2-4e92-ef30-00a8a2b5fbf9"
      },
      "source": [
        "data_int = np.array([[-1., 2.3], [2.3, 4.5], [-8.4, 1.9]], dtype=np.int64)\n",
        "print(\"data:\\n {0}\\n\".format(data_int))\n",
        "print(\"data type: \", data_int.dtype)"
      ],
      "execution_count": null,
      "outputs": [
        {
          "name": "stdout",
          "output_type": "stream",
          "text": [
            "data:\n",
            " [[-1  2]\n",
            " [ 2  4]\n",
            " [-8  1]]\n",
            "\n",
            "data type:  int64\n"
          ]
        }
      ]
    },
    {
      "cell_type": "markdown",
      "metadata": {
        "id": "_VddwdG-4nQJ"
      },
      "source": [
        "### Reshaping arrays"
      ]
    },
    {
      "cell_type": "code",
      "metadata": {
        "colab": {
          "base_uri": "https://localhost:8080/"
        },
        "id": "ysjDbfTh4nQJ",
        "outputId": "f87d7cc7-f714-481c-d173-1ddf9b7163d1"
      },
      "source": [
        "data = np.arange(1,101)\n",
        "print(data)\n",
        "print(data.ndim)\n",
        "print(data.shape)"
      ],
      "execution_count": null,
      "outputs": [
        {
          "name": "stdout",
          "output_type": "stream",
          "text": [
            "[  1   2   3   4   5   6   7   8   9  10  11  12  13  14  15  16  17  18\n",
            "  19  20  21  22  23  24  25  26  27  28  29  30  31  32  33  34  35  36\n",
            "  37  38  39  40  41  42  43  44  45  46  47  48  49  50  51  52  53  54\n",
            "  55  56  57  58  59  60  61  62  63  64  65  66  67  68  69  70  71  72\n",
            "  73  74  75  76  77  78  79  80  81  82  83  84  85  86  87  88  89  90\n",
            "  91  92  93  94  95  96  97  98  99 100]\n",
            "1\n",
            "(100,)\n"
          ]
        }
      ]
    },
    {
      "cell_type": "code",
      "metadata": {
        "colab": {
          "base_uri": "https://localhost:8080/"
        },
        "id": "8xTdTut74nQK",
        "scrolled": false,
        "outputId": "d9543274-cc54-4fd4-92e4-03889c10f332"
      },
      "source": [
        "mat1 = data.reshape(25,4)\n",
        "print(mat1)\n",
        "print(mat1.shape)\n",
        "print(data)"
      ],
      "execution_count": null,
      "outputs": [
        {
          "name": "stdout",
          "output_type": "stream",
          "text": [
            "[[  1   2   3   4]\n",
            " [  5   6   7   8]\n",
            " [  9  10  11  12]\n",
            " [ 13  14  15  16]\n",
            " [ 17  18  19  20]\n",
            " [ 21  22  23  24]\n",
            " [ 25  26  27  28]\n",
            " [ 29  30  31  32]\n",
            " [ 33  34  35  36]\n",
            " [ 37  38  39  40]\n",
            " [ 41  42  43  44]\n",
            " [ 45  46  47  48]\n",
            " [ 49  50  51  52]\n",
            " [ 53  54  55  56]\n",
            " [ 57  58  59  60]\n",
            " [ 61  62  63  64]\n",
            " [ 65  66  67  68]\n",
            " [ 69  70  71  72]\n",
            " [ 73  74  75  76]\n",
            " [ 77  78  79  80]\n",
            " [ 81  82  83  84]\n",
            " [ 85  86  87  88]\n",
            " [ 89  90  91  92]\n",
            " [ 93  94  95  96]\n",
            " [ 97  98  99 100]]\n",
            "(25, 4)\n",
            "[  1   2   3   4   5   6   7   8   9  10  11  12  13  14  15  16  17  18\n",
            "  19  20  21  22  23  24  25  26  27  28  29  30  31  32  33  34  35  36\n",
            "  37  38  39  40  41  42  43  44  45  46  47  48  49  50  51  52  53  54\n",
            "  55  56  57  58  59  60  61  62  63  64  65  66  67  68  69  70  71  72\n",
            "  73  74  75  76  77  78  79  80  81  82  83  84  85  86  87  88  89  90\n",
            "  91  92  93  94  95  96  97  98  99 100]\n"
          ]
        }
      ]
    },
    {
      "cell_type": "code",
      "metadata": {
        "colab": {
          "base_uri": "https://localhost:8080/"
        },
        "id": "L6Aofm0c4nQL",
        "scrolled": false,
        "outputId": "85230b27-2a05-46d7-8e45-d4ad3111f53c"
      },
      "source": [
        "mat2 = mat1.reshape(10,10)\n",
        "print(mat2)"
      ],
      "execution_count": null,
      "outputs": [
        {
          "name": "stdout",
          "output_type": "stream",
          "text": [
            "[[  1   2   3   4   5   6   7   8   9  10]\n",
            " [ 11  12  13  14  15  16  17  18  19  20]\n",
            " [ 21  22  23  24  25  26  27  28  29  30]\n",
            " [ 31  32  33  34  35  36  37  38  39  40]\n",
            " [ 41  42  43  44  45  46  47  48  49  50]\n",
            " [ 51  52  53  54  55  56  57  58  59  60]\n",
            " [ 61  62  63  64  65  66  67  68  69  70]\n",
            " [ 71  72  73  74  75  76  77  78  79  80]\n",
            " [ 81  82  83  84  85  86  87  88  89  90]\n",
            " [ 91  92  93  94  95  96  97  98  99 100]]\n"
          ]
        }
      ]
    },
    {
      "cell_type": "code",
      "metadata": {
        "colab": {
          "base_uri": "https://localhost:8080/"
        },
        "id": "MWhmo0AW4nQL",
        "outputId": "7a19cdec-ff5e-411a-d315-480c2cf53c6b"
      },
      "source": [
        "mat3 = mat1.reshape(25,2,2)\n",
        "print(mat3)"
      ],
      "execution_count": null,
      "outputs": [
        {
          "name": "stdout",
          "output_type": "stream",
          "text": [
            "[[[  1   2]\n",
            "  [  3   4]]\n",
            "\n",
            " [[  5   6]\n",
            "  [  7   8]]\n",
            "\n",
            " [[  9  10]\n",
            "  [ 11  12]]\n",
            "\n",
            " [[ 13  14]\n",
            "  [ 15  16]]\n",
            "\n",
            " [[ 17  18]\n",
            "  [ 19  20]]\n",
            "\n",
            " [[ 21  22]\n",
            "  [ 23  24]]\n",
            "\n",
            " [[ 25  26]\n",
            "  [ 27  28]]\n",
            "\n",
            " [[ 29  30]\n",
            "  [ 31  32]]\n",
            "\n",
            " [[ 33  34]\n",
            "  [ 35  36]]\n",
            "\n",
            " [[ 37  38]\n",
            "  [ 39  40]]\n",
            "\n",
            " [[ 41  42]\n",
            "  [ 43  44]]\n",
            "\n",
            " [[ 45  46]\n",
            "  [ 47  48]]\n",
            "\n",
            " [[ 49  50]\n",
            "  [ 51  52]]\n",
            "\n",
            " [[ 53  54]\n",
            "  [ 55  56]]\n",
            "\n",
            " [[ 57  58]\n",
            "  [ 59  60]]\n",
            "\n",
            " [[ 61  62]\n",
            "  [ 63  64]]\n",
            "\n",
            " [[ 65  66]\n",
            "  [ 67  68]]\n",
            "\n",
            " [[ 69  70]\n",
            "  [ 71  72]]\n",
            "\n",
            " [[ 73  74]\n",
            "  [ 75  76]]\n",
            "\n",
            " [[ 77  78]\n",
            "  [ 79  80]]\n",
            "\n",
            " [[ 81  82]\n",
            "  [ 83  84]]\n",
            "\n",
            " [[ 85  86]\n",
            "  [ 87  88]]\n",
            "\n",
            " [[ 89  90]\n",
            "  [ 91  92]]\n",
            "\n",
            " [[ 93  94]\n",
            "  [ 95  96]]\n",
            "\n",
            " [[ 97  98]\n",
            "  [ 99 100]]]\n"
          ]
        }
      ]
    },
    {
      "cell_type": "markdown",
      "metadata": {
        "id": "C_liMn9X4nQL"
      },
      "source": [
        "NumPy has its checks on reshaping, so that you do not lose information.\n",
        "\n",
        "In the following, $10\\times 2\\times 2\\neq 100$, so you hit an error."
      ]
    },
    {
      "cell_type": "code",
      "metadata": {
        "colab": {
          "base_uri": "https://localhost:8080/",
          "height": 204
        },
        "id": "o-2vtzWc4nQL",
        "outputId": "201e78e5-4e93-4047-fa0e-88c94ecc33f6"
      },
      "source": [
        "mat4 = mat1.reshape(10,2,2)\n",
        "print(mat4)"
      ],
      "execution_count": null,
      "outputs": [
        {
          "ename": "ValueError",
          "evalue": "ignored",
          "output_type": "error",
          "traceback": [
            "\u001b[0;31m---------------------------------------------------------------------------\u001b[0m",
            "\u001b[0;31mValueError\u001b[0m                                Traceback (most recent call last)",
            "\u001b[0;32m<ipython-input-38-07456696c026>\u001b[0m in \u001b[0;36m<module>\u001b[0;34m()\u001b[0m\n\u001b[0;32m----> 1\u001b[0;31m \u001b[0mmat4\u001b[0m \u001b[0;34m=\u001b[0m \u001b[0mmat1\u001b[0m\u001b[0;34m.\u001b[0m\u001b[0mreshape\u001b[0m\u001b[0;34m(\u001b[0m\u001b[0;36m10\u001b[0m\u001b[0;34m,\u001b[0m\u001b[0;36m2\u001b[0m\u001b[0;34m,\u001b[0m\u001b[0;36m2\u001b[0m\u001b[0;34m)\u001b[0m\u001b[0;34m\u001b[0m\u001b[0;34m\u001b[0m\u001b[0m\n\u001b[0m\u001b[1;32m      2\u001b[0m \u001b[0mprint\u001b[0m\u001b[0;34m(\u001b[0m\u001b[0mmat4\u001b[0m\u001b[0;34m)\u001b[0m\u001b[0;34m\u001b[0m\u001b[0;34m\u001b[0m\u001b[0m\n",
            "\u001b[0;31mValueError\u001b[0m: cannot reshape array of size 100 into shape (10,2,2)"
          ]
        }
      ]
    },
    {
      "cell_type": "markdown",
      "metadata": {
        "id": "a3_Yx5Rb4nQL"
      },
      "source": [
        "__Note that the original data array has not been modified__"
      ]
    },
    {
      "cell_type": "code",
      "metadata": {
        "colab": {
          "base_uri": "https://localhost:8080/"
        },
        "id": "rKG2b4K44nQL",
        "scrolled": true,
        "outputId": "bad07260-2678-45f4-a83c-e3036692e80e"
      },
      "source": [
        "data"
      ],
      "execution_count": null,
      "outputs": [
        {
          "data": {
            "text/plain": [
              "array([  1,   2,   3,   4,   5,   6,   7,   8,   9,  10,  11,  12,  13,\n",
              "        14,  15,  16,  17,  18,  19,  20,  21,  22,  23,  24,  25,  26,\n",
              "        27,  28,  29,  30,  31,  32,  33,  34,  35,  36,  37,  38,  39,\n",
              "        40,  41,  42,  43,  44,  45,  46,  47,  48,  49,  50,  51,  52,\n",
              "        53,  54,  55,  56,  57,  58,  59,  60,  61,  62,  63,  64,  65,\n",
              "        66,  67,  68,  69,  70,  71,  72,  73,  74,  75,  76,  77,  78,\n",
              "        79,  80,  81,  82,  83,  84,  85,  86,  87,  88,  89,  90,  91,\n",
              "        92,  93,  94,  95,  96,  97,  98,  99, 100])"
            ]
          },
          "execution_count": 39,
          "metadata": {},
          "output_type": "execute_result"
        }
      ]
    },
    {
      "cell_type": "markdown",
      "metadata": {
        "id": "mYF-oFR34nQL"
      },
      "source": [
        "If we want to modify the original array, we need to run `data = data.reshape(25,4)`"
      ]
    },
    {
      "cell_type": "markdown",
      "metadata": {
        "id": "lGpnf5L64nQL"
      },
      "source": [
        "### Creating an array with the same shape of an existing array\n",
        "\n",
        "`empty_like` will give you uninitialized (arbitrary) array elements"
      ]
    },
    {
      "cell_type": "code",
      "metadata": {
        "colab": {
          "base_uri": "https://localhost:8080/"
        },
        "id": "LJX6JlYd4nQM",
        "outputId": "fc52ea9c-48fd-4bec-bacc-f3698bddc533"
      },
      "source": [
        "y = np.empty_like(mat2)\n",
        "print(y)"
      ],
      "execution_count": null,
      "outputs": [
        {
          "name": "stdout",
          "output_type": "stream",
          "text": [
            "[[4607182418800017408 4611686018427387904 4613937818241073152\n",
            "  4616189618054758400 4617315517961601024 4618441417868443648\n",
            "  4619567317775286272 4620693217682128896 4621256167635550208\n",
            "  4621819117588971520]\n",
            " [4622382067542392832 4622945017495814144 4623507967449235456\n",
            "  4624070917402656768 4624633867356078080 4625196817309499392\n",
            "  4625478292286210048 4625759767262920704 4626041242239631360\n",
            "  4626322717216342016]\n",
            " [4626604192193052672 4626885667169763328 4627167142146473984\n",
            "  4627448617123184640 4627730092099895296 4628011567076605952\n",
            "  4628293042053316608 4628574517030027264 4628855992006737920\n",
            "  4629137466983448576]\n",
            " [4629418941960159232 4629700416936869888 4629841154425225216\n",
            "  4629981891913580544 4630122629401935872 4630263366890291200\n",
            "  4630404104378646528 4630544841867001856 4630685579355357184\n",
            "  4630826316843712512]\n",
            " [4630967054332067840 4631107791820423168 4631248529308778496\n",
            "  4631389266797133824 4631530004285489152 4631670741773844480\n",
            "  4631811479262199808 4631952216750555136 4632092954238910464\n",
            "  4632233691727265792]\n",
            " [4632374429215621120 4632515166703976448 4632655904192331776\n",
            "  4632796641680687104 4632937379169042432 4633078116657397760\n",
            "  4633218854145753088 4633359591634108416 4633500329122463744\n",
            "  4633641066610819072]\n",
            " [4633781804099174400 4633922541587529728 4634063279075885056\n",
            "  4634204016564240384 4634274385308418048 4634344754052595712\n",
            "  4634415122796773376 4634485491540951040 4634555860285128704\n",
            "  4634626229029306368]\n",
            " [4634696597773484032 4634766966517661696 4634837335261839360\n",
            "  4634907704006017024 4634978072750194688 4635048441494372352\n",
            "  4635118810238550016 4635189178982727680 4635259547726905344\n",
            "  4635329916471083008]\n",
            " [4635400285215260672 4635470653959438336 4635541022703616000\n",
            "  4635611391447793664 4635681760191971328 4635752128936148992\n",
            "  4635822497680326656 4635892866424504320 4635963235168681984\n",
            "  4636033603912859648]\n",
            " [4636103972657037312 4636174341401214976 4636244710145392640\n",
            "  4636315078889570304 4636385447633747968 4636455816377925632\n",
            "  4636526185122103296 4636596553866280960 4636666922610458624\n",
            "  4636737291354636288]]\n"
          ]
        }
      ]
    },
    {
      "cell_type": "markdown",
      "metadata": {
        "id": "GYnrjcqP4nQM"
      },
      "source": [
        "`ones_like` will give you array elements equal to 1"
      ]
    },
    {
      "cell_type": "code",
      "metadata": {
        "colab": {
          "base_uri": "https://localhost:8080/"
        },
        "id": "OHfQFrXi4nQM",
        "scrolled": false,
        "outputId": "13adce17-4669-444f-b3ad-fd3bf1c72d57"
      },
      "source": [
        "data2 = np.ones_like(mat2)\n",
        "print(data2)"
      ],
      "execution_count": null,
      "outputs": [
        {
          "name": "stdout",
          "output_type": "stream",
          "text": [
            "[[1 1 1 1 1 1 1 1 1 1]\n",
            " [1 1 1 1 1 1 1 1 1 1]\n",
            " [1 1 1 1 1 1 1 1 1 1]\n",
            " [1 1 1 1 1 1 1 1 1 1]\n",
            " [1 1 1 1 1 1 1 1 1 1]\n",
            " [1 1 1 1 1 1 1 1 1 1]\n",
            " [1 1 1 1 1 1 1 1 1 1]\n",
            " [1 1 1 1 1 1 1 1 1 1]\n",
            " [1 1 1 1 1 1 1 1 1 1]\n",
            " [1 1 1 1 1 1 1 1 1 1]]\n"
          ]
        }
      ]
    },
    {
      "cell_type": "markdown",
      "metadata": {
        "id": "RQNATMDJ4nQM"
      },
      "source": [
        "`zeros_like` will give you array elements equal to 0"
      ]
    },
    {
      "cell_type": "code",
      "metadata": {
        "colab": {
          "base_uri": "https://localhost:8080/"
        },
        "id": "woI5m-GC4nQM",
        "scrolled": true,
        "outputId": "89d1e245-1c9e-4f5c-aa04-c8743633caa5"
      },
      "source": [
        "np.zeros_like(mat2)"
      ],
      "execution_count": null,
      "outputs": [
        {
          "data": {
            "text/plain": [
              "array([[0, 0, 0, 0, 0, 0, 0, 0, 0, 0],\n",
              "       [0, 0, 0, 0, 0, 0, 0, 0, 0, 0],\n",
              "       [0, 0, 0, 0, 0, 0, 0, 0, 0, 0],\n",
              "       [0, 0, 0, 0, 0, 0, 0, 0, 0, 0],\n",
              "       [0, 0, 0, 0, 0, 0, 0, 0, 0, 0],\n",
              "       [0, 0, 0, 0, 0, 0, 0, 0, 0, 0],\n",
              "       [0, 0, 0, 0, 0, 0, 0, 0, 0, 0],\n",
              "       [0, 0, 0, 0, 0, 0, 0, 0, 0, 0],\n",
              "       [0, 0, 0, 0, 0, 0, 0, 0, 0, 0],\n",
              "       [0, 0, 0, 0, 0, 0, 0, 0, 0, 0]])"
            ]
          },
          "execution_count": 43,
          "metadata": {},
          "output_type": "execute_result"
        }
      ]
    },
    {
      "cell_type": "markdown",
      "metadata": {
        "id": "zcR3itDk4nQM"
      },
      "source": [
        "`full_like` will preserve the shape of the first argument, and give you element identical to the second argument."
      ]
    },
    {
      "cell_type": "code",
      "metadata": {
        "colab": {
          "base_uri": "https://localhost:8080/"
        },
        "id": "WmkKXh374nQM",
        "scrolled": true,
        "outputId": "70e104b1-aead-49a7-951b-701ec27e7542"
      },
      "source": [
        "np.full_like(mat2, -4.5, dtype=float)"
      ],
      "execution_count": null,
      "outputs": [
        {
          "data": {
            "text/plain": [
              "array([[-4.5, -4.5, -4.5, -4.5, -4.5, -4.5, -4.5, -4.5, -4.5, -4.5],\n",
              "       [-4.5, -4.5, -4.5, -4.5, -4.5, -4.5, -4.5, -4.5, -4.5, -4.5],\n",
              "       [-4.5, -4.5, -4.5, -4.5, -4.5, -4.5, -4.5, -4.5, -4.5, -4.5],\n",
              "       [-4.5, -4.5, -4.5, -4.5, -4.5, -4.5, -4.5, -4.5, -4.5, -4.5],\n",
              "       [-4.5, -4.5, -4.5, -4.5, -4.5, -4.5, -4.5, -4.5, -4.5, -4.5],\n",
              "       [-4.5, -4.5, -4.5, -4.5, -4.5, -4.5, -4.5, -4.5, -4.5, -4.5],\n",
              "       [-4.5, -4.5, -4.5, -4.5, -4.5, -4.5, -4.5, -4.5, -4.5, -4.5],\n",
              "       [-4.5, -4.5, -4.5, -4.5, -4.5, -4.5, -4.5, -4.5, -4.5, -4.5],\n",
              "       [-4.5, -4.5, -4.5, -4.5, -4.5, -4.5, -4.5, -4.5, -4.5, -4.5],\n",
              "       [-4.5, -4.5, -4.5, -4.5, -4.5, -4.5, -4.5, -4.5, -4.5, -4.5]])"
            ]
          },
          "execution_count": 48,
          "metadata": {},
          "output_type": "execute_result"
        }
      ]
    },
    {
      "cell_type": "markdown",
      "metadata": {
        "id": "asLC_DED4nQN"
      },
      "source": [
        "Notice the importance of `dtype`!  The default is `int64` because it is the data type in `mat2`."
      ]
    },
    {
      "cell_type": "code",
      "metadata": {
        "id": "YxtJ0MwB4nQN",
        "outputId": "39ad4d86-d7f9-4b4a-dacb-4734bfc49990"
      },
      "source": [
        "np.full_like(mat2, -4.5)"
      ],
      "execution_count": null,
      "outputs": [
        {
          "data": {
            "text/plain": [
              "array([[-4, -4, -4, -4, -4, -4, -4, -4, -4, -4],\n",
              "       [-4, -4, -4, -4, -4, -4, -4, -4, -4, -4],\n",
              "       [-4, -4, -4, -4, -4, -4, -4, -4, -4, -4],\n",
              "       [-4, -4, -4, -4, -4, -4, -4, -4, -4, -4],\n",
              "       [-4, -4, -4, -4, -4, -4, -4, -4, -4, -4],\n",
              "       [-4, -4, -4, -4, -4, -4, -4, -4, -4, -4],\n",
              "       [-4, -4, -4, -4, -4, -4, -4, -4, -4, -4],\n",
              "       [-4, -4, -4, -4, -4, -4, -4, -4, -4, -4],\n",
              "       [-4, -4, -4, -4, -4, -4, -4, -4, -4, -4],\n",
              "       [-4, -4, -4, -4, -4, -4, -4, -4, -4, -4]])"
            ]
          },
          "execution_count": 51,
          "metadata": {},
          "output_type": "execute_result"
        }
      ]
    },
    {
      "cell_type": "code",
      "metadata": {
        "colab": {
          "base_uri": "https://localhost:8080/"
        },
        "id": "ExASxmNd4nQN",
        "outputId": "93d02be7-7db9-4bc4-faec-982b6defaf5a"
      },
      "source": [
        "np.full_like(mat2, 'F', dtype=str) # Will fail without the dtype!"
      ],
      "execution_count": null,
      "outputs": [
        {
          "data": {
            "text/plain": [
              "array([['F', 'F', 'F', 'F', 'F', 'F', 'F', 'F', 'F', 'F'],\n",
              "       ['F', 'F', 'F', 'F', 'F', 'F', 'F', 'F', 'F', 'F'],\n",
              "       ['F', 'F', 'F', 'F', 'F', 'F', 'F', 'F', 'F', 'F'],\n",
              "       ['F', 'F', 'F', 'F', 'F', 'F', 'F', 'F', 'F', 'F'],\n",
              "       ['F', 'F', 'F', 'F', 'F', 'F', 'F', 'F', 'F', 'F'],\n",
              "       ['F', 'F', 'F', 'F', 'F', 'F', 'F', 'F', 'F', 'F'],\n",
              "       ['F', 'F', 'F', 'F', 'F', 'F', 'F', 'F', 'F', 'F'],\n",
              "       ['F', 'F', 'F', 'F', 'F', 'F', 'F', 'F', 'F', 'F'],\n",
              "       ['F', 'F', 'F', 'F', 'F', 'F', 'F', 'F', 'F', 'F'],\n",
              "       ['F', 'F', 'F', 'F', 'F', 'F', 'F', 'F', 'F', 'F']], dtype='<U1')"
            ]
          },
          "execution_count": 53,
          "metadata": {},
          "output_type": "execute_result"
        }
      ]
    },
    {
      "cell_type": "markdown",
      "metadata": {
        "id": "FG4DvM7K4nQN"
      },
      "source": [
        "You can also use the NumPy types, naturally."
      ]
    },
    {
      "cell_type": "code",
      "metadata": {
        "id": "tHKyV2nx4nQN",
        "scrolled": false,
        "outputId": "6cc9f46d-c390-4aa7-c95c-e15331ab33d5"
      },
      "source": [
        "np.full_like(data, fill_value=-4.5,dtype=np.float64)"
      ],
      "execution_count": null,
      "outputs": [
        {
          "data": {
            "text/plain": [
              "array([-4.5, -4.5, -4.5, -4.5, -4.5, -4.5, -4.5, -4.5, -4.5, -4.5, -4.5,\n",
              "       -4.5, -4.5, -4.5, -4.5, -4.5, -4.5, -4.5, -4.5, -4.5, -4.5, -4.5,\n",
              "       -4.5, -4.5, -4.5, -4.5, -4.5, -4.5, -4.5, -4.5, -4.5, -4.5, -4.5,\n",
              "       -4.5, -4.5, -4.5, -4.5, -4.5, -4.5, -4.5, -4.5, -4.5, -4.5, -4.5,\n",
              "       -4.5, -4.5, -4.5, -4.5, -4.5, -4.5, -4.5, -4.5, -4.5, -4.5, -4.5,\n",
              "       -4.5, -4.5, -4.5, -4.5, -4.5, -4.5, -4.5, -4.5, -4.5, -4.5, -4.5,\n",
              "       -4.5, -4.5, -4.5, -4.5, -4.5, -4.5, -4.5, -4.5, -4.5, -4.5, -4.5,\n",
              "       -4.5, -4.5, -4.5, -4.5, -4.5, -4.5, -4.5, -4.5, -4.5, -4.5, -4.5,\n",
              "       -4.5, -4.5, -4.5, -4.5, -4.5, -4.5, -4.5, -4.5, -4.5, -4.5, -4.5,\n",
              "       -4.5])"
            ]
          },
          "execution_count": 53,
          "metadata": {},
          "output_type": "execute_result"
        }
      ]
    },
    {
      "cell_type": "markdown",
      "metadata": {
        "id": "VxqHwo774nQN"
      },
      "source": [
        "## 5. Indexing and slicing\n",
        "\n",
        "The indexing starts with 0, as usual."
      ]
    },
    {
      "cell_type": "code",
      "metadata": {
        "colab": {
          "base_uri": "https://localhost:8080/"
        },
        "id": "g5F0k13H4nQN",
        "scrolled": true,
        "outputId": "fe80f83b-140a-4d64-fd56-841aad319bd4"
      },
      "source": [
        "data = np.arange(20).reshape(4,5)\n",
        "data_l = [[ 0,  1,  2,  3,  4],\n",
        "          [ 5,  6,  7,  8,  9],\n",
        "          [10, 11, 12, 13, 14],\n",
        "          [15, 16, 17, 18, 19]]\n",
        "print(data)\n",
        "print(data_l)"
      ],
      "execution_count": null,
      "outputs": [
        {
          "name": "stdout",
          "output_type": "stream",
          "text": [
            "[[ 0  1  2  3  4]\n",
            " [ 5  6  7  8  9]\n",
            " [10 11 12 13 14]\n",
            " [15 16 17 18 19]]\n",
            "[[0, 1, 2, 3, 4], [5, 6, 7, 8, 9], [10, 11, 12, 13, 14], [15, 16, 17, 18, 19]]\n"
          ]
        }
      ]
    },
    {
      "cell_type": "code",
      "metadata": {
        "id": "JMDrmc2c4nQN",
        "outputId": "8df841f7-ece7-430c-e212-dec24ef7e0ed"
      },
      "source": [
        "print(data[2:3,2:3])\n",
        "print(data[2:3,2:3].shape)"
      ],
      "execution_count": null,
      "outputs": [
        {
          "name": "stdout",
          "output_type": "stream",
          "text": [
            "[[12]]\n",
            "(1, 1)\n"
          ]
        }
      ]
    },
    {
      "cell_type": "markdown",
      "metadata": {
        "id": "b8zA35bY4nQO"
      },
      "source": [
        "Note that getting the same with a list requires a more elaborate (and less intuitive) syntax"
      ]
    },
    {
      "cell_type": "code",
      "metadata": {
        "id": "xZMiYXgR4nQO",
        "outputId": "3c87151a-df9e-4ddc-cfc5-c5811638c054"
      },
      "source": [
        "print([data_l[2:3][0][2:3]])"
      ],
      "execution_count": null,
      "outputs": [
        {
          "name": "stdout",
          "output_type": "stream",
          "text": [
            "[[12]]\n"
          ]
        }
      ]
    },
    {
      "cell_type": "code",
      "metadata": {
        "id": "TJP0tIHU4nQO",
        "scrolled": true,
        "outputId": "db12c883-18ee-47fe-8d2a-ae565984371b"
      },
      "source": [
        "data[2:4,2:4]\n",
        "print(data[2:4,2:4].shape)"
      ],
      "execution_count": null,
      "outputs": [
        {
          "name": "stdout",
          "output_type": "stream",
          "text": [
            "(2, 2)\n"
          ]
        }
      ]
    },
    {
      "cell_type": "markdown",
      "metadata": {
        "id": "Tryf6GH84nQO"
      },
      "source": [
        "### Extracting columns"
      ]
    },
    {
      "cell_type": "code",
      "metadata": {
        "colab": {
          "base_uri": "https://localhost:8080/"
        },
        "id": "X0tcH5taA3hb",
        "outputId": "fadadb75-b87a-4bbe-9cfe-d467bed7b4db"
      },
      "source": [
        "print(data)"
      ],
      "execution_count": null,
      "outputs": [
        {
          "name": "stdout",
          "output_type": "stream",
          "text": [
            "[[ 0  1  2  3  4]\n",
            " [ 5  6  7  8  9]\n",
            " [10 11 12 13 14]\n",
            " [15 16 17 18 19]]\n"
          ]
        }
      ]
    },
    {
      "cell_type": "code",
      "metadata": {
        "colab": {
          "base_uri": "https://localhost:8080/"
        },
        "id": "vUtCIcVf4nQO",
        "outputId": "ada4007d-f470-4cef-a96f-2de65ccd191c"
      },
      "source": [
        "data[:,3] # Fetch the element with index 3 for all values of the 1st index"
      ],
      "execution_count": null,
      "outputs": [
        {
          "data": {
            "text/plain": [
              "array([ 3,  8, 13, 18])"
            ]
          },
          "execution_count": 56,
          "metadata": {},
          "output_type": "execute_result"
        }
      ]
    },
    {
      "cell_type": "code",
      "metadata": {
        "id": "nBnTDFoA4nQO",
        "outputId": "b343b077-a7d1-484d-ddc5-f429bc68cbdc"
      },
      "source": [
        "data[1:,:] # Fetch all entries for values of the 1st index from 1 onwards"
      ],
      "execution_count": null,
      "outputs": [
        {
          "data": {
            "text/plain": [
              "array([[ 5,  6,  7,  8,  9],\n",
              "       [10, 11, 12, 13, 14],\n",
              "       [15, 16, 17, 18, 19]])"
            ]
          },
          "execution_count": 83,
          "metadata": {},
          "output_type": "execute_result"
        }
      ]
    },
    {
      "cell_type": "markdown",
      "metadata": {
        "id": "NJc6heaL4nQO"
      },
      "source": [
        "Slicing for a specific index that is out of bound will cause an error.\n",
        "\n",
        "However slicing using `:` out of bound indices will not: NumPy will return as many entries as it can."
      ]
    },
    {
      "cell_type": "code",
      "metadata": {
        "colab": {
          "base_uri": "https://localhost:8080/",
          "height": 187
        },
        "id": "gVnqr4jT4nQO",
        "outputId": "789f8b1b-157c-4c64-dcf0-64f609ed757e"
      },
      "source": [
        "data[20]"
      ],
      "execution_count": null,
      "outputs": [
        {
          "ename": "IndexError",
          "evalue": "ignored",
          "output_type": "error",
          "traceback": [
            "\u001b[0;31m---------------------------------------------------------------------------\u001b[0m",
            "\u001b[0;31mIndexError\u001b[0m                                Traceback (most recent call last)",
            "\u001b[0;32m<ipython-input-57-0e53c59a92d0>\u001b[0m in \u001b[0;36m<module>\u001b[0;34m()\u001b[0m\n\u001b[0;32m----> 1\u001b[0;31m \u001b[0mdata\u001b[0m\u001b[0;34m[\u001b[0m\u001b[0;36m20\u001b[0m\u001b[0;34m]\u001b[0m\u001b[0;34m\u001b[0m\u001b[0;34m\u001b[0m\u001b[0m\n\u001b[0m",
            "\u001b[0;31mIndexError\u001b[0m: index 20 is out of bounds for axis 0 with size 4"
          ]
        }
      ]
    },
    {
      "cell_type": "code",
      "metadata": {
        "colab": {
          "base_uri": "https://localhost:8080/"
        },
        "id": "FtvWJ6Wz4nQO",
        "outputId": "2d64b595-eeb2-4a11-f215-d06a83c4ea37"
      },
      "source": [
        "data[20:]"
      ],
      "execution_count": null,
      "outputs": [
        {
          "data": {
            "text/plain": [
              "array([], shape=(0, 5), dtype=int64)"
            ]
          },
          "execution_count": 58,
          "metadata": {},
          "output_type": "execute_result"
        }
      ]
    },
    {
      "cell_type": "code",
      "metadata": {
        "colab": {
          "base_uri": "https://localhost:8080/"
        },
        "id": "huXdr7qH4nQO",
        "outputId": "6b7a2ef0-c6aa-4195-8a88-96d834cea8b6"
      },
      "source": [
        "data[:20]"
      ],
      "execution_count": null,
      "outputs": [
        {
          "data": {
            "text/plain": [
              "array([[ 0,  1,  2,  3,  4],\n",
              "       [ 5,  6,  7,  8,  9],\n",
              "       [10, 11, 12, 13, 14],\n",
              "       [15, 16, 17, 18, 19]])"
            ]
          },
          "execution_count": 59,
          "metadata": {},
          "output_type": "execute_result"
        }
      ]
    },
    {
      "cell_type": "code",
      "metadata": {
        "colab": {
          "base_uri": "https://localhost:8080/"
        },
        "id": "P36Q1_NV4nQO",
        "outputId": "fb55de3b-4430-4441-82c5-a16d8eec4cec"
      },
      "source": [
        "data[20:20]"
      ],
      "execution_count": null,
      "outputs": [
        {
          "data": {
            "text/plain": [
              "array([], shape=(0, 5), dtype=int64)"
            ]
          },
          "execution_count": 60,
          "metadata": {},
          "output_type": "execute_result"
        }
      ]
    },
    {
      "cell_type": "code",
      "metadata": {
        "colab": {
          "base_uri": "https://localhost:8080/"
        },
        "id": "2apPvGxy4nQP",
        "outputId": "50bba3cd-1867-4359-c3b3-1c60379219e2"
      },
      "source": [
        "data[:2,3:]"
      ],
      "execution_count": null,
      "outputs": [
        {
          "data": {
            "text/plain": [
              "array([[3, 4],\n",
              "       [8, 9]])"
            ]
          },
          "execution_count": 61,
          "metadata": {},
          "output_type": "execute_result"
        }
      ]
    },
    {
      "cell_type": "code",
      "metadata": {
        "colab": {
          "base_uri": "https://localhost:8080/"
        },
        "id": "agwfK5zh4nQP",
        "outputId": "179db11b-9062-48ef-eadf-64a9e9598df6"
      },
      "source": [
        "data[:2,3:70]"
      ],
      "execution_count": null,
      "outputs": [
        {
          "data": {
            "text/plain": [
              "array([[3, 4],\n",
              "       [8, 9]])"
            ]
          },
          "execution_count": 62,
          "metadata": {},
          "output_type": "execute_result"
        }
      ]
    },
    {
      "cell_type": "markdown",
      "metadata": {
        "id": "Wk3CurnW4nQP"
      },
      "source": [
        "**As with the lists, all operations return a reference to the original array, unless you make a copy**"
      ]
    },
    {
      "cell_type": "code",
      "metadata": {
        "id": "XmP15GeU4nQP",
        "outputId": "fd3e1c94-bde3-4183-8100-55add8f34d3c"
      },
      "source": [
        "x = data[:2,1:3]\n",
        "y = np.array(data[:2,1:3])\n",
        "print(x)\n",
        "print(y)"
      ],
      "execution_count": null,
      "outputs": [
        {
          "name": "stdout",
          "output_type": "stream",
          "text": [
            "[[1 2]\n",
            " [6 7]]\n",
            "[[1 2]\n",
            " [6 7]]\n"
          ]
        }
      ]
    },
    {
      "cell_type": "code",
      "metadata": {
        "id": "OD-HcPRd4nQP",
        "outputId": "f0ae8577-4c85-4f6a-c69a-a0943a7c50e7"
      },
      "source": [
        "x[0]"
      ],
      "execution_count": null,
      "outputs": [
        {
          "data": {
            "text/plain": [
              "array([1, 2])"
            ]
          },
          "execution_count": 110,
          "metadata": {},
          "output_type": "execute_result"
        }
      ]
    },
    {
      "cell_type": "code",
      "metadata": {
        "id": "K4idj69J4nQP",
        "outputId": "48704766-5331-4705-8f56-ecbd1fe8e47d"
      },
      "source": [
        "x[0][1]"
      ],
      "execution_count": null,
      "outputs": [
        {
          "data": {
            "text/plain": [
              "2"
            ]
          },
          "execution_count": 111,
          "metadata": {},
          "output_type": "execute_result"
        }
      ]
    },
    {
      "cell_type": "code",
      "metadata": {
        "id": "u_hsQgXN4nQP",
        "outputId": "4fd04602-45ae-4920-9eb1-9c5e6b327055"
      },
      "source": [
        "x[0][1] = -5.55\n",
        "y[0][1] = 500\n",
        "print(x)\n",
        "print(y)\n",
        "print(data)"
      ],
      "execution_count": null,
      "outputs": [
        {
          "name": "stdout",
          "output_type": "stream",
          "text": [
            "[[ 1 -5]\n",
            " [ 6  7]]\n",
            "[[  1 500]\n",
            " [  6   7]]\n",
            "[[ 0  1 -5  3  4]\n",
            " [ 5  6  7  8  9]\n",
            " [10 11 12 13 14]\n",
            " [15 16 17 18 19]]\n"
          ]
        }
      ]
    },
    {
      "cell_type": "markdown",
      "metadata": {
        "id": "FFrguzEt4nQQ"
      },
      "source": [
        "We have modified not just `x`, but also the original data array!  The same is not true for `y`.\n",
        "\n",
        "The key difference is that in the `y` case we created a new copy of `data` by calling the constructor `numpy.array`."
      ]
    },
    {
      "cell_type": "markdown",
      "metadata": {
        "id": "dF13WBD34nQQ"
      },
      "source": [
        "## 6. Converting and casting\n",
        "When using `arange()` the array's type is integer."
      ]
    },
    {
      "cell_type": "code",
      "metadata": {
        "id": "m2htaEVX4nQQ",
        "outputId": "7c58cf9f-56d1-463b-9edb-425523a62b8a"
      },
      "source": [
        "data = np.arange(42).reshape(6,7)\n",
        "data"
      ],
      "execution_count": null,
      "outputs": [
        {
          "data": {
            "text/plain": [
              "array([[ 0,  1,  2,  3,  4,  5,  6],\n",
              "       [ 7,  8,  9, 10, 11, 12, 13],\n",
              "       [14, 15, 16, 17, 18, 19, 20],\n",
              "       [21, 22, 23, 24, 25, 26, 27],\n",
              "       [28, 29, 30, 31, 32, 33, 34],\n",
              "       [35, 36, 37, 38, 39, 40, 41]])"
            ]
          },
          "execution_count": 140,
          "metadata": {},
          "output_type": "execute_result"
        }
      ]
    },
    {
      "cell_type": "code",
      "metadata": {
        "id": "2wUhFbL_4nQQ",
        "outputId": "b83fb246-04a2-4e74-e168-8baee9f2bb71"
      },
      "source": [
        "print(data[2])"
      ],
      "execution_count": null,
      "outputs": [
        {
          "name": "stdout",
          "output_type": "stream",
          "text": [
            "[14 15 16 17 18 19 20]\n"
          ]
        }
      ]
    },
    {
      "cell_type": "markdown",
      "metadata": {
        "id": "EdKHsPlj4nQQ"
      },
      "source": [
        "Sometimes you might want to change its type for floating point calculations"
      ]
    },
    {
      "cell_type": "code",
      "metadata": {
        "id": "5h15_hbx4nQQ",
        "outputId": "2cc2fe89-d801-4248-abe0-5f1ca59f913d"
      },
      "source": [
        "data[0][3] = -np.pi\n",
        "data"
      ],
      "execution_count": null,
      "outputs": [
        {
          "data": {
            "text/plain": [
              "array([[ 0,  1,  2, -3,  4,  5,  6],\n",
              "       [ 7,  8,  9, 10, 11, 12, 13],\n",
              "       [14, 15, 16, 17, 18, 19, 20],\n",
              "       [21, 22, 23, 24, 25, 26, 27],\n",
              "       [28, 29, 30, 31, 32, 33, 34],\n",
              "       [35, 36, 37, 38, 39, 40, 41]])"
            ]
          },
          "execution_count": 142,
          "metadata": {},
          "output_type": "execute_result"
        }
      ]
    },
    {
      "cell_type": "code",
      "metadata": {
        "id": "nCbZw0P24nQQ",
        "outputId": "6650074d-0565-453c-fe7d-7a6e8d8f5bf0"
      },
      "source": [
        "data_float = data.astype(np.float64)\n",
        "print(data_float)"
      ],
      "execution_count": null,
      "outputs": [
        {
          "name": "stdout",
          "output_type": "stream",
          "text": [
            "[[ 0.  1.  2. -3.  4.  5.  6.]\n",
            " [ 7.  8.  9. 10. 11. 12. 13.]\n",
            " [14. 15. 16. 17. 18. 19. 20.]\n",
            " [21. 22. 23. 24. 25. 26. 27.]\n",
            " [28. 29. 30. 31. 32. 33. 34.]\n",
            " [35. 36. 37. 38. 39. 40. 41.]]\n"
          ]
        }
      ]
    },
    {
      "cell_type": "code",
      "metadata": {
        "id": "EeubtA9O4nQQ",
        "outputId": "2e7fa4f6-bc41-46ca-ce60-03e782a0428b"
      },
      "source": [
        "data_float[0][3] = -np.pi\n",
        "print(data_float)"
      ],
      "execution_count": null,
      "outputs": [
        {
          "name": "stdout",
          "output_type": "stream",
          "text": [
            "[[ 0.          1.          2.         -3.14159265  4.          5.\n",
            "   6.        ]\n",
            " [ 7.          8.          9.         10.         11.         12.\n",
            "  13.        ]\n",
            " [14.         15.         16.         17.         18.         19.\n",
            "  20.        ]\n",
            " [21.         22.         23.         24.         25.         26.\n",
            "  27.        ]\n",
            " [28.         29.         30.         31.         32.         33.\n",
            "  34.        ]\n",
            " [35.         36.         37.         38.         39.         40.\n",
            "  41.        ]]\n"
          ]
        }
      ]
    },
    {
      "cell_type": "markdown",
      "metadata": {
        "id": "MrRVSj_C4nQQ"
      },
      "source": [
        "Note that `astype()` returned a copy of the array and our original array `data` has not been modified"
      ]
    },
    {
      "cell_type": "code",
      "metadata": {
        "id": "FnEH_qWr4nQQ",
        "outputId": "72aa9f60-4452-4cfd-ba94-d9ce19b6d508"
      },
      "source": [
        "print(data)"
      ],
      "execution_count": null,
      "outputs": [
        {
          "name": "stdout",
          "output_type": "stream",
          "text": [
            "[[ 0  1  2 -3  4  5  6]\n",
            " [ 7  8  9 10 11 12 13]\n",
            " [14 15 16 17 18 19 20]\n",
            " [21 22 23 24 25 26 27]\n",
            " [28 29 30 31 32 33 34]\n",
            " [35 36 37 38 39 40 41]]\n"
          ]
        }
      ]
    },
    {
      "cell_type": "markdown",
      "metadata": {
        "id": "8MW7Un4o4nQR"
      },
      "source": [
        "## 7. Boolean arrays\n",
        "As with all operations, also logical operations are vectorised."
      ]
    },
    {
      "cell_type": "code",
      "metadata": {
        "id": "dT1WooW24nQR",
        "scrolled": true,
        "colab": {
          "base_uri": "https://localhost:8080/"
        },
        "outputId": "1cd630a6-74e0-4384-a488-b3727e862a54"
      },
      "source": [
        "import numpy as np\n",
        "data = np.random.normal(0, 1., 25).reshape(5,5)\n",
        "\n",
        "print(data)"
      ],
      "execution_count": null,
      "outputs": [
        {
          "output_type": "stream",
          "name": "stdout",
          "text": [
            "[[ 0.28195966 -0.59921302  0.0686334   0.4868345  -1.86671124]\n",
            " [ 0.18096707  1.38757333  0.39450827 -0.49209819 -0.84716895]\n",
            " [ 0.74629336 -1.38495627  0.37959225  0.16116471  0.75089122]\n",
            " [ 1.02195936 -0.44941552 -1.19323446  0.56106542  0.92947522]\n",
            " [ 1.69207304  0.50197758  1.52815573 -0.23390405 -0.36300094]]\n"
          ]
        }
      ]
    },
    {
      "cell_type": "markdown",
      "metadata": {
        "id": "wBKFOJI84nQR"
      },
      "source": [
        "### Check if the elements satisfy a condition"
      ]
    },
    {
      "cell_type": "code",
      "metadata": {
        "id": "UApFgzhZ4nQR",
        "scrolled": true,
        "colab": {
          "base_uri": "https://localhost:8080/"
        },
        "outputId": "e617abb8-a1cc-4519-a3d4-17e2688bbd24"
      },
      "source": [
        "res = data > 0\n",
        "print(res)"
      ],
      "execution_count": null,
      "outputs": [
        {
          "output_type": "stream",
          "name": "stdout",
          "text": [
            "[[ True False  True  True False]\n",
            " [ True  True  True False False]\n",
            " [ True False  True  True  True]\n",
            " [ True False False  True  True]\n",
            " [ True  True  True False False]]\n"
          ]
        }
      ]
    },
    {
      "cell_type": "markdown",
      "metadata": {
        "id": "H2Y9eZap4nQR"
      },
      "source": [
        "### Print only elements that pass a certaing condition"
      ]
    },
    {
      "cell_type": "code",
      "metadata": {
        "id": "Zp7au7nM4nQR",
        "scrolled": true,
        "colab": {
          "base_uri": "https://localhost:8080/"
        },
        "outputId": "d7d8578a-6974-4701-f94b-6f899c5e154c"
      },
      "source": [
        "posdata = data[res]\n",
        "print(posdata)\n",
        "print(\"# positives: \", len(data[res]))\n",
        "print(\"Sum of boolean: \", res.sum())"
      ],
      "execution_count": null,
      "outputs": [
        {
          "output_type": "stream",
          "name": "stdout",
          "text": [
            "[0.28195966 0.0686334  0.4868345  0.18096707 1.38757333 0.39450827\n",
            " 0.74629336 0.37959225 0.16116471 0.75089122 1.02195936 0.56106542\n",
            " 0.92947522 1.69207304 0.50197758 1.52815573]\n",
            "# positives:  16\n",
            "Sum of boolean:  16\n"
          ]
        }
      ]
    },
    {
      "cell_type": "markdown",
      "metadata": {
        "id": "fqTsQHBS4nQR"
      },
      "source": [
        "Note that the original shape is lost"
      ]
    },
    {
      "cell_type": "code",
      "metadata": {
        "id": "iAtb17QB4nQR",
        "colab": {
          "base_uri": "https://localhost:8080/"
        },
        "outputId": "4cafa833-14d8-4414-ba1d-e4070a8826d6"
      },
      "source": [
        "print(type(posdata))\n",
        "print(\"Shape: \", np.shape(posdata))"
      ],
      "execution_count": null,
      "outputs": [
        {
          "output_type": "stream",
          "name": "stdout",
          "text": [
            "<class 'numpy.ndarray'>\n",
            "Shape:  (16,)\n"
          ]
        }
      ]
    },
    {
      "cell_type": "markdown",
      "metadata": {
        "id": "l44-KEdg4nQR"
      },
      "source": [
        "Since booleans are converted automatically to 0 and 1, you can easily count them by using the `sum` function"
      ]
    },
    {
      "cell_type": "code",
      "metadata": {
        "id": "BzTztEyq4nQR",
        "colab": {
          "base_uri": "https://localhost:8080/"
        },
        "outputId": "3ede7a32-3671-43b8-e1a0-2a8e989dd986"
      },
      "source": [
        "(res).sum()"
      ],
      "execution_count": null,
      "outputs": [
        {
          "output_type": "execute_result",
          "data": {
            "text/plain": [
              "16"
            ]
          },
          "metadata": {},
          "execution_count": 10
        }
      ]
    },
    {
      "cell_type": "markdown",
      "metadata": {
        "id": "XYv6vv0-4nQR"
      },
      "source": [
        "### Slicing with booleans"
      ]
    },
    {
      "cell_type": "markdown",
      "metadata": {
        "id": "XCzJ6efC4nQR"
      },
      "source": [
        "Logical arrays can be used to slice and index an array!\n",
        "\n",
        "In this case we want the array with just the positive cells."
      ]
    },
    {
      "cell_type": "code",
      "metadata": {
        "id": "l8_9H8ym4nQS",
        "scrolled": false,
        "colab": {
          "base_uri": "https://localhost:8080/"
        },
        "outputId": "6f2d160d-afed-4fa8-e12a-ffff5ae7357f"
      },
      "source": [
        "pos_vals = data[res]\n",
        "print(type(pos_vals), pos_vals.shape)"
      ],
      "execution_count": null,
      "outputs": [
        {
          "output_type": "stream",
          "name": "stdout",
          "text": [
            "<class 'numpy.ndarray'> (16,)\n"
          ]
        }
      ]
    },
    {
      "cell_type": "code",
      "metadata": {
        "id": "LFkC-3l34nQS",
        "colab": {
          "base_uri": "https://localhost:8080/"
        },
        "outputId": "452ce8c0-9fa2-462c-db20-aeeaba459a9d"
      },
      "source": [
        "pos_vals[0]"
      ],
      "execution_count": null,
      "outputs": [
        {
          "output_type": "execute_result",
          "data": {
            "text/plain": [
              "0.28195965500684067"
            ]
          },
          "metadata": {},
          "execution_count": 12
        }
      ]
    },
    {
      "cell_type": "code",
      "metadata": {
        "id": "SXRoNji44nQS"
      },
      "source": [
        "pos_vals[0] = -1"
      ],
      "execution_count": null,
      "outputs": []
    },
    {
      "cell_type": "code",
      "metadata": {
        "id": "ObuSC9Kv4nQS",
        "colab": {
          "base_uri": "https://localhost:8080/"
        },
        "outputId": "37226c42-7606-4164-b0b0-745f3a469c2e"
      },
      "source": [
        "print(pos_vals)"
      ],
      "execution_count": null,
      "outputs": [
        {
          "output_type": "stream",
          "name": "stdout",
          "text": [
            "[-1.          0.0686334   0.4868345   0.18096707  1.38757333  0.39450827\n",
            "  0.74629336  0.37959225  0.16116471  0.75089122  1.02195936  0.56106542\n",
            "  0.92947522  1.69207304  0.50197758  1.52815573]\n"
          ]
        }
      ]
    },
    {
      "cell_type": "code",
      "metadata": {
        "id": "a8WAWgx74nQS",
        "colab": {
          "base_uri": "https://localhost:8080/"
        },
        "outputId": "59891306-8c27-423f-d577-28ada6ffb18f"
      },
      "source": [
        "print(data)"
      ],
      "execution_count": null,
      "outputs": [
        {
          "output_type": "stream",
          "name": "stdout",
          "text": [
            "[[ 0.28195966 -0.59921302  0.0686334   0.4868345  -1.86671124]\n",
            " [ 0.18096707  1.38757333  0.39450827 -0.49209819 -0.84716895]\n",
            " [ 0.74629336 -1.38495627  0.37959225  0.16116471  0.75089122]\n",
            " [ 1.02195936 -0.44941552 -1.19323446  0.56106542  0.92947522]\n",
            " [ 1.69207304  0.50197758  1.52815573 -0.23390405 -0.36300094]]\n"
          ]
        }
      ]
    },
    {
      "cell_type": "markdown",
      "metadata": {
        "id": "TwVYmHXW4nQS"
      },
      "source": [
        "**Note how slicing with a boolean array, creates a new array and not a reference to the original array.**"
      ]
    },
    {
      "cell_type": "markdown",
      "metadata": {
        "id": "ew-8qJqm4nQS"
      },
      "source": [
        "## 8. I/O of NumPy objects\n",
        "\n",
        "NumPy provides built-in functions to easily store and read `ndarray`s in binary and text format **without iterating** over each element.\n",
        "- Use `save()` and `load()` with binary files (`.npy`).\n",
        "- Use `savetxt()` and `loadtxt()` with textfiles."
      ]
    },
    {
      "cell_type": "markdown",
      "metadata": {
        "id": "x52jT2A6zWoS"
      },
      "source": [
        "### I/O with `ndarray`s and binary files"
      ]
    },
    {
      "cell_type": "code",
      "metadata": {
        "id": "H6yZ__kG4nQS"
      },
      "source": [
        "import numpy as np\n",
        "\n",
        "matrix = np.random.randn(100,10)\n",
        "\n",
        "fname = 'npdata1'\n",
        "np.save(fname+'.npy', matrix)\n",
        "np.savetxt(fname+'.txt', matrix)"
      ],
      "execution_count": null,
      "outputs": []
    },
    {
      "cell_type": "markdown",
      "metadata": {
        "id": "Zv8jRfETzWoS"
      },
      "source": [
        "Naturally, the binary file uses less memory."
      ]
    },
    {
      "cell_type": "code",
      "metadata": {
        "colab": {
          "base_uri": "https://localhost:8080/"
        },
        "id": "M_mYHkcGzWoT",
        "outputId": "8f0520cb-0eaa-42b0-ef4f-0b5c9ed777e0"
      },
      "source": [
        "!ls -lrth npdata1*"
      ],
      "execution_count": null,
      "outputs": [
        {
          "output_type": "stream",
          "name": "stdout",
          "text": [
            "-rw-r--r-- 1 root root 8.0K Nov 25 11:28 npdata1.npy\n",
            "-rw-r--r-- 1 root root  25K Nov 25 11:28 npdata1.txt\n"
          ]
        }
      ]
    },
    {
      "cell_type": "markdown",
      "metadata": {
        "id": "OZ4f0-8s4nQS"
      },
      "source": [
        "Reading the file is also simple with `load()` and `loadtxt()`"
      ]
    },
    {
      "cell_type": "code",
      "metadata": {
        "id": "5bRT29Yy4nQS",
        "colab": {
          "base_uri": "https://localhost:8080/"
        },
        "outputId": "d004a418-66c5-4ef5-9b3d-a423f244087e"
      },
      "source": [
        "vals = np.load(fname+'.npy')\n",
        "\n",
        "print(vals.shape)\n",
        "print(vals[:1,])"
      ],
      "execution_count": null,
      "outputs": [
        {
          "output_type": "stream",
          "name": "stdout",
          "text": [
            "(100, 10)\n",
            "[[-0.84082878  2.12157785 -0.46612274 -0.07535899 -1.29186122  0.22405822\n",
            "  -0.09116899  0.10619616  0.10194349 -1.37966697]]\n"
          ]
        }
      ]
    },
    {
      "cell_type": "markdown",
      "metadata": {
        "id": "1XHahmQT4nQS"
      },
      "source": [
        "The [Python Data Analysis Library (pandas)](http://pandas.pydata.org) provides even more efficient tools and data formats to handle data for analysis and their storage to file."
      ]
    },
    {
      "cell_type": "markdown",
      "metadata": {
        "id": "BxDxOtWn4nQT"
      },
      "source": [
        "### Reading data into `ndarray`s from textfiles\n",
        "\n",
        "Often you will have a file with data stored per event (line) in columns (variables).  E.g., the following structure\n",
        "```\n",
        "#x   #y   #z   #t   #energy\n",
        "...  ...  ...  ...  ...\n",
        "...  ...  ...  ...  ...\n",
        "...  ...  ...  ...  ...\n",
        "...  ...  ...  ...  ...\n",
        "```\n",
        "\n",
        "With NumPy we can read the data directly into arrays per column without reading in all data and then manipulating it\n",
        "- [Input/Output with numpy](https://numpy.org/doc/stable/reference/routines.io.html)\n",
        "\n",
        "In particular [numpy.loadtxt](https://numpy.org/doc/stable/reference/generated/numpy.loadtxt.html#numpy.loadtxt) is very handy for quick reading of data from text files"
      ]
    },
    {
      "cell_type": "code",
      "metadata": {
        "id": "uMbcbpYg4fv2"
      },
      "source": [
        "import numpy as np\n",
        "\n",
        "matrix = np.random.randn(10,5)\n",
        "\n",
        "fname = 'output'\n",
        "np.savetxt(fname+'.txt', matrix)"
      ],
      "execution_count": null,
      "outputs": []
    },
    {
      "cell_type": "code",
      "metadata": {
        "id": "PF86cslN4nQT",
        "colab": {
          "base_uri": "https://localhost:8080/"
        },
        "outputId": "50684c71-e4c3-4afb-a5df-a1364bad9032"
      },
      "source": [
        "!cat output.txt"
      ],
      "execution_count": null,
      "outputs": [
        {
          "output_type": "stream",
          "name": "stdout",
          "text": [
            "-4.584285498642113876e-01 -6.931398158151874656e-01 -1.831515391988217112e-01 1.902862442922446773e+00 1.164184402126643425e+00\n",
            "2.344375104948497879e-01 -1.180667713105731043e+00 1.043247968996819514e-02 4.295571617752756977e-01 2.669509106533145992e+00\n",
            "-7.764712108915364785e-01 -1.620378159982992505e-01 -1.024082137020398076e+00 -7.420150000965577974e-02 -1.962379859950696137e-01\n",
            "1.261837617762075758e-01 6.968746154610403476e-01 1.292908398330798736e-01 8.569808726518264308e-01 1.117182792551279613e+00\n",
            "-4.892133602126829128e-01 1.507731124106071130e+00 -4.298460935126557220e-02 -2.080219609775034950e+00 1.028983578280431077e+00\n",
            "-1.582688391393415106e+00 -2.544568952008750884e+00 -1.401852792343138976e+00 -8.394984292329417119e-01 6.695483387484635340e-02\n",
            "-2.663281290910665677e-01 1.387824936415045007e+00 1.118622668464062775e+00 1.922567354425250175e+00 -1.205388458751567748e+00\n",
            "-2.807558406903598591e+00 1.615692728079658913e+00 -4.786744298037505507e-02 -4.925698294234073793e-01 -1.382941740071971237e+00\n",
            "-8.165787973683485967e-01 -7.006004007154990054e-01 1.077146826263375434e+00 5.631352720251470156e-01 1.874210604697008398e+00\n",
            "-3.430734863201866380e-01 -3.127343577274243058e-01 -7.816248074347151853e-01 -8.354782073004006770e-01 1.076905348253029276e-01\n"
          ]
        }
      ]
    },
    {
      "cell_type": "code",
      "metadata": {
        "id": "1CfHXg9e4nQT",
        "colab": {
          "base_uri": "https://localhost:8080/"
        },
        "outputId": "dbf681fd-bbf1-499a-f8dc-23975cf6d2b0"
      },
      "source": [
        "fname = 'output.txt'\n",
        "\n",
        "data = np.loadtxt(fname)\n",
        "\n",
        "print(data.shape)"
      ],
      "execution_count": null,
      "outputs": [
        {
          "output_type": "stream",
          "name": "stdout",
          "text": [
            "(10, 5)\n"
          ]
        }
      ]
    },
    {
      "cell_type": "code",
      "metadata": {
        "id": "BYyKwna04nQT",
        "scrolled": true,
        "colab": {
          "base_uri": "https://localhost:8080/"
        },
        "outputId": "33f4fc19-2e63-415b-fede-fd620e43793a"
      },
      "source": [
        "print(data)"
      ],
      "execution_count": null,
      "outputs": [
        {
          "output_type": "stream",
          "name": "stdout",
          "text": [
            "[[-0.45842855 -0.69313982 -0.18315154  1.90286244  1.1641844 ]\n",
            " [ 0.23443751 -1.18066771  0.01043248  0.42955716  2.66950911]\n",
            " [-0.77647121 -0.16203782 -1.02408214 -0.0742015  -0.19623799]\n",
            " [ 0.12618376  0.69687462  0.12929084  0.85698087  1.11718279]\n",
            " [-0.48921336  1.50773112 -0.04298461 -2.08021961  1.02898358]\n",
            " [-1.58268839 -2.54456895 -1.40185279 -0.83949843  0.06695483]\n",
            " [-0.26632813  1.38782494  1.11862267  1.92256735 -1.20538846]\n",
            " [-2.80755841  1.61569273 -0.04786744 -0.49256983 -1.38294174]\n",
            " [-0.8165788  -0.7006004   1.07714683  0.56313527  1.8742106 ]\n",
            " [-0.34307349 -0.31273436 -0.78162481 -0.83547821  0.10769053]]\n"
          ]
        }
      ]
    },
    {
      "cell_type": "code",
      "metadata": {
        "id": "mMy1ZMmB4nQT",
        "colab": {
          "base_uri": "https://localhost:8080/"
        },
        "outputId": "a40dce68-a438-43e4-d3ea-4bc50e1ae019"
      },
      "source": [
        "print(data[0])"
      ],
      "execution_count": null,
      "outputs": [
        {
          "output_type": "stream",
          "name": "stdout",
          "text": [
            "[-0.45842855 -0.69313982 -0.18315154  1.90286244  1.1641844 ]\n"
          ]
        }
      ]
    },
    {
      "cell_type": "code",
      "metadata": {
        "id": "Cil4fen24nQT",
        "colab": {
          "base_uri": "https://localhost:8080/"
        },
        "outputId": "6cbd9d66-bfb8-4c66-9058-81c721b5a35b"
      },
      "source": [
        "print(data[:,0])"
      ],
      "execution_count": null,
      "outputs": [
        {
          "output_type": "stream",
          "name": "stdout",
          "text": [
            "[-0.45842855  0.23443751 -0.77647121  0.12618376 -0.48921336 -1.58268839\n",
            " -0.26632813 -2.80755841 -0.8165788  -0.34307349]\n"
          ]
        }
      ]
    },
    {
      "cell_type": "markdown",
      "metadata": {
        "id": "ZlgEU5k14nQU"
      },
      "source": [
        "Slice it to extract columns"
      ]
    },
    {
      "cell_type": "code",
      "metadata": {
        "id": "YFEcRr7b4nQU",
        "colab": {
          "base_uri": "https://localhost:8080/"
        },
        "outputId": "80442d87-6246-4639-b6ce-db838b65e08d"
      },
      "source": [
        "x = data[:,0]\n",
        "y = data[:,1]\n",
        "z = data[:,2]\n",
        "t = data[:,3]\n",
        "E = data[:,4]\n",
        "\n",
        "print(z)"
      ],
      "execution_count": null,
      "outputs": [
        {
          "output_type": "stream",
          "name": "stdout",
          "text": [
            "[-0.18315154  0.01043248 -1.02408214  0.12929084 -0.04298461 -1.40185279\n",
            "  1.11862267 -0.04786744  1.07714683 -0.78162481]\n"
          ]
        }
      ]
    },
    {
      "cell_type": "markdown",
      "metadata": {
        "id": "InQUrW7k4nQU"
      },
      "source": [
        "Since this is a typical usecase, `loadtxt` already has options to do all this!"
      ]
    },
    {
      "cell_type": "code",
      "metadata": {
        "id": "JTAnlbu34nQU",
        "colab": {
          "base_uri": "https://localhost:8080/"
        },
        "outputId": "1495825f-ead4-429d-b523-ac58f9efa980"
      },
      "source": [
        "x,z = np.loadtxt(fname, unpack=True, usecols=(0,2))\n",
        "\n",
        "print(z)"
      ],
      "execution_count": null,
      "outputs": [
        {
          "output_type": "stream",
          "name": "stdout",
          "text": [
            "[-0.18315154  0.01043248 -1.02408214  0.12929084 -0.04298461 -1.40185279\n",
            "  1.11862267 -0.04786744  1.07714683 -0.78162481]\n"
          ]
        }
      ]
    },
    {
      "cell_type": "markdown",
      "metadata": {
        "id": "MWhi2eEJ4nQU"
      },
      "source": [
        "- `usecols=(a,b,c)` or `usecols=d` reads only the specific column(s)\n",
        "- `unpack=True` transposes data to go in columns"
      ]
    },
    {
      "cell_type": "code",
      "metadata": {
        "id": "w0HF25ah4nQU",
        "colab": {
          "base_uri": "https://localhost:8080/"
        },
        "outputId": "c250275d-11c3-4b3a-9905-57432e958895"
      },
      "source": [
        "y = np.loadtxt(fname, usecols=1)\n",
        "print(y)"
      ],
      "execution_count": null,
      "outputs": [
        {
          "output_type": "stream",
          "name": "stdout",
          "text": [
            "[-0.69313982 -1.18066771 -0.16203782  0.69687462  1.50773112 -2.54456895\n",
            "  1.38782494  1.61569273 -0.7006004  -0.31273436]\n"
          ]
        }
      ]
    },
    {
      "cell_type": "code",
      "metadata": {
        "id": "bi-dVGi24nQU",
        "scrolled": true,
        "colab": {
          "base_uri": "https://localhost:8080/",
          "height": 299
        },
        "outputId": "d9dcdbc5-a46c-4fbb-df13-2501cf94e834"
      },
      "source": [
        "%matplotlib inline\n",
        "#%matplotlib notebook\n",
        "import matplotlib.pyplot as pl\n",
        "\n",
        "pl.plot(x, y, '^', label=\"y\")\n",
        "pl.plot(x, z, '.', label=\"z\")\n",
        "pl.xlabel('x')\n",
        "pl.grid()\n",
        "pl.legend()\n",
        "pl.show()"
      ],
      "execution_count": null,
      "outputs": [
        {
          "output_type": "display_data",
          "data": {
            "image/png": "[encoded data removed]",
            "text/plain": [
              "<Figure size 432x288 with 1 Axes>"
            ]
          },
          "metadata": {
            "needs_background": "light"
          }
        }
      ]
    },
    {
      "cell_type": "markdown",
      "metadata": {
        "id": "bK74z4W84nQU"
      },
      "source": [
        "### Writing `ndarray`s to textfile\n",
        "\n",
        "[nump.savetxt](https://numpy.org/doc/stable/reference/generated/numpy.savetxt.html) is very convenient"
      ]
    },
    {
      "cell_type": "code",
      "metadata": {
        "id": "yORrEBCX4nQU"
      },
      "source": [
        "fname = 'output2.txt'\n",
        "\n",
        "np.savetxt(fname, (x, y, z, t, E), delimiter=\"\\t\", fmt=\"%.3f\")"
      ],
      "execution_count": null,
      "outputs": []
    },
    {
      "cell_type": "markdown",
      "metadata": {
        "id": "vr2Su0nT4nQU"
      },
      "source": [
        "Note that the \"columns\" get written to lines"
      ]
    },
    {
      "cell_type": "code",
      "metadata": {
        "id": "mFUAxeWh4nQV",
        "colab": {
          "base_uri": "https://localhost:8080/"
        },
        "outputId": "a18fed03-d981-49f2-9c93-006b6e22cba8"
      },
      "source": [
        "!cat output2.txt"
      ],
      "execution_count": null,
      "outputs": [
        {
          "output_type": "stream",
          "name": "stdout",
          "text": [
            "-0.458\t0.234\t-0.776\t0.126\t-0.489\t-1.583\t-0.266\t-2.808\t-0.817\t-0.343\n",
            "-0.693\t-1.181\t-0.162\t0.697\t1.508\t-2.545\t1.388\t1.616\t-0.701\t-0.313\n",
            "-0.183\t0.010\t-1.024\t0.129\t-0.043\t-1.402\t1.119\t-0.048\t1.077\t-0.782\n",
            "1.903\t0.430\t-0.074\t0.857\t-2.080\t-0.839\t1.923\t-0.493\t0.563\t-0.835\n",
            "1.164\t2.670\t-0.196\t1.117\t1.029\t0.067\t-1.205\t-1.383\t1.874\t0.108\n"
          ]
        }
      ]
    },
    {
      "cell_type": "code",
      "metadata": {
        "id": "UvqdLkQD4nQV",
        "scrolled": false,
        "colab": {
          "base_uri": "https://localhost:8080/"
        },
        "outputId": "5e2dd2e4-ea82-42d4-cfd4-502416f375f1"
      },
      "source": [
        "!cat output.txt"
      ],
      "execution_count": null,
      "outputs": [
        {
          "output_type": "stream",
          "name": "stdout",
          "text": [
            "-4.584285498642113876e-01 -6.931398158151874656e-01 -1.831515391988217112e-01 1.902862442922446773e+00 1.164184402126643425e+00\n",
            "2.344375104948497879e-01 -1.180667713105731043e+00 1.043247968996819514e-02 4.295571617752756977e-01 2.669509106533145992e+00\n",
            "-7.764712108915364785e-01 -1.620378159982992505e-01 -1.024082137020398076e+00 -7.420150000965577974e-02 -1.962379859950696137e-01\n",
            "1.261837617762075758e-01 6.968746154610403476e-01 1.292908398330798736e-01 8.569808726518264308e-01 1.117182792551279613e+00\n",
            "-4.892133602126829128e-01 1.507731124106071130e+00 -4.298460935126557220e-02 -2.080219609775034950e+00 1.028983578280431077e+00\n",
            "-1.582688391393415106e+00 -2.544568952008750884e+00 -1.401852792343138976e+00 -8.394984292329417119e-01 6.695483387484635340e-02\n",
            "-2.663281290910665677e-01 1.387824936415045007e+00 1.118622668464062775e+00 1.922567354425250175e+00 -1.205388458751567748e+00\n",
            "-2.807558406903598591e+00 1.615692728079658913e+00 -4.786744298037505507e-02 -4.925698294234073793e-01 -1.382941740071971237e+00\n",
            "-8.165787973683485967e-01 -7.006004007154990054e-01 1.077146826263375434e+00 5.631352720251470156e-01 1.874210604697008398e+00\n",
            "-3.430734863201866380e-01 -3.127343577274243058e-01 -7.816248074347151853e-01 -8.354782073004006770e-01 1.076905348253029276e-01\n"
          ]
        }
      ]
    },
    {
      "cell_type": "markdown",
      "metadata": {
        "id": "7ECTm31b4nQV"
      },
      "source": [
        "# APPLICATION: PROJECTILE TRAJECTORY USING `ndarray`S INSTEAD OF LISTS\n",
        "\n",
        "We revisit the simulation of the projectile.  Instead of computing $x(t)$ and $y(t)$ seperately and storing all their values in 2 lists (or even 2 `ndarray`s), we compute them with a single function `pos(t)` returning 2 values.  We run this over an `ndarray` of times and store everything as a 2D `ndarray`!\n",
        "\n",
        "In summary, we use `ndarray` everywhere instead of the list type. However, note that:\n",
        "- to print the position of the maximum, using **slices** can cause some headaches and confusion when reading the code\n",
        "  - creating lists `xi` and `yi` makes it more readable\n",
        "- a slice does not have the same methods of a list – e.g., you can not call `index()` on a slice – so we create a list on the fly `list(pos[:,1]).index(max(pos[:,1]))`\n",
        "\n",
        "When plotting you have to use **slicing** to specify that column `0` are the $x$ values and column `1` are the $y$ values. `matplotlib.pyplot` accepts 1D `ndarray`s so slicing is enough and we do not need to convert the slices to lists."
      ]
    },
    {
      "cell_type": "code",
      "metadata": {
        "id": "VsCo3Ty94nQV",
        "scrolled": false,
        "colab": {
          "base_uri": "https://localhost:8080/"
        },
        "outputId": "1fdd9cad-5923-4a6f-ccfb-aefe26893c98"
      },
      "source": [
        "%matplotlib inline\n",
        "#%matplotlib notebook\n",
        "\n",
        "import matplotlib.pyplot as plt\n",
        "import numpy as np\n",
        "\n",
        "# Data, settings and initial conditions\n",
        "g = 9.8\n",
        "t = 0.\n",
        "h = 10.\n",
        "x0 = 0\n",
        "y0 = h\n",
        "theta = np.deg2rad(30.) # NumPy!\n",
        "v0 = 30.\n",
        "dt = 0.01\n",
        "\n",
        "# Compute velocity components\n",
        "v0x = v0*np.cos(theta)\n",
        "v0y = v0*np.sin(theta)\n",
        "print(\"v0_x: %.3f m/s \\t v0_y: %.3f m/s\" % (v0x,v0y))\n",
        "\n",
        "# Evolution function: returns 2 values: x(t), y(t)\n",
        "def pos(t):\n",
        "    return x0 + v0x*t, y0 + v0y*t - 0.5*g*t*t\n",
        "\n",
        "# Generate sampling times as an ndarray\n",
        "times = np.arange(t, 100., dt)\n",
        "\n",
        "# Use 2D array to perform a single comprehension\n",
        "# Stop when y(t)=pos(t)[1] < 0\n",
        "trajectory = np.array([pos(t) for t in times if pos(t)[1]>=0.])"
      ],
      "execution_count": null,
      "outputs": [
        {
          "output_type": "stream",
          "name": "stdout",
          "text": [
            "v0_x: 25.981 m/s \t v0_y: 15.000 m/s\n"
          ]
        }
      ]
    },
    {
      "cell_type": "markdown",
      "metadata": {
        "id": "BFndJtBK4nQV"
      },
      "source": [
        "To see the data, use **slicing**.  The slices are still `ndarray`s."
      ]
    },
    {
      "cell_type": "code",
      "metadata": {
        "id": "hm6FxAsP4nQV",
        "scrolled": false,
        "colab": {
          "base_uri": "https://localhost:8080/"
        },
        "outputId": "25ad8159-4375-4272-a5d5-872d2f9b37bc"
      },
      "source": [
        "print(\"Shape of array\")\n",
        "print(trajectory.shape)\n",
        "print(type(trajectory))\n",
        "\n",
        "#print(\"All array elements\")\n",
        "#print(trajectory)"
      ],
      "execution_count": null,
      "outputs": [
        {
          "output_type": "stream",
          "name": "stdout",
          "text": [
            "Shape of array\n",
            "(363, 2)\n",
            "<class 'numpy.ndarray'>\n"
          ]
        }
      ]
    },
    {
      "cell_type": "markdown",
      "metadata": {
        "id": "yZwYZqv54nQV"
      },
      "source": [
        "Print all values of the coordinate $x$\n",
        "- grab all rows with `:`\n",
        "- grab only column `0`"
      ]
    },
    {
      "cell_type": "code",
      "metadata": {
        "id": "29eHm2Uf4nQW",
        "scrolled": true,
        "colab": {
          "base_uri": "https://localhost:8080/"
        },
        "outputId": "a3dd5b9f-e217-40e1-9d5c-754d53dd1784"
      },
      "source": [
        "print(\"Only print x values: all rows but column=0\")\n",
        "print(type(trajectory[:,0]))\n",
        "print(trajectory[:,0])"
      ],
      "execution_count": null,
      "outputs": [
        {
          "output_type": "stream",
          "name": "stdout",
          "text": [
            "Only print x values: all rows but column=0\n",
            "<class 'numpy.ndarray'>\n",
            "[ 0.          0.25980762  0.51961524  0.77942286  1.03923048  1.29903811\n",
            "  1.55884573  1.81865335  2.07846097  2.33826859  2.59807621  2.85788383\n",
            "  3.11769145  3.37749907  3.6373067   3.89711432  4.15692194  4.41672956\n",
            "  4.67653718  4.9363448   5.19615242  5.45596004  5.71576766  5.97557529\n",
            "  6.23538291  6.49519053  6.75499815  7.01480577  7.27461339  7.53442101\n",
            "  7.79422863  8.05403626  8.31384388  8.5736515   8.83345912  9.09326674\n",
            "  9.35307436  9.61288198  9.8726896  10.13249722 10.39230485 10.65211247\n",
            " 10.91192009 11.17172771 11.43153533 11.69134295 11.95115057 12.21095819\n",
            " 12.47076581 12.73057344 12.99038106 13.25018868 13.5099963  13.76980392\n",
            " 14.02961154 14.28941916 14.54922678 14.8090344  15.06884203 15.32864965\n",
            " 15.58845727 15.84826489 16.10807251 16.36788013 16.62768775 16.88749537\n",
            " 17.14730299 17.40711062 17.66691824 17.92672586 18.18653348 18.4463411\n",
            " 18.70614872 18.96595634 19.22576396 19.48557159 19.74537921 20.00518683\n",
            " 20.26499445 20.52480207 20.78460969 21.04441731 21.30422493 21.56403255\n",
            " 21.82384018 22.0836478  22.34345542 22.60326304 22.86307066 23.12287828\n",
            " 23.3826859  23.64249352 23.90230114 24.16210877 24.42191639 24.68172401\n",
            " 24.94153163 25.20133925 25.46114687 25.72095449 25.98076211 26.24056973\n",
            " 26.50037736 26.76018498 27.0199926  27.27980022 27.53960784 27.79941546\n",
            " 28.05922308 28.3190307  28.57883832 28.83864595 29.09845357 29.35826119\n",
            " 29.61806881 29.87787643 30.13768405 30.39749167 30.65729929 30.91710692\n",
            " 31.17691454 31.43672216 31.69652978 31.9563374  32.21614502 32.47595264\n",
            " 32.73576026 32.99556788 33.25537551 33.51518313 33.77499075 34.03479837\n",
            " 34.29460599 34.55441361 34.81422123 35.07402885 35.33383647 35.5936441\n",
            " 35.85345172 36.11325934 36.37306696 36.63287458 36.8926822  37.15248982\n",
            " 37.41229744 37.67210506 37.93191269 38.19172031 38.45152793 38.71133555\n",
            " 38.97114317 39.23095079 39.49075841 39.75056603 40.01037365 40.27018128\n",
            " 40.5299889  40.78979652 41.04960414 41.30941176 41.56921938 41.829027\n",
            " 42.08883462 42.34864225 42.60844987 42.86825749 43.12806511 43.38787273\n",
            " 43.64768035 43.90748797 44.16729559 44.42710321 44.68691084 44.94671846\n",
            " 45.20652608 45.4663337  45.72614132 45.98594894 46.24575656 46.50556418\n",
            " 46.7653718  47.02517943 47.28498705 47.54479467 47.80460229 48.06440991\n",
            " 48.32421753 48.58402515 48.84383277 49.10364039 49.36344802 49.62325564\n",
            " 49.88306326 50.14287088 50.4026785  50.66248612 50.92229374 51.18210136\n",
            " 51.44190898 51.70171661 51.96152423 52.22133185 52.48113947 52.74094709\n",
            " 53.00075471 53.26056233 53.52036995 53.78017758 54.0399852  54.29979282\n",
            " 54.55960044 54.81940806 55.07921568 55.3390233  55.59883092 55.85863854\n",
            " 56.11844617 56.37825379 56.63806141 56.89786903 57.15767665 57.41748427\n",
            " 57.67729189 57.93709951 58.19690713 58.45671476 58.71652238 58.97633\n",
            " 59.23613762 59.49594524 59.75575286 60.01556048 60.2753681  60.53517572\n",
            " 60.79498335 61.05479097 61.31459859 61.57440621 61.83421383 62.09402145\n",
            " 62.35382907 62.61363669 62.87344431 63.13325194 63.39305956 63.65286718\n",
            " 63.9126748  64.17248242 64.43229004 64.69209766 64.95190528 65.2117129\n",
            " 65.47152053 65.73132815 65.99113577 66.25094339 66.51075101 66.77055863\n",
            " 67.03036625 67.29017387 67.5499815  67.80978912 68.06959674 68.32940436\n",
            " 68.58921198 68.8490196  69.10882722 69.36863484 69.62844246 69.88825009\n",
            " 70.14805771 70.40786533 70.66767295 70.92748057 71.18728819 71.44709581\n",
            " 71.70690343 71.96671105 72.22651868 72.4863263  72.74613392 73.00594154\n",
            " 73.26574916 73.52555678 73.7853644  74.04517202 74.30497964 74.56478727\n",
            " 74.82459489 75.08440251 75.34421013 75.60401775 75.86382537 76.12363299\n",
            " 76.38344061 76.64324823 76.90305586 77.16286348 77.4226711  77.68247872\n",
            " 77.94228634 78.20209396 78.46190158 78.7217092  78.98151683 79.24132445\n",
            " 79.50113207 79.76093969 80.02074731 80.28055493 80.54036255 80.80017017\n",
            " 81.05997779 81.31978542 81.57959304 81.83940066 82.09920828 82.3590159\n",
            " 82.61882352 82.87863114 83.13843876 83.39824638 83.65805401 83.91786163\n",
            " 84.17766925 84.43747687 84.69728449 84.95709211 85.21689973 85.47670735\n",
            " 85.73651497 85.9963226  86.25613022 86.51593784 86.77574546 87.03555308\n",
            " 87.2953607  87.55516832 87.81497594 88.07478356 88.33459119 88.59439881\n",
            " 88.85420643 89.11401405 89.37382167 89.63362929 89.89343691 90.15324453\n",
            " 90.41305216 90.67285978 90.9326674  91.19247502 91.45228264 91.71209026\n",
            " 91.97189788 92.2317055  92.49151312 92.75132075 93.01112837 93.27093599\n",
            " 93.53074361 93.79055123 94.05035885]\n"
          ]
        }
      ]
    },
    {
      "cell_type": "markdown",
      "metadata": {
        "id": "w4yyYA4z4nQW"
      },
      "source": [
        "Print all values of the coordinate $y$\n",
        "- grab all rows with `:`\n",
        "- grab only column `1`"
      ]
    },
    {
      "cell_type": "code",
      "metadata": {
        "id": "kpIZfwVp4nQW",
        "colab": {
          "base_uri": "https://localhost:8080/"
        },
        "outputId": "2ffb0b1a-9e57-4d54-b051-5c696868472d"
      },
      "source": [
        "print(\"Only print y values: all rows but column=1\")\n",
        "print(type(trajectory[:,1]))\n",
        "print(trajectory[:,1])"
      ],
      "execution_count": null,
      "outputs": [
        {
          "output_type": "stream",
          "name": "stdout",
          "text": [
            "Only print y values: all rows but column=1\n",
            "<class 'numpy.ndarray'>\n",
            "[10.      10.14951 10.29804 10.44559 10.59216 10.73775 10.88236 11.02599\n",
            " 11.16864 11.31031 11.451   11.59071 11.72944 11.86719 12.00396 12.13975\n",
            " 12.27456 12.40839 12.54124 12.67311 12.804   12.93391 13.06284 13.19079\n",
            " 13.31776 13.44375 13.56876 13.69279 13.81584 13.93791 14.059   14.17911\n",
            " 14.29824 14.41639 14.53356 14.64975 14.76496 14.87919 14.99244 15.10471\n",
            " 15.216   15.32631 15.43564 15.54399 15.65136 15.75775 15.86316 15.96759\n",
            " 16.07104 16.17351 16.275   16.37551 16.47504 16.57359 16.67116 16.76775\n",
            " 16.86336 16.95799 17.05164 17.14431 17.236   17.32671 17.41644 17.50519\n",
            " 17.59296 17.67975 17.76556 17.85039 17.93424 18.01711 18.099   18.17991\n",
            " 18.25984 18.33879 18.41676 18.49375 18.56976 18.64479 18.71884 18.79191\n",
            " 18.864   18.93511 19.00524 19.07439 19.14256 19.20975 19.27596 19.34119\n",
            " 19.40544 19.46871 19.531   19.59231 19.65264 19.71199 19.77036 19.82775\n",
            " 19.88416 19.93959 19.99404 20.04751 20.1     20.15151 20.20204 20.25159\n",
            " 20.30016 20.34775 20.39436 20.43999 20.48464 20.52831 20.571   20.61271\n",
            " 20.65344 20.69319 20.73196 20.76975 20.80656 20.84239 20.87724 20.91111\n",
            " 20.944   20.97591 21.00684 21.03679 21.06576 21.09375 21.12076 21.14679\n",
            " 21.17184 21.19591 21.219   21.24111 21.26224 21.28239 21.30156 21.31975\n",
            " 21.33696 21.35319 21.36844 21.38271 21.396   21.40831 21.41964 21.42999\n",
            " 21.43936 21.44775 21.45516 21.46159 21.46704 21.47151 21.475   21.47751\n",
            " 21.47904 21.47959 21.47916 21.47775 21.47536 21.47199 21.46764 21.46231\n",
            " 21.456   21.44871 21.44044 21.43119 21.42096 21.40975 21.39756 21.38439\n",
            " 21.37024 21.35511 21.339   21.32191 21.30384 21.28479 21.26476 21.24375\n",
            " 21.22176 21.19879 21.17484 21.14991 21.124   21.09711 21.06924 21.04039\n",
            " 21.01056 20.97975 20.94796 20.91519 20.88144 20.84671 20.811   20.77431\n",
            " 20.73664 20.69799 20.65836 20.61775 20.57616 20.53359 20.49004 20.44551\n",
            " 20.4     20.35351 20.30604 20.25759 20.20816 20.15775 20.10636 20.05399\n",
            " 20.00064 19.94631 19.891   19.83471 19.77744 19.71919 19.65996 19.59975\n",
            " 19.53856 19.47639 19.41324 19.34911 19.284   19.21791 19.15084 19.08279\n",
            " 19.01376 18.94375 18.87276 18.80079 18.72784 18.65391 18.579   18.50311\n",
            " 18.42624 18.34839 18.26956 18.18975 18.10896 18.02719 17.94444 17.86071\n",
            " 17.776   17.69031 17.60364 17.51599 17.42736 17.33775 17.24716 17.15559\n",
            " 17.06304 16.96951 16.875   16.77951 16.68304 16.58559 16.48716 16.38775\n",
            " 16.28736 16.18599 16.08364 15.98031 15.876   15.77071 15.66444 15.55719\n",
            " 15.44896 15.33975 15.22956 15.11839 15.00624 14.89311 14.779   14.66391\n",
            " 14.54784 14.43079 14.31276 14.19375 14.07376 13.95279 13.83084 13.70791\n",
            " 13.584   13.45911 13.33324 13.20639 13.07856 12.94975 12.81996 12.68919\n",
            " 12.55744 12.42471 12.291   12.15631 12.02064 11.88399 11.74636 11.60775\n",
            " 11.46816 11.32759 11.18604 11.04351 10.9     10.75551 10.61004 10.46359\n",
            " 10.31616 10.16775 10.01836  9.86799  9.71664  9.56431  9.411    9.25671\n",
            "  9.10144  8.94519  8.78796  8.62975  8.47056  8.31039  8.14924  7.98711\n",
            "  7.824    7.65991  7.49484  7.32879  7.16176  6.99375  6.82476  6.65479\n",
            "  6.48384  6.31191  6.139    5.96511  5.79024  5.61439  5.43756  5.25975\n",
            "  5.08096  4.90119  4.72044  4.53871  4.356    4.17231  3.98764  3.80199\n",
            "  3.61536  3.42775  3.23916  3.04959  2.85904  2.66751  2.475    2.28151\n",
            "  2.08704  1.89159  1.69516  1.49775  1.29936  1.09999  0.89964  0.69831\n",
            "  0.496    0.29271  0.08844]\n"
          ]
        }
      ]
    },
    {
      "cell_type": "markdown",
      "metadata": {
        "id": "Fj4rh-ha4nQW"
      },
      "source": [
        "You can use slicing again to find the max height. In this case it can be a bit confusing if auxiliary variables are not introduced.\n",
        "\n",
        "Again: note that `index()` is a method for a list not for slices."
      ]
    },
    {
      "cell_type": "code",
      "metadata": {
        "colab": {
          "base_uri": "https://localhost:8080/"
        },
        "id": "aRGaSkte9aGW",
        "outputId": "690f985f-0768-4d85-f846-6cc4097bc5e0"
      },
      "source": [
        "a = ['a','b','c']\n",
        "a.index('c')"
      ],
      "execution_count": null,
      "outputs": [
        {
          "output_type": "execute_result",
          "data": {
            "text/plain": [
              "2"
            ]
          },
          "metadata": {},
          "execution_count": 44
        }
      ]
    },
    {
      "cell_type": "code",
      "metadata": {
        "id": "cIN2_s284nQW",
        "colab": {
          "base_uri": "https://localhost:8080/"
        },
        "outputId": "47e44211-9fb4-4114-de07-4601e7e9f06a"
      },
      "source": [
        "# Maximum y\n",
        "max_y = max(trajectory[:,1])\n",
        "print(\"Max y: \", max_y)"
      ],
      "execution_count": null,
      "outputs": [
        {
          "output_type": "stream",
          "name": "stdout",
          "text": [
            "Max y:  21.47959\n"
          ]
        }
      ]
    },
    {
      "cell_type": "code",
      "metadata": {
        "id": "CvPR9TkJ4nQW",
        "colab": {
          "base_uri": "https://localhost:8080/"
        },
        "outputId": "4dfa1457-aff4-4720-b879-4bd4b6056f47"
      },
      "source": [
        "# Index of the maximum y\n",
        "i_max_y = list(trajectory[:,1]).index(max_y) \n",
        "print(\"Index of max y:\", i_max_y)"
      ],
      "execution_count": null,
      "outputs": [
        {
          "output_type": "stream",
          "name": "stdout",
          "text": [
            "Index of max y: 153\n"
          ]
        }
      ]
    },
    {
      "cell_type": "code",
      "metadata": {
        "id": "ra3jirzc4nQW",
        "colab": {
          "base_uri": "https://localhost:8080/"
        },
        "outputId": "1aacfcf2-9672-4c50-a653-8dfc3a6c569f"
      },
      "source": [
        "# x of max y is the x value with the same index\n",
        "max_x = trajectory[i_max_y, 0]\n",
        "print(\"x of max y:\", max_x)"
      ],
      "execution_count": null,
      "outputs": [
        {
          "output_type": "stream",
          "name": "stdout",
          "text": [
            "x of max y: 39.75056603370574\n"
          ]
        }
      ]
    },
    {
      "cell_type": "code",
      "metadata": {
        "id": "3lq8lEUb4nQW",
        "colab": {
          "base_uri": "https://localhost:8080/"
        },
        "outputId": "fb31c1c8-5a86-46ae-8c97-7508cee3b450"
      },
      "source": [
        "# Print it all together\n",
        "\n",
        "# Not too easy to read\n",
        "print(\"Max height: %.2f at x = %.2f\" % (max(trajectory[:,1]), trajectory[list(trajectory[:,1]).index(max(trajectory[:,1])),0]))\n",
        "\n",
        "# Better\n",
        "print(\"Max height: %.2f at x = %.2f\" % (max_y, trajectory[i_max_y, 0]))"
      ],
      "execution_count": null,
      "outputs": [
        {
          "output_type": "stream",
          "name": "stdout",
          "text": [
            "Max height: 21.48 at x = 39.75\n",
            "Max height: 21.48 at x = 39.75\n"
          ]
        }
      ]
    },
    {
      "cell_type": "code",
      "metadata": {
        "id": "8RBAdqhj4nQW",
        "colab": {
          "base_uri": "https://localhost:8080/",
          "height": 317
        },
        "outputId": "cf54f50d-99c9-494c-8b03-6063f768e325"
      },
      "source": [
        "# Create a figure object\n",
        "fig = plt.figure()\n",
        "\n",
        "# Add subplot (just 1) and set x and y limits based on data\n",
        "# ax is the object containing objects to be plotted\n",
        "ax = fig.add_subplot(111, autoscale_on=False, xlim=(-0.1, max(trajectory[:,0])*1.1), ylim=(-0.1,max(trajectory[:,1])*1.1))\n",
        "ax.grid()\n",
        "ax.set_xlabel(\"x(t) [m]\")\n",
        "ax.set_ylabel(\"y(t) [m]\")\n",
        "plt.title(\"Trajectory of a projectile with $v_0$: %.1f m/s\\t $\\Theta_0$: %.1f$^\\circ$\" % (v0, theta))\n",
        "\n",
        "# Plot slices for ndarray\n",
        "line = ax.plot(trajectory[:,0], trajectory[:,1],  lw=2, color='red')\n",
        "\n",
        "plt.show()"
      ],
      "execution_count": null,
      "outputs": [
        {
          "output_type": "display_data",
          "data": {
            "image/png": "[encoded data removed]",
            "text/plain": [
              "<Figure size 432x288 with 1 Axes>"
            ]
          },
          "metadata": {
            "needs_background": "light"
          }
        }
      ]
    },
    {
      "cell_type": "markdown",
      "metadata": {
        "id": "jJnX4lH64nQW"
      },
      "source": [
        "# READY FOR `examples/Python/5-AnimatedPlots.ipynb`!"
      ]
    }
  ]
}