{
  "cells": [
    {
      "cell_type": "markdown",
      "metadata": {
        "id": "view-in-github",
        "colab_type": "text"
      },
      "source": [
        "<a href=\"https://colab.research.google.com/github/marino1846067/python/blob/main/1_Basics.ipynb\" target=\"_parent\"><img src=\"https://colab.research.google.com/assets/colab-badge.svg\" alt=\"Open In Colab\"/></a>"
      ]
    },
    {
      "cell_type": "markdown",
      "metadata": {
        "id": "qKtYsmQ4hEoS"
      },
      "source": [
        "# 1. SEMANTICS\n",
        "- Variables\n",
        "- Expressions\n",
        "- Types\n",
        "- Input"
      ]
    },
    {
      "cell_type": "markdown",
      "metadata": {
        "id": "j1J0u51lqPrQ"
      },
      "source": [
        "# Input from keyboard\n",
        "\n",
        "`input()` acquires simple text from keyboard and returns it as a `str`."
      ]
    },
    {
      "cell_type": "code",
      "execution_count": null,
      "metadata": {
        "colab": {
          "base_uri": "https://localhost:8080/",
          "height": 249
        },
        "id": "ww8Qfl9xqPrR",
        "outputId": "0b2fc46d-e58f-4af1-d005-684c6d6ab83b"
      },
      "outputs": [
        {
          "name": "stdout",
          "output_type": "stream",
          "text": [
            "insert a number: 23\n",
            "your input:  23\n"
          ]
        },
        {
          "ename": "TypeError",
          "evalue": "'>' not supported between instances of 'str' and 'int'",
          "output_type": "error",
          "traceback": [
            "\u001b[0;31m---------------------------------------------------------------------------\u001b[0m",
            "\u001b[0;31mTypeError\u001b[0m                                 Traceback (most recent call last)",
            "\u001b[0;32m/var/folders/3s/dv47t1k92jj605xqr74v5nqh0000gp/T/ipykernel_14854/781609172.py\u001b[0m in \u001b[0;36m<module>\u001b[0;34m\u001b[0m\n\u001b[1;32m      1\u001b[0m \u001b[0mz\u001b[0m \u001b[0;34m=\u001b[0m \u001b[0minput\u001b[0m\u001b[0;34m(\u001b[0m\u001b[0;34m\"insert a number: \"\u001b[0m\u001b[0;34m)\u001b[0m\u001b[0;34m\u001b[0m\u001b[0;34m\u001b[0m\u001b[0m\n\u001b[1;32m      2\u001b[0m \u001b[0mprint\u001b[0m\u001b[0;34m(\u001b[0m\u001b[0;34m\"your input: \"\u001b[0m\u001b[0;34m,\u001b[0m \u001b[0mz\u001b[0m\u001b[0;34m)\u001b[0m\u001b[0;34m\u001b[0m\u001b[0;34m\u001b[0m\u001b[0m\n\u001b[0;32m----> 3\u001b[0;31m \u001b[0;32mif\u001b[0m \u001b[0mz\u001b[0m\u001b[0;34m>\u001b[0m\u001b[0;36m0\u001b[0m\u001b[0;34m:\u001b[0m\u001b[0;34m\u001b[0m\u001b[0;34m\u001b[0m\u001b[0m\n\u001b[0m\u001b[1;32m      4\u001b[0m     \u001b[0mprint\u001b[0m\u001b[0;34m(\u001b[0m\u001b[0;34m\"positive number: \"\u001b[0m\u001b[0;34m,\u001b[0m \u001b[0mz\u001b[0m\u001b[0;34m)\u001b[0m\u001b[0;34m\u001b[0m\u001b[0;34m\u001b[0m\u001b[0m\n",
            "\u001b[0;31mTypeError\u001b[0m: '>' not supported between instances of 'str' and 'int'"
          ]
        }
      ],
      "source": [
        "z = input(\"insert a number: \")\n",
        "print(\"your input: \", z)\n",
        "if z>0:\n",
        "    print(\"positive number: \", z)"
      ]
    },
    {
      "cell_type": "markdown",
      "metadata": {
        "id": "LkRpdHpXqPrT"
      },
      "source": [
        "To use the `>` operator on `z`, we must explicitly convert it to the needed type."
      ]
    },
    {
      "cell_type": "markdown",
      "metadata": {
        "id": "LHmlQPSZqPrV"
      },
      "source": [
        "# Built-in types\n",
        "\n",
        "Commonly used numerical and string types are\n",
        "\n",
        "Type | Description |\n",
        ":----|:-----------\n",
        " str | similar to C++ string \n",
        " float | C double precision \n",
        " complex | complex number with real parts x + yj\n",
        " int | integer \n",
        " bool | boolean variable. special integer with just 1 bit\n",
        "\n",
        "You must explicitly convert `input()` to desired type for use.\n"
      ]
    },
    {
      "cell_type": "code",
      "execution_count": null,
      "metadata": {
        "colab": {
          "base_uri": "https://localhost:8080/"
        },
        "id": "Hkzb8OU3qPrU",
        "outputId": "db067042-32ac-47ef-9f09-a1b498b1d428"
      },
      "outputs": [
        {
          "name": "stdout",
          "output_type": "stream",
          "text": [
            "Insert integer: 4\n",
            "x =  4\n"
          ]
        }
      ],
      "source": [
        "x = int(input(\"Insert integer: \")) # What happens if input is float?\n",
        "print(\"x = \", x)"
      ]
    },
    {
      "cell_type": "markdown",
      "metadata": {
        "id": "RHJ4Q_ujhEoY"
      },
      "source": [
        "Say we input 4.5.  The call is then `int('4.5')`.  To fix it we need to call `int(float('4.5'))`"
      ]
    },
    {
      "cell_type": "code",
      "execution_count": null,
      "metadata": {
        "id": "whWehuUNhEoY",
        "outputId": "96cf6e0d-5799-4472-ec7e-8d5d877eca97"
      },
      "outputs": [
        {
          "name": "stdout",
          "output_type": "stream",
          "text": [
            "Insert integer: 4.5\n",
            "x =  4\n"
          ]
        }
      ],
      "source": [
        "x = int(float(input(\"Insert integer: \"))) # Better\n",
        "print(\"x = \", x)"
      ]
    },
    {
      "cell_type": "code",
      "execution_count": null,
      "metadata": {
        "colab": {
          "base_uri": "https://localhost:8080/"
        },
        "id": "HB_G6zcMqPrV",
        "outputId": "d80f2646-fe5d-483b-8940-648f8683641d"
      },
      "outputs": [
        {
          "name": "stdout",
          "output_type": "stream",
          "text": [
            "Insert integer number: 5\n",
            "Insert a rational number: 4.5\n",
            "x: 5 > y:4.5\n"
          ]
        }
      ],
      "source": [
        "x = int(input(\"Insert integer number: \"))\n",
        "y = float(input(\"Insert a rational number: \"))\n",
        "\n",
        "if x > y:\n",
        "    print(\"x: {0} > y:{1}\".format(x,y))\n",
        "else: \n",
        "    print(\"y: {1} > x:{0}\".format(x,y))"
      ]
    },
    {
      "cell_type": "code",
      "execution_count": null,
      "metadata": {
        "id": "fVIovdElqPrW",
        "outputId": "304c2de6-1560-4811-dc5a-9db8827c90bb"
      },
      "outputs": [
        {
          "name": "stdout",
          "output_type": "stream",
          "text": [
            "Insert an integer: 12\n",
            "12\n"
          ]
        }
      ],
      "source": [
        "anint = int(input(\"Insert an integer: \"))\n",
        "print(anint)"
      ]
    },
    {
      "cell_type": "markdown",
      "metadata": {
        "id": "IPGpN4lsqPrW"
      },
      "source": [
        "An integer literal can be used as float: there is automatic conversion in this case."
      ]
    },
    {
      "cell_type": "code",
      "execution_count": null,
      "metadata": {
        "id": "eIuS3ZbDqPrW",
        "outputId": "6ffe4d02-d3bc-493a-dc0e-a2112a175284"
      },
      "outputs": [
        {
          "name": "stdout",
          "output_type": "stream",
          "text": [
            "Insert a float: 22\n",
            "22.0\n"
          ]
        }
      ],
      "source": [
        "afloat = float(input(\"Insert a float: \"))\n",
        "print(afloat)"
      ]
    },
    {
      "cell_type": "markdown",
      "metadata": {
        "id": "IlAKZXJatWt7"
      },
      "source": [
        "`j` is the imaginary unit."
      ]
    },
    {
      "cell_type": "code",
      "execution_count": null,
      "metadata": {
        "colab": {
          "base_uri": "https://localhost:8080/"
        },
        "id": "yX3KCPzMqPrY",
        "outputId": "d4b579f4-e276-4e3e-b6d2-97bc3ac9102d"
      },
      "outputs": [
        {
          "name": "stdout",
          "output_type": "stream",
          "text": [
            "Insert a complex number: 1+2j\n",
            "(1+2j)\n"
          ]
        }
      ],
      "source": [
        "acomplex = complex(input(\"Insert a complex number: \"))\n",
        "print(acomplex)"
      ]
    },
    {
      "cell_type": "markdown",
      "metadata": {
        "id": "EwgkvMGHqPrY"
      },
      "source": [
        "## Bool type\n",
        "Same as bool in C++. Used for logical operation and uses just one bit to store the info."
      ]
    },
    {
      "cell_type": "code",
      "execution_count": null,
      "metadata": {
        "colab": {
          "base_uri": "https://localhost:8080/"
        },
        "id": "Z3Jnn4RvqPrY",
        "outputId": "aa804d87-ea07-41c9-ee42-ba94b8f32b2d"
      },
      "outputs": [
        {
          "name": "stdout",
          "output_type": "stream",
          "text": [
            "True <class 'bool'> 1\n",
            "False 0\n",
            "True 1\n",
            "True 1\n",
            "<class 'float'> <class 'bool'> <class 'str'>\n"
          ]
        }
      ],
      "source": [
        "c = 2.3 < 3\n",
        "print(c, type(c), c.bit_length())\n",
        "\n",
        "c = bool(0)\n",
        "print(c, c.bit_length())\n",
        "\n",
        "c = bool(-3)\n",
        "print(c, c.bit_length())\n",
        "\n",
        "d = True\n",
        "print(d, int(d))\n",
        "\n",
        "print(type(2.3), type(True), type(\"hello\"))"
      ]
    },
    {
      "cell_type": "markdown",
      "metadata": {
        "id": "vrywiHZGqPrY"
      },
      "source": [
        "## Integers in Python\n",
        "Unlike in C/C++, you can have arbitrarily large integers in Python."
      ]
    },
    {
      "cell_type": "code",
      "execution_count": null,
      "metadata": {
        "id": "afOcDqKBqPrZ",
        "outputId": "22c68028-91e9-422c-b797-02f14e3a774d"
      },
      "outputs": [
        {
          "name": "stdout",
          "output_type": "stream",
          "text": [
            "2282964069396179429161277601795098342183689069116233595351030111107374894317918598839132436948135567673806054712849856030005501307907699595360638611572383720569\n",
            "<class 'int'>\n",
            "18334\n"
          ]
        }
      ],
      "source": [
        "j = 3**334 # 3^334\n",
        "print(j)\n",
        "print(type(j))\n",
        "print((3**11567).bit_length())"
      ]
    },
    {
      "cell_type": "markdown",
      "metadata": {
        "id": "sEWd-pfHhEoc"
      },
      "source": [
        "Python3 is smart about integer division (Python2 had a different behaviour)"
      ]
    },
    {
      "cell_type": "code",
      "execution_count": null,
      "metadata": {
        "id": "9Fs1E2B6hEod",
        "outputId": "5b7478ad-bbb2-46d6-d0da-89dcaff12fe0"
      },
      "outputs": [
        {
          "name": "stdout",
          "output_type": "stream",
          "text": [
            "5.0\n",
            "4.5\n",
            "0.99\n",
            "5.0\n",
            "0.99\n"
          ]
        }
      ],
      "source": [
        "print(10/2) \n",
        "print(9/2) \n",
        "print(99/100) \n",
        "print(10.0/2.0) \n",
        "print(99.0/100.0) "
      ]
    },
    {
      "cell_type": "markdown",
      "metadata": {
        "id": "E_9E1xhHqPra"
      },
      "source": [
        "### Integers in arbitrary bases\n",
        "\n",
        "A neat feature of integers in Python is easy conversion to an arbitrary base"
      ]
    },
    {
      "cell_type": "code",
      "execution_count": null,
      "metadata": {
        "colab": {
          "base_uri": "https://localhost:8080/"
        },
        "id": "hDTWx1qTqPra",
        "outputId": "de0c8287-c088-4502-8841-25f4a725bef3"
      },
      "outputs": [
        {
          "name": "stdout",
          "output_type": "stream",
          "text": [
            "5 101\n"
          ]
        }
      ],
      "source": [
        "a = int('101', base=2)\n",
        "b = int(101)\n",
        "print(a,b)"
      ]
    },
    {
      "cell_type": "code",
      "execution_count": null,
      "metadata": {
        "colab": {
          "base_uri": "https://localhost:8080/"
        },
        "id": "c38gV3XdqPrb",
        "outputId": "0000720f-e76e-4759-9e35-40fa31679b27"
      },
      "outputs": [
        {
          "data": {
            "text/plain": [
              "10"
            ]
          },
          "execution_count": 28,
          "metadata": {},
          "output_type": "execute_result"
        }
      ],
      "source": [
        "int('101', base=3)"
      ]
    },
    {
      "cell_type": "code",
      "execution_count": null,
      "metadata": {
        "colab": {
          "base_uri": "https://localhost:8080/"
        },
        "id": "vB63W_2BqPrb",
        "outputId": "3d8950b5-0e8d-44bb-ce1e-f2b7b8e836f5"
      },
      "outputs": [
        {
          "data": {
            "text/plain": [
              "26"
            ]
          },
          "execution_count": 29,
          "metadata": {},
          "output_type": "execute_result"
        }
      ],
      "source": [
        "int('101', base=5)"
      ]
    },
    {
      "cell_type": "code",
      "execution_count": null,
      "metadata": {
        "colab": {
          "base_uri": "https://localhost:8080/"
        },
        "id": "oPzWWBpAqPrb",
        "outputId": "3a802b22-8d24-4894-cb7d-2109a6512b02"
      },
      "outputs": [
        {
          "data": {
            "text/plain": [
              "50"
            ]
          },
          "execution_count": 30,
          "metadata": {},
          "output_type": "execute_result"
        }
      ],
      "source": [
        "int('101', base=7)"
      ]
    },
    {
      "cell_type": "code",
      "execution_count": null,
      "metadata": {
        "colab": {
          "base_uri": "https://localhost:8080/"
        },
        "id": "9KO4BtnfqPrb",
        "outputId": "7be5e680-be73-4b0b-c691-927542a2b7c5"
      },
      "outputs": [
        {
          "data": {
            "text/plain": [
              "65"
            ]
          },
          "execution_count": 31,
          "metadata": {},
          "output_type": "execute_result"
        }
      ],
      "source": [
        "int('101', base=8)"
      ]
    },
    {
      "cell_type": "code",
      "execution_count": null,
      "metadata": {
        "colab": {
          "base_uri": "https://localhost:8080/"
        },
        "id": "iI9Yt6RbqPrc",
        "outputId": "55d02e43-4f46-478b-e1aa-ad236c31d323"
      },
      "outputs": [
        {
          "data": {
            "text/plain": [
              "257"
            ]
          },
          "execution_count": 32,
          "metadata": {},
          "output_type": "execute_result"
        }
      ],
      "source": [
        "int('101', base=16)"
      ]
    },
    {
      "cell_type": "code",
      "execution_count": null,
      "metadata": {
        "colab": {
          "base_uri": "https://localhost:8080/"
        },
        "id": "KC5W1mfRqPrc",
        "outputId": "b6a6b802-8999-417b-a3f3-63dd2730aa60"
      },
      "outputs": [
        {
          "data": {
            "text/plain": [
              "31"
            ]
          },
          "execution_count": 33,
          "metadata": {},
          "output_type": "execute_result"
        }
      ],
      "source": [
        "int('1F',base=16)"
      ]
    },
    {
      "cell_type": "code",
      "execution_count": null,
      "metadata": {
        "colab": {
          "base_uri": "https://localhost:8080/"
        },
        "id": "BkhISXrZqPrc",
        "outputId": "a39949e6-dab1-4e41-9ba0-ccc9efe61df5"
      },
      "outputs": [
        {
          "name": "stdout",
          "output_type": "stream",
          "text": [
            "65281\n",
            "113\n"
          ]
        },
        {
          "data": {
            "text/plain": [
              "65394"
            ]
          },
          "execution_count": 34,
          "metadata": {},
          "output_type": "execute_result"
        }
      ],
      "source": [
        "x = int('FF01',base=16)\n",
        "print(x)\n",
        "print(int('1110001',base=2))\n",
        "int('FF01',base=16)+int('1110001',base=2)"
      ]
    },
    {
      "cell_type": "markdown",
      "metadata": {
        "id": "AOhtZi1BqPrc"
      },
      "source": [
        "# Inline help and inspection\n",
        "Use the inline help facility in the interactive Python session:"
      ]
    },
    {
      "cell_type": "code",
      "execution_count": null,
      "metadata": {
        "colab": {
          "base_uri": "https://localhost:8080/"
        },
        "id": "nbSKjnhxqPrd",
        "outputId": "3321c17f-17d2-4c2e-c227-39c0102f9279"
      },
      "outputs": [
        {
          "name": "stdout",
          "output_type": "stream",
          "text": [
            "Help on class int in module builtins:\n",
            "\n",
            "class int(object)\n",
            " |  int([x]) -> integer\n",
            " |  int(x, base=10) -> integer\n",
            " |  \n",
            " |  Convert a number or string to an integer, or return 0 if no arguments\n",
            " |  are given.  If x is a number, return x.__int__().  For floating point\n",
            " |  numbers, this truncates towards zero.\n",
            " |  \n",
            " |  If x is not a number or if base is given, then x must be a string,\n",
            " |  bytes, or bytearray instance representing an integer literal in the\n",
            " |  given base.  The literal can be preceded by '+' or '-' and be surrounded\n",
            " |  by whitespace.  The base defaults to 10.  Valid bases are 0 and 2-36.\n",
            " |  Base 0 means to interpret the base from the string as an integer literal.\n",
            " |  >>> int('0b100', base=0)\n",
            " |  4\n",
            " |  \n",
            " |  Built-in subclasses:\n",
            " |      bool\n",
            " |  \n",
            " |  Methods defined here:\n",
            " |  \n",
            " |  __abs__(self, /)\n",
            " |      abs(self)\n",
            " |  \n",
            " |  __add__(self, value, /)\n",
            " |      Return self+value.\n",
            " |  \n",
            " |  __and__(self, value, /)\n",
            " |      Return self&value.\n",
            " |  \n",
            " |  __bool__(self, /)\n",
            " |      self != 0\n",
            " |  \n",
            " |  __ceil__(...)\n",
            " |      Ceiling of an Integral returns itself.\n",
            " |  \n",
            " |  __divmod__(self, value, /)\n",
            " |      Return divmod(self, value).\n",
            " |  \n",
            " |  __eq__(self, value, /)\n",
            " |      Return self==value.\n",
            " |  \n",
            " |  __float__(self, /)\n",
            " |      float(self)\n",
            " |  \n",
            " |  __floor__(...)\n",
            " |      Flooring an Integral returns itself.\n",
            " |  \n",
            " |  __floordiv__(self, value, /)\n",
            " |      Return self//value.\n",
            " |  \n",
            " |  __format__(self, format_spec, /)\n",
            " |      Default object formatter.\n",
            " |  \n",
            " |  __ge__(self, value, /)\n",
            " |      Return self>=value.\n",
            " |  \n",
            " |  __getattribute__(self, name, /)\n",
            " |      Return getattr(self, name).\n",
            " |  \n",
            " |  __getnewargs__(self, /)\n",
            " |  \n",
            " |  __gt__(self, value, /)\n",
            " |      Return self>value.\n",
            " |  \n",
            " |  __hash__(self, /)\n",
            " |      Return hash(self).\n",
            " |  \n",
            " |  __index__(self, /)\n",
            " |      Return self converted to an integer, if self is suitable for use as an index into a list.\n",
            " |  \n",
            " |  __int__(self, /)\n",
            " |      int(self)\n",
            " |  \n",
            " |  __invert__(self, /)\n",
            " |      ~self\n",
            " |  \n",
            " |  __le__(self, value, /)\n",
            " |      Return self<=value.\n",
            " |  \n",
            " |  __lshift__(self, value, /)\n",
            " |      Return self<<value.\n",
            " |  \n",
            " |  __lt__(self, value, /)\n",
            " |      Return self<value.\n",
            " |  \n",
            " |  __mod__(self, value, /)\n",
            " |      Return self%value.\n",
            " |  \n",
            " |  __mul__(self, value, /)\n",
            " |      Return self*value.\n",
            " |  \n",
            " |  __ne__(self, value, /)\n",
            " |      Return self!=value.\n",
            " |  \n",
            " |  __neg__(self, /)\n",
            " |      -self\n",
            " |  \n",
            " |  __or__(self, value, /)\n",
            " |      Return self|value.\n",
            " |  \n",
            " |  __pos__(self, /)\n",
            " |      +self\n",
            " |  \n",
            " |  __pow__(self, value, mod=None, /)\n",
            " |      Return pow(self, value, mod).\n",
            " |  \n",
            " |  __radd__(self, value, /)\n",
            " |      Return value+self.\n",
            " |  \n",
            " |  __rand__(self, value, /)\n",
            " |      Return value&self.\n",
            " |  \n",
            " |  __rdivmod__(self, value, /)\n",
            " |      Return divmod(value, self).\n",
            " |  \n",
            " |  __repr__(self, /)\n",
            " |      Return repr(self).\n",
            " |  \n",
            " |  __rfloordiv__(self, value, /)\n",
            " |      Return value//self.\n",
            " |  \n",
            " |  __rlshift__(self, value, /)\n",
            " |      Return value<<self.\n",
            " |  \n",
            " |  __rmod__(self, value, /)\n",
            " |      Return value%self.\n",
            " |  \n",
            " |  __rmul__(self, value, /)\n",
            " |      Return value*self.\n",
            " |  \n",
            " |  __ror__(self, value, /)\n",
            " |      Return value|self.\n",
            " |  \n",
            " |  __round__(...)\n",
            " |      Rounding an Integral returns itself.\n",
            " |      Rounding with an ndigits argument also returns an integer.\n",
            " |  \n",
            " |  __rpow__(self, value, mod=None, /)\n",
            " |      Return pow(value, self, mod).\n",
            " |  \n",
            " |  __rrshift__(self, value, /)\n",
            " |      Return value>>self.\n",
            " |  \n",
            " |  __rshift__(self, value, /)\n",
            " |      Return self>>value.\n",
            " |  \n",
            " |  __rsub__(self, value, /)\n",
            " |      Return value-self.\n",
            " |  \n",
            " |  __rtruediv__(self, value, /)\n",
            " |      Return value/self.\n",
            " |  \n",
            " |  __rxor__(self, value, /)\n",
            " |      Return value^self.\n",
            " |  \n",
            " |  __sizeof__(self, /)\n",
            " |      Returns size in memory, in bytes.\n",
            " |  \n",
            " |  __sub__(self, value, /)\n",
            " |      Return self-value.\n",
            " |  \n",
            " |  __truediv__(self, value, /)\n",
            " |      Return self/value.\n",
            " |  \n",
            " |  __trunc__(...)\n",
            " |      Truncating an Integral returns itself.\n",
            " |  \n",
            " |  __xor__(self, value, /)\n",
            " |      Return self^value.\n",
            " |  \n",
            " |  as_integer_ratio(self, /)\n",
            " |      Return integer ratio.\n",
            " |      \n",
            " |      Return a pair of integers, whose ratio is exactly equal to the original int\n",
            " |      and with a positive denominator.\n",
            " |      \n",
            " |      >>> (10).as_integer_ratio()\n",
            " |      (10, 1)\n",
            " |      >>> (-10).as_integer_ratio()\n",
            " |      (-10, 1)\n",
            " |      >>> (0).as_integer_ratio()\n",
            " |      (0, 1)\n",
            " |  \n",
            " |  bit_length(self, /)\n",
            " |      Number of bits necessary to represent self in binary.\n",
            " |      \n",
            " |      >>> bin(37)\n",
            " |      '0b100101'\n",
            " |      >>> (37).bit_length()\n",
            " |      6\n",
            " |  \n",
            " |  conjugate(...)\n",
            " |      Returns self, the complex conjugate of any int.\n",
            " |  \n",
            " |  to_bytes(self, /, length, byteorder, *, signed=False)\n",
            " |      Return an array of bytes representing an integer.\n",
            " |      \n",
            " |      length\n",
            " |        Length of bytes object to use.  An OverflowError is raised if the\n",
            " |        integer is not representable with the given number of bytes.\n",
            " |      byteorder\n",
            " |        The byte order used to represent the integer.  If byteorder is 'big',\n",
            " |        the most significant byte is at the beginning of the byte array.  If\n",
            " |        byteorder is 'little', the most significant byte is at the end of the\n",
            " |        byte array.  To request the native byte order of the host system, use\n",
            " |        `sys.byteorder' as the byte order value.\n",
            " |      signed\n",
            " |        Determines whether two's complement is used to represent the integer.\n",
            " |        If signed is False and a negative integer is given, an OverflowError\n",
            " |        is raised.\n",
            " |  \n",
            " |  ----------------------------------------------------------------------\n",
            " |  Class methods defined here:\n",
            " |  \n",
            " |  from_bytes(bytes, byteorder, *, signed=False) from builtins.type\n",
            " |      Return the integer represented by the given array of bytes.\n",
            " |      \n",
            " |      bytes\n",
            " |        Holds the array of bytes to convert.  The argument must either\n",
            " |        support the buffer protocol or be an iterable object producing bytes.\n",
            " |        Bytes and bytearray are examples of built-in objects that support the\n",
            " |        buffer protocol.\n",
            " |      byteorder\n",
            " |        The byte order used to represent the integer.  If byteorder is 'big',\n",
            " |        the most significant byte is at the beginning of the byte array.  If\n",
            " |        byteorder is 'little', the most significant byte is at the end of the\n",
            " |        byte array.  To request the native byte order of the host system, use\n",
            " |        `sys.byteorder' as the byte order value.\n",
            " |      signed\n",
            " |        Indicates whether two's complement is used to represent the integer.\n",
            " |  \n",
            " |  ----------------------------------------------------------------------\n",
            " |  Static methods defined here:\n",
            " |  \n",
            " |  __new__(*args, **kwargs) from builtins.type\n",
            " |      Create and return a new object.  See help(type) for accurate signature.\n",
            " |  \n",
            " |  ----------------------------------------------------------------------\n",
            " |  Data descriptors defined here:\n",
            " |  \n",
            " |  denominator\n",
            " |      the denominator of a rational number in lowest terms\n",
            " |  \n",
            " |  imag\n",
            " |      the imaginary part of a complex number\n",
            " |  \n",
            " |  numerator\n",
            " |      the numerator of a rational number in lowest terms\n",
            " |  \n",
            " |  real\n",
            " |      the real part of a complex number\n",
            "\n"
          ]
        }
      ],
      "source": [
        "help(int)"
      ]
    },
    {
      "cell_type": "markdown",
      "metadata": {
        "id": "PXNWjOSlqPrd"
      },
      "source": [
        "And since **everything is an object in Python**, you can list the attributes, data, and functions (which are all objects) within any object."
      ]
    },
    {
      "cell_type": "code",
      "execution_count": null,
      "metadata": {
        "colab": {
          "base_uri": "https://localhost:8080/"
        },
        "id": "VMUhv_GSqPrd",
        "outputId": "3ef00873-4586-4493-9e51-a46e377ae8a0"
      },
      "outputs": [
        {
          "data": {
            "text/plain": [
              "['__abs__',\n",
              " '__add__',\n",
              " '__and__',\n",
              " '__bool__',\n",
              " '__ceil__',\n",
              " '__class__',\n",
              " '__delattr__',\n",
              " '__dir__',\n",
              " '__divmod__',\n",
              " '__doc__',\n",
              " '__eq__',\n",
              " '__float__',\n",
              " '__floor__',\n",
              " '__floordiv__',\n",
              " '__format__',\n",
              " '__ge__',\n",
              " '__getattribute__',\n",
              " '__getnewargs__',\n",
              " '__gt__',\n",
              " '__hash__',\n",
              " '__index__',\n",
              " '__init__',\n",
              " '__init_subclass__',\n",
              " '__int__',\n",
              " '__invert__',\n",
              " '__le__',\n",
              " '__lshift__',\n",
              " '__lt__',\n",
              " '__mod__',\n",
              " '__mul__',\n",
              " '__ne__',\n",
              " '__neg__',\n",
              " '__new__',\n",
              " '__or__',\n",
              " '__pos__',\n",
              " '__pow__',\n",
              " '__radd__',\n",
              " '__rand__',\n",
              " '__rdivmod__',\n",
              " '__reduce__',\n",
              " '__reduce_ex__',\n",
              " '__repr__',\n",
              " '__rfloordiv__',\n",
              " '__rlshift__',\n",
              " '__rmod__',\n",
              " '__rmul__',\n",
              " '__ror__',\n",
              " '__round__',\n",
              " '__rpow__',\n",
              " '__rrshift__',\n",
              " '__rshift__',\n",
              " '__rsub__',\n",
              " '__rtruediv__',\n",
              " '__rxor__',\n",
              " '__setattr__',\n",
              " '__sizeof__',\n",
              " '__str__',\n",
              " '__sub__',\n",
              " '__subclasshook__',\n",
              " '__truediv__',\n",
              " '__trunc__',\n",
              " '__xor__',\n",
              " 'as_integer_ratio',\n",
              " 'bit_length',\n",
              " 'conjugate',\n",
              " 'denominator',\n",
              " 'from_bytes',\n",
              " 'imag',\n",
              " 'numerator',\n",
              " 'real',\n",
              " 'to_bytes']"
            ]
          },
          "execution_count": 36,
          "metadata": {},
          "output_type": "execute_result"
        }
      ],
      "source": [
        "dir(int)"
      ]
    },
    {
      "cell_type": "code",
      "execution_count": null,
      "metadata": {
        "id": "U7MwNhX4qPrd",
        "outputId": "95c6d22f-7dd1-4d2e-83e2-033da0fb7831"
      },
      "outputs": [
        {
          "name": "stdout",
          "output_type": "stream",
          "text": [
            "Help on method_descriptor:\n",
            "\n",
            "bit_length(self, /)\n",
            "    Number of bits necessary to represent self in binary.\n",
            "    \n",
            "    >>> bin(37)\n",
            "    '0b100101'\n",
            "    >>> (37).bit_length()\n",
            "    6\n",
            "\n"
          ]
        }
      ],
      "source": [
        "help(int.bit_length)"
      ]
    },
    {
      "cell_type": "code",
      "execution_count": null,
      "metadata": {
        "id": "oQ4vQ3gCqPrd",
        "outputId": "9f5cd924-6b73-42ab-dd38-02d09030171e",
        "scrolled": true
      },
      "outputs": [
        {
          "name": "stdout",
          "output_type": "stream",
          "text": [
            "Help on built-in function bin in module builtins:\n",
            "\n",
            "bin(number, /)\n",
            "    Return the binary representation of an integer.\n",
            "    \n",
            "    >>> bin(2796202)\n",
            "    '0b1010101010101010101010'\n",
            "\n"
          ]
        }
      ],
      "source": [
        "help(bin)"
      ]
    },
    {
      "cell_type": "code",
      "execution_count": null,
      "metadata": {
        "id": "XcybjsEKqPre",
        "outputId": "bc9f91e2-ebed-4afe-a6ea-9e950a0ae9c5"
      },
      "outputs": [
        {
          "data": {
            "text/plain": [
              "'0b111100001111'"
            ]
          },
          "execution_count": 39,
          "metadata": {},
          "output_type": "execute_result"
        }
      ],
      "source": [
        "bin(int('F0F',base=16))"
      ]
    },
    {
      "cell_type": "markdown",
      "metadata": {
        "id": "4YlJfkAXqPre"
      },
      "source": [
        "There are actually built-in functions for easy base conversions."
      ]
    },
    {
      "cell_type": "code",
      "execution_count": null,
      "metadata": {
        "colab": {
          "base_uri": "https://localhost:8080/"
        },
        "id": "r5wQ98t2qPre",
        "outputId": "d1317e8a-ab34-421c-b800-24abe6ddb3f6"
      },
      "outputs": [
        {
          "name": "stdout",
          "output_type": "stream",
          "text": [
            "0b10111 0o27 0x17\n"
          ]
        },
        {
          "data": {
            "text/plain": [
              "41"
            ]
          },
          "execution_count": 40,
          "metadata": {},
          "output_type": "execute_result"
        }
      ],
      "source": [
        "c = 23\n",
        "print(bin(c), oct(c), hex(c))\n",
        "\n",
        "0x1F + 3 +0b111"
      ]
    },
    {
      "cell_type": "markdown",
      "metadata": {
        "id": "v8Dsl8Z7qPre"
      },
      "source": [
        "You can quickly exercise your ability in converting between hexadecimal and binary bases."
      ]
    },
    {
      "cell_type": "code",
      "execution_count": null,
      "metadata": {
        "id": "SAdSL_HQqPrf",
        "outputId": "946441e6-a3c6-4733-c11a-3453d9f2ffe3"
      },
      "outputs": [
        {
          "name": "stdout",
          "output_type": "stream",
          "text": [
            "0x18\n"
          ]
        }
      ],
      "source": [
        "print(hex(0b00011000))"
      ]
    },
    {
      "cell_type": "code",
      "execution_count": null,
      "metadata": {
        "colab": {
          "base_uri": "https://localhost:8080/"
        },
        "id": "w0JsPyJmwSp2",
        "outputId": "769e6665-5f96-48e7-c8cc-75075b1d0e53"
      },
      "outputs": [
        {
          "name": "stdout",
          "output_type": "stream",
          "text": [
            "0x9a\n"
          ]
        }
      ],
      "source": [
        "print(hex(0b10011010))"
      ]
    },
    {
      "cell_type": "markdown",
      "metadata": {
        "id": "2nkKo-2_qPrf"
      },
      "source": [
        "# 2 FLOW CONTROL\n",
        "\n",
        "- `if/elif/else` conditional statements\n",
        "- `while` loops\n",
        "- `for` loops\n",
        "- `try/except/else/finally` statements\n",
        "- `break`, `continue`, and `pass`\n",
        "\n",
        "The main difference with respect to C++ is the lack of `}` and `;` for logical structure, which is instead achieved via the use of `:` and **indentation **\n",
        "\n",
        "```c++\n",
        "if(x<0) {\n",
        "} else {\n",
        "    cout << x << endl;\n",
        "}\n",
        "```"
      ]
    },
    {
      "cell_type": "markdown",
      "metadata": {
        "id": "fOX-74Brx8yX"
      },
      "source": [
        "## Conditional statements with `if/elif/else`"
      ]
    },
    {
      "cell_type": "code",
      "execution_count": null,
      "metadata": {
        "colab": {
          "base_uri": "https://localhost:8080/"
        },
        "id": "WOiqTyvFqPrf",
        "outputId": "637869e9-527f-4236-9dcd-3450c4281b91"
      },
      "outputs": [
        {
          "name": "stdout",
          "output_type": "stream",
          "text": [
            "Insert a number: 0.1\n",
            "0 < x < 1\n"
          ]
        }
      ],
      "source": [
        "x = float(input(\"Insert a number: \"))\n",
        "if x < 0 :\n",
        "    print(\"0 < x\")\n",
        "elif x < 1:\n",
        "    print(\"0 < x < 1\")\n",
        "else:\n",
        "    print(\"x > 1\")"
      ]
    },
    {
      "cell_type": "markdown",
      "metadata": {
        "id": "2Xzk20OjqPrg"
      },
      "source": [
        "## `while` loop"
      ]
    },
    {
      "cell_type": "code",
      "execution_count": null,
      "metadata": {
        "colab": {
          "base_uri": "https://localhost:8080/"
        },
        "id": "DKJLTub7qPrg",
        "outputId": "4194c6bb-d46b-4c8d-8332-fcd8b36c9aa3"
      },
      "outputs": [
        {
          "name": "stdout",
          "output_type": "stream",
          "text": [
            "Insert x in [0,1]: 3\n",
            "Insert x in [0,1]: 0.5\n"
          ]
        }
      ],
      "source": [
        "w = -2\n",
        "while w<0 or w>1:\n",
        "    w = float(input(\"Insert x in [0,1]: \"))"
      ]
    },
    {
      "cell_type": "markdown",
      "metadata": {
        "id": "bQezNrVkqPrg"
      },
      "source": [
        "Easily create a user interface for input with control over user input"
      ]
    },
    {
      "cell_type": "code",
      "execution_count": null,
      "metadata": {
        "id": "tqgVxCfsqPrg",
        "outputId": "a9b40884-8086-4605-b730-d13c133549a4"
      },
      "outputs": [
        {
          "name": "stdout",
          "output_type": "stream",
          "text": [
            "insert x in [0,1]: 9\n",
            "insert x in [0,1]: -3\n",
            "insert x in [0,1]: 4\n",
            "insert x in [0,1]: 0.3\n"
          ]
        }
      ],
      "source": [
        "control = True\n",
        "while control:\n",
        "    w = float(input(\"insert x in [0,1]: \"))\n",
        "    if w>=0 and w<=1:\n",
        "        control = False"
      ]
    },
    {
      "cell_type": "markdown",
      "metadata": {
        "id": "Eh4m5zm5qPrg"
      },
      "source": [
        "## `for` loop\n",
        "We have already seen that the use of a `for` loop that requires a sequence of objects to iterate over"
      ]
    },
    {
      "cell_type": "code",
      "execution_count": null,
      "metadata": {
        "colab": {
          "base_uri": "https://localhost:8080/"
        },
        "id": "iiwjTKEpqPrh",
        "outputId": "0eeb677f-3f23-47d6-80e4-556d9d06ed79"
      },
      "outputs": [
        {
          "data": {
            "text/plain": [
              "range"
            ]
          },
          "execution_count": 77,
          "metadata": {},
          "output_type": "execute_result"
        }
      ],
      "source": [
        "type(range(0,10,1))"
      ]
    },
    {
      "cell_type": "code",
      "execution_count": null,
      "metadata": {
        "id": "mFojoQpNqPrh",
        "outputId": "0492ca2c-2191-43ad-818a-0101a4faba7e"
      },
      "outputs": [
        {
          "name": "stdout",
          "output_type": "stream",
          "text": [
            "Help on class range in module builtins:\n",
            "\n",
            "class range(object)\n",
            " |  range(stop) -> range object\n",
            " |  range(start, stop[, step]) -> range object\n",
            " |  \n",
            " |  Return an object that produces a sequence of integers from start (inclusive)\n",
            " |  to stop (exclusive) by step.  range(i, j) produces i, i+1, i+2, ..., j-1.\n",
            " |  start defaults to 0, and stop is omitted!  range(4) produces 0, 1, 2, 3.\n",
            " |  These are exactly the valid indices for a list of 4 elements.\n",
            " |  When step is given, it specifies the increment (or decrement).\n",
            " |  \n",
            " |  Methods defined here:\n",
            " |  \n",
            " |  __bool__(self, /)\n",
            " |      self != 0\n",
            " |  \n",
            " |  __contains__(self, key, /)\n",
            " |      Return key in self.\n",
            " |  \n",
            " |  __eq__(self, value, /)\n",
            " |      Return self==value.\n",
            " |  \n",
            " |  __ge__(self, value, /)\n",
            " |      Return self>=value.\n",
            " |  \n",
            " |  __getattribute__(self, name, /)\n",
            " |      Return getattr(self, name).\n",
            " |  \n",
            " |  __getitem__(self, key, /)\n",
            " |      Return self[key].\n",
            " |  \n",
            " |  __gt__(self, value, /)\n",
            " |      Return self>value.\n",
            " |  \n",
            " |  __hash__(self, /)\n",
            " |      Return hash(self).\n",
            " |  \n",
            " |  __iter__(self, /)\n",
            " |      Implement iter(self).\n",
            " |  \n",
            " |  __le__(self, value, /)\n",
            " |      Return self<=value.\n",
            " |  \n",
            " |  __len__(self, /)\n",
            " |      Return len(self).\n",
            " |  \n",
            " |  __lt__(self, value, /)\n",
            " |      Return self<value.\n",
            " |  \n",
            " |  __ne__(self, value, /)\n",
            " |      Return self!=value.\n",
            " |  \n",
            " |  __reduce__(...)\n",
            " |      Helper for pickle.\n",
            " |  \n",
            " |  __repr__(self, /)\n",
            " |      Return repr(self).\n",
            " |  \n",
            " |  __reversed__(...)\n",
            " |      Return a reverse iterator.\n",
            " |  \n",
            " |  count(...)\n",
            " |      rangeobject.count(value) -> integer -- return number of occurrences of value\n",
            " |  \n",
            " |  index(...)\n",
            " |      rangeobject.index(value) -> integer -- return index of value.\n",
            " |      Raise ValueError if the value is not present.\n",
            " |  \n",
            " |  ----------------------------------------------------------------------\n",
            " |  Static methods defined here:\n",
            " |  \n",
            " |  __new__(*args, **kwargs) from builtins.type\n",
            " |      Create and return a new object.  See help(type) for accurate signature.\n",
            " |  \n",
            " |  ----------------------------------------------------------------------\n",
            " |  Data descriptors defined here:\n",
            " |  \n",
            " |  start\n",
            " |  \n",
            " |  step\n",
            " |  \n",
            " |  stop\n",
            "\n"
          ]
        }
      ],
      "source": [
        "help(range)"
      ]
    },
    {
      "cell_type": "code",
      "execution_count": null,
      "metadata": {
        "id": "jaL49EegqPrh",
        "outputId": "f3101184-617d-4cb4-d440-40d305722d2f"
      },
      "outputs": [
        {
          "name": "stdout",
          "output_type": "stream",
          "text": [
            "i: 1  \t i^2: 1\n",
            "i: 1\t i^2: 1\n",
            "i: 3  \t i^2: 9\n",
            "i: 3\t i^2: 9\n",
            "i: 5  \t i^2: 25\n",
            "i: 5\t i^2: 25\n",
            "i: 7  \t i^2: 49\n",
            "i: 7\t i^2: 49\n",
            "i: 9  \t i^2: 81\n",
            "i: 9\t i^2: 81\n"
          ]
        }
      ],
      "source": [
        "for i in range(1,11,2):\n",
        "    print(\"i: %-3d\\t i^2: %d\"%(i, i**2))\n",
        "    print(\"i: {0}\\t i^2: {1}\".format(i,i**2))"
      ]
    },
    {
      "cell_type": "markdown",
      "metadata": {
        "id": "2js6mAE8qPrh"
      },
      "source": [
        "In this example you can also use the C-style `fprintf` formatting for displaying information."
      ]
    },
    {
      "cell_type": "markdown",
      "metadata": {
        "id": "1LMOUHuNhEom"
      },
      "source": [
        "## `try/except/else/finally`"
      ]
    },
    {
      "cell_type": "code",
      "execution_count": null,
      "metadata": {
        "id": "tP0xJPJvhEom",
        "outputId": "2e5067ad-15c8-49c6-afa3-827e982b8a01"
      },
      "outputs": [
        {
          "name": "stdout",
          "output_type": "stream",
          "text": [
            "Yeah! Your answer is: 1\n",
            "This is always executed\n"
          ]
        }
      ],
      "source": [
        "x = 3\n",
        "y = 2\n",
        "#y = 0\n",
        "\n",
        "try:\n",
        "    # Floor division\n",
        "    result = x // y\n",
        "except ZeroDivisionError:\n",
        "    print(\"Sorry! You are dividing by zero\")\n",
        "else:\n",
        "    print(\"Yeah! Your answer is:\", result)\n",
        "finally: \n",
        "    # this block is always executed  \n",
        "    # regardless of exception generation. \n",
        "    print(\"This is always executed\")"
      ]
    },
    {
      "cell_type": "markdown",
      "metadata": {
        "id": "13FXBhGEhEom"
      },
      "source": [
        "## `break`, `continue`, and `pass`"
      ]
    },
    {
      "cell_type": "markdown",
      "metadata": {
        "id": "ZxwJVMsMhEom"
      },
      "source": [
        "Spot prime numbers between 2 and 9"
      ]
    },
    {
      "cell_type": "code",
      "execution_count": null,
      "metadata": {
        "id": "qkm1K_2ihEom",
        "outputId": "35b2e2a3-69d5-4b70-e291-965cd0832d9b"
      },
      "outputs": [
        {
          "name": "stdout",
          "output_type": "stream",
          "text": [
            "2 is a prime number\n",
            "3 is a prime number\n",
            "4 equals 2 * 2\n",
            "5 is a prime number\n",
            "6 equals 2 * 3\n",
            "7 is a prime number\n",
            "8 equals 2 * 4\n",
            "9 equals 3 * 3\n"
          ]
        }
      ],
      "source": [
        "for n in range(2, 10):\n",
        "    for x in range(2, n):\n",
        "        if n % x == 0:\n",
        "            print(n, 'equals', x, '*', n//x)\n",
        "            break\n",
        "    else:\n",
        "        # Loop fell through without finding a factor\n",
        "        print(n, 'is a prime number')"
      ]
    },
    {
      "cell_type": "markdown",
      "metadata": {
        "id": "wo7aQnjWhEon"
      },
      "source": [
        "Spot even and odd numbers between 2 and 9"
      ]
    },
    {
      "cell_type": "code",
      "execution_count": null,
      "metadata": {
        "id": "znhSLcOShEon",
        "outputId": "39991b41-37f4-4853-9bcb-ef09dd0375f5"
      },
      "outputs": [
        {
          "name": "stdout",
          "output_type": "stream",
          "text": [
            "Found an even number 2\n",
            "Found an odd number 3\n",
            "Found an even number 4\n",
            "Found an odd number 5\n",
            "Found an even number 6\n",
            "Found an odd number 7\n",
            "Found an even number 8\n",
            "Found an odd number 9\n"
          ]
        }
      ],
      "source": [
        "for num in range(2, 10):\n",
        "    if num % 2 == 0:\n",
        "        print(\"Found an even number\", num)\n",
        "        continue\n",
        "    print(\"Found an odd number\", num)"
      ]
    },
    {
      "cell_type": "markdown",
      "metadata": {
        "id": "eGlT4E7dhEon"
      },
      "source": [
        "Spot odd numbers between 2 and 9\n",
        "\n",
        "The keyword `pass` is needed for an empty scope. It does not skip anything. It only tells the interpreter that in this scope there is nothing to do. It is equivalent to `{}` in C++."
      ]
    },
    {
      "cell_type": "code",
      "execution_count": null,
      "metadata": {
        "id": "zv5Xv8sXhEon",
        "outputId": "5ea6599a-471f-4532-d431-af32f1b84563"
      },
      "outputs": [
        {
          "name": "stdout",
          "output_type": "stream",
          "text": [
            "Found an odd number 3\n",
            "Found an odd number 5\n",
            "Found an odd number 7\n",
            "Found an odd number 9\n"
          ]
        }
      ],
      "source": [
        "for num in range(2, 10):\n",
        "    if num % 2 == 0:\n",
        "        pass\n",
        "    else:\n",
        "        print(\"Found an odd number\", num)"
      ]
    },
    {
      "cell_type": "markdown",
      "metadata": {
        "id": "8YFJRfsWqPrh"
      },
      "source": [
        "# 3. FUNCTIONS AND MODULES\n",
        "\n",
        "As in other languages, a function is defined by its name and its arguments. But there is no return type nor do you need to specify the type of arguments. Any object can be the input to any function.\n",
        "\n",
        "The generic structure of a function is\n",
        "```python\n",
        "def function(arg1, arg2, arg3=val):\n",
        "    statements\n",
        "    return value\n",
        "```\n",
        "\n",
        "If a function does not return a value, a `None` value is returned automatically"
      ]
    },
    {
      "cell_type": "code",
      "execution_count": null,
      "metadata": {
        "colab": {
          "base_uri": "https://localhost:8080/"
        },
        "id": "86Lm5yJHqPri",
        "outputId": "8db38774-7e96-4fc7-e508-5680853ea5c9"
      },
      "outputs": [
        {
          "name": "stdout",
          "output_type": "stream",
          "text": [
            "Three body decay\n",
            "Decay to 4 or more bodies\n",
            "Two body decay\n",
            "<class 'NoneType'>\n",
            "x = 0.9502\n",
            "Decay to 4 or more bodies\n",
            "\n",
            "So what is import all about?\n"
          ]
        }
      ],
      "source": [
        "def decay(x, a=0.3, b=0.7):\n",
        "    if x < a:\n",
        "        print(\"Two body decay\")\n",
        "    elif x<b:\n",
        "        print(\"Three body decay\")\n",
        "    else:\n",
        "        print(\"Decay to 4 or more bodies\")\n",
        "    \n",
        "decay(0.4)\n",
        "decay(0.9, b=0.6)\n",
        "# Also decay() has a return type\n",
        "v = decay(0.003)\n",
        "print(type(v))\n",
        "\n",
        "# Import NumPy module\n",
        "import numpy as np\n",
        "x = np.random.random()\n",
        "print(\"x = %.4f\"%x)\n",
        "decay(x)\n",
        "\n",
        "print(\"\\nSo what is import all about?\")"
      ]
    },
    {
      "cell_type": "markdown",
      "metadata": {
        "id": "WRU-wLmdqPri"
      },
      "source": [
        "## Python application and modules\n",
        "An important difference with respect to C++ is the lack of an entry point.\n",
        "\n",
        "A typical C/C++ application `app.cc` is\n",
        "```c++\n",
        "#include <stdio>\n",
        "#include<math>\n",
        "\n",
        "double uniform(double,double);\n",
        "\n",
        "int main() {\n",
        "  /*   code goes here */\n",
        "  return 0;\n",
        "}\n",
        "\n",
        "double uniform(double a,double b) {\n",
        "  /* implement uniform */\n",
        "  return something\n",
        "}\n",
        "```\n",
        "You compile and link the application using the math library as\n",
        "```\n",
        "g++ -o /tmp/app.exe -lm app.cc\n",
        "```\n",
        "and finally run the executable\n",
        "```\n",
        "/tmp/app.exe\n",
        "```\n",
        "\n",
        "Running the executable means that the operating system calls the `main()` function in `app.exe`.\n",
        "\n",
        "**In python however there is no such thing!**\n",
        "\n",
        "A program is any file containing python statements. Being an interpreted language, all statements are executed as they appear in the file.\n",
        "\n",
        "The following examples showing the use of modules and namespaces are available in the classroom drive in the directory `examples/Python`.\n",
        "\n",
        "Our first program is `example11.py`"
      ]
    },
    {
      "cell_type": "markdown",
      "metadata": {
        "id": "VM7x-vdeqPri"
      },
      "source": [
        "```\n",
        "# This is my first module\n",
        "\n",
        "print(\"==== Running example11.py\")\n",
        "\n",
        "a = 2.3\n",
        "b = 4.5\n",
        "c = a/b\n",
        "\n",
        "def line(x, m=1., q=0.):\n",
        "  print(\"x: {2}, m: {0}, q: {1}\".format(m,q,x))\n",
        "  return m*x+q\n",
        "\n",
        "# Print using ''\n",
        "print('a = {0}, b = {1}, c = {2}'.format(a, b, c))\n",
        "\n",
        "\n",
        "print(line(2., q=2.3))\n",
        "print(line(0., q=-1.3))\n",
        "print(\"==== End of example11.py\")\n",
        "```"
      ]
    },
    {
      "cell_type": "markdown",
      "metadata": {
        "id": "zkU6nZqNqPri"
      },
      "source": [
        "__Reminder__: you can execute the program from the command line with \n",
        "```\n",
        "python3 example11.py\n",
        "```\n",
        "In Jupyter you can run a local file (with path relative to the directory where you started the notebook session) by using the magic `%run` command.  E.g.\n",
        "\n",
        "```\n",
        "%run ./example11.py\n",
        "```"
      ]
    },
    {
      "cell_type": "markdown",
      "metadata": {
        "id": "qTVeFMs1qPrj"
      },
      "source": [
        "### Our first module\n",
        "Suppose you want to use the `line()` function in this example in other programs. Rather than copying the code by hand we want to use a library model, or what is called a __module__ in Python. \n",
        "\n",
        "Unlike C, there is  no special setup to create a module.\n",
        "\n",
        "We write a second program `example12.py`\n",
        "```python\n",
        "import example11\n",
        "\n",
        "print('===== Running 12example.py ===== ')\n",
        "\n",
        "x = float(input(\"Insert x:\"))\n",
        "y = example11.line(x)\n",
        "print(y)\n",
        "\n",
        "# A much shorter way\n",
        "print(example11.line(float(input(\"Insert x:\"))))\n",
        "```\n",
        "\n",
        "and execute it from the command line\n",
        "\n",
        "```shell\n",
        "$ python3 example12.py\n",
        "==== Running example11.py\n",
        "a = 2.3, b = 4.5, c = 0.5111111111111111\n",
        "x: 2.0, m: 1.0, q: 2.3\n",
        "4.3\n",
        "x: 0.0, m: 1.0, q: -1.3\n",
        "-1.3\n",
        "==== End of example11.py\n",
        "===== Running example12.py ===== \n",
        "insert x:-123\n",
        "x: -123.0, m: 1.0, q: 0.0\n",
        "-123.0\n",
        "insert x:23\n",
        "x: 23.0, m: 1.0, q: 0.0\n",
        "23.0\n",
        "```"
      ]
    },
    {
      "cell_type": "markdown",
      "metadata": {
        "id": "T1bkam5lhEop"
      },
      "source": [
        "There are 2 important aspects to note\n",
        "  1. The function `line()` belongs to the `example11` namespace. So you __must__ use `example11.line` to call it.\n",
        "  2. By importing `example11`, in addition to the definition of function `line` you also execute the rest of the python program.\n",
        "  This is expected because __python is an interpreted language__.\n",
        "  \n",
        "Let's address these 2 issues."
      ]
    },
    {
      "cell_type": "markdown",
      "metadata": {
        "id": "0fapX3a0qPrj"
      },
      "source": [
        "### Importing only some objects of a module\n",
        "To address the first issue we can do the following in `example13.py`\n",
        "```python\n",
        "from example11 import line\n",
        "\n",
        "print(\"++++ executing \"+ __file__)\n",
        "\n",
        "print(line(-3.4, q=0.5))\n",
        "```\n",
        "Now when we run the program:\n",
        "```shell\n",
        "$ python3 example13.py \n",
        "==== Running example11.py\n",
        "a = 2.3, b = 4.5, c = 0.5111111111111111\n",
        "x: 2.0, m: 1.0, q: 2.3\n",
        "4.3\n",
        "x: 0.0, m: 1.0, q: -1.3\n",
        "-1.3\n",
        "==== End of example11.py\n",
        "++++ executing /Users/francesco/Documents/Work/Didattica/2021-22/2021-22 Computing Methods For Physics/Course Material 2021-22/examples/Python/example13.py\n",
        "x: -3.4, m: 1.0, q: 0.5\n",
        "-2.9\n",
        "```"
      ]
    },
    {
      "cell_type": "markdown",
      "metadata": {
        "id": "OR4_31Z5qPrj"
      },
      "source": [
        "### Importing objects from a module and renaming them\n",
        "A different approach is shown in `example14.py` where `line` is imported with a new name `p1`\n",
        "```python\n",
        "from example11 import line as p1\n",
        "\n",
        "print(\"++++ executing \"+ __file__)\n",
        "\n",
        "print(p1(-3.4, q=0.5))\n",
        "```\n",
        "Produces\n",
        "\n",
        "```shell\n",
        "==== Running example11.py\n",
        "a = 2.3, b = 4.5, c = 0.5111111111111111\n",
        "x: 2.0, m: 1.0, q: 2.3\n",
        "4.3\n",
        "x: 0.0, m: 1.0, q: -1.3\n",
        "-1.3\n",
        "==== End of example11.py\n",
        "++++ executing /Users/francesco/Documents/Work/Didattica/2021-22/2021-22 Computing Methods For Physics/Course Material 2021-22/examples/Python/example14.py\n",
        "x: -3.4, m: 1.0, q: 0.5\n",
        "-2.9\n",
        "```"
      ]
    },
    {
      "cell_type": "markdown",
      "metadata": {
        "id": "39uwsqpCqPrj"
      },
      "source": [
        "### What is imported? \n",
        "All objects defined in a module are available when a module is imported. \n",
        "\n",
        "This is shown in `example15.py`\n",
        "```python \n",
        "import example11\n",
        "\n",
        "print(\"++++ executing file: \"+ __file__)\n",
        "\n",
        "print(\"Calling example11.line(2.34, q=0.5): \", example11.line(2.34, q=0.5))\n",
        "\n",
        "print(\"example11.a: %f\" % example11.a)\n",
        "```\n",
        "When running in the terminal:\n",
        "\n",
        "```shell\n",
        "$ python3 example15.py\n",
        "==== Running example11.py\n",
        "a = 2.3, b = 4.5, c = 0.5111111111111111\n",
        "x: 2.0, m: 1.0, q: 2.3\n",
        "4.3\n",
        "x: 0.0, m: 1.0, q: -1.3\n",
        "-1.3\n",
        "==== End of example11.py\n",
        "++++ executing file: /Users/francesco/Documents/Work/Didattica/2021-22/2021-22 Computing Methods For Physics/Course Material 2021-22/examples/Python/example15.py\n",
        "x: 2.34, m: 1.0, q: 0.5\n",
        "Calling example11.line(2.34, q=0.5):  2.84\n",
        "example11.a: 2.300000\n",
        "```"
      ]
    },
    {
      "cell_type": "markdown",
      "metadata": {
        "id": "Feoqjhl1qPrj"
      },
      "source": [
        "### Importing only objects without executing statements\n",
        "We now turn to our second problem, namely how to avoid running the statements in `example11.py` when importing it as a module.\n",
        "\n",
        "This can be done with a more advanced feature of Python which we will understand better in future lectures. The solution is actually trivial. A modified version of `example11.py` is `mymodule.py`\n",
        "```python\n",
        "# This is my first module\n",
        "a = 2.3\n",
        "b = 4.5\n",
        "c = a/b\n",
        "\n",
        "def line(x, m=1., q=0.):\n",
        "  print(\"=== In line === x: {2}, m: {0}, q: {1}\".format(m,q,x))\n",
        "  return m*x+q\n",
        "\n",
        "print(\"__name__ : \" +  __name__ + \" in \" + __file__)\n",
        "\n",
        "\n",
        "if __name__ == \"__main__\":\n",
        "  print(\"executing \" +  __name__ + \" in \" + __file__)\n",
        "\n",
        "  # Print using ''\n",
        "  print('a = {0}, b = {1}, c = {2}'.format(a, b, c))\n",
        "  print(\"calling line(): \", line(2., q=2.3))\n",
        "  print(\"calling line()\", line(0., q=-1.3))\n",
        "\n",
        "  def p1(x, m=1., q=0.):\n",
        "     print(\"x: {2}, m: {0}, q: {1}\".format(m,q,x))\n",
        "     return m*x+q\n",
        "```\n",
        "which has this behavior\n",
        "```shell\n",
        "$ python3 mymodule.py \n",
        "__name__ : __main__ in /Users/francesco/Documents/Work/Didattica/2021-22/2021-22 Computing Methods For Physics/Course Material 2021-22/examples/Python/mymodule.py\n",
        "executing __main__ in /Users/francesco/Documents/Work/Didattica/2021-22/2021-22 Computing Methods For Physics/Course Material 2021-22/examples/Python/mymodule.py\n",
        "a = 2.3, b = 4.5, c = 0.5111111111111111\n",
        "=== in line === x: 2.0, m: 1.0, q: 2.3\n",
        "calling line():  4.3\n",
        "=== in line === x: 0.0, m: 1.0, q: -1.3\n",
        "calling line() -1.3\n",
        "```"
      ]
    },
    {
      "cell_type": "markdown",
      "metadata": {
        "id": "1HoE3JJEqPrj"
      },
      "source": [
        "To understand this better look at `example16.py`\n",
        "```python\n",
        "import mymodule\n",
        "\n",
        "print(\"++++ executing namespace \" + __name__ + \" in file: \" +  __file__)\n",
        "\n",
        "# Local a variable\n",
        "a = 'test string'\n",
        "\n",
        "# Any object in mymodule can be used and there is no confusion with local a\n",
        "print(\"mymodule.a: %f\" % mymodule.a)\n",
        "print(\"local a: \", a)\n",
        "\n",
        "# Use line function from mymodule\n",
        "print(mymodule.line(2.34, q=0.5))\n",
        "\n",
        "# Function p1 is defined in mymodule but cannot be used because\n",
        "# behind __name__ == \"__main__\" in mymodule\n",
        "print(mymodule.p1(2.34, q=0.5))\n",
        "```"
      ]
    },
    {
      "cell_type": "markdown",
      "metadata": {
        "id": "wY94_diFqPrk"
      },
      "source": [
        "At runtime we get the following error\n",
        "```shell\n",
        "$ python3 example16.py\n",
        "__name__ : mymodule in /Users/francesco/Documents/Work/Didattica/2021-22/2021-22 Computing Methods For Physics/Course Material 2021-22/examples/Python/mymodule.py\n",
        "++++ executing namespace __main__ in file: example16.py\n",
        "mymodule.a: 2.300000\n",
        "('local a: ', 'test string')\n",
        "=== in line === x: 2.34, m: 1.0, q: 0.5\n",
        "2.84\n",
        "Traceback (most recent call last):\n",
        "  File \"example16.py\", line 17, in <module>\n",
        "    print(mymodule.p1(2.34, q=0.5))\n",
        "AttributeError: 'module' object has no attribute 'p1'\n",
        "```"
      ]
    },
    {
      "cell_type": "markdown",
      "metadata": {
        "id": "LShNAOuyqPrk"
      },
      "source": [
        "When `mymodule` is imported it has its own namespace which is not `__main__`. At any time, only the Python program being executed has the `__main__` namespace as desired.\n"
      ]
    },
    {
      "cell_type": "markdown",
      "metadata": {
        "id": "e0XX0bcgqPrk"
      },
      "source": [
        "# 4. BUILT-IN DATA STRUCTURES: CONTAINERS AND SEQUENCES\n",
        "\n",
        "- One of the great and popular features of Python is the presence of built-in containers for sequences of objects\n",
        "  - These are provided by the STL in C++, but we have not discussed this (yet?)\n",
        "\n",
        "- Since in Python everything is an object and all objects can be referenced in the same way, containers can include objects of different type\n",
        "  - This is unlike anything seen in C++\n",
        "  \n",
        "- These built-in types and the reference-driven flexibility of Python has made it very popular for data analysis\n",
        "\n",
        "- Basic built-in data structures in python are\n",
        "  - tuple\n",
        "  - list\n",
        "  - set\n",
        "  - dictionary\n",
        "  \n",
        "- We will introduce more advanced types when discussing [NumPy](https://www.numpy.org) and [pandas](http://pandas.pydata.org) packages, e.g.\n",
        "  - ndarrays\n",
        "  - series\n",
        "  - time series\n",
        "  - DataFrame"
      ]
    },
    {
      "cell_type": "markdown",
      "metadata": {
        "id": "nepoX-J_qPrk"
      },
      "source": [
        "## Tuples\n",
        "\n",
        "A tuple is an **immutable** sequence of Python objects.\n",
        "- Since Python does not have to build tuple structures to be modifiable, they are simpler and more efficient in terms of memory use and performance than lists (the next sequence container we will see).\n",
        "\n",
        "To create a tuple simply separate its elements with a `,`."
      ]
    },
    {
      "cell_type": "code",
      "execution_count": null,
      "metadata": {
        "id": "xw-DfDQzqPrk",
        "outputId": "8d58a58d-780c-4e66-d46b-466fd15bbe87"
      },
      "outputs": [
        {
          "name": "stdout",
          "output_type": "stream",
          "text": [
            "('lec23', 'lec24', 'lec25')\n"
          ]
        }
      ],
      "source": [
        "a = 'lec23', 'lec24', 'lec25'\n",
        "print(a)"
      ]
    },
    {
      "cell_type": "code",
      "execution_count": null,
      "metadata": {
        "id": "59LegH1LqPrk",
        "outputId": "1c0bf557-8c20-4c02-a8d7-5ab07e4cb6c9"
      },
      "outputs": [
        {
          "data": {
            "text/plain": [
              "3"
            ]
          },
          "execution_count": 48,
          "metadata": {},
          "output_type": "execute_result"
        }
      ],
      "source": [
        "len(a)"
      ]
    },
    {
      "cell_type": "markdown",
      "metadata": {
        "id": "OCcsXBofqPrq"
      },
      "source": [
        "Given the limitation of tuple (content and size are immutable) there are very few methods."
      ]
    },
    {
      "cell_type": "code",
      "execution_count": null,
      "metadata": {
        "id": "1xXibisPhEos",
        "outputId": "21e79bc4-59e2-4b4e-d5dd-570a3770acc4"
      },
      "outputs": [
        {
          "data": {
            "text/plain": [
              "['__add__',\n",
              " '__class__',\n",
              " '__contains__',\n",
              " '__delattr__',\n",
              " '__dir__',\n",
              " '__doc__',\n",
              " '__eq__',\n",
              " '__format__',\n",
              " '__ge__',\n",
              " '__getattribute__',\n",
              " '__getitem__',\n",
              " '__getnewargs__',\n",
              " '__gt__',\n",
              " '__hash__',\n",
              " '__init__',\n",
              " '__init_subclass__',\n",
              " '__iter__',\n",
              " '__le__',\n",
              " '__len__',\n",
              " '__lt__',\n",
              " '__mul__',\n",
              " '__ne__',\n",
              " '__new__',\n",
              " '__reduce__',\n",
              " '__reduce_ex__',\n",
              " '__repr__',\n",
              " '__rmul__',\n",
              " '__setattr__',\n",
              " '__sizeof__',\n",
              " '__str__',\n",
              " '__subclasshook__',\n",
              " 'count',\n",
              " 'index']"
            ]
          },
          "execution_count": 49,
          "metadata": {},
          "output_type": "execute_result"
        }
      ],
      "source": [
        "dir(tuple)"
      ]
    },
    {
      "cell_type": "markdown",
      "metadata": {
        "id": "eG1EY1aPhEos"
      },
      "source": [
        "One very useful one is `count()`"
      ]
    },
    {
      "cell_type": "code",
      "execution_count": null,
      "metadata": {
        "id": "zH0TOBr4qPrq",
        "outputId": "b3fd2f4d-1543-4cd3-d013-2d6a3f63f477"
      },
      "outputs": [
        {
          "data": {
            "text/plain": [
              "4"
            ]
          },
          "execution_count": 50,
          "metadata": {},
          "output_type": "execute_result"
        }
      ],
      "source": [
        "grades = (30, 22, 24, 23, 30, 18, 24, 27, 28, 28, 25, 24, 22, 30, 30, 18, 20)\n",
        "grades.count(30)"
      ]
    },
    {
      "cell_type": "markdown",
      "metadata": {
        "id": "QXlUXltYqPrl"
      },
      "source": [
        "A tuple can contain objects of different type"
      ]
    },
    {
      "cell_type": "code",
      "execution_count": null,
      "metadata": {
        "id": "zy-vOJX0qPrl",
        "outputId": "9f006f90-29e7-442a-fd19-614fe4e3006c"
      },
      "outputs": [
        {
          "name": "stdout",
          "output_type": "stream",
          "text": [
            "('paul', 24, 1.75, 85.3)\n"
          ]
        }
      ],
      "source": [
        "b = 'paul', 24, 1.75, 85.3\n",
        "print(b)"
      ]
    },
    {
      "cell_type": "code",
      "execution_count": null,
      "metadata": {
        "id": "7OjTnfVMqPrm",
        "outputId": "dfff7b21-4786-46f7-ca85-6cba83632163"
      },
      "outputs": [
        {
          "name": "stdout",
          "output_type": "stream",
          "text": [
            "('lec23', 'lec24', 'lec25') ('paul', 24, 1.75, 85.3)\n",
            "<class 'tuple'>\n"
          ]
        }
      ],
      "source": [
        "print(a,b)\n",
        "print(type(b))"
      ]
    },
    {
      "cell_type": "markdown",
      "metadata": {
        "id": "G0C1aIDEqPrm"
      },
      "source": [
        "### Accessing tuple elements\n",
        "Accessing the i-th element of a tuple is achieved with the `[]` operator\n",
        "- Indexing starts with 0"
      ]
    },
    {
      "cell_type": "code",
      "execution_count": null,
      "metadata": {
        "id": "hqHrbGA-qPrm",
        "outputId": "504f6329-0e03-4963-c507-136381a10fbe"
      },
      "outputs": [
        {
          "name": "stdout",
          "output_type": "stream",
          "text": [
            "lec25\n",
            "85.3\n",
            "<class 'int'>\n",
            "4\n"
          ]
        },
        {
          "ename": "IndexError",
          "evalue": "tuple index out of range",
          "output_type": "error",
          "traceback": [
            "\u001b[0;31m---------------------------------------------------------------------------\u001b[0m",
            "\u001b[0;31mIndexError\u001b[0m                                Traceback (most recent call last)",
            "\u001b[0;32m/var/folders/3s/dv47t1k92jj605xqr74v5nqh0000gp/T/ipykernel_18493/486468767.py\u001b[0m in \u001b[0;36m<module>\u001b[0;34m\u001b[0m\n\u001b[1;32m      3\u001b[0m \u001b[0mprint\u001b[0m\u001b[0;34m(\u001b[0m\u001b[0mtype\u001b[0m\u001b[0;34m(\u001b[0m\u001b[0mb\u001b[0m\u001b[0;34m[\u001b[0m\u001b[0;36m1\u001b[0m\u001b[0;34m]\u001b[0m\u001b[0;34m)\u001b[0m\u001b[0;34m)\u001b[0m\u001b[0;34m\u001b[0m\u001b[0;34m\u001b[0m\u001b[0m\n\u001b[1;32m      4\u001b[0m \u001b[0mprint\u001b[0m\u001b[0;34m(\u001b[0m\u001b[0mlen\u001b[0m\u001b[0;34m(\u001b[0m\u001b[0mb\u001b[0m\u001b[0;34m)\u001b[0m\u001b[0;34m)\u001b[0m\u001b[0;34m\u001b[0m\u001b[0;34m\u001b[0m\u001b[0m\n\u001b[0;32m----> 5\u001b[0;31m \u001b[0mprint\u001b[0m\u001b[0;34m(\u001b[0m\u001b[0mb\u001b[0m\u001b[0;34m[\u001b[0m\u001b[0;36m4\u001b[0m\u001b[0;34m]\u001b[0m\u001b[0;34m)\u001b[0m\u001b[0;34m\u001b[0m\u001b[0;34m\u001b[0m\u001b[0m\n\u001b[0m",
            "\u001b[0;31mIndexError\u001b[0m: tuple index out of range"
          ]
        }
      ],
      "source": [
        "print(a[2])\n",
        "print(b[3])\n",
        "print(type(b[1]))\n",
        "print(len(b))\n",
        "print(b[4])"
      ]
    },
    {
      "cell_type": "markdown",
      "metadata": {
        "id": "L-9KLnoZqPrn"
      },
      "source": [
        "Note how there is protection against out-of-bound access to tuples."
      ]
    },
    {
      "cell_type": "markdown",
      "metadata": {
        "id": "Ui3c3xvvqPrn"
      },
      "source": [
        "### Empty or one-element tuple"
      ]
    },
    {
      "cell_type": "code",
      "execution_count": null,
      "metadata": {
        "id": "5tUYONfeqPrn",
        "outputId": "715c493d-4cf7-47a8-9119-4482fd8aafa1"
      },
      "outputs": [
        {
          "name": "stdout",
          "output_type": "stream",
          "text": [
            "<class 'tuple'> ()\n",
            "<class 'tuple'> ('something',)\n",
            "<class 'str'> something\n"
          ]
        }
      ],
      "source": [
        "c = ()\n",
        "print(type(c),c)\n",
        "\n",
        "d = 'something',\n",
        "print(type(d),d)\n",
        "\n",
        "e = 'something'\n",
        "print(type(e),e)"
      ]
    },
    {
      "cell_type": "markdown",
      "metadata": {
        "id": "IYlg4KHgqPrn"
      },
      "source": [
        "Note that the `,` is critical to distinguish a on-element tuple from a normal variable."
      ]
    },
    {
      "cell_type": "code",
      "execution_count": null,
      "metadata": {
        "id": "MbP8ZeLuqPrn",
        "outputId": "3b68497e-8650-415d-87de-3f1f4837102f"
      },
      "outputs": [
        {
          "name": "stdout",
          "output_type": "stream",
          "text": [
            "<class 'str'> value\n",
            "<class 'str'> something\n",
            "<class 'tuple'> ('value',)\n",
            "<class 'tuple'> ('another',)\n"
          ]
        }
      ],
      "source": [
        "e = 'value'\n",
        "print(type(e), e)\n",
        "\n",
        "g = ('something')\n",
        "print(type(g),g)\n",
        "\n",
        "f = 'value',\n",
        "print(type(f), f)\n",
        "\n",
        "h = ('another',)\n",
        "print(type(h), h)"
      ]
    },
    {
      "cell_type": "markdown",
      "metadata": {
        "id": "EerATrBOqPrn"
      },
      "source": [
        "### Conversion to tuple"
      ]
    },
    {
      "cell_type": "code",
      "execution_count": null,
      "metadata": {
        "id": "83ZDXeGnqPrn",
        "outputId": "1507a698-c6f7-4883-99e5-f67de7afe6e0"
      },
      "outputs": [
        {
          "name": "stdout",
          "output_type": "stream",
          "text": [
            "range(3, 10)\n"
          ]
        }
      ],
      "source": [
        "print(range(3,10))"
      ]
    },
    {
      "cell_type": "code",
      "execution_count": null,
      "metadata": {
        "id": "7cgkgaJHqPro",
        "outputId": "00ec8588-dfb4-4fa2-9be8-1e50992a3dfe"
      },
      "outputs": [
        {
          "name": "stdout",
          "output_type": "stream",
          "text": [
            "length:  10\n",
            "tup: range(0, 10)\n",
            "<class 'range'>\n"
          ]
        }
      ],
      "source": [
        "tup = range(10)\n",
        "print(\"length: \", len(tup))\n",
        "print(\"tup:\", tup)\n",
        "print(type(tup))"
      ]
    },
    {
      "cell_type": "markdown",
      "metadata": {
        "id": "H8a2dxTXqPro"
      },
      "source": [
        "Note how `tup` is not a tuple but simply a refernce to function call `range(10)`.\n",
        "\n",
        "If you want a tuple you have to explicitly convert the output of `range(10)` to be a tuple."
      ]
    },
    {
      "cell_type": "code",
      "execution_count": null,
      "metadata": {
        "id": "oQKlYUBKqPro",
        "outputId": "18ec9b1d-1671-483c-ba3f-ac46d59ebb7a"
      },
      "outputs": [
        {
          "name": "stdout",
          "output_type": "stream",
          "text": [
            "length:  10\n",
            "tup:  (0, 1, 2, 3, 4, 5, 6, 7, 8, 9)\n",
            "<class 'tuple'>\n"
          ]
        }
      ],
      "source": [
        "tup = tuple(range(10))\n",
        "print(\"length: \", len(tup))\n",
        "print(\"tup: \", tup)\n",
        "print(type(tup))"
      ]
    },
    {
      "cell_type": "markdown",
      "metadata": {
        "id": "7a6xfi5jqPro"
      },
      "source": [
        "### Iterating over a tuple\n",
        "- Is easy"
      ]
    },
    {
      "cell_type": "code",
      "execution_count": null,
      "metadata": {
        "id": "em_tLfvUqPro",
        "outputId": "9d1337e2-ce8b-4f21-b078-87fd1c7f43f3"
      },
      "outputs": [
        {
          "name": "stdout",
          "output_type": "stream",
          "text": [
            "0\n",
            "1\n",
            "2\n",
            "3\n",
            "4\n",
            "5\n",
            "6\n",
            "7\n",
            "8\n",
            "9\n"
          ]
        }
      ],
      "source": [
        "for i in tup:\n",
        "    print(i)"
      ]
    },
    {
      "cell_type": "markdown",
      "metadata": {
        "id": "6dvIkdunqPro"
      },
      "source": [
        "### Converting strings to tuples"
      ]
    },
    {
      "cell_type": "code",
      "execution_count": null,
      "metadata": {
        "id": "CzGEJ84SqPro",
        "outputId": "ac302e35-d9aa-491b-bf2b-a4896af1f63f"
      },
      "outputs": [
        {
          "name": "stdout",
          "output_type": "stream",
          "text": [
            "tup:  ('H', 'e', 'l', 'l', 'o', ' ', 'W', 'o', 'r', 'l', 'd', '!')\n",
            "12\n",
            "H\n",
            "e\n",
            "l\n",
            "l\n",
            "o\n",
            " \n",
            "W\n",
            "o\n",
            "r\n",
            "l\n",
            "d\n",
            "!\n",
            "H >> e >> l >> l >> o >>   >> W >> o >> r >> l >> d >> ! >> \n",
            "\n"
          ]
        }
      ],
      "source": [
        "tup = tuple(\"Hello World!\")\n",
        "print(\"tup: \",tup)\n",
        "print(len(tup))\n",
        "\n",
        "for i in tup:\n",
        "    print(i)\n",
        "\n",
        "for i in tup:\n",
        "    print(i, end=\" >> \")\n",
        "    \n",
        "print(\"\\n\")    \n"
      ]
    },
    {
      "cell_type": "markdown",
      "metadata": {
        "id": "ueUB06k-qPrp"
      },
      "source": [
        "### Tuples can contain any object\n",
        "\n",
        "Even a function is a valid object to be placed in a tuple"
      ]
    },
    {
      "cell_type": "code",
      "execution_count": null,
      "metadata": {
        "id": "pQRU_rhnqPrp",
        "outputId": "93cc53a1-7b83-412e-bb47-6f510f8fe7a6"
      },
      "outputs": [
        {
          "name": "stdout",
          "output_type": "stream",
          "text": [
            "tup:  (1, 'name', <function myprod at 0x110dd8e50>)\n",
            "<class 'int'>\n",
            "<class 'str'>\n",
            "<class 'function'>\n"
          ]
        }
      ],
      "source": [
        "def myprod(a, b=3.145, scale=1.0):\n",
        "    return a*b*scale\n",
        "\n",
        "tup = (1, 'name', myprod)\n",
        "print(\"tup: \",tup)\n",
        "\n",
        "for i in tup:\n",
        "    print(type(i))"
      ]
    },
    {
      "cell_type": "markdown",
      "metadata": {
        "id": "7kShAXhjhEow"
      },
      "source": [
        "**Note how the use of default values is more flexible than in C**"
      ]
    },
    {
      "cell_type": "code",
      "execution_count": null,
      "metadata": {
        "id": "0mNvT6gVqPrp",
        "outputId": "2e9ce492-8935-41c1-cea1-ccd57bec1d0d"
      },
      "outputs": [
        {
          "name": "stdout",
          "output_type": "stream",
          "text": [
            "12.0\n",
            "20.128\n"
          ]
        }
      ],
      "source": [
        "scale = 3.2\n",
        "print(tup[2](3,4))\n",
        "print(myprod(2, scale=scale))"
      ]
    },
    {
      "cell_type": "markdown",
      "metadata": {
        "id": "lPH8MI3rqPrp"
      },
      "source": [
        "### A tuple can contain tuples as its elements"
      ]
    },
    {
      "cell_type": "code",
      "execution_count": null,
      "metadata": {
        "id": "zoVYXkrLqPrp",
        "outputId": "fabbe2bd-418f-41d2-a31f-1a1fd0c894c9"
      },
      "outputs": [
        {
          "name": "stdout",
          "output_type": "stream",
          "text": [
            "i:  ('lec23', 'lec24', 'lec25')\n",
            "i:  ('paul', 24, 1.75, 85.3)\n",
            "i:  ()\n",
            "i:  (1, 'name', <function myprod at 0x110dd8e50>)\n"
          ]
        }
      ],
      "source": [
        "x = a, b, c, tup\n",
        "\n",
        "for i in x:\n",
        "    print(\"i: \", i)"
      ]
    },
    {
      "cell_type": "code",
      "execution_count": null,
      "metadata": {
        "id": "p5FLijHoqPrp",
        "outputId": "7e29c1ab-14e1-4837-c4db-07877a7bfcb3"
      },
      "outputs": [
        {
          "name": "stdout",
          "output_type": "stream",
          "text": [
            "()\n",
            "('lec23', 'lec24', 'lec25')\n",
            "15.0\n"
          ]
        }
      ],
      "source": [
        "print(x[2])\n",
        "print(x[0])\n",
        "print(x[3][2](3,5))  # calling function myprod contained in tup"
      ]
    },
    {
      "cell_type": "markdown",
      "metadata": {
        "id": "1dLSJTWiqPrp"
      },
      "source": [
        "### And once again: tuples are immutable\n",
        "\n",
        "You can bind a variable to a new tuple but you cannot change an element of a tuple"
      ]
    },
    {
      "cell_type": "code",
      "execution_count": null,
      "metadata": {
        "id": "5TAKaV-wqPrq",
        "outputId": "70d4df4c-a51e-4ea3-e4f8-e7e07048ecaf"
      },
      "outputs": [
        {
          "ename": "TypeError",
          "evalue": "'tuple' object does not support item assignment",
          "output_type": "error",
          "traceback": [
            "\u001b[0;31m---------------------------------------------------------------------------\u001b[0m",
            "\u001b[0;31mTypeError\u001b[0m                                 Traceback (most recent call last)",
            "\u001b[0;32m/var/folders/3s/dv47t1k92jj605xqr74v5nqh0000gp/T/ipykernel_18493/2294968676.py\u001b[0m in \u001b[0;36m<module>\u001b[0;34m\u001b[0m\n\u001b[0;32m----> 1\u001b[0;31m \u001b[0mb\u001b[0m\u001b[0;34m[\u001b[0m\u001b[0;36m0\u001b[0m\u001b[0;34m]\u001b[0m \u001b[0;34m=\u001b[0m \u001b[0;34m'one'\u001b[0m\u001b[0;34m\u001b[0m\u001b[0;34m\u001b[0m\u001b[0m\n\u001b[0m",
            "\u001b[0;31mTypeError\u001b[0m: 'tuple' object does not support item assignment"
          ]
        }
      ],
      "source": [
        "b[0] = 'one'"
      ]
    },
    {
      "cell_type": "code",
      "execution_count": null,
      "metadata": {
        "id": "R8v3v8HDqPrq",
        "outputId": "9dd2d772-9798-449a-dc39-6bfc86aabd40"
      },
      "outputs": [
        {
          "name": "stdout",
          "output_type": "stream",
          "text": [
            "('one', ('lec23', 'lec24', 'lec25'), (2, 3))\n",
            "('paul', 24, 1.75, 85.3)\n"
          ]
        }
      ],
      "source": [
        "y = 'one', a, (2,3)\n",
        "print(y)\n",
        "print(b)"
      ]
    },
    {
      "cell_type": "code",
      "execution_count": null,
      "metadata": {
        "id": "OK9JQgnGqPrq",
        "outputId": "7bc51855-680a-4210-9e8b-c951ced545fd"
      },
      "outputs": [
        {
          "name": "stdout",
          "output_type": "stream",
          "text": [
            "('one', ('lec23', 'lec24', 'lec25'), (2, 3))\n"
          ]
        }
      ],
      "source": [
        "b = y\n",
        "print(b)"
      ]
    },
    {
      "cell_type": "code",
      "execution_count": null,
      "metadata": {
        "id": "cU5HeyTmqPrq",
        "outputId": "878383c8-43a6-4d67-b499-0769e66553e3"
      },
      "outputs": [
        {
          "name": "stdout",
          "output_type": "stream",
          "text": [
            "('lec23', 'lec27', 'lec25', 'lec25', 3.14, 3.56, 3.97)\n",
            "2\n",
            "2\n",
            "1\n",
            "<class 'int'>\n"
          ]
        },
        {
          "ename": "ValueError",
          "evalue": "tuple.index(x): x not in tuple",
          "output_type": "error",
          "traceback": [
            "\u001b[0;31m---------------------------------------------------------------------------\u001b[0m",
            "\u001b[0;31mValueError\u001b[0m                                Traceback (most recent call last)",
            "\u001b[0;32m/var/folders/3s/dv47t1k92jj605xqr74v5nqh0000gp/T/ipykernel_18493/1191443150.py\u001b[0m in \u001b[0;36m<module>\u001b[0;34m\u001b[0m\n\u001b[1;32m      6\u001b[0m \u001b[0mprint\u001b[0m\u001b[0;34m(\u001b[0m\u001b[0mb\u001b[0m\u001b[0;34m.\u001b[0m\u001b[0mcount\u001b[0m\u001b[0;34m(\u001b[0m\u001b[0;36m3.14\u001b[0m\u001b[0;34m)\u001b[0m\u001b[0;34m)\u001b[0m\u001b[0;34m\u001b[0m\u001b[0;34m\u001b[0m\u001b[0m\n\u001b[1;32m      7\u001b[0m \u001b[0mprint\u001b[0m\u001b[0;34m(\u001b[0m\u001b[0mtype\u001b[0m\u001b[0;34m(\u001b[0m\u001b[0mb\u001b[0m\u001b[0;34m.\u001b[0m\u001b[0mcount\u001b[0m\u001b[0;34m(\u001b[0m\u001b[0;34m'lec25'\u001b[0m\u001b[0;34m)\u001b[0m\u001b[0;34m)\u001b[0m\u001b[0;34m)\u001b[0m\u001b[0;34m\u001b[0m\u001b[0;34m\u001b[0m\u001b[0m\n\u001b[0;32m----> 8\u001b[0;31m \u001b[0mprint\u001b[0m\u001b[0;34m(\u001b[0m\u001b[0mb\u001b[0m\u001b[0;34m.\u001b[0m\u001b[0mindex\u001b[0m\u001b[0;34m(\u001b[0m\u001b[0;34m'test'\u001b[0m\u001b[0;34m)\u001b[0m\u001b[0;34m)\u001b[0m\u001b[0;34m\u001b[0m\u001b[0;34m\u001b[0m\u001b[0m\n\u001b[0m",
            "\u001b[0;31mValueError\u001b[0m: tuple.index(x): x not in tuple"
          ]
        }
      ],
      "source": [
        "ntuple  = 'lec23', 'lec27', 'lec25', 'lec25', 3.14, 3.56, 3.97\n",
        "b = ntuple\n",
        "print(b)\n",
        "print(b.index('lec25'))\n",
        "print(b.count('lec25'))\n",
        "print(b.count(3.14))\n",
        "print(type(b.count('lec25')))\n",
        "print(b.index('test'))"
      ]
    },
    {
      "cell_type": "markdown",
      "metadata": {
        "id": "qGwYijWZhEoy"
      },
      "source": [
        "### Tuples are comparable\n",
        "\n",
        "The comparison operators work with tuples and other sequences. If the first item is equal, Python goes on to the next element, and so on, until it finds elements that differ."
      ]
    },
    {
      "cell_type": "code",
      "execution_count": null,
      "metadata": {
        "id": "5iMhF45phEoy",
        "outputId": "b675d7be-1051-4588-dbb8-b3dcbeb822d4"
      },
      "outputs": [
        {
          "data": {
            "text/plain": [
              "True"
            ]
          },
          "execution_count": 69,
          "metadata": {},
          "output_type": "execute_result"
        }
      ],
      "source": [
        "(0, 1, 2) < (5, 1, 2)"
      ]
    },
    {
      "cell_type": "code",
      "execution_count": null,
      "metadata": {
        "id": "-xN-R_i9hEoy",
        "outputId": "26b1b69e-ba83-44e0-a1b2-974b66ab5c3c"
      },
      "outputs": [
        {
          "data": {
            "text/plain": [
              "True"
            ]
          },
          "execution_count": 70,
          "metadata": {},
          "output_type": "execute_result"
        }
      ],
      "source": [
        "(0, 1, 2000000) < (0, 3, 4)"
      ]
    },
    {
      "cell_type": "code",
      "execution_count": null,
      "metadata": {
        "id": "SMwtdsqrhEoy",
        "outputId": "bbc0ec8a-40c8-4a31-c13a-e35a5b07208b"
      },
      "outputs": [
        {
          "data": {
            "text/plain": [
              "True"
            ]
          },
          "execution_count": 71,
          "metadata": {},
          "output_type": "execute_result"
        }
      ],
      "source": [
        "('Jones', 'Sally') < ('Jones', 'Sam')"
      ]
    },
    {
      "cell_type": "code",
      "execution_count": null,
      "metadata": {
        "id": "UOcHAhv2hEoy",
        "outputId": "491ca91e-e647-45f9-b01b-17fa831a404f"
      },
      "outputs": [
        {
          "data": {
            "text/plain": [
              "True"
            ]
          },
          "execution_count": 72,
          "metadata": {},
          "output_type": "execute_result"
        }
      ],
      "source": [
        "('Jones', 'Sally') > ('Adams', 'Sam')"
      ]
    },
    {
      "cell_type": "code",
      "execution_count": null,
      "metadata": {
        "id": "VJF4BwVxhEoz",
        "outputId": "063b62c6-e10f-4062-e5d6-6d48f46e8a18"
      },
      "outputs": [
        {
          "data": {
            "text/plain": [
              "False"
            ]
          },
          "execution_count": 73,
          "metadata": {},
          "output_type": "execute_result"
        }
      ],
      "source": [
        "('Jones', 'Sally') > ('Jones', 'Sally')"
      ]
    },
    {
      "cell_type": "markdown",
      "metadata": {
        "id": "tg28dbwLqPrq"
      },
      "source": [
        "## Lists\n",
        "- Lists are also a collection of objects but unlike tuples they are **mutable**\n",
        "  - variable length\n",
        "  - each element can be modified\n",
        "  "
      ]
    },
    {
      "cell_type": "code",
      "execution_count": null,
      "metadata": {
        "id": "gMzdWDp3qPrq",
        "outputId": "bd77bdfb-c2c9-489a-ff9c-7f309cfefe75",
        "scrolled": true
      },
      "outputs": [
        {
          "name": "stdout",
          "output_type": "stream",
          "text": [
            "[2, 3, 4]\n",
            "4\n",
            "[2, 3, -3]\n"
          ]
        }
      ],
      "source": [
        "alist = [2, 3, 4]\n",
        "print(alist)\n",
        "print(alist[2])\n",
        "alist[2] = -3\n",
        "print(alist)"
      ]
    },
    {
      "cell_type": "markdown",
      "metadata": {
        "id": "vb-p3w2aqPrr"
      },
      "source": [
        "Lists (and tuples) are protected against out of range index"
      ]
    },
    {
      "cell_type": "code",
      "execution_count": null,
      "metadata": {
        "id": "p1GWGmOEqPrr",
        "outputId": "9083e608-7060-4a21-baa9-99f44a453074"
      },
      "outputs": [
        {
          "name": "stdout",
          "output_type": "stream",
          "text": [
            "3\n"
          ]
        },
        {
          "ename": "IndexError",
          "evalue": "list index out of range",
          "output_type": "error",
          "traceback": [
            "\u001b[0;31m---------------------------------------------------------------------------\u001b[0m",
            "\u001b[0;31mIndexError\u001b[0m                                Traceback (most recent call last)",
            "\u001b[0;32m/var/folders/3s/dv47t1k92jj605xqr74v5nqh0000gp/T/ipykernel_18493/2030354436.py\u001b[0m in \u001b[0;36m<module>\u001b[0;34m\u001b[0m\n\u001b[1;32m      1\u001b[0m \u001b[0mprint\u001b[0m\u001b[0;34m(\u001b[0m\u001b[0mlen\u001b[0m\u001b[0;34m(\u001b[0m\u001b[0malist\u001b[0m\u001b[0;34m)\u001b[0m\u001b[0;34m)\u001b[0m\u001b[0;34m\u001b[0m\u001b[0;34m\u001b[0m\u001b[0m\n\u001b[0;32m----> 2\u001b[0;31m \u001b[0malist\u001b[0m\u001b[0;34m[\u001b[0m\u001b[0;36m3\u001b[0m\u001b[0;34m]\u001b[0m\u001b[0;34m\u001b[0m\u001b[0;34m\u001b[0m\u001b[0m\n\u001b[0m",
            "\u001b[0;31mIndexError\u001b[0m: list index out of range"
          ]
        }
      ],
      "source": [
        "print(len(alist))\n",
        "alist[3]"
      ]
    },
    {
      "cell_type": "code",
      "execution_count": null,
      "metadata": {
        "id": "IaM6epNMhEo0",
        "outputId": "1391e849-67cb-4e56-dba1-6db1e346c8ba"
      },
      "outputs": [
        {
          "name": "stdout",
          "output_type": "stream",
          "text": [
            "[2, 3, -3]\n",
            "3\n"
          ]
        }
      ],
      "source": [
        "# For negative indices, one basically has periodic boundary conditions\n",
        "print(alist)\n",
        "print(alist[-2])"
      ]
    },
    {
      "cell_type": "markdown",
      "metadata": {
        "id": "hDzpnxSphEo5"
      },
      "source": [
        "But here too the list is protected against out of range index"
      ]
    },
    {
      "cell_type": "code",
      "execution_count": null,
      "metadata": {
        "id": "9eNXvy6AhEo5",
        "outputId": "fcc40456-5833-4dad-efa1-e5d7073cacf9"
      },
      "outputs": [
        {
          "ename": "IndexError",
          "evalue": "list index out of range",
          "output_type": "error",
          "traceback": [
            "\u001b[0;31m---------------------------------------------------------------------------\u001b[0m",
            "\u001b[0;31mIndexError\u001b[0m                                Traceback (most recent call last)",
            "\u001b[0;32m/var/folders/3s/dv47t1k92jj605xqr74v5nqh0000gp/T/ipykernel_18493/479738760.py\u001b[0m in \u001b[0;36m<module>\u001b[0;34m\u001b[0m\n\u001b[0;32m----> 1\u001b[0;31m \u001b[0mprint\u001b[0m\u001b[0;34m(\u001b[0m\u001b[0malist\u001b[0m\u001b[0;34m[\u001b[0m\u001b[0;34m-\u001b[0m\u001b[0;36m4\u001b[0m\u001b[0;34m]\u001b[0m\u001b[0;34m)\u001b[0m\u001b[0;34m\u001b[0m\u001b[0;34m\u001b[0m\u001b[0m\n\u001b[0m",
            "\u001b[0;31mIndexError\u001b[0m: list index out of range"
          ]
        }
      ],
      "source": [
        "print(alist[-4])"
      ]
    },
    {
      "cell_type": "markdown",
      "metadata": {
        "id": "Br1KCZj5hEo6"
      },
      "source": [
        "In summary: `-len(list)` $\\leq$ index $<$ `len(list)`"
      ]
    },
    {
      "cell_type": "markdown",
      "metadata": {
        "id": "L5zKUtq0qPrr"
      },
      "source": [
        "A list can cantain any type of data. In this example the list is made of strings, float, int, function, lists, and tuples"
      ]
    },
    {
      "cell_type": "code",
      "execution_count": null,
      "metadata": {
        "id": "kC7erNZmqPrr",
        "outputId": "b50aa9b5-fe2d-4a79-a066-0f7fc525129f"
      },
      "outputs": [
        {
          "name": "stdout",
          "output_type": "stream",
          "text": [
            "['one', 2, 3.24, <function myprod at 0x1103119d0>, (23, 24), ['lec1', 'lec2', [<function myprod at 0x1103119d0>, 3.14]]]\n",
            "42.0\n"
          ]
        }
      ],
      "source": [
        "alist = ['one', 2, 3.24, myprod, (23, 24), ['lec1', 'lec2', [myprod, 3.14]]]\n",
        "print(alist)\n",
        "print(alist[5][2][0](6,7))"
      ]
    },
    {
      "cell_type": "markdown",
      "metadata": {
        "id": "bZ-6W9r3qPrr"
      },
      "source": [
        "### Lists vs tuples\n",
        "- A list is created using the `[]` operator or the explicit type `list`\n",
        "- A tuple is created with the `()` operator or the explicit type `tuple`\n",
        "- Lists and tuples are semantically similar\n",
        "  - Many functions can take a tuple or a list\n",
        "- Lists are used in data analysis to store data from iterators or generators"
      ]
    },
    {
      "cell_type": "code",
      "execution_count": null,
      "metadata": {
        "id": "IL-4XarMqPrr",
        "outputId": "1bd2b3f9-00f4-49a8-b7e9-f0b263e25c1c"
      },
      "outputs": [
        {
          "name": "stdout",
          "output_type": "stream",
          "text": [
            "range(-3, 10, 2)\n",
            "[-3, -1, 1, 3, 5, 7, 9]\n",
            "(-3, -1, 1, 3, 5, 7, 9)\n"
          ]
        }
      ],
      "source": [
        "values = range(-3, 10, 2)\n",
        "print(values)\n",
        "print(list(values))\n",
        "print(tuple(values))"
      ]
    },
    {
      "cell_type": "markdown",
      "metadata": {
        "id": "DN79h-iHqPrr"
      },
      "source": [
        "Note that as with tuples, you have to convert the output of `range` to be a list."
      ]
    },
    {
      "cell_type": "markdown",
      "metadata": {
        "id": "-GBBzFH3qPrs"
      },
      "source": [
        "### List from tuple\n",
        "You can create a list from a tuple by explicit conversion "
      ]
    },
    {
      "cell_type": "code",
      "execution_count": null,
      "metadata": {
        "id": "tFZHqlM8qPrs",
        "outputId": "034183a2-9ab1-42a2-8a83-1eeab0fe07ad"
      },
      "outputs": [
        {
          "name": "stdout",
          "output_type": "stream",
          "text": [
            "('lec23', 'lec24', 'lec25')\n",
            "['lec23', 'lec24', 'lec25']\n",
            "('lec23', 'lec24', 'lec28')\n"
          ]
        }
      ],
      "source": [
        "print(a)\n",
        "blist = list(a)\n",
        "print(blist)\n",
        "blist[2] = 'lec28'\n",
        "blist\n",
        "a = tuple(blist)\n",
        "print(a)"
      ]
    },
    {
      "cell_type": "markdown",
      "metadata": {
        "id": "Xf_0w6IzqPr2"
      },
      "source": [
        "### List slicing\n",
        "\n",
        "One of most popular featurs in data analysis with python is the possibility of accessing a subset of a collection by specifying the indices\n",
        "\n",
        "```list[start:stop:step]```"
      ]
    },
    {
      "cell_type": "code",
      "execution_count": null,
      "metadata": {
        "id": "gY15YUSehEo7",
        "outputId": "f57a2b36-2c58-4873-c8df-51029f4919b4"
      },
      "outputs": [
        {
          "name": "stdout",
          "output_type": "stream",
          "text": [
            "['b', 'c']\n",
            "['a', 'b', 'c', 'd']\n",
            "['d', 'e', 'f']\n",
            "['a', 'b', 'c', 'd', 'e', 'f']\n",
            "['a', 'b', 'c', 'd', 'e', 'f']\n",
            "['a', 'c', 'e']\n",
            "['a', 'b', 'c', 'd']\n",
            "['e', 'f']\n",
            "['a', 'b', 'c', 'd']\n"
          ]
        }
      ],
      "source": [
        "t = ['a', 'b', 'c', 'd', 'e', 'f'] \n",
        "print(t[1:3])\n",
        "print(t[:4])\n",
        "print(t[3:])\n",
        "print(t[:])\n",
        "print(t[::])\n",
        "print(t[0:6:2])\n",
        "print(t[:-2])\n",
        "print(t[-2:])\n",
        "print(t[-6:-2])"
      ]
    },
    {
      "cell_type": "markdown",
      "metadata": {
        "id": "Q5jbzoeAqPrs"
      },
      "source": [
        "### Adding and removing list elements\n",
        "- To add an element at the end of the list, use the `append()` method\n",
        "- To insert a value at a specific location by providing the index, use the `insert()` method\n",
        "- To remove an element from the list at a specific location use the `pop()` method"
      ]
    },
    {
      "cell_type": "code",
      "execution_count": null,
      "metadata": {
        "id": "2X74UD7WqPrs",
        "outputId": "87c6b249-2440-4244-f693-6695ff7e780a"
      },
      "outputs": [
        {
          "name": "stdout",
          "output_type": "stream",
          "text": [
            "['one', 2, 3.14, 4, 'five', 6]\n"
          ]
        }
      ],
      "source": [
        "clist = ['one', 2, 3.14, 4, 'five']\n",
        "clist.append(6)\n",
        "print(clist)"
      ]
    },
    {
      "cell_type": "code",
      "execution_count": null,
      "metadata": {
        "id": "RyuPtXMWqPrs",
        "outputId": "a9170404-d6f5-418c-d697-998f382a6bbb"
      },
      "outputs": [
        {
          "name": "stdout",
          "output_type": "stream",
          "text": [
            "['one', 2, 'two', 3.14, 4, 'five', 6]\n"
          ]
        }
      ],
      "source": [
        "clist.insert(2, 'two')\n",
        "print(clist)"
      ]
    },
    {
      "cell_type": "markdown",
      "metadata": {
        "id": "AUmNBTkSqPrs"
      },
      "source": [
        "Note how the new element is inserted __before__ the indicated index."
      ]
    },
    {
      "cell_type": "code",
      "execution_count": null,
      "metadata": {
        "id": "S6o9LnRfqPrs",
        "outputId": "8c5612d6-f5fb-4513-ff4d-7ed3f74ea99b"
      },
      "outputs": [
        {
          "name": "stdout",
          "output_type": "stream",
          "text": [
            "['one', 2, 3.14, 4, 'five', 6]\n"
          ]
        }
      ],
      "source": [
        "clist.pop(2)\n",
        "print(clist)"
      ]
    },
    {
      "cell_type": "markdown",
      "metadata": {
        "id": "sV3O25YXqPrt"
      },
      "source": [
        "The `insert` and `pop` methods have a return value. \n",
        "\n",
        "In particular with `pop` it is useful to see the value you have removed from the list"
      ]
    },
    {
      "cell_type": "code",
      "execution_count": null,
      "metadata": {
        "id": "-Hc6NUP1qPrt",
        "outputId": "ada90c0b-8199-44ee-b77d-6172268d67a2"
      },
      "outputs": [
        {
          "name": "stdout",
          "output_type": "stream",
          "text": [
            "None\n",
            "test\n",
            "['one', 2, 3.14, 4, 'five', 6]\n"
          ]
        }
      ],
      "source": [
        "x = clist.insert(2, 'test')\n",
        "print (x)\n",
        "x = clist.pop(2)\n",
        "print(x)\n",
        "print(clist)"
      ]
    },
    {
      "cell_type": "markdown",
      "metadata": {
        "id": "maVxBkykqPrt"
      },
      "source": [
        "### Removing by value\n",
        "Although not very efficient, you can remove a given value from the list. It will only remove the first such occurrence. Python will linearly go through all elements until it finds the first occurrence."
      ]
    },
    {
      "cell_type": "code",
      "execution_count": null,
      "metadata": {
        "id": "NxcCthrkqPrt",
        "outputId": "b64999e1-3bf8-4907-a236-20a7d8d44204"
      },
      "outputs": [
        {
          "name": "stdout",
          "output_type": "stream",
          "text": [
            "True\n",
            "['one', 2, 3.14, 4, 'five', 6, 4]\n",
            "['one', 2, 3.14, 4, 'five', 6, 4, 4]\n"
          ]
        }
      ],
      "source": [
        "print(4 in clist)\n",
        "print(clist)\n",
        "clist.append(4)\n",
        "print(clist)"
      ]
    },
    {
      "cell_type": "code",
      "execution_count": null,
      "metadata": {
        "id": "cW4w4_coqPrt",
        "outputId": "810fcbff-8bf1-4d84-ba0e-b00f26deb1d7"
      },
      "outputs": [
        {
          "name": "stdout",
          "output_type": "stream",
          "text": [
            "['one', 2, 3.14, 'five', 6, 4, 4]\n"
          ]
        }
      ],
      "source": [
        "if 4 in clist:\n",
        "    clist.remove(4)\n",
        "print(clist)\n"
      ]
    },
    {
      "cell_type": "code",
      "execution_count": null,
      "metadata": {
        "id": "xNXTJOr-qPrt",
        "outputId": "845d71b6-27e2-4fb9-8d9b-b504af902cf3"
      },
      "outputs": [
        {
          "name": "stdout",
          "output_type": "stream",
          "text": [
            "['one', 2, 3.14, 'five', 6, 4]\n"
          ]
        }
      ],
      "source": [
        "if 4 in clist:\n",
        "    clist.remove(4)\n",
        "print(clist)"
      ]
    },
    {
      "cell_type": "markdown",
      "metadata": {
        "id": "-hi-oa1YqPrt"
      },
      "source": [
        "### Combining lists\n",
        "Use `+` to combine or extend exisiting or new lists"
      ]
    },
    {
      "cell_type": "code",
      "execution_count": null,
      "metadata": {
        "id": "vXTsoYtlqPru",
        "outputId": "2af5c6fc-cfc3-43a3-e046-007658552d14"
      },
      "outputs": [
        {
          "name": "stdout",
          "output_type": "stream",
          "text": [
            "['lec23', 'lec24', 'lec28']\n",
            "['one', 2, 3.14, 'five', 6, 4]\n",
            "['lec23', 'lec24', 'lec28', 'id', 'name', 'major']\n"
          ]
        }
      ],
      "source": [
        "print(blist)\n",
        "print(clist)\n",
        "all = blist + ['id', 'name', 'major']\n",
        "print(all)"
      ]
    },
    {
      "cell_type": "markdown",
      "metadata": {
        "id": "ZGekA1jrqPru"
      },
      "source": [
        "Note that this is very different from the following"
      ]
    },
    {
      "cell_type": "code",
      "execution_count": null,
      "metadata": {
        "id": "Q93xbjUQqPru",
        "outputId": "0782b1b5-8783-43be-d0dd-9cf7312ca15c"
      },
      "outputs": [
        {
          "name": "stdout",
          "output_type": "stream",
          "text": [
            "[['lec23', 'lec24', 'lec28'], 'id', 'name', 'major']\n"
          ]
        }
      ],
      "source": [
        "all = [blist, 'id', 'name', 'major']\n",
        "print(all)"
      ]
    },
    {
      "cell_type": "code",
      "execution_count": null,
      "metadata": {
        "id": "awtvDUjZqPrv",
        "outputId": "1eeffa6d-306e-400f-d447-b4821142307a"
      },
      "outputs": [
        {
          "name": "stdout",
          "output_type": "stream",
          "text": [
            "1\n",
            "major\n",
            "id\n"
          ]
        }
      ],
      "source": [
        "print(all.index('id'))\n",
        "print(all[-1])\n",
        "print(all[-3])"
      ]
    },
    {
      "cell_type": "markdown",
      "metadata": {
        "id": "xfHftAf1qPrv"
      },
      "source": [
        "The most efficient way to extend a list is with `extend`. It can take one or more elements to be added."
      ]
    },
    {
      "cell_type": "code",
      "execution_count": null,
      "metadata": {
        "id": "NDB9PQSIqPrv",
        "outputId": "9d49a4d0-131f-40b6-d397-6c47407f33f2",
        "scrolled": false
      },
      "outputs": [
        {
          "name": "stdout",
          "output_type": "stream",
          "text": [
            "[['lec23', 'lec24', 'lec28'], 'id', 'name', 'major', 2, 3, 4, 'test', 'python']\n",
            "[['lec23', 'lec24', 'lec28'], 'id', 'name', 'major', 2, 3, 4, 'test', 'python', 4.56]\n",
            "[['lec23', 'lec24', 'lec28'], 'id', 'name', 'major', 2, 3, 4, 'test', 'python', 4.56, 2, 3]\n",
            "[['lec23', 'lec24', 'lec28'], 'id', 'name', 'major', 2, 3, 4, 'test', 'python', 4.56, 2, 3, (2, 3)]\n",
            "(2, 3)\n",
            "3\n",
            "3\n"
          ]
        }
      ],
      "source": [
        "all.extend([2, 3, 4, 'test', 'python'])\n",
        "print(all)\n",
        "all.append(4.56)\n",
        "print(all)\n",
        "# extend works with both round and square brackets\n",
        "all.extend((2, 3))\n",
        "print(all)\n",
        "# Append takes a single parameter, so (2,3) is interpreted as a tuple\n",
        "all.append((2, 3))\n",
        "print(all)\n",
        "print(all[all.index((2, 3))])\n",
        "print(all[all.index((2, 3))][1])\n",
        "print(all[-1][1])"
      ]
    },
    {
      "cell_type": "markdown",
      "metadata": {
        "id": "oFh2aAABqPrv"
      },
      "source": [
        "### More on the difference between `append()` and `extend()`"
      ]
    },
    {
      "cell_type": "code",
      "execution_count": null,
      "metadata": {
        "id": "BRcbO9cZqPrv"
      },
      "outputs": [],
      "source": [
        "list_1 = [1, 2, 3]\n",
        "list_2 = [1, 2, 3]\n",
        "\n",
        "list_3 = [10, 11]\n",
        "\n",
        "list_1.append(list_3)\n",
        "list_2.extend(list_3)"
      ]
    },
    {
      "cell_type": "code",
      "execution_count": null,
      "metadata": {
        "id": "0dTOBaC6qPrv",
        "outputId": "6ac1da60-ac5f-4e69-8572-1404f16efd5e"
      },
      "outputs": [
        {
          "name": "stdout",
          "output_type": "stream",
          "text": [
            "append to a list:  [1, 2, 3, [10, 11]]\n",
            "extend a list:  [1, 2, 3, 10, 11]\n"
          ]
        }
      ],
      "source": [
        "print(\"append to a list: \", list_1)\n",
        "print(\"extend a list: \", list_2)"
      ]
    },
    {
      "cell_type": "markdown",
      "metadata": {
        "id": "-W-VlKo5qPrx"
      },
      "source": [
        "### Sorting a list\n",
        "Lists of elements that can be compared to each other can be sorted"
      ]
    },
    {
      "cell_type": "code",
      "execution_count": null,
      "metadata": {
        "id": "UB02pS4qqPry",
        "outputId": "bb9be9d1-ecb4-4ce4-908b-f6ea7a35303f"
      },
      "outputs": [
        {
          "name": "stdout",
          "output_type": "stream",
          "text": [
            "[['lec23', 'lec24', 'lec28'], 'id', 'name', 'major', 2, 3, 4, 'test', 'python', 4.56, 2, 3, (2, 3)]\n"
          ]
        },
        {
          "ename": "TypeError",
          "evalue": "'<' not supported between instances of 'str' and 'list'",
          "output_type": "error",
          "traceback": [
            "\u001b[0;31m---------------------------------------------------------------------------\u001b[0m",
            "\u001b[0;31mTypeError\u001b[0m                                 Traceback (most recent call last)",
            "\u001b[0;32m/var/folders/3s/dv47t1k92jj605xqr74v5nqh0000gp/T/ipykernel_18493/221014035.py\u001b[0m in \u001b[0;36m<module>\u001b[0;34m\u001b[0m\n\u001b[1;32m      1\u001b[0m \u001b[0mprint\u001b[0m\u001b[0;34m(\u001b[0m\u001b[0mall\u001b[0m\u001b[0;34m)\u001b[0m\u001b[0;34m\u001b[0m\u001b[0;34m\u001b[0m\u001b[0m\n\u001b[0;32m----> 2\u001b[0;31m \u001b[0mall\u001b[0m\u001b[0;34m.\u001b[0m\u001b[0msort\u001b[0m\u001b[0;34m(\u001b[0m\u001b[0;34m)\u001b[0m\u001b[0;34m\u001b[0m\u001b[0;34m\u001b[0m\u001b[0m\n\u001b[0m",
            "\u001b[0;31mTypeError\u001b[0m: '<' not supported between instances of 'str' and 'list'"
          ]
        }
      ],
      "source": [
        "print(all)\n",
        "all.sort()"
      ]
    },
    {
      "cell_type": "code",
      "execution_count": null,
      "metadata": {
        "id": "jEZUTFs0qPrz",
        "outputId": "ff610f04-db59-44e1-a528-100b4628eab6"
      },
      "outputs": [
        {
          "name": "stdout",
          "output_type": "stream",
          "text": [
            "['january', 'february', 'march', 'april', 'may', 'june', 'july', 'august', 'september', 'october', 'november', 'december']\n"
          ]
        }
      ],
      "source": [
        "months = ['january', 'february', 'march', 'april', 'may', 'june', 'july', 'august', 'september', 'october', 'november', 'december']\n",
        "print(months)"
      ]
    },
    {
      "cell_type": "code",
      "execution_count": null,
      "metadata": {
        "id": "AJ8RvmyIqPr0",
        "outputId": "c6aefb5b-3e95-4723-cc85-c915800be4df"
      },
      "outputs": [
        {
          "name": "stdout",
          "output_type": "stream",
          "text": [
            "['april', 'august', 'december', 'february', 'january', 'july', 'june', 'march', 'may', 'november', 'october', 'september']\n"
          ]
        }
      ],
      "source": [
        "months.sort()\n",
        "print(months)"
      ]
    },
    {
      "cell_type": "code",
      "execution_count": null,
      "metadata": {
        "id": "xPLfXsOTqPr0",
        "outputId": "defb769a-2a49-42d6-9077-7307d10e12bb"
      },
      "outputs": [
        {
          "name": "stdout",
          "output_type": "stream",
          "text": [
            "['may', 'july', 'june', 'april', 'march', 'august', 'january', 'october', 'december', 'february', 'november', 'september']\n"
          ]
        }
      ],
      "source": [
        "months.sort(key=len)\n",
        "print(months)"
      ]
    },
    {
      "cell_type": "code",
      "execution_count": null,
      "metadata": {
        "id": "DXNzfTsyqPr0",
        "outputId": "5383ce04-bd16-497c-d682-1c79aac81e1e"
      },
      "outputs": [
        {
          "name": "stdout",
          "output_type": "stream",
          "text": [
            "Help on method_descriptor:\n",
            "\n",
            "sort(self, /, *, key=None, reverse=False)\n",
            "    Sort the list in ascending order and return None.\n",
            "    \n",
            "    The sort is in-place (i.e. the list itself is modified) and stable (i.e. the\n",
            "    order of two equal elements is maintained).\n",
            "    \n",
            "    If a key function is given, apply it once to each list item and sort them,\n",
            "    ascending or descending, according to their function values.\n",
            "    \n",
            "    The reverse flag can be set to sort in descending order.\n",
            "\n"
          ]
        }
      ],
      "source": [
        "help(list.sort)"
      ]
    },
    {
      "cell_type": "code",
      "execution_count": null,
      "metadata": {
        "id": "oMLFCfMqqPr0",
        "outputId": "67768ce3-9daa-4384-a26b-8bbca3706e0a"
      },
      "outputs": [
        {
          "name": "stdout",
          "output_type": "stream",
          "text": [
            "['september', 'december', 'february', 'november', 'january', 'october', 'august', 'april', 'march', 'july', 'june', 'may']\n",
            "['september', 'october', 'november', 'may', 'march', 'june', 'july', 'january', 'february', 'december', 'august', 'april']\n"
          ]
        }
      ],
      "source": [
        "months.sort(key=len,reverse=True)\n",
        "print(months)\n",
        "\n",
        "months.sort(reverse=True)\n",
        "print(months)"
      ]
    },
    {
      "cell_type": "markdown",
      "metadata": {
        "id": "XPKJ5-aXqPr0"
      },
      "source": [
        "### `sort()` vs `sorted()`\n",
        "In these examples, `sort()` is **applied** to the object and **modifies** it.  We might prefer keeping the data intact and have a new sorted copy, instead."
      ]
    },
    {
      "cell_type": "code",
      "execution_count": null,
      "metadata": {
        "id": "4I1VzQOWqPr0",
        "outputId": "7056af4a-7dbe-442a-87fa-cbc97c1e8d60"
      },
      "outputs": [
        {
          "name": "stdout",
          "output_type": "stream",
          "text": [
            "['january', 'february', 'march', 'april', 'may', 'june', 'july', 'august', 'september', 'october', 'november', 'december']\n",
            "['april', 'august', 'december', 'february', 'january', 'july', 'june', 'march', 'may', 'november', 'october', 'september']\n",
            "['may', 'june', 'july', 'march', 'april', 'august', 'january', 'october', 'february', 'november', 'december', 'september']\n",
            "Help on built-in function sorted in module builtins:\n",
            "\n",
            "sorted(iterable, /, *, key=None, reverse=False)\n",
            "    Return a new list containing all items from the iterable in ascending order.\n",
            "    \n",
            "    A custom key function can be supplied to customize the sort order, and the\n",
            "    reverse flag can be set to request the result in descending order.\n",
            "\n"
          ]
        }
      ],
      "source": [
        "months = ['january', 'february', 'march', 'april', 'may', 'june', 'july', 'august', 'september', 'october', 'november', 'december']\n",
        "print(months)\n",
        "\n",
        "sorted_months_byname = sorted(months)\n",
        "print(sorted_months_byname)\n",
        "\n",
        "sorted_months_bylen = sorted(months, key=len)\n",
        "print(sorted_months_bylen)\n",
        "\n",
        "help(sorted)"
      ]
    },
    {
      "cell_type": "markdown",
      "metadata": {
        "id": "y6Ac44hyqPr1"
      },
      "source": [
        "### Lists and strings"
      ]
    },
    {
      "cell_type": "code",
      "execution_count": null,
      "metadata": {
        "id": "1NLAXjjqqPr1",
        "outputId": "61f0aa04-9d9e-46ca-deee-0639123d8cb0"
      },
      "outputs": [
        {
          "name": "stdout",
          "output_type": "stream",
          "text": [
            "['i', 'n', ' ', 'a', ' ', 'f', 'a', 'r', ' ', 'a', 'w', 'a', 'y', ' ', 'g', 'a', 'l', 'a', 'x', 'y']\n"
          ]
        },
        {
          "data": {
            "text/plain": [
              "4"
            ]
          },
          "execution_count": 153,
          "metadata": {},
          "output_type": "execute_result"
        }
      ],
      "source": [
        "chars = list(\"in a far away galaxy\")\n",
        "print(chars)\n",
        "chars.count(' ')"
      ]
    },
    {
      "cell_type": "markdown",
      "metadata": {
        "id": "M9S7zVV2hEpC"
      },
      "source": [
        "The `split()` method breaks a string into parts and produces a list of strings."
      ]
    },
    {
      "cell_type": "code",
      "execution_count": null,
      "metadata": {
        "id": "exXeEifmhEpC",
        "outputId": "acdcbc52-1d7e-4ca8-910a-72b0672e0546"
      },
      "outputs": [
        {
          "name": "stdout",
          "output_type": "stream",
          "text": [
            "['I', 'quite', 'like', 'Python']\n"
          ]
        }
      ],
      "source": [
        "sentence = \"I quite like Python\"\n",
        "words = sentence.split()\n",
        "print(words)"
      ]
    },
    {
      "cell_type": "code",
      "execution_count": null,
      "metadata": {
        "id": "dIDKjbYUhEpC",
        "outputId": "3c594bbf-620d-4429-b0ef-fdd58f469c85"
      },
      "outputs": [
        {
          "name": "stdout",
          "output_type": "stream",
          "text": [
            "['I quite like Python', ' I liked C++ as well', \" Anyways, let's carry on\", '']\n",
            "['I', 'quite', 'like', 'Python']\n",
            "['I', 'liked', 'C++', 'as', 'well']\n",
            "['Anyways,', \"let's\", 'carry', 'on']\n",
            "[]\n"
          ]
        }
      ],
      "source": [
        "speech = \"I quite like Python. I liked C++ as well. Anyways, let's carry on.\"\n",
        "sentences = speech.split('.')\n",
        "print(sentences)\n",
        "\n",
        "for sentence in sentences:\n",
        "    words = sentence.split()\n",
        "    print(words)"
      ]
    },
    {
      "cell_type": "markdown",
      "metadata": {
        "id": "zx_j3pB-qPr1"
      },
      "source": [
        "### The `enumerate()` function\n",
        "Keeps track of index while iterating on a collection, e.g., a list.\n",
        "\n",
        "`enumerate` can be exploited in `for` loops."
      ]
    },
    {
      "cell_type": "code",
      "execution_count": null,
      "metadata": {
        "id": "ivBNkJTAqPr2",
        "outputId": "a570de19-13d9-4fce-cdba-79157bcfa6d5",
        "scrolled": false
      },
      "outputs": [
        {
          "name": "stdout",
          "output_type": "stream",
          "text": [
            "['january', 'february', 'march', 'april', 'may', 'june', 'july', 'august', 'september', 'october', 'november', 'december']\n",
            "month 1 : january\n",
            "month 2 : february\n",
            "month 3 : march\n",
            "month 4 : april\n",
            "month 5 : may\n",
            "month 6 : june\n",
            "month 7 : july\n",
            "month 8 : august\n",
            "month 9 : september\n",
            "month 10: october\n",
            "month 11: november\n",
            "month 12: december\n"
          ]
        }
      ],
      "source": [
        "print(months)\n",
        "\n",
        "for i,m in enumerate(months):\n",
        "    print(\"month %-2d: %s\" % (i+1, m))"
      ]
    },
    {
      "cell_type": "code",
      "execution_count": null,
      "metadata": {
        "id": "C0YqFT22qPr2",
        "outputId": "335e6214-696d-4433-c804-d56bcbe9995e"
      },
      "outputs": [
        {
          "name": "stdout",
          "output_type": "stream",
          "text": [
            "0 \t name\n",
            "1 \t surname\n",
            "2 \t id\n"
          ]
        }
      ],
      "source": [
        "data = 'name', 'surname', 'id'\n",
        "\n",
        "for i,d in enumerate(data):\n",
        "    print(i, \"\\t\", d)"
      ]
    },
    {
      "cell_type": "markdown",
      "metadata": {
        "id": "gUmIserzqPr2"
      },
      "source": [
        "### References and lists\n",
        "In Python, all collection objects are handled as a reference. This is shown explicitly in this example."
      ]
    },
    {
      "cell_type": "code",
      "execution_count": null,
      "metadata": {
        "id": "0ZC7-Z7tqPr2",
        "outputId": "70e3d596-3d55-4453-c89e-a600fe641c2a"
      },
      "outputs": [
        {
          "name": "stdout",
          "output_type": "stream",
          "text": [
            "['january', 'february', 'march', 'april', 'may', 'june', 'july', 'august', 'september', 'october', 'november', 'december']\n"
          ]
        }
      ],
      "source": [
        "newlist = months\n",
        "print(newlist)"
      ]
    },
    {
      "cell_type": "code",
      "execution_count": null,
      "metadata": {
        "id": "76ffdus1qPr2",
        "outputId": "00e58548-090d-49aa-8f15-a6ad7df748b3",
        "scrolled": true
      },
      "outputs": [
        {
          "name": "stdout",
          "output_type": "stream",
          "text": [
            "['january', 'february', 'march', 'april', 'may', 'june', 'july', 'august', 'september', 'october', 'november', 'december', 'NewMonth']\n"
          ]
        }
      ],
      "source": [
        "newlist.append('NewMonth')\n",
        "print(months)"
      ]
    },
    {
      "cell_type": "markdown",
      "metadata": {
        "id": "_ePaX3RFqPr3"
      },
      "source": [
        "So `newlist` __is not a new copy__. `newlist` and `months` are simply two references to the same list object!\n",
        "\n",
        "To have a new copy you have to use the explcit conversion."
      ]
    },
    {
      "cell_type": "code",
      "execution_count": null,
      "metadata": {
        "id": "cb0kcMPHqPr3",
        "outputId": "0cadd358-110b-45b1-dcb7-79b5a3792b85"
      },
      "outputs": [
        {
          "name": "stdout",
          "output_type": "stream",
          "text": [
            "['january', 'february', 'march', 'april', 'may', 'june', 'july', 'august', 'september', 'october', 'november', 'december', 'NewMonth']\n",
            "['january', 'february', 'march', 'april', 'may', 'june', 'july', 'august', 'september', 'october', 'november', 'december', 'NewMonth', 'CrazyMonth']\n"
          ]
        }
      ],
      "source": [
        "newlist = list(months)\n",
        "newlist.append('CrazyMonth')\n",
        "print(months)\n",
        "print(newlist)"
      ]
    },
    {
      "cell_type": "markdown",
      "metadata": {
        "id": "FqMCZ_5sqPr3"
      },
      "source": [
        "# Using a list for plotting\n",
        "\n",
        "## Motion of a body under gravity\n",
        "We want to simulate the motion of a body under gravity. We also want to quickly plot the trajectory to check our results.\n",
        "\n",
        "**NB:** \n",
        "- The magic command `%matplotlib notebook` is only needed in Jupyter and should not be placed in a python program\n",
        "- It is needed **only once** in the notebook before plotting. Here, we have it once per cell to make each cell standalone."
      ]
    },
    {
      "cell_type": "code",
      "execution_count": null,
      "metadata": {
        "id": "IW1x7wEBqPr3",
        "outputId": "4df2deae-b1b7-4f97-871f-29ca8423dd1d"
      },
      "outputs": [
        {
          "name": "stdout",
          "output_type": "stream",
          "text": [
            "v0_x: 0.707 m/s \t v0_y: 0.707 m/s\n"
          ]
        },
        {
          "data": {
            "application/javascript": [
              "/* Put everything inside the global mpl namespace */\n",
              "/* global mpl */\n",
              "window.mpl = {};\n",
              "\n",
              "mpl.get_websocket_type = function () {\n",
              "    if (typeof WebSocket !== 'undefined') {\n",
              "        return WebSocket;\n",
              "    } else if (typeof MozWebSocket !== 'undefined') {\n",
              "        return MozWebSocket;\n",
              "    } else {\n",
              "        alert(\n",
              "            'Your browser does not have WebSocket support. ' +\n",
              "                'Please try Chrome, Safari or Firefox ≥ 6. ' +\n",
              "                'Firefox 4 and 5 are also supported but you ' +\n",
              "                'have to enable WebSockets in about:config.'\n",
              "        );\n",
              "    }\n",
              "};\n",
              "\n",
              "mpl.figure = function (figure_id, websocket, ondownload, parent_element) {\n",
              "    this.id = figure_id;\n",
              "\n",
              "    this.ws = websocket;\n",
              "\n",
              "    this.supports_binary = this.ws.binaryType !== undefined;\n",
              "\n",
              "    if (!this.supports_binary) {\n",
              "        var warnings = document.getElementById('mpl-warnings');\n",
              "        if (warnings) {\n",
              "            warnings.style.display = 'block';\n",
              "            warnings.textContent =\n",
              "                'This browser does not support binary websocket messages. ' +\n",
              "                'Performance may be slow.';\n",
              "        }\n",
              "    }\n",
              "\n",
              "    this.imageObj = new Image();\n",
              "\n",
              "    this.context = undefined;\n",
              "    this.message = undefined;\n",
              "    this.canvas = undefined;\n",
              "    this.rubberband_canvas = undefined;\n",
              "    this.rubberband_context = undefined;\n",
              "    this.format_dropdown = undefined;\n",
              "\n",
              "    this.image_mode = 'full';\n",
              "\n",
              "    this.root = document.createElement('div');\n",
              "    this.root.setAttribute('style', 'display: inline-block');\n",
              "    this._root_extra_style(this.root);\n",
              "\n",
              "    parent_element.appendChild(this.root);\n",
              "\n",
              "    this._init_header(this);\n",
              "    this._init_canvas(this);\n",
              "    this._init_toolbar(this);\n",
              "\n",
              "    var fig = this;\n",
              "\n",
              "    this.waiting = false;\n",
              "\n",
              "    this.ws.onopen = function () {\n",
              "        fig.send_message('supports_binary', { value: fig.supports_binary });\n",
              "        fig.send_message('send_image_mode', {});\n",
              "        if (fig.ratio !== 1) {\n",
              "            fig.send_message('set_dpi_ratio', { dpi_ratio: fig.ratio });\n",
              "        }\n",
              "        fig.send_message('refresh', {});\n",
              "    };\n",
              "\n",
              "    this.imageObj.onload = function () {\n",
              "        if (fig.image_mode === 'full') {\n",
              "            // Full images could contain transparency (where diff images\n",
              "            // almost always do), so we need to clear the canvas so that\n",
              "            // there is no ghosting.\n",
              "            fig.context.clearRect(0, 0, fig.canvas.width, fig.canvas.height);\n",
              "        }\n",
              "        fig.context.drawImage(fig.imageObj, 0, 0);\n",
              "    };\n",
              "\n",
              "    this.imageObj.onunload = function () {\n",
              "        fig.ws.close();\n",
              "    };\n",
              "\n",
              "    this.ws.onmessage = this._make_on_message_function(this);\n",
              "\n",
              "    this.ondownload = ondownload;\n",
              "};\n",
              "\n",
              "mpl.figure.prototype._init_header = function () {\n",
              "    var titlebar = document.createElement('div');\n",
              "    titlebar.classList =\n",
              "        'ui-dialog-titlebar ui-widget-header ui-corner-all ui-helper-clearfix';\n",
              "    var titletext = document.createElement('div');\n",
              "    titletext.classList = 'ui-dialog-title';\n",
              "    titletext.setAttribute(\n",
              "        'style',\n",
              "        'width: 100%; text-align: center; padding: 3px;'\n",
              "    );\n",
              "    titlebar.appendChild(titletext);\n",
              "    this.root.appendChild(titlebar);\n",
              "    this.header = titletext;\n",
              "};\n",
              "\n",
              "mpl.figure.prototype._canvas_extra_style = function (_canvas_div) {};\n",
              "\n",
              "mpl.figure.prototype._root_extra_style = function (_canvas_div) {};\n",
              "\n",
              "mpl.figure.prototype._init_canvas = function () {\n",
              "    var fig = this;\n",
              "\n",
              "    var canvas_div = (this.canvas_div = document.createElement('div'));\n",
              "    canvas_div.setAttribute(\n",
              "        'style',\n",
              "        'border: 1px solid #ddd;' +\n",
              "            'box-sizing: content-box;' +\n",
              "            'clear: both;' +\n",
              "            'min-height: 1px;' +\n",
              "            'min-width: 1px;' +\n",
              "            'outline: 0;' +\n",
              "            'overflow: hidden;' +\n",
              "            'position: relative;' +\n",
              "            'resize: both;'\n",
              "    );\n",
              "\n",
              "    function on_keyboard_event_closure(name) {\n",
              "        return function (event) {\n",
              "            return fig.key_event(event, name);\n",
              "        };\n",
              "    }\n",
              "\n",
              "    canvas_div.addEventListener(\n",
              "        'keydown',\n",
              "        on_keyboard_event_closure('key_press')\n",
              "    );\n",
              "    canvas_div.addEventListener(\n",
              "        'keyup',\n",
              "        on_keyboard_event_closure('key_release')\n",
              "    );\n",
              "\n",
              "    this._canvas_extra_style(canvas_div);\n",
              "    this.root.appendChild(canvas_div);\n",
              "\n",
              "    var canvas = (this.canvas = document.createElement('canvas'));\n",
              "    canvas.classList.add('mpl-canvas');\n",
              "    canvas.setAttribute('style', 'box-sizing: content-box;');\n",
              "\n",
              "    this.context = canvas.getContext('2d');\n",
              "\n",
              "    var backingStore =\n",
              "        this.context.backingStorePixelRatio ||\n",
              "        this.context.webkitBackingStorePixelRatio ||\n",
              "        this.context.mozBackingStorePixelRatio ||\n",
              "        this.context.msBackingStorePixelRatio ||\n",
              "        this.context.oBackingStorePixelRatio ||\n",
              "        this.context.backingStorePixelRatio ||\n",
              "        1;\n",
              "\n",
              "    this.ratio = (window.devicePixelRatio || 1) / backingStore;\n",
              "\n",
              "    var rubberband_canvas = (this.rubberband_canvas = document.createElement(\n",
              "        'canvas'\n",
              "    ));\n",
              "    rubberband_canvas.setAttribute(\n",
              "        'style',\n",
              "        'box-sizing: content-box; position: absolute; left: 0; top: 0; z-index: 1;'\n",
              "    );\n",
              "\n",
              "    // Apply a ponyfill if ResizeObserver is not implemented by browser.\n",
              "    if (this.ResizeObserver === undefined) {\n",
              "        if (window.ResizeObserver !== undefined) {\n",
              "            this.ResizeObserver = window.ResizeObserver;\n",
              "        } else {\n",
              "            var obs = _JSXTOOLS_RESIZE_OBSERVER({});\n",
              "            this.ResizeObserver = obs.ResizeObserver;\n",
              "        }\n",
              "    }\n",
              "\n",
              "    this.resizeObserverInstance = new this.ResizeObserver(function (entries) {\n",
              "        var nentries = entries.length;\n",
              "        for (var i = 0; i < nentries; i++) {\n",
              "            var entry = entries[i];\n",
              "            var width, height;\n",
              "            if (entry.contentBoxSize) {\n",
              "                if (entry.contentBoxSize instanceof Array) {\n",
              "                    // Chrome 84 implements new version of spec.\n",
              "                    width = entry.contentBoxSize[0].inlineSize;\n",
              "                    height = entry.contentBoxSize[0].blockSize;\n",
              "                } else {\n",
              "                    // Firefox implements old version of spec.\n",
              "                    width = entry.contentBoxSize.inlineSize;\n",
              "                    height = entry.contentBoxSize.blockSize;\n",
              "                }\n",
              "            } else {\n",
              "                // Chrome <84 implements even older version of spec.\n",
              "                width = entry.contentRect.width;\n",
              "                height = entry.contentRect.height;\n",
              "            }\n",
              "\n",
              "            // Keep the size of the canvas and rubber band canvas in sync with\n",
              "            // the canvas container.\n",
              "            if (entry.devicePixelContentBoxSize) {\n",
              "                // Chrome 84 implements new version of spec.\n",
              "                canvas.setAttribute(\n",
              "                    'width',\n",
              "                    entry.devicePixelContentBoxSize[0].inlineSize\n",
              "                );\n",
              "                canvas.setAttribute(\n",
              "                    'height',\n",
              "                    entry.devicePixelContentBoxSize[0].blockSize\n",
              "                );\n",
              "            } else {\n",
              "                canvas.setAttribute('width', width * fig.ratio);\n",
              "                canvas.setAttribute('height', height * fig.ratio);\n",
              "            }\n",
              "            canvas.setAttribute(\n",
              "                'style',\n",
              "                'width: ' + width + 'px; height: ' + height + 'px;'\n",
              "            );\n",
              "\n",
              "            rubberband_canvas.setAttribute('width', width);\n",
              "            rubberband_canvas.setAttribute('height', height);\n",
              "\n",
              "            // And update the size in Python. We ignore the initial 0/0 size\n",
              "            // that occurs as the element is placed into the DOM, which should\n",
              "            // otherwise not happen due to the minimum size styling.\n",
              "            if (fig.ws.readyState == 1 && width != 0 && height != 0) {\n",
              "                fig.request_resize(width, height);\n",
              "            }\n",
              "        }\n",
              "    });\n",
              "    this.resizeObserverInstance.observe(canvas_div);\n",
              "\n",
              "    function on_mouse_event_closure(name) {\n",
              "        return function (event) {\n",
              "            return fig.mouse_event(event, name);\n",
              "        };\n",
              "    }\n",
              "\n",
              "    rubberband_canvas.addEventListener(\n",
              "        'mousedown',\n",
              "        on_mouse_event_closure('button_press')\n",
              "    );\n",
              "    rubberband_canvas.addEventListener(\n",
              "        'mouseup',\n",
              "        on_mouse_event_closure('button_release')\n",
              "    );\n",
              "    rubberband_canvas.addEventListener(\n",
              "        'dblclick',\n",
              "        on_mouse_event_closure('dblclick')\n",
              "    );\n",
              "    // Throttle sequential mouse events to 1 every 20ms.\n",
              "    rubberband_canvas.addEventListener(\n",
              "        'mousemove',\n",
              "        on_mouse_event_closure('motion_notify')\n",
              "    );\n",
              "\n",
              "    rubberband_canvas.addEventListener(\n",
              "        'mouseenter',\n",
              "        on_mouse_event_closure('figure_enter')\n",
              "    );\n",
              "    rubberband_canvas.addEventListener(\n",
              "        'mouseleave',\n",
              "        on_mouse_event_closure('figure_leave')\n",
              "    );\n",
              "\n",
              "    canvas_div.addEventListener('wheel', function (event) {\n",
              "        if (event.deltaY < 0) {\n",
              "            event.step = 1;\n",
              "        } else {\n",
              "            event.step = -1;\n",
              "        }\n",
              "        on_mouse_event_closure('scroll')(event);\n",
              "    });\n",
              "\n",
              "    canvas_div.appendChild(canvas);\n",
              "    canvas_div.appendChild(rubberband_canvas);\n",
              "\n",
              "    this.rubberband_context = rubberband_canvas.getContext('2d');\n",
              "    this.rubberband_context.strokeStyle = '#000000';\n",
              "\n",
              "    this._resize_canvas = function (width, height, forward) {\n",
              "        if (forward) {\n",
              "            canvas_div.style.width = width + 'px';\n",
              "            canvas_div.style.height = height + 'px';\n",
              "        }\n",
              "    };\n",
              "\n",
              "    // Disable right mouse context menu.\n",
              "    this.rubberband_canvas.addEventListener('contextmenu', function (_e) {\n",
              "        event.preventDefault();\n",
              "        return false;\n",
              "    });\n",
              "\n",
              "    function set_focus() {\n",
              "        canvas.focus();\n",
              "        canvas_div.focus();\n",
              "    }\n",
              "\n",
              "    window.setTimeout(set_focus, 100);\n",
              "};\n",
              "\n",
              "mpl.figure.prototype._init_toolbar = function () {\n",
              "    var fig = this;\n",
              "\n",
              "    var toolbar = document.createElement('div');\n",
              "    toolbar.classList = 'mpl-toolbar';\n",
              "    this.root.appendChild(toolbar);\n",
              "\n",
              "    function on_click_closure(name) {\n",
              "        return function (_event) {\n",
              "            return fig.toolbar_button_onclick(name);\n",
              "        };\n",
              "    }\n",
              "\n",
              "    function on_mouseover_closure(tooltip) {\n",
              "        return function (event) {\n",
              "            if (!event.currentTarget.disabled) {\n",
              "                return fig.toolbar_button_onmouseover(tooltip);\n",
              "            }\n",
              "        };\n",
              "    }\n",
              "\n",
              "    fig.buttons = {};\n",
              "    var buttonGroup = document.createElement('div');\n",
              "    buttonGroup.classList = 'mpl-button-group';\n",
              "    for (var toolbar_ind in mpl.toolbar_items) {\n",
              "        var name = mpl.toolbar_items[toolbar_ind][0];\n",
              "        var tooltip = mpl.toolbar_items[toolbar_ind][1];\n",
              "        var image = mpl.toolbar_items[toolbar_ind][2];\n",
              "        var method_name = mpl.toolbar_items[toolbar_ind][3];\n",
              "\n",
              "        if (!name) {\n",
              "            /* Instead of a spacer, we start a new button group. */\n",
              "            if (buttonGroup.hasChildNodes()) {\n",
              "                toolbar.appendChild(buttonGroup);\n",
              "            }\n",
              "            buttonGroup = document.createElement('div');\n",
              "            buttonGroup.classList = 'mpl-button-group';\n",
              "            continue;\n",
              "        }\n",
              "\n",
              "        var button = (fig.buttons[name] = document.createElement('button'));\n",
              "        button.classList = 'mpl-widget';\n",
              "        button.setAttribute('role', 'button');\n",
              "        button.setAttribute('aria-disabled', 'false');\n",
              "        button.addEventListener('click', on_click_closure(method_name));\n",
              "        button.addEventListener('mouseover', on_mouseover_closure(tooltip));\n",
              "\n",
              "        var icon_img = document.createElement('img');\n",
              "        icon_img.src = '_images/' + image + '.png';\n",
              "        icon_img.srcset = '_images/' + image + '_large.png 2x';\n",
              "        icon_img.alt = tooltip;\n",
              "        button.appendChild(icon_img);\n",
              "\n",
              "        buttonGroup.appendChild(button);\n",
              "    }\n",
              "\n",
              "    if (buttonGroup.hasChildNodes()) {\n",
              "        toolbar.appendChild(buttonGroup);\n",
              "    }\n",
              "\n",
              "    var fmt_picker = document.createElement('select');\n",
              "    fmt_picker.classList = 'mpl-widget';\n",
              "    toolbar.appendChild(fmt_picker);\n",
              "    this.format_dropdown = fmt_picker;\n",
              "\n",
              "    for (var ind in mpl.extensions) {\n",
              "        var fmt = mpl.extensions[ind];\n",
              "        var option = document.createElement('option');\n",
              "        option.selected = fmt === mpl.default_extension;\n",
              "        option.innerHTML = fmt;\n",
              "        fmt_picker.appendChild(option);\n",
              "    }\n",
              "\n",
              "    var status_bar = document.createElement('span');\n",
              "    status_bar.classList = 'mpl-message';\n",
              "    toolbar.appendChild(status_bar);\n",
              "    this.message = status_bar;\n",
              "};\n",
              "\n",
              "mpl.figure.prototype.request_resize = function (x_pixels, y_pixels) {\n",
              "    // Request matplotlib to resize the figure. Matplotlib will then trigger a resize in the client,\n",
              "    // which will in turn request a refresh of the image.\n",
              "    this.send_message('resize', { width: x_pixels, height: y_pixels });\n",
              "};\n",
              "\n",
              "mpl.figure.prototype.send_message = function (type, properties) {\n",
              "    properties['type'] = type;\n",
              "    properties['figure_id'] = this.id;\n",
              "    this.ws.send(JSON.stringify(properties));\n",
              "};\n",
              "\n",
              "mpl.figure.prototype.send_draw_message = function () {\n",
              "    if (!this.waiting) {\n",
              "        this.waiting = true;\n",
              "        this.ws.send(JSON.stringify({ type: 'draw', figure_id: this.id }));\n",
              "    }\n",
              "};\n",
              "\n",
              "mpl.figure.prototype.handle_save = function (fig, _msg) {\n",
              "    var format_dropdown = fig.format_dropdown;\n",
              "    var format = format_dropdown.options[format_dropdown.selectedIndex].value;\n",
              "    fig.ondownload(fig, format);\n",
              "};\n",
              "\n",
              "mpl.figure.prototype.handle_resize = function (fig, msg) {\n",
              "    var size = msg['size'];\n",
              "    if (size[0] !== fig.canvas.width || size[1] !== fig.canvas.height) {\n",
              "        fig._resize_canvas(size[0], size[1], msg['forward']);\n",
              "        fig.send_message('refresh', {});\n",
              "    }\n",
              "};\n",
              "\n",
              "mpl.figure.prototype.handle_rubberband = function (fig, msg) {\n",
              "    var x0 = msg['x0'] / fig.ratio;\n",
              "    var y0 = (fig.canvas.height - msg['y0']) / fig.ratio;\n",
              "    var x1 = msg['x1'] / fig.ratio;\n",
              "    var y1 = (fig.canvas.height - msg['y1']) / fig.ratio;\n",
              "    x0 = Math.floor(x0) + 0.5;\n",
              "    y0 = Math.floor(y0) + 0.5;\n",
              "    x1 = Math.floor(x1) + 0.5;\n",
              "    y1 = Math.floor(y1) + 0.5;\n",
              "    var min_x = Math.min(x0, x1);\n",
              "    var min_y = Math.min(y0, y1);\n",
              "    var width = Math.abs(x1 - x0);\n",
              "    var height = Math.abs(y1 - y0);\n",
              "\n",
              "    fig.rubberband_context.clearRect(\n",
              "        0,\n",
              "        0,\n",
              "        fig.canvas.width / fig.ratio,\n",
              "        fig.canvas.height / fig.ratio\n",
              "    );\n",
              "\n",
              "    fig.rubberband_context.strokeRect(min_x, min_y, width, height);\n",
              "};\n",
              "\n",
              "mpl.figure.prototype.handle_figure_label = function (fig, msg) {\n",
              "    // Updates the figure title.\n",
              "    fig.header.textContent = msg['label'];\n",
              "};\n",
              "\n",
              "mpl.figure.prototype.handle_cursor = function (fig, msg) {\n",
              "    var cursor = msg['cursor'];\n",
              "    switch (cursor) {\n",
              "        case 0:\n",
              "            cursor = 'pointer';\n",
              "            break;\n",
              "        case 1:\n",
              "            cursor = 'default';\n",
              "            break;\n",
              "        case 2:\n",
              "            cursor = 'crosshair';\n",
              "            break;\n",
              "        case 3:\n",
              "            cursor = 'move';\n",
              "            break;\n",
              "    }\n",
              "    fig.rubberband_canvas.style.cursor = cursor;\n",
              "};\n",
              "\n",
              "mpl.figure.prototype.handle_message = function (fig, msg) {\n",
              "    fig.message.textContent = msg['message'];\n",
              "};\n",
              "\n",
              "mpl.figure.prototype.handle_draw = function (fig, _msg) {\n",
              "    // Request the server to send over a new figure.\n",
              "    fig.send_draw_message();\n",
              "};\n",
              "\n",
              "mpl.figure.prototype.handle_image_mode = function (fig, msg) {\n",
              "    fig.image_mode = msg['mode'];\n",
              "};\n",
              "\n",
              "mpl.figure.prototype.handle_history_buttons = function (fig, msg) {\n",
              "    for (var key in msg) {\n",
              "        if (!(key in fig.buttons)) {\n",
              "            continue;\n",
              "        }\n",
              "        fig.buttons[key].disabled = !msg[key];\n",
              "        fig.buttons[key].setAttribute('aria-disabled', !msg[key]);\n",
              "    }\n",
              "};\n",
              "\n",
              "mpl.figure.prototype.handle_navigate_mode = function (fig, msg) {\n",
              "    if (msg['mode'] === 'PAN') {\n",
              "        fig.buttons['Pan'].classList.add('active');\n",
              "        fig.buttons['Zoom'].classList.remove('active');\n",
              "    } else if (msg['mode'] === 'ZOOM') {\n",
              "        fig.buttons['Pan'].classList.remove('active');\n",
              "        fig.buttons['Zoom'].classList.add('active');\n",
              "    } else {\n",
              "        fig.buttons['Pan'].classList.remove('active');\n",
              "        fig.buttons['Zoom'].classList.remove('active');\n",
              "    }\n",
              "};\n",
              "\n",
              "mpl.figure.prototype.updated_canvas_event = function () {\n",
              "    // Called whenever the canvas gets updated.\n",
              "    this.send_message('ack', {});\n",
              "};\n",
              "\n",
              "// A function to construct a web socket function for onmessage handling.\n",
              "// Called in the figure constructor.\n",
              "mpl.figure.prototype._make_on_message_function = function (fig) {\n",
              "    return function socket_on_message(evt) {\n",
              "        if (evt.data instanceof Blob) {\n",
              "            var img = evt.data;\n",
              "            if (img.type !== 'image/png') {\n",
              "                /* FIXME: We get \"Resource interpreted as Image but\n",
              "                 * transferred with MIME type text/plain:\" errors on\n",
              "                 * Chrome.  But how to set the MIME type?  It doesn't seem\n",
              "                 * to be part of the websocket stream */\n",
              "                img.type = 'image/png';\n",
              "            }\n",
              "\n",
              "            /* Free the memory for the previous frames */\n",
              "            if (fig.imageObj.src) {\n",
              "                (window.URL || window.webkitURL).revokeObjectURL(\n",
              "                    fig.imageObj.src\n",
              "                );\n",
              "            }\n",
              "\n",
              "            fig.imageObj.src = (window.URL || window.webkitURL).createObjectURL(\n",
              "                img\n",
              "            );\n",
              "            fig.updated_canvas_event();\n",
              "            fig.waiting = false;\n",
              "            return;\n",
              "        } else if (\n",
              "            typeof evt.data === 'string' &&\n",
              "            evt.data.slice(0, 21) === 'data:image/png;base64'\n",
              "        ) {\n",
              "            fig.imageObj.src = evt.data;\n",
              "            fig.updated_canvas_event();\n",
              "            fig.waiting = false;\n",
              "            return;\n",
              "        }\n",
              "\n",
              "        var msg = JSON.parse(evt.data);\n",
              "        var msg_type = msg['type'];\n",
              "\n",
              "        // Call the  \"handle_{type}\" callback, which takes\n",
              "        // the figure and JSON message as its only arguments.\n",
              "        try {\n",
              "            var callback = fig['handle_' + msg_type];\n",
              "        } catch (e) {\n",
              "            console.log(\n",
              "                \"No handler for the '\" + msg_type + \"' message type: \",\n",
              "                msg\n",
              "            );\n",
              "            return;\n",
              "        }\n",
              "\n",
              "        if (callback) {\n",
              "            try {\n",
              "                // console.log(\"Handling '\" + msg_type + \"' message: \", msg);\n",
              "                callback(fig, msg);\n",
              "            } catch (e) {\n",
              "                console.log(\n",
              "                    \"Exception inside the 'handler_\" + msg_type + \"' callback:\",\n",
              "                    e,\n",
              "                    e.stack,\n",
              "                    msg\n",
              "                );\n",
              "            }\n",
              "        }\n",
              "    };\n",
              "};\n",
              "\n",
              "// from http://stackoverflow.com/questions/1114465/getting-mouse-location-in-canvas\n",
              "mpl.findpos = function (e) {\n",
              "    //this section is from http://www.quirksmode.org/js/events_properties.html\n",
              "    var targ;\n",
              "    if (!e) {\n",
              "        e = window.event;\n",
              "    }\n",
              "    if (e.target) {\n",
              "        targ = e.target;\n",
              "    } else if (e.srcElement) {\n",
              "        targ = e.srcElement;\n",
              "    }\n",
              "    if (targ.nodeType === 3) {\n",
              "        // defeat Safari bug\n",
              "        targ = targ.parentNode;\n",
              "    }\n",
              "\n",
              "    // pageX,Y are the mouse positions relative to the document\n",
              "    var boundingRect = targ.getBoundingClientRect();\n",
              "    var x = e.pageX - (boundingRect.left + document.body.scrollLeft);\n",
              "    var y = e.pageY - (boundingRect.top + document.body.scrollTop);\n",
              "\n",
              "    return { x: x, y: y };\n",
              "};\n",
              "\n",
              "/*\n",
              " * return a copy of an object with only non-object keys\n",
              " * we need this to avoid circular references\n",
              " * http://stackoverflow.com/a/24161582/3208463\n",
              " */\n",
              "function simpleKeys(original) {\n",
              "    return Object.keys(original).reduce(function (obj, key) {\n",
              "        if (typeof original[key] !== 'object') {\n",
              "            obj[key] = original[key];\n",
              "        }\n",
              "        return obj;\n",
              "    }, {});\n",
              "}\n",
              "\n",
              "mpl.figure.prototype.mouse_event = function (event, name) {\n",
              "    var canvas_pos = mpl.findpos(event);\n",
              "\n",
              "    if (name === 'button_press') {\n",
              "        this.canvas.focus();\n",
              "        this.canvas_div.focus();\n",
              "    }\n",
              "\n",
              "    var x = canvas_pos.x * this.ratio;\n",
              "    var y = canvas_pos.y * this.ratio;\n",
              "\n",
              "    this.send_message(name, {\n",
              "        x: x,\n",
              "        y: y,\n",
              "        button: event.button,\n",
              "        step: event.step,\n",
              "        guiEvent: simpleKeys(event),\n",
              "    });\n",
              "\n",
              "    /* This prevents the web browser from automatically changing to\n",
              "     * the text insertion cursor when the button is pressed.  We want\n",
              "     * to control all of the cursor setting manually through the\n",
              "     * 'cursor' event from matplotlib */\n",
              "    event.preventDefault();\n",
              "    return false;\n",
              "};\n",
              "\n",
              "mpl.figure.prototype._key_event_extra = function (_event, _name) {\n",
              "    // Handle any extra behaviour associated with a key event\n",
              "};\n",
              "\n",
              "mpl.figure.prototype.key_event = function (event, name) {\n",
              "    // Prevent repeat events\n",
              "    if (name === 'key_press') {\n",
              "        if (event.key === this._key) {\n",
              "            return;\n",
              "        } else {\n",
              "            this._key = event.key;\n",
              "        }\n",
              "    }\n",
              "    if (name === 'key_release') {\n",
              "        this._key = null;\n",
              "    }\n",
              "\n",
              "    var value = '';\n",
              "    if (event.ctrlKey && event.key !== 'Control') {\n",
              "        value += 'ctrl+';\n",
              "    }\n",
              "    else if (event.altKey && event.key !== 'Alt') {\n",
              "        value += 'alt+';\n",
              "    }\n",
              "    else if (event.shiftKey && event.key !== 'Shift') {\n",
              "        value += 'shift+';\n",
              "    }\n",
              "\n",
              "    value += 'k' + event.key;\n",
              "\n",
              "    this._key_event_extra(event, name);\n",
              "\n",
              "    this.send_message(name, { key: value, guiEvent: simpleKeys(event) });\n",
              "    return false;\n",
              "};\n",
              "\n",
              "mpl.figure.prototype.toolbar_button_onclick = function (name) {\n",
              "    if (name === 'download') {\n",
              "        this.handle_save(this, null);\n",
              "    } else {\n",
              "        this.send_message('toolbar_button', { name: name });\n",
              "    }\n",
              "};\n",
              "\n",
              "mpl.figure.prototype.toolbar_button_onmouseover = function (tooltip) {\n",
              "    this.message.textContent = tooltip;\n",
              "};\n",
              "\n",
              "///////////////// REMAINING CONTENT GENERATED BY embed_js.py /////////////////\n",
              "// prettier-ignore\n",
              "var _JSXTOOLS_RESIZE_OBSERVER=function(A){var t,i=new WeakMap,n=new WeakMap,a=new WeakMap,r=new WeakMap,o=new Set;function s(e){if(!(this instanceof s))throw new TypeError(\"Constructor requires 'new' operator\");i.set(this,e)}function h(){throw new TypeError(\"Function is not a constructor\")}function c(e,t,i,n){e=0 in arguments?Number(arguments[0]):0,t=1 in arguments?Number(arguments[1]):0,i=2 in arguments?Number(arguments[2]):0,n=3 in arguments?Number(arguments[3]):0,this.right=(this.x=this.left=e)+(this.width=i),this.bottom=(this.y=this.top=t)+(this.height=n),Object.freeze(this)}function d(){t=requestAnimationFrame(d);var s=new WeakMap,p=new Set;o.forEach((function(t){r.get(t).forEach((function(i){var r=t instanceof window.SVGElement,o=a.get(t),d=r?0:parseFloat(o.paddingTop),f=r?0:parseFloat(o.paddingRight),l=r?0:parseFloat(o.paddingBottom),u=r?0:parseFloat(o.paddingLeft),g=r?0:parseFloat(o.borderTopWidth),m=r?0:parseFloat(o.borderRightWidth),w=r?0:parseFloat(o.borderBottomWidth),b=u+f,F=d+l,v=(r?0:parseFloat(o.borderLeftWidth))+m,W=g+w,y=r?0:t.offsetHeight-W-t.clientHeight,E=r?0:t.offsetWidth-v-t.clientWidth,R=b+v,z=F+W,M=r?t.width:parseFloat(o.width)-R-E,O=r?t.height:parseFloat(o.height)-z-y;if(n.has(t)){var k=n.get(t);if(k[0]===M&&k[1]===O)return}n.set(t,[M,O]);var S=Object.create(h.prototype);S.target=t,S.contentRect=new c(u,d,M,O),s.has(i)||(s.set(i,[]),p.add(i)),s.get(i).push(S)}))})),p.forEach((function(e){i.get(e).call(e,s.get(e),e)}))}return s.prototype.observe=function(i){if(i instanceof window.Element){r.has(i)||(r.set(i,new Set),o.add(i),a.set(i,window.getComputedStyle(i)));var n=r.get(i);n.has(this)||n.add(this),cancelAnimationFrame(t),t=requestAnimationFrame(d)}},s.prototype.unobserve=function(i){if(i instanceof window.Element&&r.has(i)){var n=r.get(i);n.has(this)&&(n.delete(this),n.size||(r.delete(i),o.delete(i))),n.size||r.delete(i),o.size||cancelAnimationFrame(t)}},A.DOMRectReadOnly=c,A.ResizeObserver=s,A.ResizeObserverEntry=h,A}; // eslint-disable-line\n",
              "mpl.toolbar_items = [[\"Home\", \"Reset original view\", \"fa fa-home icon-home\", \"home\"], [\"Back\", \"Back to previous view\", \"fa fa-arrow-left icon-arrow-left\", \"back\"], [\"Forward\", \"Forward to next view\", \"fa fa-arrow-right icon-arrow-right\", \"forward\"], [\"\", \"\", \"\", \"\"], [\"Pan\", \"Left button pans, Right button zooms\\nx/y fixes axis, CTRL fixes aspect\", \"fa fa-arrows icon-move\", \"pan\"], [\"Zoom\", \"Zoom to rectangle\\nx/y fixes axis, CTRL fixes aspect\", \"fa fa-square-o icon-check-empty\", \"zoom\"], [\"\", \"\", \"\", \"\"], [\"Download\", \"Download plot\", \"fa fa-floppy-o icon-save\", \"download\"]];\n",
              "\n",
              "mpl.extensions = [\"eps\", \"jpeg\", \"pgf\", \"pdf\", \"png\", \"ps\", \"raw\", \"svg\", \"tif\"];\n",
              "\n",
              "mpl.default_extension = \"png\";/* global mpl */\n",
              "\n",
              "var comm_websocket_adapter = function (comm) {\n",
              "    // Create a \"websocket\"-like object which calls the given IPython comm\n",
              "    // object with the appropriate methods. Currently this is a non binary\n",
              "    // socket, so there is still some room for performance tuning.\n",
              "    var ws = {};\n",
              "\n",
              "    ws.binaryType = comm.kernel.ws.binaryType;\n",
              "    ws.readyState = comm.kernel.ws.readyState;\n",
              "    function updateReadyState(_event) {\n",
              "        if (comm.kernel.ws) {\n",
              "            ws.readyState = comm.kernel.ws.readyState;\n",
              "        } else {\n",
              "            ws.readyState = 3; // Closed state.\n",
              "        }\n",
              "    }\n",
              "    comm.kernel.ws.addEventListener('open', updateReadyState);\n",
              "    comm.kernel.ws.addEventListener('close', updateReadyState);\n",
              "    comm.kernel.ws.addEventListener('error', updateReadyState);\n",
              "\n",
              "    ws.close = function () {\n",
              "        comm.close();\n",
              "    };\n",
              "    ws.send = function (m) {\n",
              "        //console.log('sending', m);\n",
              "        comm.send(m);\n",
              "    };\n",
              "    // Register the callback with on_msg.\n",
              "    comm.on_msg(function (msg) {\n",
              "        //console.log('receiving', msg['content']['data'], msg);\n",
              "        var data = msg['content']['data'];\n",
              "        if (data['blob'] !== undefined) {\n",
              "            data = {\n",
              "                data: new Blob(msg['buffers'], { type: data['blob'] }),\n",
              "            };\n",
              "        }\n",
              "        // Pass the mpl event to the overridden (by mpl) onmessage function.\n",
              "        ws.onmessage(data);\n",
              "    });\n",
              "    return ws;\n",
              "};\n",
              "\n",
              "mpl.mpl_figure_comm = function (comm, msg) {\n",
              "    // This is the function which gets called when the mpl process\n",
              "    // starts-up an IPython Comm through the \"matplotlib\" channel.\n",
              "\n",
              "    var id = msg.content.data.id;\n",
              "    // Get hold of the div created by the display call when the Comm\n",
              "    // socket was opened in Python.\n",
              "    var element = document.getElementById(id);\n",
              "    var ws_proxy = comm_websocket_adapter(comm);\n",
              "\n",
              "    function ondownload(figure, _format) {\n",
              "        window.open(figure.canvas.toDataURL());\n",
              "    }\n",
              "\n",
              "    var fig = new mpl.figure(id, ws_proxy, ondownload, element);\n",
              "\n",
              "    // Call onopen now - mpl needs it, as it is assuming we've passed it a real\n",
              "    // web socket which is closed, not our websocket->open comm proxy.\n",
              "    ws_proxy.onopen();\n",
              "\n",
              "    fig.parent_element = element;\n",
              "    fig.cell_info = mpl.find_output_cell(\"<div id='\" + id + \"'></div>\");\n",
              "    if (!fig.cell_info) {\n",
              "        console.error('Failed to find cell for figure', id, fig);\n",
              "        return;\n",
              "    }\n",
              "    fig.cell_info[0].output_area.element.on(\n",
              "        'cleared',\n",
              "        { fig: fig },\n",
              "        fig._remove_fig_handler\n",
              "    );\n",
              "};\n",
              "\n",
              "mpl.figure.prototype.handle_close = function (fig, msg) {\n",
              "    var width = fig.canvas.width / fig.ratio;\n",
              "    fig.cell_info[0].output_area.element.off(\n",
              "        'cleared',\n",
              "        fig._remove_fig_handler\n",
              "    );\n",
              "    fig.resizeObserverInstance.unobserve(fig.canvas_div);\n",
              "\n",
              "    // Update the output cell to use the data from the current canvas.\n",
              "    fig.push_to_output();\n",
              "    var dataURL = fig.canvas.toDataURL();\n",
              "    // Re-enable the keyboard manager in IPython - without this line, in FF,\n",
              "    // the notebook keyboard shortcuts fail.\n",
              "    IPython.keyboard_manager.enable();\n",
              "    fig.parent_element.innerHTML =\n",
              "        '<img src=\"' + dataURL + '\" width=\"' + width + '\">';\n",
              "    fig.close_ws(fig, msg);\n",
              "};\n",
              "\n",
              "mpl.figure.prototype.close_ws = function (fig, msg) {\n",
              "    fig.send_message('closing', msg);\n",
              "    // fig.ws.close()\n",
              "};\n",
              "\n",
              "mpl.figure.prototype.push_to_output = function (_remove_interactive) {\n",
              "    // Turn the data on the canvas into data in the output cell.\n",
              "    var width = this.canvas.width / this.ratio;\n",
              "    var dataURL = this.canvas.toDataURL();\n",
              "    this.cell_info[1]['text/html'] =\n",
              "        '<img src=\"' + dataURL + '\" width=\"' + width + '\">';\n",
              "};\n",
              "\n",
              "mpl.figure.prototype.updated_canvas_event = function () {\n",
              "    // Tell IPython that the notebook contents must change.\n",
              "    IPython.notebook.set_dirty(true);\n",
              "    this.send_message('ack', {});\n",
              "    var fig = this;\n",
              "    // Wait a second, then push the new image to the DOM so\n",
              "    // that it is saved nicely (might be nice to debounce this).\n",
              "    setTimeout(function () {\n",
              "        fig.push_to_output();\n",
              "    }, 1000);\n",
              "};\n",
              "\n",
              "mpl.figure.prototype._init_toolbar = function () {\n",
              "    var fig = this;\n",
              "\n",
              "    var toolbar = document.createElement('div');\n",
              "    toolbar.classList = 'btn-toolbar';\n",
              "    this.root.appendChild(toolbar);\n",
              "\n",
              "    function on_click_closure(name) {\n",
              "        return function (_event) {\n",
              "            return fig.toolbar_button_onclick(name);\n",
              "        };\n",
              "    }\n",
              "\n",
              "    function on_mouseover_closure(tooltip) {\n",
              "        return function (event) {\n",
              "            if (!event.currentTarget.disabled) {\n",
              "                return fig.toolbar_button_onmouseover(tooltip);\n",
              "            }\n",
              "        };\n",
              "    }\n",
              "\n",
              "    fig.buttons = {};\n",
              "    var buttonGroup = document.createElement('div');\n",
              "    buttonGroup.classList = 'btn-group';\n",
              "    var button;\n",
              "    for (var toolbar_ind in mpl.toolbar_items) {\n",
              "        var name = mpl.toolbar_items[toolbar_ind][0];\n",
              "        var tooltip = mpl.toolbar_items[toolbar_ind][1];\n",
              "        var image = mpl.toolbar_items[toolbar_ind][2];\n",
              "        var method_name = mpl.toolbar_items[toolbar_ind][3];\n",
              "\n",
              "        if (!name) {\n",
              "            /* Instead of a spacer, we start a new button group. */\n",
              "            if (buttonGroup.hasChildNodes()) {\n",
              "                toolbar.appendChild(buttonGroup);\n",
              "            }\n",
              "            buttonGroup = document.createElement('div');\n",
              "            buttonGroup.classList = 'btn-group';\n",
              "            continue;\n",
              "        }\n",
              "\n",
              "        button = fig.buttons[name] = document.createElement('button');\n",
              "        button.classList = 'btn btn-default';\n",
              "        button.href = '#';\n",
              "        button.title = name;\n",
              "        button.innerHTML = '<i class=\"fa ' + image + ' fa-lg\"></i>';\n",
              "        button.addEventListener('click', on_click_closure(method_name));\n",
              "        button.addEventListener('mouseover', on_mouseover_closure(tooltip));\n",
              "        buttonGroup.appendChild(button);\n",
              "    }\n",
              "\n",
              "    if (buttonGroup.hasChildNodes()) {\n",
              "        toolbar.appendChild(buttonGroup);\n",
              "    }\n",
              "\n",
              "    // Add the status bar.\n",
              "    var status_bar = document.createElement('span');\n",
              "    status_bar.classList = 'mpl-message pull-right';\n",
              "    toolbar.appendChild(status_bar);\n",
              "    this.message = status_bar;\n",
              "\n",
              "    // Add the close button to the window.\n",
              "    var buttongrp = document.createElement('div');\n",
              "    buttongrp.classList = 'btn-group inline pull-right';\n",
              "    button = document.createElement('button');\n",
              "    button.classList = 'btn btn-mini btn-primary';\n",
              "    button.href = '#';\n",
              "    button.title = 'Stop Interaction';\n",
              "    button.innerHTML = '<i class=\"fa fa-power-off icon-remove icon-large\"></i>';\n",
              "    button.addEventListener('click', function (_evt) {\n",
              "        fig.handle_close(fig, {});\n",
              "    });\n",
              "    button.addEventListener(\n",
              "        'mouseover',\n",
              "        on_mouseover_closure('Stop Interaction')\n",
              "    );\n",
              "    buttongrp.appendChild(button);\n",
              "    var titlebar = this.root.querySelector('.ui-dialog-titlebar');\n",
              "    titlebar.insertBefore(buttongrp, titlebar.firstChild);\n",
              "};\n",
              "\n",
              "mpl.figure.prototype._remove_fig_handler = function (event) {\n",
              "    var fig = event.data.fig;\n",
              "    if (event.target !== this) {\n",
              "        // Ignore bubbled events from children.\n",
              "        return;\n",
              "    }\n",
              "    fig.close_ws(fig, {});\n",
              "};\n",
              "\n",
              "mpl.figure.prototype._root_extra_style = function (el) {\n",
              "    el.style.boxSizing = 'content-box'; // override notebook setting of border-box.\n",
              "};\n",
              "\n",
              "mpl.figure.prototype._canvas_extra_style = function (el) {\n",
              "    // this is important to make the div 'focusable\n",
              "    el.setAttribute('tabindex', 0);\n",
              "    // reach out to IPython and tell the keyboard manager to turn it's self\n",
              "    // off when our div gets focus\n",
              "\n",
              "    // location in version 3\n",
              "    if (IPython.notebook.keyboard_manager) {\n",
              "        IPython.notebook.keyboard_manager.register_events(el);\n",
              "    } else {\n",
              "        // location in version 2\n",
              "        IPython.keyboard_manager.register_events(el);\n",
              "    }\n",
              "};\n",
              "\n",
              "mpl.figure.prototype._key_event_extra = function (event, _name) {\n",
              "    var manager = IPython.notebook.keyboard_manager;\n",
              "    if (!manager) {\n",
              "        manager = IPython.keyboard_manager;\n",
              "    }\n",
              "\n",
              "    // Check for shift+enter\n",
              "    if (event.shiftKey && event.which === 13) {\n",
              "        this.canvas_div.blur();\n",
              "        // select the cell after this one\n",
              "        var index = IPython.notebook.find_cell_index(this.cell_info[0]);\n",
              "        IPython.notebook.select(index + 1);\n",
              "    }\n",
              "};\n",
              "\n",
              "mpl.figure.prototype.handle_save = function (fig, _msg) {\n",
              "    fig.ondownload(fig, null);\n",
              "};\n",
              "\n",
              "mpl.find_output_cell = function (html_output) {\n",
              "    // Return the cell and output element which can be found *uniquely* in the notebook.\n",
              "    // Note - this is a bit hacky, but it is done because the \"notebook_saving.Notebook\"\n",
              "    // IPython event is triggered only after the cells have been serialised, which for\n",
              "    // our purposes (turning an active figure into a static one), is too late.\n",
              "    var cells = IPython.notebook.get_cells();\n",
              "    var ncells = cells.length;\n",
              "    for (var i = 0; i < ncells; i++) {\n",
              "        var cell = cells[i];\n",
              "        if (cell.cell_type === 'code') {\n",
              "            for (var j = 0; j < cell.output_area.outputs.length; j++) {\n",
              "                var data = cell.output_area.outputs[j];\n",
              "                if (data.data) {\n",
              "                    // IPython >= 3 moved mimebundle to data attribute of output\n",
              "                    data = data.data;\n",
              "                }\n",
              "                if (data['text/html'] === html_output) {\n",
              "                    return [cell, data, j];\n",
              "                }\n",
              "            }\n",
              "        }\n",
              "    }\n",
              "};\n",
              "\n",
              "// Register the function which deals with the matplotlib target/channel.\n",
              "// The kernel may be null if the page has been refreshed.\n",
              "if (IPython.notebook.kernel !== null) {\n",
              "    IPython.notebook.kernel.comm_manager.register_target(\n",
              "        'matplotlib',\n",
              "        mpl.mpl_figure_comm\n",
              "    );\n",
              "}\n"
            ],
            "text/plain": [
              "<IPython.core.display.Javascript object>"
            ]
          },
          "metadata": {},
          "output_type": "display_data"
        },
        {
          "data": {
            "text/html": [
              "<img src=\"data:image/png;base64,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\" width=\"640\">"
            ],
            "text/plain": [
              "<IPython.core.display.HTML object>"
            ]
          },
          "metadata": {},
          "output_type": "display_data"
        },
        {
          "data": {
            "text/plain": [
              "<matplotlib.legend.Legend at 0x112310ac0>"
            ]
          },
          "execution_count": 196,
          "metadata": {},
          "output_type": "execute_result"
        }
      ],
      "source": [
        "# ONLY for Jupyter notebook\n",
        "%matplotlib notebook\n",
        "\n",
        "# Import modules \n",
        "import matplotlib.pyplot as plt\n",
        "import math\n",
        "\n",
        "# Data, settings and initial conditions\n",
        "g = 9.8\n",
        "t = 0.\n",
        "h = 0.\n",
        "theta = math.radians(45.)\n",
        "v0 = 1.\n",
        "dt = 0.01\n",
        "        \n",
        "# Compute velocity components\n",
        "v0x = v0*math.cos(theta)\n",
        "v0y = v0*math.sin(theta)\n",
        "print(\"v0_x: %.3f m/s \\t v0_y: %.3f m/s\"%(v0x,v0y))\n",
        "\n",
        "# Results containers\n",
        "x = []\n",
        "y = []\n",
        "\n",
        "# Evolve\n",
        "xi = 0.\n",
        "yi = h\n",
        "while yi>=0:\n",
        "    x.append(xi)\n",
        "    y.append(yi)\n",
        "    t += dt\n",
        "    xi = v0x*t\n",
        "    yi = h + v0y*t - 0.5*g*t*t\n",
        "\n",
        "# Plot results\n",
        "plt.plot(x,y, label=\"trajectory\", color='red', marker='.')\n",
        "plt.legend()\n",
        "\n",
        "# Only for script\n",
        "#plot.show()"
      ]
    },
    {
      "cell_type": "markdown",
      "metadata": {
        "id": "YNKk97mjqPr3"
      },
      "source": [
        "### To make it more flexible we could ask the user to provide initial conditons, e.g., the angle"
      ]
    },
    {
      "cell_type": "code",
      "execution_count": null,
      "metadata": {
        "id": "j0-VdavXqPr3",
        "outputId": "832f3540-ab2f-470f-c655-192508047699"
      },
      "outputs": [
        {
          "name": "stdout",
          "output_type": "stream",
          "text": [
            "Angle theta in [0,90] degrees: -10\n",
            "Angle theta in [0,90] degrees: 100\n",
            "Angle theta in [0,90] degrees: ert\n",
            "Angle theta in [0,90] degrees: 45\n",
            "v0_x: 7.071 m/s \t v0_y: 7.071 m/s\n"
          ]
        },
        {
          "data": {
            "application/javascript": [
              "/* Put everything inside the global mpl namespace */\n",
              "/* global mpl */\n",
              "window.mpl = {};\n",
              "\n",
              "mpl.get_websocket_type = function () {\n",
              "    if (typeof WebSocket !== 'undefined') {\n",
              "        return WebSocket;\n",
              "    } else if (typeof MozWebSocket !== 'undefined') {\n",
              "        return MozWebSocket;\n",
              "    } else {\n",
              "        alert(\n",
              "            'Your browser does not have WebSocket support. ' +\n",
              "                'Please try Chrome, Safari or Firefox ≥ 6. ' +\n",
              "                'Firefox 4 and 5 are also supported but you ' +\n",
              "                'have to enable WebSockets in about:config.'\n",
              "        );\n",
              "    }\n",
              "};\n",
              "\n",
              "mpl.figure = function (figure_id, websocket, ondownload, parent_element) {\n",
              "    this.id = figure_id;\n",
              "\n",
              "    this.ws = websocket;\n",
              "\n",
              "    this.supports_binary = this.ws.binaryType !== undefined;\n",
              "\n",
              "    if (!this.supports_binary) {\n",
              "        var warnings = document.getElementById('mpl-warnings');\n",
              "        if (warnings) {\n",
              "            warnings.style.display = 'block';\n",
              "            warnings.textContent =\n",
              "                'This browser does not support binary websocket messages. ' +\n",
              "                'Performance may be slow.';\n",
              "        }\n",
              "    }\n",
              "\n",
              "    this.imageObj = new Image();\n",
              "\n",
              "    this.context = undefined;\n",
              "    this.message = undefined;\n",
              "    this.canvas = undefined;\n",
              "    this.rubberband_canvas = undefined;\n",
              "    this.rubberband_context = undefined;\n",
              "    this.format_dropdown = undefined;\n",
              "\n",
              "    this.image_mode = 'full';\n",
              "\n",
              "    this.root = document.createElement('div');\n",
              "    this.root.setAttribute('style', 'display: inline-block');\n",
              "    this._root_extra_style(this.root);\n",
              "\n",
              "    parent_element.appendChild(this.root);\n",
              "\n",
              "    this._init_header(this);\n",
              "    this._init_canvas(this);\n",
              "    this._init_toolbar(this);\n",
              "\n",
              "    var fig = this;\n",
              "\n",
              "    this.waiting = false;\n",
              "\n",
              "    this.ws.onopen = function () {\n",
              "        fig.send_message('supports_binary', { value: fig.supports_binary });\n",
              "        fig.send_message('send_image_mode', {});\n",
              "        if (fig.ratio !== 1) {\n",
              "            fig.send_message('set_dpi_ratio', { dpi_ratio: fig.ratio });\n",
              "        }\n",
              "        fig.send_message('refresh', {});\n",
              "    };\n",
              "\n",
              "    this.imageObj.onload = function () {\n",
              "        if (fig.image_mode === 'full') {\n",
              "            // Full images could contain transparency (where diff images\n",
              "            // almost always do), so we need to clear the canvas so that\n",
              "            // there is no ghosting.\n",
              "            fig.context.clearRect(0, 0, fig.canvas.width, fig.canvas.height);\n",
              "        }\n",
              "        fig.context.drawImage(fig.imageObj, 0, 0);\n",
              "    };\n",
              "\n",
              "    this.imageObj.onunload = function () {\n",
              "        fig.ws.close();\n",
              "    };\n",
              "\n",
              "    this.ws.onmessage = this._make_on_message_function(this);\n",
              "\n",
              "    this.ondownload = ondownload;\n",
              "};\n",
              "\n",
              "mpl.figure.prototype._init_header = function () {\n",
              "    var titlebar = document.createElement('div');\n",
              "    titlebar.classList =\n",
              "        'ui-dialog-titlebar ui-widget-header ui-corner-all ui-helper-clearfix';\n",
              "    var titletext = document.createElement('div');\n",
              "    titletext.classList = 'ui-dialog-title';\n",
              "    titletext.setAttribute(\n",
              "        'style',\n",
              "        'width: 100%; text-align: center; padding: 3px;'\n",
              "    );\n",
              "    titlebar.appendChild(titletext);\n",
              "    this.root.appendChild(titlebar);\n",
              "    this.header = titletext;\n",
              "};\n",
              "\n",
              "mpl.figure.prototype._canvas_extra_style = function (_canvas_div) {};\n",
              "\n",
              "mpl.figure.prototype._root_extra_style = function (_canvas_div) {};\n",
              "\n",
              "mpl.figure.prototype._init_canvas = function () {\n",
              "    var fig = this;\n",
              "\n",
              "    var canvas_div = (this.canvas_div = document.createElement('div'));\n",
              "    canvas_div.setAttribute(\n",
              "        'style',\n",
              "        'border: 1px solid #ddd;' +\n",
              "            'box-sizing: content-box;' +\n",
              "            'clear: both;' +\n",
              "            'min-height: 1px;' +\n",
              "            'min-width: 1px;' +\n",
              "            'outline: 0;' +\n",
              "            'overflow: hidden;' +\n",
              "            'position: relative;' +\n",
              "            'resize: both;'\n",
              "    );\n",
              "\n",
              "    function on_keyboard_event_closure(name) {\n",
              "        return function (event) {\n",
              "            return fig.key_event(event, name);\n",
              "        };\n",
              "    }\n",
              "\n",
              "    canvas_div.addEventListener(\n",
              "        'keydown',\n",
              "        on_keyboard_event_closure('key_press')\n",
              "    );\n",
              "    canvas_div.addEventListener(\n",
              "        'keyup',\n",
              "        on_keyboard_event_closure('key_release')\n",
              "    );\n",
              "\n",
              "    this._canvas_extra_style(canvas_div);\n",
              "    this.root.appendChild(canvas_div);\n",
              "\n",
              "    var canvas = (this.canvas = document.createElement('canvas'));\n",
              "    canvas.classList.add('mpl-canvas');\n",
              "    canvas.setAttribute('style', 'box-sizing: content-box;');\n",
              "\n",
              "    this.context = canvas.getContext('2d');\n",
              "\n",
              "    var backingStore =\n",
              "        this.context.backingStorePixelRatio ||\n",
              "        this.context.webkitBackingStorePixelRatio ||\n",
              "        this.context.mozBackingStorePixelRatio ||\n",
              "        this.context.msBackingStorePixelRatio ||\n",
              "        this.context.oBackingStorePixelRatio ||\n",
              "        this.context.backingStorePixelRatio ||\n",
              "        1;\n",
              "\n",
              "    this.ratio = (window.devicePixelRatio || 1) / backingStore;\n",
              "\n",
              "    var rubberband_canvas = (this.rubberband_canvas = document.createElement(\n",
              "        'canvas'\n",
              "    ));\n",
              "    rubberband_canvas.setAttribute(\n",
              "        'style',\n",
              "        'box-sizing: content-box; position: absolute; left: 0; top: 0; z-index: 1;'\n",
              "    );\n",
              "\n",
              "    // Apply a ponyfill if ResizeObserver is not implemented by browser.\n",
              "    if (this.ResizeObserver === undefined) {\n",
              "        if (window.ResizeObserver !== undefined) {\n",
              "            this.ResizeObserver = window.ResizeObserver;\n",
              "        } else {\n",
              "            var obs = _JSXTOOLS_RESIZE_OBSERVER({});\n",
              "            this.ResizeObserver = obs.ResizeObserver;\n",
              "        }\n",
              "    }\n",
              "\n",
              "    this.resizeObserverInstance = new this.ResizeObserver(function (entries) {\n",
              "        var nentries = entries.length;\n",
              "        for (var i = 0; i < nentries; i++) {\n",
              "            var entry = entries[i];\n",
              "            var width, height;\n",
              "            if (entry.contentBoxSize) {\n",
              "                if (entry.contentBoxSize instanceof Array) {\n",
              "                    // Chrome 84 implements new version of spec.\n",
              "                    width = entry.contentBoxSize[0].inlineSize;\n",
              "                    height = entry.contentBoxSize[0].blockSize;\n",
              "                } else {\n",
              "                    // Firefox implements old version of spec.\n",
              "                    width = entry.contentBoxSize.inlineSize;\n",
              "                    height = entry.contentBoxSize.blockSize;\n",
              "                }\n",
              "            } else {\n",
              "                // Chrome <84 implements even older version of spec.\n",
              "                width = entry.contentRect.width;\n",
              "                height = entry.contentRect.height;\n",
              "            }\n",
              "\n",
              "            // Keep the size of the canvas and rubber band canvas in sync with\n",
              "            // the canvas container.\n",
              "            if (entry.devicePixelContentBoxSize) {\n",
              "                // Chrome 84 implements new version of spec.\n",
              "                canvas.setAttribute(\n",
              "                    'width',\n",
              "                    entry.devicePixelContentBoxSize[0].inlineSize\n",
              "                );\n",
              "                canvas.setAttribute(\n",
              "                    'height',\n",
              "                    entry.devicePixelContentBoxSize[0].blockSize\n",
              "                );\n",
              "            } else {\n",
              "                canvas.setAttribute('width', width * fig.ratio);\n",
              "                canvas.setAttribute('height', height * fig.ratio);\n",
              "            }\n",
              "            canvas.setAttribute(\n",
              "                'style',\n",
              "                'width: ' + width + 'px; height: ' + height + 'px;'\n",
              "            );\n",
              "\n",
              "            rubberband_canvas.setAttribute('width', width);\n",
              "            rubberband_canvas.setAttribute('height', height);\n",
              "\n",
              "            // And update the size in Python. We ignore the initial 0/0 size\n",
              "            // that occurs as the element is placed into the DOM, which should\n",
              "            // otherwise not happen due to the minimum size styling.\n",
              "            if (fig.ws.readyState == 1 && width != 0 && height != 0) {\n",
              "                fig.request_resize(width, height);\n",
              "            }\n",
              "        }\n",
              "    });\n",
              "    this.resizeObserverInstance.observe(canvas_div);\n",
              "\n",
              "    function on_mouse_event_closure(name) {\n",
              "        return function (event) {\n",
              "            return fig.mouse_event(event, name);\n",
              "        };\n",
              "    }\n",
              "\n",
              "    rubberband_canvas.addEventListener(\n",
              "        'mousedown',\n",
              "        on_mouse_event_closure('button_press')\n",
              "    );\n",
              "    rubberband_canvas.addEventListener(\n",
              "        'mouseup',\n",
              "        on_mouse_event_closure('button_release')\n",
              "    );\n",
              "    rubberband_canvas.addEventListener(\n",
              "        'dblclick',\n",
              "        on_mouse_event_closure('dblclick')\n",
              "    );\n",
              "    // Throttle sequential mouse events to 1 every 20ms.\n",
              "    rubberband_canvas.addEventListener(\n",
              "        'mousemove',\n",
              "        on_mouse_event_closure('motion_notify')\n",
              "    );\n",
              "\n",
              "    rubberband_canvas.addEventListener(\n",
              "        'mouseenter',\n",
              "        on_mouse_event_closure('figure_enter')\n",
              "    );\n",
              "    rubberband_canvas.addEventListener(\n",
              "        'mouseleave',\n",
              "        on_mouse_event_closure('figure_leave')\n",
              "    );\n",
              "\n",
              "    canvas_div.addEventListener('wheel', function (event) {\n",
              "        if (event.deltaY < 0) {\n",
              "            event.step = 1;\n",
              "        } else {\n",
              "            event.step = -1;\n",
              "        }\n",
              "        on_mouse_event_closure('scroll')(event);\n",
              "    });\n",
              "\n",
              "    canvas_div.appendChild(canvas);\n",
              "    canvas_div.appendChild(rubberband_canvas);\n",
              "\n",
              "    this.rubberband_context = rubberband_canvas.getContext('2d');\n",
              "    this.rubberband_context.strokeStyle = '#000000';\n",
              "\n",
              "    this._resize_canvas = function (width, height, forward) {\n",
              "        if (forward) {\n",
              "            canvas_div.style.width = width + 'px';\n",
              "            canvas_div.style.height = height + 'px';\n",
              "        }\n",
              "    };\n",
              "\n",
              "    // Disable right mouse context menu.\n",
              "    this.rubberband_canvas.addEventListener('contextmenu', function (_e) {\n",
              "        event.preventDefault();\n",
              "        return false;\n",
              "    });\n",
              "\n",
              "    function set_focus() {\n",
              "        canvas.focus();\n",
              "        canvas_div.focus();\n",
              "    }\n",
              "\n",
              "    window.setTimeout(set_focus, 100);\n",
              "};\n",
              "\n",
              "mpl.figure.prototype._init_toolbar = function () {\n",
              "    var fig = this;\n",
              "\n",
              "    var toolbar = document.createElement('div');\n",
              "    toolbar.classList = 'mpl-toolbar';\n",
              "    this.root.appendChild(toolbar);\n",
              "\n",
              "    function on_click_closure(name) {\n",
              "        return function (_event) {\n",
              "            return fig.toolbar_button_onclick(name);\n",
              "        };\n",
              "    }\n",
              "\n",
              "    function on_mouseover_closure(tooltip) {\n",
              "        return function (event) {\n",
              "            if (!event.currentTarget.disabled) {\n",
              "                return fig.toolbar_button_onmouseover(tooltip);\n",
              "            }\n",
              "        };\n",
              "    }\n",
              "\n",
              "    fig.buttons = {};\n",
              "    var buttonGroup = document.createElement('div');\n",
              "    buttonGroup.classList = 'mpl-button-group';\n",
              "    for (var toolbar_ind in mpl.toolbar_items) {\n",
              "        var name = mpl.toolbar_items[toolbar_ind][0];\n",
              "        var tooltip = mpl.toolbar_items[toolbar_ind][1];\n",
              "        var image = mpl.toolbar_items[toolbar_ind][2];\n",
              "        var method_name = mpl.toolbar_items[toolbar_ind][3];\n",
              "\n",
              "        if (!name) {\n",
              "            /* Instead of a spacer, we start a new button group. */\n",
              "            if (buttonGroup.hasChildNodes()) {\n",
              "                toolbar.appendChild(buttonGroup);\n",
              "            }\n",
              "            buttonGroup = document.createElement('div');\n",
              "            buttonGroup.classList = 'mpl-button-group';\n",
              "            continue;\n",
              "        }\n",
              "\n",
              "        var button = (fig.buttons[name] = document.createElement('button'));\n",
              "        button.classList = 'mpl-widget';\n",
              "        button.setAttribute('role', 'button');\n",
              "        button.setAttribute('aria-disabled', 'false');\n",
              "        button.addEventListener('click', on_click_closure(method_name));\n",
              "        button.addEventListener('mouseover', on_mouseover_closure(tooltip));\n",
              "\n",
              "        var icon_img = document.createElement('img');\n",
              "        icon_img.src = '_images/' + image + '.png';\n",
              "        icon_img.srcset = '_images/' + image + '_large.png 2x';\n",
              "        icon_img.alt = tooltip;\n",
              "        button.appendChild(icon_img);\n",
              "\n",
              "        buttonGroup.appendChild(button);\n",
              "    }\n",
              "\n",
              "    if (buttonGroup.hasChildNodes()) {\n",
              "        toolbar.appendChild(buttonGroup);\n",
              "    }\n",
              "\n",
              "    var fmt_picker = document.createElement('select');\n",
              "    fmt_picker.classList = 'mpl-widget';\n",
              "    toolbar.appendChild(fmt_picker);\n",
              "    this.format_dropdown = fmt_picker;\n",
              "\n",
              "    for (var ind in mpl.extensions) {\n",
              "        var fmt = mpl.extensions[ind];\n",
              "        var option = document.createElement('option');\n",
              "        option.selected = fmt === mpl.default_extension;\n",
              "        option.innerHTML = fmt;\n",
              "        fmt_picker.appendChild(option);\n",
              "    }\n",
              "\n",
              "    var status_bar = document.createElement('span');\n",
              "    status_bar.classList = 'mpl-message';\n",
              "    toolbar.appendChild(status_bar);\n",
              "    this.message = status_bar;\n",
              "};\n",
              "\n",
              "mpl.figure.prototype.request_resize = function (x_pixels, y_pixels) {\n",
              "    // Request matplotlib to resize the figure. Matplotlib will then trigger a resize in the client,\n",
              "    // which will in turn request a refresh of the image.\n",
              "    this.send_message('resize', { width: x_pixels, height: y_pixels });\n",
              "};\n",
              "\n",
              "mpl.figure.prototype.send_message = function (type, properties) {\n",
              "    properties['type'] = type;\n",
              "    properties['figure_id'] = this.id;\n",
              "    this.ws.send(JSON.stringify(properties));\n",
              "};\n",
              "\n",
              "mpl.figure.prototype.send_draw_message = function () {\n",
              "    if (!this.waiting) {\n",
              "        this.waiting = true;\n",
              "        this.ws.send(JSON.stringify({ type: 'draw', figure_id: this.id }));\n",
              "    }\n",
              "};\n",
              "\n",
              "mpl.figure.prototype.handle_save = function (fig, _msg) {\n",
              "    var format_dropdown = fig.format_dropdown;\n",
              "    var format = format_dropdown.options[format_dropdown.selectedIndex].value;\n",
              "    fig.ondownload(fig, format);\n",
              "};\n",
              "\n",
              "mpl.figure.prototype.handle_resize = function (fig, msg) {\n",
              "    var size = msg['size'];\n",
              "    if (size[0] !== fig.canvas.width || size[1] !== fig.canvas.height) {\n",
              "        fig._resize_canvas(size[0], size[1], msg['forward']);\n",
              "        fig.send_message('refresh', {});\n",
              "    }\n",
              "};\n",
              "\n",
              "mpl.figure.prototype.handle_rubberband = function (fig, msg) {\n",
              "    var x0 = msg['x0'] / fig.ratio;\n",
              "    var y0 = (fig.canvas.height - msg['y0']) / fig.ratio;\n",
              "    var x1 = msg['x1'] / fig.ratio;\n",
              "    var y1 = (fig.canvas.height - msg['y1']) / fig.ratio;\n",
              "    x0 = Math.floor(x0) + 0.5;\n",
              "    y0 = Math.floor(y0) + 0.5;\n",
              "    x1 = Math.floor(x1) + 0.5;\n",
              "    y1 = Math.floor(y1) + 0.5;\n",
              "    var min_x = Math.min(x0, x1);\n",
              "    var min_y = Math.min(y0, y1);\n",
              "    var width = Math.abs(x1 - x0);\n",
              "    var height = Math.abs(y1 - y0);\n",
              "\n",
              "    fig.rubberband_context.clearRect(\n",
              "        0,\n",
              "        0,\n",
              "        fig.canvas.width / fig.ratio,\n",
              "        fig.canvas.height / fig.ratio\n",
              "    );\n",
              "\n",
              "    fig.rubberband_context.strokeRect(min_x, min_y, width, height);\n",
              "};\n",
              "\n",
              "mpl.figure.prototype.handle_figure_label = function (fig, msg) {\n",
              "    // Updates the figure title.\n",
              "    fig.header.textContent = msg['label'];\n",
              "};\n",
              "\n",
              "mpl.figure.prototype.handle_cursor = function (fig, msg) {\n",
              "    var cursor = msg['cursor'];\n",
              "    switch (cursor) {\n",
              "        case 0:\n",
              "            cursor = 'pointer';\n",
              "            break;\n",
              "        case 1:\n",
              "            cursor = 'default';\n",
              "            break;\n",
              "        case 2:\n",
              "            cursor = 'crosshair';\n",
              "            break;\n",
              "        case 3:\n",
              "            cursor = 'move';\n",
              "            break;\n",
              "    }\n",
              "    fig.rubberband_canvas.style.cursor = cursor;\n",
              "};\n",
              "\n",
              "mpl.figure.prototype.handle_message = function (fig, msg) {\n",
              "    fig.message.textContent = msg['message'];\n",
              "};\n",
              "\n",
              "mpl.figure.prototype.handle_draw = function (fig, _msg) {\n",
              "    // Request the server to send over a new figure.\n",
              "    fig.send_draw_message();\n",
              "};\n",
              "\n",
              "mpl.figure.prototype.handle_image_mode = function (fig, msg) {\n",
              "    fig.image_mode = msg['mode'];\n",
              "};\n",
              "\n",
              "mpl.figure.prototype.handle_history_buttons = function (fig, msg) {\n",
              "    for (var key in msg) {\n",
              "        if (!(key in fig.buttons)) {\n",
              "            continue;\n",
              "        }\n",
              "        fig.buttons[key].disabled = !msg[key];\n",
              "        fig.buttons[key].setAttribute('aria-disabled', !msg[key]);\n",
              "    }\n",
              "};\n",
              "\n",
              "mpl.figure.prototype.handle_navigate_mode = function (fig, msg) {\n",
              "    if (msg['mode'] === 'PAN') {\n",
              "        fig.buttons['Pan'].classList.add('active');\n",
              "        fig.buttons['Zoom'].classList.remove('active');\n",
              "    } else if (msg['mode'] === 'ZOOM') {\n",
              "        fig.buttons['Pan'].classList.remove('active');\n",
              "        fig.buttons['Zoom'].classList.add('active');\n",
              "    } else {\n",
              "        fig.buttons['Pan'].classList.remove('active');\n",
              "        fig.buttons['Zoom'].classList.remove('active');\n",
              "    }\n",
              "};\n",
              "\n",
              "mpl.figure.prototype.updated_canvas_event = function () {\n",
              "    // Called whenever the canvas gets updated.\n",
              "    this.send_message('ack', {});\n",
              "};\n",
              "\n",
              "// A function to construct a web socket function for onmessage handling.\n",
              "// Called in the figure constructor.\n",
              "mpl.figure.prototype._make_on_message_function = function (fig) {\n",
              "    return function socket_on_message(evt) {\n",
              "        if (evt.data instanceof Blob) {\n",
              "            var img = evt.data;\n",
              "            if (img.type !== 'image/png') {\n",
              "                /* FIXME: We get \"Resource interpreted as Image but\n",
              "                 * transferred with MIME type text/plain:\" errors on\n",
              "                 * Chrome.  But how to set the MIME type?  It doesn't seem\n",
              "                 * to be part of the websocket stream */\n",
              "                img.type = 'image/png';\n",
              "            }\n",
              "\n",
              "            /* Free the memory for the previous frames */\n",
              "            if (fig.imageObj.src) {\n",
              "                (window.URL || window.webkitURL).revokeObjectURL(\n",
              "                    fig.imageObj.src\n",
              "                );\n",
              "            }\n",
              "\n",
              "            fig.imageObj.src = (window.URL || window.webkitURL).createObjectURL(\n",
              "                img\n",
              "            );\n",
              "            fig.updated_canvas_event();\n",
              "            fig.waiting = false;\n",
              "            return;\n",
              "        } else if (\n",
              "            typeof evt.data === 'string' &&\n",
              "            evt.data.slice(0, 21) === 'data:image/png;base64'\n",
              "        ) {\n",
              "            fig.imageObj.src = evt.data;\n",
              "            fig.updated_canvas_event();\n",
              "            fig.waiting = false;\n",
              "            return;\n",
              "        }\n",
              "\n",
              "        var msg = JSON.parse(evt.data);\n",
              "        var msg_type = msg['type'];\n",
              "\n",
              "        // Call the  \"handle_{type}\" callback, which takes\n",
              "        // the figure and JSON message as its only arguments.\n",
              "        try {\n",
              "            var callback = fig['handle_' + msg_type];\n",
              "        } catch (e) {\n",
              "            console.log(\n",
              "                \"No handler for the '\" + msg_type + \"' message type: \",\n",
              "                msg\n",
              "            );\n",
              "            return;\n",
              "        }\n",
              "\n",
              "        if (callback) {\n",
              "            try {\n",
              "                // console.log(\"Handling '\" + msg_type + \"' message: \", msg);\n",
              "                callback(fig, msg);\n",
              "            } catch (e) {\n",
              "                console.log(\n",
              "                    \"Exception inside the 'handler_\" + msg_type + \"' callback:\",\n",
              "                    e,\n",
              "                    e.stack,\n",
              "                    msg\n",
              "                );\n",
              "            }\n",
              "        }\n",
              "    };\n",
              "};\n",
              "\n",
              "// from http://stackoverflow.com/questions/1114465/getting-mouse-location-in-canvas\n",
              "mpl.findpos = function (e) {\n",
              "    //this section is from http://www.quirksmode.org/js/events_properties.html\n",
              "    var targ;\n",
              "    if (!e) {\n",
              "        e = window.event;\n",
              "    }\n",
              "    if (e.target) {\n",
              "        targ = e.target;\n",
              "    } else if (e.srcElement) {\n",
              "        targ = e.srcElement;\n",
              "    }\n",
              "    if (targ.nodeType === 3) {\n",
              "        // defeat Safari bug\n",
              "        targ = targ.parentNode;\n",
              "    }\n",
              "\n",
              "    // pageX,Y are the mouse positions relative to the document\n",
              "    var boundingRect = targ.getBoundingClientRect();\n",
              "    var x = e.pageX - (boundingRect.left + document.body.scrollLeft);\n",
              "    var y = e.pageY - (boundingRect.top + document.body.scrollTop);\n",
              "\n",
              "    return { x: x, y: y };\n",
              "};\n",
              "\n",
              "/*\n",
              " * return a copy of an object with only non-object keys\n",
              " * we need this to avoid circular references\n",
              " * http://stackoverflow.com/a/24161582/3208463\n",
              " */\n",
              "function simpleKeys(original) {\n",
              "    return Object.keys(original).reduce(function (obj, key) {\n",
              "        if (typeof original[key] !== 'object') {\n",
              "            obj[key] = original[key];\n",
              "        }\n",
              "        return obj;\n",
              "    }, {});\n",
              "}\n",
              "\n",
              "mpl.figure.prototype.mouse_event = function (event, name) {\n",
              "    var canvas_pos = mpl.findpos(event);\n",
              "\n",
              "    if (name === 'button_press') {\n",
              "        this.canvas.focus();\n",
              "        this.canvas_div.focus();\n",
              "    }\n",
              "\n",
              "    var x = canvas_pos.x * this.ratio;\n",
              "    var y = canvas_pos.y * this.ratio;\n",
              "\n",
              "    this.send_message(name, {\n",
              "        x: x,\n",
              "        y: y,\n",
              "        button: event.button,\n",
              "        step: event.step,\n",
              "        guiEvent: simpleKeys(event),\n",
              "    });\n",
              "\n",
              "    /* This prevents the web browser from automatically changing to\n",
              "     * the text insertion cursor when the button is pressed.  We want\n",
              "     * to control all of the cursor setting manually through the\n",
              "     * 'cursor' event from matplotlib */\n",
              "    event.preventDefault();\n",
              "    return false;\n",
              "};\n",
              "\n",
              "mpl.figure.prototype._key_event_extra = function (_event, _name) {\n",
              "    // Handle any extra behaviour associated with a key event\n",
              "};\n",
              "\n",
              "mpl.figure.prototype.key_event = function (event, name) {\n",
              "    // Prevent repeat events\n",
              "    if (name === 'key_press') {\n",
              "        if (event.key === this._key) {\n",
              "            return;\n",
              "        } else {\n",
              "            this._key = event.key;\n",
              "        }\n",
              "    }\n",
              "    if (name === 'key_release') {\n",
              "        this._key = null;\n",
              "    }\n",
              "\n",
              "    var value = '';\n",
              "    if (event.ctrlKey && event.key !== 'Control') {\n",
              "        value += 'ctrl+';\n",
              "    }\n",
              "    else if (event.altKey && event.key !== 'Alt') {\n",
              "        value += 'alt+';\n",
              "    }\n",
              "    else if (event.shiftKey && event.key !== 'Shift') {\n",
              "        value += 'shift+';\n",
              "    }\n",
              "\n",
              "    value += 'k' + event.key;\n",
              "\n",
              "    this._key_event_extra(event, name);\n",
              "\n",
              "    this.send_message(name, { key: value, guiEvent: simpleKeys(event) });\n",
              "    return false;\n",
              "};\n",
              "\n",
              "mpl.figure.prototype.toolbar_button_onclick = function (name) {\n",
              "    if (name === 'download') {\n",
              "        this.handle_save(this, null);\n",
              "    } else {\n",
              "        this.send_message('toolbar_button', { name: name });\n",
              "    }\n",
              "};\n",
              "\n",
              "mpl.figure.prototype.toolbar_button_onmouseover = function (tooltip) {\n",
              "    this.message.textContent = tooltip;\n",
              "};\n",
              "\n",
              "///////////////// REMAINING CONTENT GENERATED BY embed_js.py /////////////////\n",
              "// prettier-ignore\n",
              "var _JSXTOOLS_RESIZE_OBSERVER=function(A){var t,i=new WeakMap,n=new WeakMap,a=new WeakMap,r=new WeakMap,o=new Set;function s(e){if(!(this instanceof s))throw new TypeError(\"Constructor requires 'new' operator\");i.set(this,e)}function h(){throw new TypeError(\"Function is not a constructor\")}function c(e,t,i,n){e=0 in arguments?Number(arguments[0]):0,t=1 in arguments?Number(arguments[1]):0,i=2 in arguments?Number(arguments[2]):0,n=3 in arguments?Number(arguments[3]):0,this.right=(this.x=this.left=e)+(this.width=i),this.bottom=(this.y=this.top=t)+(this.height=n),Object.freeze(this)}function d(){t=requestAnimationFrame(d);var s=new WeakMap,p=new Set;o.forEach((function(t){r.get(t).forEach((function(i){var r=t instanceof window.SVGElement,o=a.get(t),d=r?0:parseFloat(o.paddingTop),f=r?0:parseFloat(o.paddingRight),l=r?0:parseFloat(o.paddingBottom),u=r?0:parseFloat(o.paddingLeft),g=r?0:parseFloat(o.borderTopWidth),m=r?0:parseFloat(o.borderRightWidth),w=r?0:parseFloat(o.borderBottomWidth),b=u+f,F=d+l,v=(r?0:parseFloat(o.borderLeftWidth))+m,W=g+w,y=r?0:t.offsetHeight-W-t.clientHeight,E=r?0:t.offsetWidth-v-t.clientWidth,R=b+v,z=F+W,M=r?t.width:parseFloat(o.width)-R-E,O=r?t.height:parseFloat(o.height)-z-y;if(n.has(t)){var k=n.get(t);if(k[0]===M&&k[1]===O)return}n.set(t,[M,O]);var S=Object.create(h.prototype);S.target=t,S.contentRect=new c(u,d,M,O),s.has(i)||(s.set(i,[]),p.add(i)),s.get(i).push(S)}))})),p.forEach((function(e){i.get(e).call(e,s.get(e),e)}))}return s.prototype.observe=function(i){if(i instanceof window.Element){r.has(i)||(r.set(i,new Set),o.add(i),a.set(i,window.getComputedStyle(i)));var n=r.get(i);n.has(this)||n.add(this),cancelAnimationFrame(t),t=requestAnimationFrame(d)}},s.prototype.unobserve=function(i){if(i instanceof window.Element&&r.has(i)){var n=r.get(i);n.has(this)&&(n.delete(this),n.size||(r.delete(i),o.delete(i))),n.size||r.delete(i),o.size||cancelAnimationFrame(t)}},A.DOMRectReadOnly=c,A.ResizeObserver=s,A.ResizeObserverEntry=h,A}; // eslint-disable-line\n",
              "mpl.toolbar_items = [[\"Home\", \"Reset original view\", \"fa fa-home icon-home\", \"home\"], [\"Back\", \"Back to previous view\", \"fa fa-arrow-left icon-arrow-left\", \"back\"], [\"Forward\", \"Forward to next view\", \"fa fa-arrow-right icon-arrow-right\", \"forward\"], [\"\", \"\", \"\", \"\"], [\"Pan\", \"Left button pans, Right button zooms\\nx/y fixes axis, CTRL fixes aspect\", \"fa fa-arrows icon-move\", \"pan\"], [\"Zoom\", \"Zoom to rectangle\\nx/y fixes axis, CTRL fixes aspect\", \"fa fa-square-o icon-check-empty\", \"zoom\"], [\"\", \"\", \"\", \"\"], [\"Download\", \"Download plot\", \"fa fa-floppy-o icon-save\", \"download\"]];\n",
              "\n",
              "mpl.extensions = [\"eps\", \"jpeg\", \"pgf\", \"pdf\", \"png\", \"ps\", \"raw\", \"svg\", \"tif\"];\n",
              "\n",
              "mpl.default_extension = \"png\";/* global mpl */\n",
              "\n",
              "var comm_websocket_adapter = function (comm) {\n",
              "    // Create a \"websocket\"-like object which calls the given IPython comm\n",
              "    // object with the appropriate methods. Currently this is a non binary\n",
              "    // socket, so there is still some room for performance tuning.\n",
              "    var ws = {};\n",
              "\n",
              "    ws.binaryType = comm.kernel.ws.binaryType;\n",
              "    ws.readyState = comm.kernel.ws.readyState;\n",
              "    function updateReadyState(_event) {\n",
              "        if (comm.kernel.ws) {\n",
              "            ws.readyState = comm.kernel.ws.readyState;\n",
              "        } else {\n",
              "            ws.readyState = 3; // Closed state.\n",
              "        }\n",
              "    }\n",
              "    comm.kernel.ws.addEventListener('open', updateReadyState);\n",
              "    comm.kernel.ws.addEventListener('close', updateReadyState);\n",
              "    comm.kernel.ws.addEventListener('error', updateReadyState);\n",
              "\n",
              "    ws.close = function () {\n",
              "        comm.close();\n",
              "    };\n",
              "    ws.send = function (m) {\n",
              "        //console.log('sending', m);\n",
              "        comm.send(m);\n",
              "    };\n",
              "    // Register the callback with on_msg.\n",
              "    comm.on_msg(function (msg) {\n",
              "        //console.log('receiving', msg['content']['data'], msg);\n",
              "        var data = msg['content']['data'];\n",
              "        if (data['blob'] !== undefined) {\n",
              "            data = {\n",
              "                data: new Blob(msg['buffers'], { type: data['blob'] }),\n",
              "            };\n",
              "        }\n",
              "        // Pass the mpl event to the overridden (by mpl) onmessage function.\n",
              "        ws.onmessage(data);\n",
              "    });\n",
              "    return ws;\n",
              "};\n",
              "\n",
              "mpl.mpl_figure_comm = function (comm, msg) {\n",
              "    // This is the function which gets called when the mpl process\n",
              "    // starts-up an IPython Comm through the \"matplotlib\" channel.\n",
              "\n",
              "    var id = msg.content.data.id;\n",
              "    // Get hold of the div created by the display call when the Comm\n",
              "    // socket was opened in Python.\n",
              "    var element = document.getElementById(id);\n",
              "    var ws_proxy = comm_websocket_adapter(comm);\n",
              "\n",
              "    function ondownload(figure, _format) {\n",
              "        window.open(figure.canvas.toDataURL());\n",
              "    }\n",
              "\n",
              "    var fig = new mpl.figure(id, ws_proxy, ondownload, element);\n",
              "\n",
              "    // Call onopen now - mpl needs it, as it is assuming we've passed it a real\n",
              "    // web socket which is closed, not our websocket->open comm proxy.\n",
              "    ws_proxy.onopen();\n",
              "\n",
              "    fig.parent_element = element;\n",
              "    fig.cell_info = mpl.find_output_cell(\"<div id='\" + id + \"'></div>\");\n",
              "    if (!fig.cell_info) {\n",
              "        console.error('Failed to find cell for figure', id, fig);\n",
              "        return;\n",
              "    }\n",
              "    fig.cell_info[0].output_area.element.on(\n",
              "        'cleared',\n",
              "        { fig: fig },\n",
              "        fig._remove_fig_handler\n",
              "    );\n",
              "};\n",
              "\n",
              "mpl.figure.prototype.handle_close = function (fig, msg) {\n",
              "    var width = fig.canvas.width / fig.ratio;\n",
              "    fig.cell_info[0].output_area.element.off(\n",
              "        'cleared',\n",
              "        fig._remove_fig_handler\n",
              "    );\n",
              "    fig.resizeObserverInstance.unobserve(fig.canvas_div);\n",
              "\n",
              "    // Update the output cell to use the data from the current canvas.\n",
              "    fig.push_to_output();\n",
              "    var dataURL = fig.canvas.toDataURL();\n",
              "    // Re-enable the keyboard manager in IPython - without this line, in FF,\n",
              "    // the notebook keyboard shortcuts fail.\n",
              "    IPython.keyboard_manager.enable();\n",
              "    fig.parent_element.innerHTML =\n",
              "        '<img src=\"' + dataURL + '\" width=\"' + width + '\">';\n",
              "    fig.close_ws(fig, msg);\n",
              "};\n",
              "\n",
              "mpl.figure.prototype.close_ws = function (fig, msg) {\n",
              "    fig.send_message('closing', msg);\n",
              "    // fig.ws.close()\n",
              "};\n",
              "\n",
              "mpl.figure.prototype.push_to_output = function (_remove_interactive) {\n",
              "    // Turn the data on the canvas into data in the output cell.\n",
              "    var width = this.canvas.width / this.ratio;\n",
              "    var dataURL = this.canvas.toDataURL();\n",
              "    this.cell_info[1]['text/html'] =\n",
              "        '<img src=\"' + dataURL + '\" width=\"' + width + '\">';\n",
              "};\n",
              "\n",
              "mpl.figure.prototype.updated_canvas_event = function () {\n",
              "    // Tell IPython that the notebook contents must change.\n",
              "    IPython.notebook.set_dirty(true);\n",
              "    this.send_message('ack', {});\n",
              "    var fig = this;\n",
              "    // Wait a second, then push the new image to the DOM so\n",
              "    // that it is saved nicely (might be nice to debounce this).\n",
              "    setTimeout(function () {\n",
              "        fig.push_to_output();\n",
              "    }, 1000);\n",
              "};\n",
              "\n",
              "mpl.figure.prototype._init_toolbar = function () {\n",
              "    var fig = this;\n",
              "\n",
              "    var toolbar = document.createElement('div');\n",
              "    toolbar.classList = 'btn-toolbar';\n",
              "    this.root.appendChild(toolbar);\n",
              "\n",
              "    function on_click_closure(name) {\n",
              "        return function (_event) {\n",
              "            return fig.toolbar_button_onclick(name);\n",
              "        };\n",
              "    }\n",
              "\n",
              "    function on_mouseover_closure(tooltip) {\n",
              "        return function (event) {\n",
              "            if (!event.currentTarget.disabled) {\n",
              "                return fig.toolbar_button_onmouseover(tooltip);\n",
              "            }\n",
              "        };\n",
              "    }\n",
              "\n",
              "    fig.buttons = {};\n",
              "    var buttonGroup = document.createElement('div');\n",
              "    buttonGroup.classList = 'btn-group';\n",
              "    var button;\n",
              "    for (var toolbar_ind in mpl.toolbar_items) {\n",
              "        var name = mpl.toolbar_items[toolbar_ind][0];\n",
              "        var tooltip = mpl.toolbar_items[toolbar_ind][1];\n",
              "        var image = mpl.toolbar_items[toolbar_ind][2];\n",
              "        var method_name = mpl.toolbar_items[toolbar_ind][3];\n",
              "\n",
              "        if (!name) {\n",
              "            /* Instead of a spacer, we start a new button group. */\n",
              "            if (buttonGroup.hasChildNodes()) {\n",
              "                toolbar.appendChild(buttonGroup);\n",
              "            }\n",
              "            buttonGroup = document.createElement('div');\n",
              "            buttonGroup.classList = 'btn-group';\n",
              "            continue;\n",
              "        }\n",
              "\n",
              "        button = fig.buttons[name] = document.createElement('button');\n",
              "        button.classList = 'btn btn-default';\n",
              "        button.href = '#';\n",
              "        button.title = name;\n",
              "        button.innerHTML = '<i class=\"fa ' + image + ' fa-lg\"></i>';\n",
              "        button.addEventListener('click', on_click_closure(method_name));\n",
              "        button.addEventListener('mouseover', on_mouseover_closure(tooltip));\n",
              "        buttonGroup.appendChild(button);\n",
              "    }\n",
              "\n",
              "    if (buttonGroup.hasChildNodes()) {\n",
              "        toolbar.appendChild(buttonGroup);\n",
              "    }\n",
              "\n",
              "    // Add the status bar.\n",
              "    var status_bar = document.createElement('span');\n",
              "    status_bar.classList = 'mpl-message pull-right';\n",
              "    toolbar.appendChild(status_bar);\n",
              "    this.message = status_bar;\n",
              "\n",
              "    // Add the close button to the window.\n",
              "    var buttongrp = document.createElement('div');\n",
              "    buttongrp.classList = 'btn-group inline pull-right';\n",
              "    button = document.createElement('button');\n",
              "    button.classList = 'btn btn-mini btn-primary';\n",
              "    button.href = '#';\n",
              "    button.title = 'Stop Interaction';\n",
              "    button.innerHTML = '<i class=\"fa fa-power-off icon-remove icon-large\"></i>';\n",
              "    button.addEventListener('click', function (_evt) {\n",
              "        fig.handle_close(fig, {});\n",
              "    });\n",
              "    button.addEventListener(\n",
              "        'mouseover',\n",
              "        on_mouseover_closure('Stop Interaction')\n",
              "    );\n",
              "    buttongrp.appendChild(button);\n",
              "    var titlebar = this.root.querySelector('.ui-dialog-titlebar');\n",
              "    titlebar.insertBefore(buttongrp, titlebar.firstChild);\n",
              "};\n",
              "\n",
              "mpl.figure.prototype._remove_fig_handler = function (event) {\n",
              "    var fig = event.data.fig;\n",
              "    if (event.target !== this) {\n",
              "        // Ignore bubbled events from children.\n",
              "        return;\n",
              "    }\n",
              "    fig.close_ws(fig, {});\n",
              "};\n",
              "\n",
              "mpl.figure.prototype._root_extra_style = function (el) {\n",
              "    el.style.boxSizing = 'content-box'; // override notebook setting of border-box.\n",
              "};\n",
              "\n",
              "mpl.figure.prototype._canvas_extra_style = function (el) {\n",
              "    // this is important to make the div 'focusable\n",
              "    el.setAttribute('tabindex', 0);\n",
              "    // reach out to IPython and tell the keyboard manager to turn it's self\n",
              "    // off when our div gets focus\n",
              "\n",
              "    // location in version 3\n",
              "    if (IPython.notebook.keyboard_manager) {\n",
              "        IPython.notebook.keyboard_manager.register_events(el);\n",
              "    } else {\n",
              "        // location in version 2\n",
              "        IPython.keyboard_manager.register_events(el);\n",
              "    }\n",
              "};\n",
              "\n",
              "mpl.figure.prototype._key_event_extra = function (event, _name) {\n",
              "    var manager = IPython.notebook.keyboard_manager;\n",
              "    if (!manager) {\n",
              "        manager = IPython.keyboard_manager;\n",
              "    }\n",
              "\n",
              "    // Check for shift+enter\n",
              "    if (event.shiftKey && event.which === 13) {\n",
              "        this.canvas_div.blur();\n",
              "        // select the cell after this one\n",
              "        var index = IPython.notebook.find_cell_index(this.cell_info[0]);\n",
              "        IPython.notebook.select(index + 1);\n",
              "    }\n",
              "};\n",
              "\n",
              "mpl.figure.prototype.handle_save = function (fig, _msg) {\n",
              "    fig.ondownload(fig, null);\n",
              "};\n",
              "\n",
              "mpl.find_output_cell = function (html_output) {\n",
              "    // Return the cell and output element which can be found *uniquely* in the notebook.\n",
              "    // Note - this is a bit hacky, but it is done because the \"notebook_saving.Notebook\"\n",
              "    // IPython event is triggered only after the cells have been serialised, which for\n",
              "    // our purposes (turning an active figure into a static one), is too late.\n",
              "    var cells = IPython.notebook.get_cells();\n",
              "    var ncells = cells.length;\n",
              "    for (var i = 0; i < ncells; i++) {\n",
              "        var cell = cells[i];\n",
              "        if (cell.cell_type === 'code') {\n",
              "            for (var j = 0; j < cell.output_area.outputs.length; j++) {\n",
              "                var data = cell.output_area.outputs[j];\n",
              "                if (data.data) {\n",
              "                    // IPython >= 3 moved mimebundle to data attribute of output\n",
              "                    data = data.data;\n",
              "                }\n",
              "                if (data['text/html'] === html_output) {\n",
              "                    return [cell, data, j];\n",
              "                }\n",
              "            }\n",
              "        }\n",
              "    }\n",
              "};\n",
              "\n",
              "// Register the function which deals with the matplotlib target/channel.\n",
              "// The kernel may be null if the page has been refreshed.\n",
              "if (IPython.notebook.kernel !== null) {\n",
              "    IPython.notebook.kernel.comm_manager.register_target(\n",
              "        'matplotlib',\n",
              "        mpl.mpl_figure_comm\n",
              "    );\n",
              "}\n"
            ],
            "text/plain": [
              "<IPython.core.display.Javascript object>"
            ]
          },
          "metadata": {},
          "output_type": "display_data"
        },
        {
          "data": {
            "text/html": [
              "<img src=\"data:image/png;base64,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\" width=\"640\">"
            ],
            "text/plain": [
              "<IPython.core.display.HTML object>"
            ]
          },
          "metadata": {},
          "output_type": "display_data"
        },
        {
          "data": {
            "text/plain": [
              "[<matplotlib.lines.Line2D at 0x112511b20>]"
            ]
          },
          "execution_count": 199,
          "metadata": {},
          "output_type": "execute_result"
        }
      ],
      "source": [
        "# ONLY for jupyter notebook\n",
        "%matplotlib notebook\n",
        "\n",
        "# Import modules\n",
        "import matplotlib.pyplot as plt\n",
        "import math\n",
        "\n",
        "# Data, settings and initial conditions\n",
        "g = 9.8\n",
        "h = 0.\n",
        "t = 0.\n",
        "v0 = 10.\n",
        "dt = 0.1\n",
        "\n",
        "# Let user pick angle\n",
        "while True:\n",
        "    try:\n",
        "        theta = float(input(\"Angle theta in [0,90] degrees: \"))\n",
        "    except:\n",
        "        theta = -1.\n",
        "    finally:\n",
        "        if(theta>0 and theta<90): break\n",
        "theta = math.radians(theta)\n",
        "\n",
        "# Compute velocity components\n",
        "v0x = v0*math.cos(theta)\n",
        "v0y = v0*math.sin(theta)\n",
        "print(\"v0_x: %.3f m/s \\t v0_y: %.3f m/s\"%(v0x,v0y))\n",
        "\n",
        "# Results containers\n",
        "x = []\n",
        "y = []\n",
        "\n",
        "# Evolve\n",
        "xi = 0\n",
        "yi = h\n",
        "while yi>=0:\n",
        "    x.append(xi)\n",
        "    y.append(yi)\n",
        "    t += dt\n",
        "    xi = v0x*t\n",
        "    yi = h + v0y*t - 0.5*g*t*t\n",
        "\n",
        "# Plot results\n",
        "plt.plot(x,y, marker='x', color='magenta')\n",
        "\n",
        "# Only for script\n",
        "#plot.show()"
      ]
    },
    {
      "cell_type": "markdown",
      "metadata": {
        "id": "qaLlPn0tqPr3"
      },
      "source": [
        "__To make it more user friendly we could provide a default value for the angle!__\n",
        "\n",
        "We do this by providing a default and pressing return w/o any input"
      ]
    },
    {
      "cell_type": "code",
      "execution_count": null,
      "metadata": {
        "id": "UJl775-zqPr3",
        "outputId": "19db3873-bf40-486a-f7e5-38275fa69890"
      },
      "outputs": [
        {
          "name": "stdout",
          "output_type": "stream",
          "text": [
            "Angle theta in [0,90] degrees (press return for 23.0 degree): -10\n",
            "Angle theta in [0,90] degrees (press return for 23.0 degree): 199\n",
            "Angle theta in [0,90] degrees (press return for 23.0 degree): trw\n",
            "Angle theta in [0,90] degrees (press return for 23.0 degree): 30\n",
            "v0_x: 8.660 m/s \t v0_y: 5.000 m/s\n"
          ]
        },
        {
          "data": {
            "application/javascript": [
              "/* Put everything inside the global mpl namespace */\n",
              "/* global mpl */\n",
              "window.mpl = {};\n",
              "\n",
              "mpl.get_websocket_type = function () {\n",
              "    if (typeof WebSocket !== 'undefined') {\n",
              "        return WebSocket;\n",
              "    } else if (typeof MozWebSocket !== 'undefined') {\n",
              "        return MozWebSocket;\n",
              "    } else {\n",
              "        alert(\n",
              "            'Your browser does not have WebSocket support. ' +\n",
              "                'Please try Chrome, Safari or Firefox ≥ 6. ' +\n",
              "                'Firefox 4 and 5 are also supported but you ' +\n",
              "                'have to enable WebSockets in about:config.'\n",
              "        );\n",
              "    }\n",
              "};\n",
              "\n",
              "mpl.figure = function (figure_id, websocket, ondownload, parent_element) {\n",
              "    this.id = figure_id;\n",
              "\n",
              "    this.ws = websocket;\n",
              "\n",
              "    this.supports_binary = this.ws.binaryType !== undefined;\n",
              "\n",
              "    if (!this.supports_binary) {\n",
              "        var warnings = document.getElementById('mpl-warnings');\n",
              "        if (warnings) {\n",
              "            warnings.style.display = 'block';\n",
              "            warnings.textContent =\n",
              "                'This browser does not support binary websocket messages. ' +\n",
              "                'Performance may be slow.';\n",
              "        }\n",
              "    }\n",
              "\n",
              "    this.imageObj = new Image();\n",
              "\n",
              "    this.context = undefined;\n",
              "    this.message = undefined;\n",
              "    this.canvas = undefined;\n",
              "    this.rubberband_canvas = undefined;\n",
              "    this.rubberband_context = undefined;\n",
              "    this.format_dropdown = undefined;\n",
              "\n",
              "    this.image_mode = 'full';\n",
              "\n",
              "    this.root = document.createElement('div');\n",
              "    this.root.setAttribute('style', 'display: inline-block');\n",
              "    this._root_extra_style(this.root);\n",
              "\n",
              "    parent_element.appendChild(this.root);\n",
              "\n",
              "    this._init_header(this);\n",
              "    this._init_canvas(this);\n",
              "    this._init_toolbar(this);\n",
              "\n",
              "    var fig = this;\n",
              "\n",
              "    this.waiting = false;\n",
              "\n",
              "    this.ws.onopen = function () {\n",
              "        fig.send_message('supports_binary', { value: fig.supports_binary });\n",
              "        fig.send_message('send_image_mode', {});\n",
              "        if (fig.ratio !== 1) {\n",
              "            fig.send_message('set_dpi_ratio', { dpi_ratio: fig.ratio });\n",
              "        }\n",
              "        fig.send_message('refresh', {});\n",
              "    };\n",
              "\n",
              "    this.imageObj.onload = function () {\n",
              "        if (fig.image_mode === 'full') {\n",
              "            // Full images could contain transparency (where diff images\n",
              "            // almost always do), so we need to clear the canvas so that\n",
              "            // there is no ghosting.\n",
              "            fig.context.clearRect(0, 0, fig.canvas.width, fig.canvas.height);\n",
              "        }\n",
              "        fig.context.drawImage(fig.imageObj, 0, 0);\n",
              "    };\n",
              "\n",
              "    this.imageObj.onunload = function () {\n",
              "        fig.ws.close();\n",
              "    };\n",
              "\n",
              "    this.ws.onmessage = this._make_on_message_function(this);\n",
              "\n",
              "    this.ondownload = ondownload;\n",
              "};\n",
              "\n",
              "mpl.figure.prototype._init_header = function () {\n",
              "    var titlebar = document.createElement('div');\n",
              "    titlebar.classList =\n",
              "        'ui-dialog-titlebar ui-widget-header ui-corner-all ui-helper-clearfix';\n",
              "    var titletext = document.createElement('div');\n",
              "    titletext.classList = 'ui-dialog-title';\n",
              "    titletext.setAttribute(\n",
              "        'style',\n",
              "        'width: 100%; text-align: center; padding: 3px;'\n",
              "    );\n",
              "    titlebar.appendChild(titletext);\n",
              "    this.root.appendChild(titlebar);\n",
              "    this.header = titletext;\n",
              "};\n",
              "\n",
              "mpl.figure.prototype._canvas_extra_style = function (_canvas_div) {};\n",
              "\n",
              "mpl.figure.prototype._root_extra_style = function (_canvas_div) {};\n",
              "\n",
              "mpl.figure.prototype._init_canvas = function () {\n",
              "    var fig = this;\n",
              "\n",
              "    var canvas_div = (this.canvas_div = document.createElement('div'));\n",
              "    canvas_div.setAttribute(\n",
              "        'style',\n",
              "        'border: 1px solid #ddd;' +\n",
              "            'box-sizing: content-box;' +\n",
              "            'clear: both;' +\n",
              "            'min-height: 1px;' +\n",
              "            'min-width: 1px;' +\n",
              "            'outline: 0;' +\n",
              "            'overflow: hidden;' +\n",
              "            'position: relative;' +\n",
              "            'resize: both;'\n",
              "    );\n",
              "\n",
              "    function on_keyboard_event_closure(name) {\n",
              "        return function (event) {\n",
              "            return fig.key_event(event, name);\n",
              "        };\n",
              "    }\n",
              "\n",
              "    canvas_div.addEventListener(\n",
              "        'keydown',\n",
              "        on_keyboard_event_closure('key_press')\n",
              "    );\n",
              "    canvas_div.addEventListener(\n",
              "        'keyup',\n",
              "        on_keyboard_event_closure('key_release')\n",
              "    );\n",
              "\n",
              "    this._canvas_extra_style(canvas_div);\n",
              "    this.root.appendChild(canvas_div);\n",
              "\n",
              "    var canvas = (this.canvas = document.createElement('canvas'));\n",
              "    canvas.classList.add('mpl-canvas');\n",
              "    canvas.setAttribute('style', 'box-sizing: content-box;');\n",
              "\n",
              "    this.context = canvas.getContext('2d');\n",
              "\n",
              "    var backingStore =\n",
              "        this.context.backingStorePixelRatio ||\n",
              "        this.context.webkitBackingStorePixelRatio ||\n",
              "        this.context.mozBackingStorePixelRatio ||\n",
              "        this.context.msBackingStorePixelRatio ||\n",
              "        this.context.oBackingStorePixelRatio ||\n",
              "        this.context.backingStorePixelRatio ||\n",
              "        1;\n",
              "\n",
              "    this.ratio = (window.devicePixelRatio || 1) / backingStore;\n",
              "\n",
              "    var rubberband_canvas = (this.rubberband_canvas = document.createElement(\n",
              "        'canvas'\n",
              "    ));\n",
              "    rubberband_canvas.setAttribute(\n",
              "        'style',\n",
              "        'box-sizing: content-box; position: absolute; left: 0; top: 0; z-index: 1;'\n",
              "    );\n",
              "\n",
              "    // Apply a ponyfill if ResizeObserver is not implemented by browser.\n",
              "    if (this.ResizeObserver === undefined) {\n",
              "        if (window.ResizeObserver !== undefined) {\n",
              "            this.ResizeObserver = window.ResizeObserver;\n",
              "        } else {\n",
              "            var obs = _JSXTOOLS_RESIZE_OBSERVER({});\n",
              "            this.ResizeObserver = obs.ResizeObserver;\n",
              "        }\n",
              "    }\n",
              "\n",
              "    this.resizeObserverInstance = new this.ResizeObserver(function (entries) {\n",
              "        var nentries = entries.length;\n",
              "        for (var i = 0; i < nentries; i++) {\n",
              "            var entry = entries[i];\n",
              "            var width, height;\n",
              "            if (entry.contentBoxSize) {\n",
              "                if (entry.contentBoxSize instanceof Array) {\n",
              "                    // Chrome 84 implements new version of spec.\n",
              "                    width = entry.contentBoxSize[0].inlineSize;\n",
              "                    height = entry.contentBoxSize[0].blockSize;\n",
              "                } else {\n",
              "                    // Firefox implements old version of spec.\n",
              "                    width = entry.contentBoxSize.inlineSize;\n",
              "                    height = entry.contentBoxSize.blockSize;\n",
              "                }\n",
              "            } else {\n",
              "                // Chrome <84 implements even older version of spec.\n",
              "                width = entry.contentRect.width;\n",
              "                height = entry.contentRect.height;\n",
              "            }\n",
              "\n",
              "            // Keep the size of the canvas and rubber band canvas in sync with\n",
              "            // the canvas container.\n",
              "            if (entry.devicePixelContentBoxSize) {\n",
              "                // Chrome 84 implements new version of spec.\n",
              "                canvas.setAttribute(\n",
              "                    'width',\n",
              "                    entry.devicePixelContentBoxSize[0].inlineSize\n",
              "                );\n",
              "                canvas.setAttribute(\n",
              "                    'height',\n",
              "                    entry.devicePixelContentBoxSize[0].blockSize\n",
              "                );\n",
              "            } else {\n",
              "                canvas.setAttribute('width', width * fig.ratio);\n",
              "                canvas.setAttribute('height', height * fig.ratio);\n",
              "            }\n",
              "            canvas.setAttribute(\n",
              "                'style',\n",
              "                'width: ' + width + 'px; height: ' + height + 'px;'\n",
              "            );\n",
              "\n",
              "            rubberband_canvas.setAttribute('width', width);\n",
              "            rubberband_canvas.setAttribute('height', height);\n",
              "\n",
              "            // And update the size in Python. We ignore the initial 0/0 size\n",
              "            // that occurs as the element is placed into the DOM, which should\n",
              "            // otherwise not happen due to the minimum size styling.\n",
              "            if (fig.ws.readyState == 1 && width != 0 && height != 0) {\n",
              "                fig.request_resize(width, height);\n",
              "            }\n",
              "        }\n",
              "    });\n",
              "    this.resizeObserverInstance.observe(canvas_div);\n",
              "\n",
              "    function on_mouse_event_closure(name) {\n",
              "        return function (event) {\n",
              "            return fig.mouse_event(event, name);\n",
              "        };\n",
              "    }\n",
              "\n",
              "    rubberband_canvas.addEventListener(\n",
              "        'mousedown',\n",
              "        on_mouse_event_closure('button_press')\n",
              "    );\n",
              "    rubberband_canvas.addEventListener(\n",
              "        'mouseup',\n",
              "        on_mouse_event_closure('button_release')\n",
              "    );\n",
              "    rubberband_canvas.addEventListener(\n",
              "        'dblclick',\n",
              "        on_mouse_event_closure('dblclick')\n",
              "    );\n",
              "    // Throttle sequential mouse events to 1 every 20ms.\n",
              "    rubberband_canvas.addEventListener(\n",
              "        'mousemove',\n",
              "        on_mouse_event_closure('motion_notify')\n",
              "    );\n",
              "\n",
              "    rubberband_canvas.addEventListener(\n",
              "        'mouseenter',\n",
              "        on_mouse_event_closure('figure_enter')\n",
              "    );\n",
              "    rubberband_canvas.addEventListener(\n",
              "        'mouseleave',\n",
              "        on_mouse_event_closure('figure_leave')\n",
              "    );\n",
              "\n",
              "    canvas_div.addEventListener('wheel', function (event) {\n",
              "        if (event.deltaY < 0) {\n",
              "            event.step = 1;\n",
              "        } else {\n",
              "            event.step = -1;\n",
              "        }\n",
              "        on_mouse_event_closure('scroll')(event);\n",
              "    });\n",
              "\n",
              "    canvas_div.appendChild(canvas);\n",
              "    canvas_div.appendChild(rubberband_canvas);\n",
              "\n",
              "    this.rubberband_context = rubberband_canvas.getContext('2d');\n",
              "    this.rubberband_context.strokeStyle = '#000000';\n",
              "\n",
              "    this._resize_canvas = function (width, height, forward) {\n",
              "        if (forward) {\n",
              "            canvas_div.style.width = width + 'px';\n",
              "            canvas_div.style.height = height + 'px';\n",
              "        }\n",
              "    };\n",
              "\n",
              "    // Disable right mouse context menu.\n",
              "    this.rubberband_canvas.addEventListener('contextmenu', function (_e) {\n",
              "        event.preventDefault();\n",
              "        return false;\n",
              "    });\n",
              "\n",
              "    function set_focus() {\n",
              "        canvas.focus();\n",
              "        canvas_div.focus();\n",
              "    }\n",
              "\n",
              "    window.setTimeout(set_focus, 100);\n",
              "};\n",
              "\n",
              "mpl.figure.prototype._init_toolbar = function () {\n",
              "    var fig = this;\n",
              "\n",
              "    var toolbar = document.createElement('div');\n",
              "    toolbar.classList = 'mpl-toolbar';\n",
              "    this.root.appendChild(toolbar);\n",
              "\n",
              "    function on_click_closure(name) {\n",
              "        return function (_event) {\n",
              "            return fig.toolbar_button_onclick(name);\n",
              "        };\n",
              "    }\n",
              "\n",
              "    function on_mouseover_closure(tooltip) {\n",
              "        return function (event) {\n",
              "            if (!event.currentTarget.disabled) {\n",
              "                return fig.toolbar_button_onmouseover(tooltip);\n",
              "            }\n",
              "        };\n",
              "    }\n",
              "\n",
              "    fig.buttons = {};\n",
              "    var buttonGroup = document.createElement('div');\n",
              "    buttonGroup.classList = 'mpl-button-group';\n",
              "    for (var toolbar_ind in mpl.toolbar_items) {\n",
              "        var name = mpl.toolbar_items[toolbar_ind][0];\n",
              "        var tooltip = mpl.toolbar_items[toolbar_ind][1];\n",
              "        var image = mpl.toolbar_items[toolbar_ind][2];\n",
              "        var method_name = mpl.toolbar_items[toolbar_ind][3];\n",
              "\n",
              "        if (!name) {\n",
              "            /* Instead of a spacer, we start a new button group. */\n",
              "            if (buttonGroup.hasChildNodes()) {\n",
              "                toolbar.appendChild(buttonGroup);\n",
              "            }\n",
              "            buttonGroup = document.createElement('div');\n",
              "            buttonGroup.classList = 'mpl-button-group';\n",
              "            continue;\n",
              "        }\n",
              "\n",
              "        var button = (fig.buttons[name] = document.createElement('button'));\n",
              "        button.classList = 'mpl-widget';\n",
              "        button.setAttribute('role', 'button');\n",
              "        button.setAttribute('aria-disabled', 'false');\n",
              "        button.addEventListener('click', on_click_closure(method_name));\n",
              "        button.addEventListener('mouseover', on_mouseover_closure(tooltip));\n",
              "\n",
              "        var icon_img = document.createElement('img');\n",
              "        icon_img.src = '_images/' + image + '.png';\n",
              "        icon_img.srcset = '_images/' + image + '_large.png 2x';\n",
              "        icon_img.alt = tooltip;\n",
              "        button.appendChild(icon_img);\n",
              "\n",
              "        buttonGroup.appendChild(button);\n",
              "    }\n",
              "\n",
              "    if (buttonGroup.hasChildNodes()) {\n",
              "        toolbar.appendChild(buttonGroup);\n",
              "    }\n",
              "\n",
              "    var fmt_picker = document.createElement('select');\n",
              "    fmt_picker.classList = 'mpl-widget';\n",
              "    toolbar.appendChild(fmt_picker);\n",
              "    this.format_dropdown = fmt_picker;\n",
              "\n",
              "    for (var ind in mpl.extensions) {\n",
              "        var fmt = mpl.extensions[ind];\n",
              "        var option = document.createElement('option');\n",
              "        option.selected = fmt === mpl.default_extension;\n",
              "        option.innerHTML = fmt;\n",
              "        fmt_picker.appendChild(option);\n",
              "    }\n",
              "\n",
              "    var status_bar = document.createElement('span');\n",
              "    status_bar.classList = 'mpl-message';\n",
              "    toolbar.appendChild(status_bar);\n",
              "    this.message = status_bar;\n",
              "};\n",
              "\n",
              "mpl.figure.prototype.request_resize = function (x_pixels, y_pixels) {\n",
              "    // Request matplotlib to resize the figure. Matplotlib will then trigger a resize in the client,\n",
              "    // which will in turn request a refresh of the image.\n",
              "    this.send_message('resize', { width: x_pixels, height: y_pixels });\n",
              "};\n",
              "\n",
              "mpl.figure.prototype.send_message = function (type, properties) {\n",
              "    properties['type'] = type;\n",
              "    properties['figure_id'] = this.id;\n",
              "    this.ws.send(JSON.stringify(properties));\n",
              "};\n",
              "\n",
              "mpl.figure.prototype.send_draw_message = function () {\n",
              "    if (!this.waiting) {\n",
              "        this.waiting = true;\n",
              "        this.ws.send(JSON.stringify({ type: 'draw', figure_id: this.id }));\n",
              "    }\n",
              "};\n",
              "\n",
              "mpl.figure.prototype.handle_save = function (fig, _msg) {\n",
              "    var format_dropdown = fig.format_dropdown;\n",
              "    var format = format_dropdown.options[format_dropdown.selectedIndex].value;\n",
              "    fig.ondownload(fig, format);\n",
              "};\n",
              "\n",
              "mpl.figure.prototype.handle_resize = function (fig, msg) {\n",
              "    var size = msg['size'];\n",
              "    if (size[0] !== fig.canvas.width || size[1] !== fig.canvas.height) {\n",
              "        fig._resize_canvas(size[0], size[1], msg['forward']);\n",
              "        fig.send_message('refresh', {});\n",
              "    }\n",
              "};\n",
              "\n",
              "mpl.figure.prototype.handle_rubberband = function (fig, msg) {\n",
              "    var x0 = msg['x0'] / fig.ratio;\n",
              "    var y0 = (fig.canvas.height - msg['y0']) / fig.ratio;\n",
              "    var x1 = msg['x1'] / fig.ratio;\n",
              "    var y1 = (fig.canvas.height - msg['y1']) / fig.ratio;\n",
              "    x0 = Math.floor(x0) + 0.5;\n",
              "    y0 = Math.floor(y0) + 0.5;\n",
              "    x1 = Math.floor(x1) + 0.5;\n",
              "    y1 = Math.floor(y1) + 0.5;\n",
              "    var min_x = Math.min(x0, x1);\n",
              "    var min_y = Math.min(y0, y1);\n",
              "    var width = Math.abs(x1 - x0);\n",
              "    var height = Math.abs(y1 - y0);\n",
              "\n",
              "    fig.rubberband_context.clearRect(\n",
              "        0,\n",
              "        0,\n",
              "        fig.canvas.width / fig.ratio,\n",
              "        fig.canvas.height / fig.ratio\n",
              "    );\n",
              "\n",
              "    fig.rubberband_context.strokeRect(min_x, min_y, width, height);\n",
              "};\n",
              "\n",
              "mpl.figure.prototype.handle_figure_label = function (fig, msg) {\n",
              "    // Updates the figure title.\n",
              "    fig.header.textContent = msg['label'];\n",
              "};\n",
              "\n",
              "mpl.figure.prototype.handle_cursor = function (fig, msg) {\n",
              "    var cursor = msg['cursor'];\n",
              "    switch (cursor) {\n",
              "        case 0:\n",
              "            cursor = 'pointer';\n",
              "            break;\n",
              "        case 1:\n",
              "            cursor = 'default';\n",
              "            break;\n",
              "        case 2:\n",
              "            cursor = 'crosshair';\n",
              "            break;\n",
              "        case 3:\n",
              "            cursor = 'move';\n",
              "            break;\n",
              "    }\n",
              "    fig.rubberband_canvas.style.cursor = cursor;\n",
              "};\n",
              "\n",
              "mpl.figure.prototype.handle_message = function (fig, msg) {\n",
              "    fig.message.textContent = msg['message'];\n",
              "};\n",
              "\n",
              "mpl.figure.prototype.handle_draw = function (fig, _msg) {\n",
              "    // Request the server to send over a new figure.\n",
              "    fig.send_draw_message();\n",
              "};\n",
              "\n",
              "mpl.figure.prototype.handle_image_mode = function (fig, msg) {\n",
              "    fig.image_mode = msg['mode'];\n",
              "};\n",
              "\n",
              "mpl.figure.prototype.handle_history_buttons = function (fig, msg) {\n",
              "    for (var key in msg) {\n",
              "        if (!(key in fig.buttons)) {\n",
              "            continue;\n",
              "        }\n",
              "        fig.buttons[key].disabled = !msg[key];\n",
              "        fig.buttons[key].setAttribute('aria-disabled', !msg[key]);\n",
              "    }\n",
              "};\n",
              "\n",
              "mpl.figure.prototype.handle_navigate_mode = function (fig, msg) {\n",
              "    if (msg['mode'] === 'PAN') {\n",
              "        fig.buttons['Pan'].classList.add('active');\n",
              "        fig.buttons['Zoom'].classList.remove('active');\n",
              "    } else if (msg['mode'] === 'ZOOM') {\n",
              "        fig.buttons['Pan'].classList.remove('active');\n",
              "        fig.buttons['Zoom'].classList.add('active');\n",
              "    } else {\n",
              "        fig.buttons['Pan'].classList.remove('active');\n",
              "        fig.buttons['Zoom'].classList.remove('active');\n",
              "    }\n",
              "};\n",
              "\n",
              "mpl.figure.prototype.updated_canvas_event = function () {\n",
              "    // Called whenever the canvas gets updated.\n",
              "    this.send_message('ack', {});\n",
              "};\n",
              "\n",
              "// A function to construct a web socket function for onmessage handling.\n",
              "// Called in the figure constructor.\n",
              "mpl.figure.prototype._make_on_message_function = function (fig) {\n",
              "    return function socket_on_message(evt) {\n",
              "        if (evt.data instanceof Blob) {\n",
              "            var img = evt.data;\n",
              "            if (img.type !== 'image/png') {\n",
              "                /* FIXME: We get \"Resource interpreted as Image but\n",
              "                 * transferred with MIME type text/plain:\" errors on\n",
              "                 * Chrome.  But how to set the MIME type?  It doesn't seem\n",
              "                 * to be part of the websocket stream */\n",
              "                img.type = 'image/png';\n",
              "            }\n",
              "\n",
              "            /* Free the memory for the previous frames */\n",
              "            if (fig.imageObj.src) {\n",
              "                (window.URL || window.webkitURL).revokeObjectURL(\n",
              "                    fig.imageObj.src\n",
              "                );\n",
              "            }\n",
              "\n",
              "            fig.imageObj.src = (window.URL || window.webkitURL).createObjectURL(\n",
              "                img\n",
              "            );\n",
              "            fig.updated_canvas_event();\n",
              "            fig.waiting = false;\n",
              "            return;\n",
              "        } else if (\n",
              "            typeof evt.data === 'string' &&\n",
              "            evt.data.slice(0, 21) === 'data:image/png;base64'\n",
              "        ) {\n",
              "            fig.imageObj.src = evt.data;\n",
              "            fig.updated_canvas_event();\n",
              "            fig.waiting = false;\n",
              "            return;\n",
              "        }\n",
              "\n",
              "        var msg = JSON.parse(evt.data);\n",
              "        var msg_type = msg['type'];\n",
              "\n",
              "        // Call the  \"handle_{type}\" callback, which takes\n",
              "        // the figure and JSON message as its only arguments.\n",
              "        try {\n",
              "            var callback = fig['handle_' + msg_type];\n",
              "        } catch (e) {\n",
              "            console.log(\n",
              "                \"No handler for the '\" + msg_type + \"' message type: \",\n",
              "                msg\n",
              "            );\n",
              "            return;\n",
              "        }\n",
              "\n",
              "        if (callback) {\n",
              "            try {\n",
              "                // console.log(\"Handling '\" + msg_type + \"' message: \", msg);\n",
              "                callback(fig, msg);\n",
              "            } catch (e) {\n",
              "                console.log(\n",
              "                    \"Exception inside the 'handler_\" + msg_type + \"' callback:\",\n",
              "                    e,\n",
              "                    e.stack,\n",
              "                    msg\n",
              "                );\n",
              "            }\n",
              "        }\n",
              "    };\n",
              "};\n",
              "\n",
              "// from http://stackoverflow.com/questions/1114465/getting-mouse-location-in-canvas\n",
              "mpl.findpos = function (e) {\n",
              "    //this section is from http://www.quirksmode.org/js/events_properties.html\n",
              "    var targ;\n",
              "    if (!e) {\n",
              "        e = window.event;\n",
              "    }\n",
              "    if (e.target) {\n",
              "        targ = e.target;\n",
              "    } else if (e.srcElement) {\n",
              "        targ = e.srcElement;\n",
              "    }\n",
              "    if (targ.nodeType === 3) {\n",
              "        // defeat Safari bug\n",
              "        targ = targ.parentNode;\n",
              "    }\n",
              "\n",
              "    // pageX,Y are the mouse positions relative to the document\n",
              "    var boundingRect = targ.getBoundingClientRect();\n",
              "    var x = e.pageX - (boundingRect.left + document.body.scrollLeft);\n",
              "    var y = e.pageY - (boundingRect.top + document.body.scrollTop);\n",
              "\n",
              "    return { x: x, y: y };\n",
              "};\n",
              "\n",
              "/*\n",
              " * return a copy of an object with only non-object keys\n",
              " * we need this to avoid circular references\n",
              " * http://stackoverflow.com/a/24161582/3208463\n",
              " */\n",
              "function simpleKeys(original) {\n",
              "    return Object.keys(original).reduce(function (obj, key) {\n",
              "        if (typeof original[key] !== 'object') {\n",
              "            obj[key] = original[key];\n",
              "        }\n",
              "        return obj;\n",
              "    }, {});\n",
              "}\n",
              "\n",
              "mpl.figure.prototype.mouse_event = function (event, name) {\n",
              "    var canvas_pos = mpl.findpos(event);\n",
              "\n",
              "    if (name === 'button_press') {\n",
              "        this.canvas.focus();\n",
              "        this.canvas_div.focus();\n",
              "    }\n",
              "\n",
              "    var x = canvas_pos.x * this.ratio;\n",
              "    var y = canvas_pos.y * this.ratio;\n",
              "\n",
              "    this.send_message(name, {\n",
              "        x: x,\n",
              "        y: y,\n",
              "        button: event.button,\n",
              "        step: event.step,\n",
              "        guiEvent: simpleKeys(event),\n",
              "    });\n",
              "\n",
              "    /* This prevents the web browser from automatically changing to\n",
              "     * the text insertion cursor when the button is pressed.  We want\n",
              "     * to control all of the cursor setting manually through the\n",
              "     * 'cursor' event from matplotlib */\n",
              "    event.preventDefault();\n",
              "    return false;\n",
              "};\n",
              "\n",
              "mpl.figure.prototype._key_event_extra = function (_event, _name) {\n",
              "    // Handle any extra behaviour associated with a key event\n",
              "};\n",
              "\n",
              "mpl.figure.prototype.key_event = function (event, name) {\n",
              "    // Prevent repeat events\n",
              "    if (name === 'key_press') {\n",
              "        if (event.key === this._key) {\n",
              "            return;\n",
              "        } else {\n",
              "            this._key = event.key;\n",
              "        }\n",
              "    }\n",
              "    if (name === 'key_release') {\n",
              "        this._key = null;\n",
              "    }\n",
              "\n",
              "    var value = '';\n",
              "    if (event.ctrlKey && event.key !== 'Control') {\n",
              "        value += 'ctrl+';\n",
              "    }\n",
              "    else if (event.altKey && event.key !== 'Alt') {\n",
              "        value += 'alt+';\n",
              "    }\n",
              "    else if (event.shiftKey && event.key !== 'Shift') {\n",
              "        value += 'shift+';\n",
              "    }\n",
              "\n",
              "    value += 'k' + event.key;\n",
              "\n",
              "    this._key_event_extra(event, name);\n",
              "\n",
              "    this.send_message(name, { key: value, guiEvent: simpleKeys(event) });\n",
              "    return false;\n",
              "};\n",
              "\n",
              "mpl.figure.prototype.toolbar_button_onclick = function (name) {\n",
              "    if (name === 'download') {\n",
              "        this.handle_save(this, null);\n",
              "    } else {\n",
              "        this.send_message('toolbar_button', { name: name });\n",
              "    }\n",
              "};\n",
              "\n",
              "mpl.figure.prototype.toolbar_button_onmouseover = function (tooltip) {\n",
              "    this.message.textContent = tooltip;\n",
              "};\n",
              "\n",
              "///////////////// REMAINING CONTENT GENERATED BY embed_js.py /////////////////\n",
              "// prettier-ignore\n",
              "var _JSXTOOLS_RESIZE_OBSERVER=function(A){var t,i=new WeakMap,n=new WeakMap,a=new WeakMap,r=new WeakMap,o=new Set;function s(e){if(!(this instanceof s))throw new TypeError(\"Constructor requires 'new' operator\");i.set(this,e)}function h(){throw new TypeError(\"Function is not a constructor\")}function c(e,t,i,n){e=0 in arguments?Number(arguments[0]):0,t=1 in arguments?Number(arguments[1]):0,i=2 in arguments?Number(arguments[2]):0,n=3 in arguments?Number(arguments[3]):0,this.right=(this.x=this.left=e)+(this.width=i),this.bottom=(this.y=this.top=t)+(this.height=n),Object.freeze(this)}function d(){t=requestAnimationFrame(d);var s=new WeakMap,p=new Set;o.forEach((function(t){r.get(t).forEach((function(i){var r=t instanceof window.SVGElement,o=a.get(t),d=r?0:parseFloat(o.paddingTop),f=r?0:parseFloat(o.paddingRight),l=r?0:parseFloat(o.paddingBottom),u=r?0:parseFloat(o.paddingLeft),g=r?0:parseFloat(o.borderTopWidth),m=r?0:parseFloat(o.borderRightWidth),w=r?0:parseFloat(o.borderBottomWidth),b=u+f,F=d+l,v=(r?0:parseFloat(o.borderLeftWidth))+m,W=g+w,y=r?0:t.offsetHeight-W-t.clientHeight,E=r?0:t.offsetWidth-v-t.clientWidth,R=b+v,z=F+W,M=r?t.width:parseFloat(o.width)-R-E,O=r?t.height:parseFloat(o.height)-z-y;if(n.has(t)){var k=n.get(t);if(k[0]===M&&k[1]===O)return}n.set(t,[M,O]);var S=Object.create(h.prototype);S.target=t,S.contentRect=new c(u,d,M,O),s.has(i)||(s.set(i,[]),p.add(i)),s.get(i).push(S)}))})),p.forEach((function(e){i.get(e).call(e,s.get(e),e)}))}return s.prototype.observe=function(i){if(i instanceof window.Element){r.has(i)||(r.set(i,new Set),o.add(i),a.set(i,window.getComputedStyle(i)));var n=r.get(i);n.has(this)||n.add(this),cancelAnimationFrame(t),t=requestAnimationFrame(d)}},s.prototype.unobserve=function(i){if(i instanceof window.Element&&r.has(i)){var n=r.get(i);n.has(this)&&(n.delete(this),n.size||(r.delete(i),o.delete(i))),n.size||r.delete(i),o.size||cancelAnimationFrame(t)}},A.DOMRectReadOnly=c,A.ResizeObserver=s,A.ResizeObserverEntry=h,A}; // eslint-disable-line\n",
              "mpl.toolbar_items = [[\"Home\", \"Reset original view\", \"fa fa-home icon-home\", \"home\"], [\"Back\", \"Back to previous view\", \"fa fa-arrow-left icon-arrow-left\", \"back\"], [\"Forward\", \"Forward to next view\", \"fa fa-arrow-right icon-arrow-right\", \"forward\"], [\"\", \"\", \"\", \"\"], [\"Pan\", \"Left button pans, Right button zooms\\nx/y fixes axis, CTRL fixes aspect\", \"fa fa-arrows icon-move\", \"pan\"], [\"Zoom\", \"Zoom to rectangle\\nx/y fixes axis, CTRL fixes aspect\", \"fa fa-square-o icon-check-empty\", \"zoom\"], [\"\", \"\", \"\", \"\"], [\"Download\", \"Download plot\", \"fa fa-floppy-o icon-save\", \"download\"]];\n",
              "\n",
              "mpl.extensions = [\"eps\", \"jpeg\", \"pgf\", \"pdf\", \"png\", \"ps\", \"raw\", \"svg\", \"tif\"];\n",
              "\n",
              "mpl.default_extension = \"png\";/* global mpl */\n",
              "\n",
              "var comm_websocket_adapter = function (comm) {\n",
              "    // Create a \"websocket\"-like object which calls the given IPython comm\n",
              "    // object with the appropriate methods. Currently this is a non binary\n",
              "    // socket, so there is still some room for performance tuning.\n",
              "    var ws = {};\n",
              "\n",
              "    ws.binaryType = comm.kernel.ws.binaryType;\n",
              "    ws.readyState = comm.kernel.ws.readyState;\n",
              "    function updateReadyState(_event) {\n",
              "        if (comm.kernel.ws) {\n",
              "            ws.readyState = comm.kernel.ws.readyState;\n",
              "        } else {\n",
              "            ws.readyState = 3; // Closed state.\n",
              "        }\n",
              "    }\n",
              "    comm.kernel.ws.addEventListener('open', updateReadyState);\n",
              "    comm.kernel.ws.addEventListener('close', updateReadyState);\n",
              "    comm.kernel.ws.addEventListener('error', updateReadyState);\n",
              "\n",
              "    ws.close = function () {\n",
              "        comm.close();\n",
              "    };\n",
              "    ws.send = function (m) {\n",
              "        //console.log('sending', m);\n",
              "        comm.send(m);\n",
              "    };\n",
              "    // Register the callback with on_msg.\n",
              "    comm.on_msg(function (msg) {\n",
              "        //console.log('receiving', msg['content']['data'], msg);\n",
              "        var data = msg['content']['data'];\n",
              "        if (data['blob'] !== undefined) {\n",
              "            data = {\n",
              "                data: new Blob(msg['buffers'], { type: data['blob'] }),\n",
              "            };\n",
              "        }\n",
              "        // Pass the mpl event to the overridden (by mpl) onmessage function.\n",
              "        ws.onmessage(data);\n",
              "    });\n",
              "    return ws;\n",
              "};\n",
              "\n",
              "mpl.mpl_figure_comm = function (comm, msg) {\n",
              "    // This is the function which gets called when the mpl process\n",
              "    // starts-up an IPython Comm through the \"matplotlib\" channel.\n",
              "\n",
              "    var id = msg.content.data.id;\n",
              "    // Get hold of the div created by the display call when the Comm\n",
              "    // socket was opened in Python.\n",
              "    var element = document.getElementById(id);\n",
              "    var ws_proxy = comm_websocket_adapter(comm);\n",
              "\n",
              "    function ondownload(figure, _format) {\n",
              "        window.open(figure.canvas.toDataURL());\n",
              "    }\n",
              "\n",
              "    var fig = new mpl.figure(id, ws_proxy, ondownload, element);\n",
              "\n",
              "    // Call onopen now - mpl needs it, as it is assuming we've passed it a real\n",
              "    // web socket which is closed, not our websocket->open comm proxy.\n",
              "    ws_proxy.onopen();\n",
              "\n",
              "    fig.parent_element = element;\n",
              "    fig.cell_info = mpl.find_output_cell(\"<div id='\" + id + \"'></div>\");\n",
              "    if (!fig.cell_info) {\n",
              "        console.error('Failed to find cell for figure', id, fig);\n",
              "        return;\n",
              "    }\n",
              "    fig.cell_info[0].output_area.element.on(\n",
              "        'cleared',\n",
              "        { fig: fig },\n",
              "        fig._remove_fig_handler\n",
              "    );\n",
              "};\n",
              "\n",
              "mpl.figure.prototype.handle_close = function (fig, msg) {\n",
              "    var width = fig.canvas.width / fig.ratio;\n",
              "    fig.cell_info[0].output_area.element.off(\n",
              "        'cleared',\n",
              "        fig._remove_fig_handler\n",
              "    );\n",
              "    fig.resizeObserverInstance.unobserve(fig.canvas_div);\n",
              "\n",
              "    // Update the output cell to use the data from the current canvas.\n",
              "    fig.push_to_output();\n",
              "    var dataURL = fig.canvas.toDataURL();\n",
              "    // Re-enable the keyboard manager in IPython - without this line, in FF,\n",
              "    // the notebook keyboard shortcuts fail.\n",
              "    IPython.keyboard_manager.enable();\n",
              "    fig.parent_element.innerHTML =\n",
              "        '<img src=\"' + dataURL + '\" width=\"' + width + '\">';\n",
              "    fig.close_ws(fig, msg);\n",
              "};\n",
              "\n",
              "mpl.figure.prototype.close_ws = function (fig, msg) {\n",
              "    fig.send_message('closing', msg);\n",
              "    // fig.ws.close()\n",
              "};\n",
              "\n",
              "mpl.figure.prototype.push_to_output = function (_remove_interactive) {\n",
              "    // Turn the data on the canvas into data in the output cell.\n",
              "    var width = this.canvas.width / this.ratio;\n",
              "    var dataURL = this.canvas.toDataURL();\n",
              "    this.cell_info[1]['text/html'] =\n",
              "        '<img src=\"' + dataURL + '\" width=\"' + width + '\">';\n",
              "};\n",
              "\n",
              "mpl.figure.prototype.updated_canvas_event = function () {\n",
              "    // Tell IPython that the notebook contents must change.\n",
              "    IPython.notebook.set_dirty(true);\n",
              "    this.send_message('ack', {});\n",
              "    var fig = this;\n",
              "    // Wait a second, then push the new image to the DOM so\n",
              "    // that it is saved nicely (might be nice to debounce this).\n",
              "    setTimeout(function () {\n",
              "        fig.push_to_output();\n",
              "    }, 1000);\n",
              "};\n",
              "\n",
              "mpl.figure.prototype._init_toolbar = function () {\n",
              "    var fig = this;\n",
              "\n",
              "    var toolbar = document.createElement('div');\n",
              "    toolbar.classList = 'btn-toolbar';\n",
              "    this.root.appendChild(toolbar);\n",
              "\n",
              "    function on_click_closure(name) {\n",
              "        return function (_event) {\n",
              "            return fig.toolbar_button_onclick(name);\n",
              "        };\n",
              "    }\n",
              "\n",
              "    function on_mouseover_closure(tooltip) {\n",
              "        return function (event) {\n",
              "            if (!event.currentTarget.disabled) {\n",
              "                return fig.toolbar_button_onmouseover(tooltip);\n",
              "            }\n",
              "        };\n",
              "    }\n",
              "\n",
              "    fig.buttons = {};\n",
              "    var buttonGroup = document.createElement('div');\n",
              "    buttonGroup.classList = 'btn-group';\n",
              "    var button;\n",
              "    for (var toolbar_ind in mpl.toolbar_items) {\n",
              "        var name = mpl.toolbar_items[toolbar_ind][0];\n",
              "        var tooltip = mpl.toolbar_items[toolbar_ind][1];\n",
              "        var image = mpl.toolbar_items[toolbar_ind][2];\n",
              "        var method_name = mpl.toolbar_items[toolbar_ind][3];\n",
              "\n",
              "        if (!name) {\n",
              "            /* Instead of a spacer, we start a new button group. */\n",
              "            if (buttonGroup.hasChildNodes()) {\n",
              "                toolbar.appendChild(buttonGroup);\n",
              "            }\n",
              "            buttonGroup = document.createElement('div');\n",
              "            buttonGroup.classList = 'btn-group';\n",
              "            continue;\n",
              "        }\n",
              "\n",
              "        button = fig.buttons[name] = document.createElement('button');\n",
              "        button.classList = 'btn btn-default';\n",
              "        button.href = '#';\n",
              "        button.title = name;\n",
              "        button.innerHTML = '<i class=\"fa ' + image + ' fa-lg\"></i>';\n",
              "        button.addEventListener('click', on_click_closure(method_name));\n",
              "        button.addEventListener('mouseover', on_mouseover_closure(tooltip));\n",
              "        buttonGroup.appendChild(button);\n",
              "    }\n",
              "\n",
              "    if (buttonGroup.hasChildNodes()) {\n",
              "        toolbar.appendChild(buttonGroup);\n",
              "    }\n",
              "\n",
              "    // Add the status bar.\n",
              "    var status_bar = document.createElement('span');\n",
              "    status_bar.classList = 'mpl-message pull-right';\n",
              "    toolbar.appendChild(status_bar);\n",
              "    this.message = status_bar;\n",
              "\n",
              "    // Add the close button to the window.\n",
              "    var buttongrp = document.createElement('div');\n",
              "    buttongrp.classList = 'btn-group inline pull-right';\n",
              "    button = document.createElement('button');\n",
              "    button.classList = 'btn btn-mini btn-primary';\n",
              "    button.href = '#';\n",
              "    button.title = 'Stop Interaction';\n",
              "    button.innerHTML = '<i class=\"fa fa-power-off icon-remove icon-large\"></i>';\n",
              "    button.addEventListener('click', function (_evt) {\n",
              "        fig.handle_close(fig, {});\n",
              "    });\n",
              "    button.addEventListener(\n",
              "        'mouseover',\n",
              "        on_mouseover_closure('Stop Interaction')\n",
              "    );\n",
              "    buttongrp.appendChild(button);\n",
              "    var titlebar = this.root.querySelector('.ui-dialog-titlebar');\n",
              "    titlebar.insertBefore(buttongrp, titlebar.firstChild);\n",
              "};\n",
              "\n",
              "mpl.figure.prototype._remove_fig_handler = function (event) {\n",
              "    var fig = event.data.fig;\n",
              "    if (event.target !== this) {\n",
              "        // Ignore bubbled events from children.\n",
              "        return;\n",
              "    }\n",
              "    fig.close_ws(fig, {});\n",
              "};\n",
              "\n",
              "mpl.figure.prototype._root_extra_style = function (el) {\n",
              "    el.style.boxSizing = 'content-box'; // override notebook setting of border-box.\n",
              "};\n",
              "\n",
              "mpl.figure.prototype._canvas_extra_style = function (el) {\n",
              "    // this is important to make the div 'focusable\n",
              "    el.setAttribute('tabindex', 0);\n",
              "    // reach out to IPython and tell the keyboard manager to turn it's self\n",
              "    // off when our div gets focus\n",
              "\n",
              "    // location in version 3\n",
              "    if (IPython.notebook.keyboard_manager) {\n",
              "        IPython.notebook.keyboard_manager.register_events(el);\n",
              "    } else {\n",
              "        // location in version 2\n",
              "        IPython.keyboard_manager.register_events(el);\n",
              "    }\n",
              "};\n",
              "\n",
              "mpl.figure.prototype._key_event_extra = function (event, _name) {\n",
              "    var manager = IPython.notebook.keyboard_manager;\n",
              "    if (!manager) {\n",
              "        manager = IPython.keyboard_manager;\n",
              "    }\n",
              "\n",
              "    // Check for shift+enter\n",
              "    if (event.shiftKey && event.which === 13) {\n",
              "        this.canvas_div.blur();\n",
              "        // select the cell after this one\n",
              "        var index = IPython.notebook.find_cell_index(this.cell_info[0]);\n",
              "        IPython.notebook.select(index + 1);\n",
              "    }\n",
              "};\n",
              "\n",
              "mpl.figure.prototype.handle_save = function (fig, _msg) {\n",
              "    fig.ondownload(fig, null);\n",
              "};\n",
              "\n",
              "mpl.find_output_cell = function (html_output) {\n",
              "    // Return the cell and output element which can be found *uniquely* in the notebook.\n",
              "    // Note - this is a bit hacky, but it is done because the \"notebook_saving.Notebook\"\n",
              "    // IPython event is triggered only after the cells have been serialised, which for\n",
              "    // our purposes (turning an active figure into a static one), is too late.\n",
              "    var cells = IPython.notebook.get_cells();\n",
              "    var ncells = cells.length;\n",
              "    for (var i = 0; i < ncells; i++) {\n",
              "        var cell = cells[i];\n",
              "        if (cell.cell_type === 'code') {\n",
              "            for (var j = 0; j < cell.output_area.outputs.length; j++) {\n",
              "                var data = cell.output_area.outputs[j];\n",
              "                if (data.data) {\n",
              "                    // IPython >= 3 moved mimebundle to data attribute of output\n",
              "                    data = data.data;\n",
              "                }\n",
              "                if (data['text/html'] === html_output) {\n",
              "                    return [cell, data, j];\n",
              "                }\n",
              "            }\n",
              "        }\n",
              "    }\n",
              "};\n",
              "\n",
              "// Register the function which deals with the matplotlib target/channel.\n",
              "// The kernel may be null if the page has been refreshed.\n",
              "if (IPython.notebook.kernel !== null) {\n",
              "    IPython.notebook.kernel.comm_manager.register_target(\n",
              "        'matplotlib',\n",
              "        mpl.mpl_figure_comm\n",
              "    );\n",
              "}\n"
            ],
            "text/plain": [
              "<IPython.core.display.Javascript object>"
            ]
          },
          "metadata": {},
          "output_type": "display_data"
        },
        {
          "data": {
            "text/html": [
              "<img src=\"data:image/png;base64,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\" width=\"640\">"
            ],
            "text/plain": [
              "<IPython.core.display.HTML object>"
            ]
          },
          "metadata": {},
          "output_type": "display_data"
        },
        {
          "data": {
            "text/plain": [
              "[<matplotlib.lines.Line2D at 0x1126b5b20>]"
            ]
          },
          "execution_count": 203,
          "metadata": {},
          "output_type": "execute_result"
        }
      ],
      "source": [
        "# ONLY for jupyter notebook\n",
        "%matplotlib notebook\n",
        "\n",
        "# Import modules\n",
        "import matplotlib.pyplot as plt\n",
        "import math\n",
        "\n",
        "# Data, settings and initial conditions\n",
        "g = 9.8\n",
        "h = 0.\n",
        "t = 0.\n",
        "v0 = 10.\n",
        "dt = 0.1\n",
        "\n",
        "# Let user pick angle\n",
        "theta_default = 23. # Default value\n",
        "while True:\n",
        "    x = input(\"Angle theta in [0,90] degrees (press return for {0} degree): \".format(theta_default))\n",
        "    if x == \"\":\n",
        "        theta = theta_default\n",
        "        break\n",
        "    try:\n",
        "        theta = float(x)\n",
        "    except:\n",
        "        theta = -1.\n",
        "    if(theta>0 and theta<90):\n",
        "        break\n",
        "theta = math.radians(theta)\n",
        " \n",
        "# Compute velocity components\n",
        "v0x = v0*math.cos(theta)\n",
        "v0y = v0*math.sin(theta)\n",
        "print(\"v0_x: %.3f m/s \\t v0_y: %.3f m/s\"%(v0x,v0y))\n",
        "\n",
        "# Results containers\n",
        "x = []\n",
        "y = []\n",
        "\n",
        "# Evolve\n",
        "xi = 0\n",
        "yi = h\n",
        "while yi>=0:\n",
        "    x.append(xi)\n",
        "    y.append(yi)\n",
        "    t += dt\n",
        "    xi = v0x*t\n",
        "    yi = h + v0y*t - 0.5*g*t*t\n",
        "\n",
        "# Plot results\n",
        "plt.plot(x,y, marker='.')\n",
        "\n",
        "# Only for script\n",
        "#plot.show()"
      ]
    },
    {
      "cell_type": "markdown",
      "metadata": {
        "id": "MolwZrdgqPr3"
      },
      "source": [
        "### We now allow the user to specify all initial conditions"
      ]
    },
    {
      "cell_type": "code",
      "execution_count": null,
      "metadata": {
        "id": "eaLbJY5RqPr3",
        "outputId": "dee967b8-c31d-4810-92f6-f5789782a659",
        "scrolled": false
      },
      "outputs": [
        {
          "name": "stdout",
          "output_type": "stream",
          "text": [
            "Angle theta in [0,90] degrees (press return for 23.0 degree): -10\n",
            "Angle theta in [0,90] degrees (press return for 23.0 degree): 100\n",
            "Angle theta in [0,90] degrees (press return for 23.0 degree): asda\n",
            "Angle theta in [0,90] degrees (press return for 23.0 degree): 35\n",
            "Initial height h in m: (press return for h = 0.0 m): -10\n",
            "Initial height h in m: (press return for h = 0.0 m): asda\n",
            "Initial height h in m: (press return for h = 0.0 m): 10\n",
            "Insert v_0 > 0 in m/s (press return for 10.0 m/s): -9\n",
            "Insert v_0 > 0 in m/s (press return for 10.0 m/s): sad\n",
            "Insert v_0 > 0 in m/s (press return for 10.0 m/s): \n",
            "Insert dt > 0 in sec (press return for 0.1 sec): -9\n",
            "Insert dt > 0 in sec (press return for 0.1 sec): qq\n",
            "Insert dt > 0 in sec (press return for 0.1 sec): \n",
            "v0_x: 8.192 m/s \t v0_y: 5.736 m/s\n"
          ]
        },
        {
          "data": {
            "application/javascript": [
              "/* Put everything inside the global mpl namespace */\n",
              "/* global mpl */\n",
              "window.mpl = {};\n",
              "\n",
              "mpl.get_websocket_type = function () {\n",
              "    if (typeof WebSocket !== 'undefined') {\n",
              "        return WebSocket;\n",
              "    } else if (typeof MozWebSocket !== 'undefined') {\n",
              "        return MozWebSocket;\n",
              "    } else {\n",
              "        alert(\n",
              "            'Your browser does not have WebSocket support. ' +\n",
              "                'Please try Chrome, Safari or Firefox ≥ 6. ' +\n",
              "                'Firefox 4 and 5 are also supported but you ' +\n",
              "                'have to enable WebSockets in about:config.'\n",
              "        );\n",
              "    }\n",
              "};\n",
              "\n",
              "mpl.figure = function (figure_id, websocket, ondownload, parent_element) {\n",
              "    this.id = figure_id;\n",
              "\n",
              "    this.ws = websocket;\n",
              "\n",
              "    this.supports_binary = this.ws.binaryType !== undefined;\n",
              "\n",
              "    if (!this.supports_binary) {\n",
              "        var warnings = document.getElementById('mpl-warnings');\n",
              "        if (warnings) {\n",
              "            warnings.style.display = 'block';\n",
              "            warnings.textContent =\n",
              "                'This browser does not support binary websocket messages. ' +\n",
              "                'Performance may be slow.';\n",
              "        }\n",
              "    }\n",
              "\n",
              "    this.imageObj = new Image();\n",
              "\n",
              "    this.context = undefined;\n",
              "    this.message = undefined;\n",
              "    this.canvas = undefined;\n",
              "    this.rubberband_canvas = undefined;\n",
              "    this.rubberband_context = undefined;\n",
              "    this.format_dropdown = undefined;\n",
              "\n",
              "    this.image_mode = 'full';\n",
              "\n",
              "    this.root = document.createElement('div');\n",
              "    this.root.setAttribute('style', 'display: inline-block');\n",
              "    this._root_extra_style(this.root);\n",
              "\n",
              "    parent_element.appendChild(this.root);\n",
              "\n",
              "    this._init_header(this);\n",
              "    this._init_canvas(this);\n",
              "    this._init_toolbar(this);\n",
              "\n",
              "    var fig = this;\n",
              "\n",
              "    this.waiting = false;\n",
              "\n",
              "    this.ws.onopen = function () {\n",
              "        fig.send_message('supports_binary', { value: fig.supports_binary });\n",
              "        fig.send_message('send_image_mode', {});\n",
              "        if (fig.ratio !== 1) {\n",
              "            fig.send_message('set_dpi_ratio', { dpi_ratio: fig.ratio });\n",
              "        }\n",
              "        fig.send_message('refresh', {});\n",
              "    };\n",
              "\n",
              "    this.imageObj.onload = function () {\n",
              "        if (fig.image_mode === 'full') {\n",
              "            // Full images could contain transparency (where diff images\n",
              "            // almost always do), so we need to clear the canvas so that\n",
              "            // there is no ghosting.\n",
              "            fig.context.clearRect(0, 0, fig.canvas.width, fig.canvas.height);\n",
              "        }\n",
              "        fig.context.drawImage(fig.imageObj, 0, 0);\n",
              "    };\n",
              "\n",
              "    this.imageObj.onunload = function () {\n",
              "        fig.ws.close();\n",
              "    };\n",
              "\n",
              "    this.ws.onmessage = this._make_on_message_function(this);\n",
              "\n",
              "    this.ondownload = ondownload;\n",
              "};\n",
              "\n",
              "mpl.figure.prototype._init_header = function () {\n",
              "    var titlebar = document.createElement('div');\n",
              "    titlebar.classList =\n",
              "        'ui-dialog-titlebar ui-widget-header ui-corner-all ui-helper-clearfix';\n",
              "    var titletext = document.createElement('div');\n",
              "    titletext.classList = 'ui-dialog-title';\n",
              "    titletext.setAttribute(\n",
              "        'style',\n",
              "        'width: 100%; text-align: center; padding: 3px;'\n",
              "    );\n",
              "    titlebar.appendChild(titletext);\n",
              "    this.root.appendChild(titlebar);\n",
              "    this.header = titletext;\n",
              "};\n",
              "\n",
              "mpl.figure.prototype._canvas_extra_style = function (_canvas_div) {};\n",
              "\n",
              "mpl.figure.prototype._root_extra_style = function (_canvas_div) {};\n",
              "\n",
              "mpl.figure.prototype._init_canvas = function () {\n",
              "    var fig = this;\n",
              "\n",
              "    var canvas_div = (this.canvas_div = document.createElement('div'));\n",
              "    canvas_div.setAttribute(\n",
              "        'style',\n",
              "        'border: 1px solid #ddd;' +\n",
              "            'box-sizing: content-box;' +\n",
              "            'clear: both;' +\n",
              "            'min-height: 1px;' +\n",
              "            'min-width: 1px;' +\n",
              "            'outline: 0;' +\n",
              "            'overflow: hidden;' +\n",
              "            'position: relative;' +\n",
              "            'resize: both;'\n",
              "    );\n",
              "\n",
              "    function on_keyboard_event_closure(name) {\n",
              "        return function (event) {\n",
              "            return fig.key_event(event, name);\n",
              "        };\n",
              "    }\n",
              "\n",
              "    canvas_div.addEventListener(\n",
              "        'keydown',\n",
              "        on_keyboard_event_closure('key_press')\n",
              "    );\n",
              "    canvas_div.addEventListener(\n",
              "        'keyup',\n",
              "        on_keyboard_event_closure('key_release')\n",
              "    );\n",
              "\n",
              "    this._canvas_extra_style(canvas_div);\n",
              "    this.root.appendChild(canvas_div);\n",
              "\n",
              "    var canvas = (this.canvas = document.createElement('canvas'));\n",
              "    canvas.classList.add('mpl-canvas');\n",
              "    canvas.setAttribute('style', 'box-sizing: content-box;');\n",
              "\n",
              "    this.context = canvas.getContext('2d');\n",
              "\n",
              "    var backingStore =\n",
              "        this.context.backingStorePixelRatio ||\n",
              "        this.context.webkitBackingStorePixelRatio ||\n",
              "        this.context.mozBackingStorePixelRatio ||\n",
              "        this.context.msBackingStorePixelRatio ||\n",
              "        this.context.oBackingStorePixelRatio ||\n",
              "        this.context.backingStorePixelRatio ||\n",
              "        1;\n",
              "\n",
              "    this.ratio = (window.devicePixelRatio || 1) / backingStore;\n",
              "\n",
              "    var rubberband_canvas = (this.rubberband_canvas = document.createElement(\n",
              "        'canvas'\n",
              "    ));\n",
              "    rubberband_canvas.setAttribute(\n",
              "        'style',\n",
              "        'box-sizing: content-box; position: absolute; left: 0; top: 0; z-index: 1;'\n",
              "    );\n",
              "\n",
              "    // Apply a ponyfill if ResizeObserver is not implemented by browser.\n",
              "    if (this.ResizeObserver === undefined) {\n",
              "        if (window.ResizeObserver !== undefined) {\n",
              "            this.ResizeObserver = window.ResizeObserver;\n",
              "        } else {\n",
              "            var obs = _JSXTOOLS_RESIZE_OBSERVER({});\n",
              "            this.ResizeObserver = obs.ResizeObserver;\n",
              "        }\n",
              "    }\n",
              "\n",
              "    this.resizeObserverInstance = new this.ResizeObserver(function (entries) {\n",
              "        var nentries = entries.length;\n",
              "        for (var i = 0; i < nentries; i++) {\n",
              "            var entry = entries[i];\n",
              "            var width, height;\n",
              "            if (entry.contentBoxSize) {\n",
              "                if (entry.contentBoxSize instanceof Array) {\n",
              "                    // Chrome 84 implements new version of spec.\n",
              "                    width = entry.contentBoxSize[0].inlineSize;\n",
              "                    height = entry.contentBoxSize[0].blockSize;\n",
              "                } else {\n",
              "                    // Firefox implements old version of spec.\n",
              "                    width = entry.contentBoxSize.inlineSize;\n",
              "                    height = entry.contentBoxSize.blockSize;\n",
              "                }\n",
              "            } else {\n",
              "                // Chrome <84 implements even older version of spec.\n",
              "                width = entry.contentRect.width;\n",
              "                height = entry.contentRect.height;\n",
              "            }\n",
              "\n",
              "            // Keep the size of the canvas and rubber band canvas in sync with\n",
              "            // the canvas container.\n",
              "            if (entry.devicePixelContentBoxSize) {\n",
              "                // Chrome 84 implements new version of spec.\n",
              "                canvas.setAttribute(\n",
              "                    'width',\n",
              "                    entry.devicePixelContentBoxSize[0].inlineSize\n",
              "                );\n",
              "                canvas.setAttribute(\n",
              "                    'height',\n",
              "                    entry.devicePixelContentBoxSize[0].blockSize\n",
              "                );\n",
              "            } else {\n",
              "                canvas.setAttribute('width', width * fig.ratio);\n",
              "                canvas.setAttribute('height', height * fig.ratio);\n",
              "            }\n",
              "            canvas.setAttribute(\n",
              "                'style',\n",
              "                'width: ' + width + 'px; height: ' + height + 'px;'\n",
              "            );\n",
              "\n",
              "            rubberband_canvas.setAttribute('width', width);\n",
              "            rubberband_canvas.setAttribute('height', height);\n",
              "\n",
              "            // And update the size in Python. We ignore the initial 0/0 size\n",
              "            // that occurs as the element is placed into the DOM, which should\n",
              "            // otherwise not happen due to the minimum size styling.\n",
              "            if (fig.ws.readyState == 1 && width != 0 && height != 0) {\n",
              "                fig.request_resize(width, height);\n",
              "            }\n",
              "        }\n",
              "    });\n",
              "    this.resizeObserverInstance.observe(canvas_div);\n",
              "\n",
              "    function on_mouse_event_closure(name) {\n",
              "        return function (event) {\n",
              "            return fig.mouse_event(event, name);\n",
              "        };\n",
              "    }\n",
              "\n",
              "    rubberband_canvas.addEventListener(\n",
              "        'mousedown',\n",
              "        on_mouse_event_closure('button_press')\n",
              "    );\n",
              "    rubberband_canvas.addEventListener(\n",
              "        'mouseup',\n",
              "        on_mouse_event_closure('button_release')\n",
              "    );\n",
              "    rubberband_canvas.addEventListener(\n",
              "        'dblclick',\n",
              "        on_mouse_event_closure('dblclick')\n",
              "    );\n",
              "    // Throttle sequential mouse events to 1 every 20ms.\n",
              "    rubberband_canvas.addEventListener(\n",
              "        'mousemove',\n",
              "        on_mouse_event_closure('motion_notify')\n",
              "    );\n",
              "\n",
              "    rubberband_canvas.addEventListener(\n",
              "        'mouseenter',\n",
              "        on_mouse_event_closure('figure_enter')\n",
              "    );\n",
              "    rubberband_canvas.addEventListener(\n",
              "        'mouseleave',\n",
              "        on_mouse_event_closure('figure_leave')\n",
              "    );\n",
              "\n",
              "    canvas_div.addEventListener('wheel', function (event) {\n",
              "        if (event.deltaY < 0) {\n",
              "            event.step = 1;\n",
              "        } else {\n",
              "            event.step = -1;\n",
              "        }\n",
              "        on_mouse_event_closure('scroll')(event);\n",
              "    });\n",
              "\n",
              "    canvas_div.appendChild(canvas);\n",
              "    canvas_div.appendChild(rubberband_canvas);\n",
              "\n",
              "    this.rubberband_context = rubberband_canvas.getContext('2d');\n",
              "    this.rubberband_context.strokeStyle = '#000000';\n",
              "\n",
              "    this._resize_canvas = function (width, height, forward) {\n",
              "        if (forward) {\n",
              "            canvas_div.style.width = width + 'px';\n",
              "            canvas_div.style.height = height + 'px';\n",
              "        }\n",
              "    };\n",
              "\n",
              "    // Disable right mouse context menu.\n",
              "    this.rubberband_canvas.addEventListener('contextmenu', function (_e) {\n",
              "        event.preventDefault();\n",
              "        return false;\n",
              "    });\n",
              "\n",
              "    function set_focus() {\n",
              "        canvas.focus();\n",
              "        canvas_div.focus();\n",
              "    }\n",
              "\n",
              "    window.setTimeout(set_focus, 100);\n",
              "};\n",
              "\n",
              "mpl.figure.prototype._init_toolbar = function () {\n",
              "    var fig = this;\n",
              "\n",
              "    var toolbar = document.createElement('div');\n",
              "    toolbar.classList = 'mpl-toolbar';\n",
              "    this.root.appendChild(toolbar);\n",
              "\n",
              "    function on_click_closure(name) {\n",
              "        return function (_event) {\n",
              "            return fig.toolbar_button_onclick(name);\n",
              "        };\n",
              "    }\n",
              "\n",
              "    function on_mouseover_closure(tooltip) {\n",
              "        return function (event) {\n",
              "            if (!event.currentTarget.disabled) {\n",
              "                return fig.toolbar_button_onmouseover(tooltip);\n",
              "            }\n",
              "        };\n",
              "    }\n",
              "\n",
              "    fig.buttons = {};\n",
              "    var buttonGroup = document.createElement('div');\n",
              "    buttonGroup.classList = 'mpl-button-group';\n",
              "    for (var toolbar_ind in mpl.toolbar_items) {\n",
              "        var name = mpl.toolbar_items[toolbar_ind][0];\n",
              "        var tooltip = mpl.toolbar_items[toolbar_ind][1];\n",
              "        var image = mpl.toolbar_items[toolbar_ind][2];\n",
              "        var method_name = mpl.toolbar_items[toolbar_ind][3];\n",
              "\n",
              "        if (!name) {\n",
              "            /* Instead of a spacer, we start a new button group. */\n",
              "            if (buttonGroup.hasChildNodes()) {\n",
              "                toolbar.appendChild(buttonGroup);\n",
              "            }\n",
              "            buttonGroup = document.createElement('div');\n",
              "            buttonGroup.classList = 'mpl-button-group';\n",
              "            continue;\n",
              "        }\n",
              "\n",
              "        var button = (fig.buttons[name] = document.createElement('button'));\n",
              "        button.classList = 'mpl-widget';\n",
              "        button.setAttribute('role', 'button');\n",
              "        button.setAttribute('aria-disabled', 'false');\n",
              "        button.addEventListener('click', on_click_closure(method_name));\n",
              "        button.addEventListener('mouseover', on_mouseover_closure(tooltip));\n",
              "\n",
              "        var icon_img = document.createElement('img');\n",
              "        icon_img.src = '_images/' + image + '.png';\n",
              "        icon_img.srcset = '_images/' + image + '_large.png 2x';\n",
              "        icon_img.alt = tooltip;\n",
              "        button.appendChild(icon_img);\n",
              "\n",
              "        buttonGroup.appendChild(button);\n",
              "    }\n",
              "\n",
              "    if (buttonGroup.hasChildNodes()) {\n",
              "        toolbar.appendChild(buttonGroup);\n",
              "    }\n",
              "\n",
              "    var fmt_picker = document.createElement('select');\n",
              "    fmt_picker.classList = 'mpl-widget';\n",
              "    toolbar.appendChild(fmt_picker);\n",
              "    this.format_dropdown = fmt_picker;\n",
              "\n",
              "    for (var ind in mpl.extensions) {\n",
              "        var fmt = mpl.extensions[ind];\n",
              "        var option = document.createElement('option');\n",
              "        option.selected = fmt === mpl.default_extension;\n",
              "        option.innerHTML = fmt;\n",
              "        fmt_picker.appendChild(option);\n",
              "    }\n",
              "\n",
              "    var status_bar = document.createElement('span');\n",
              "    status_bar.classList = 'mpl-message';\n",
              "    toolbar.appendChild(status_bar);\n",
              "    this.message = status_bar;\n",
              "};\n",
              "\n",
              "mpl.figure.prototype.request_resize = function (x_pixels, y_pixels) {\n",
              "    // Request matplotlib to resize the figure. Matplotlib will then trigger a resize in the client,\n",
              "    // which will in turn request a refresh of the image.\n",
              "    this.send_message('resize', { width: x_pixels, height: y_pixels });\n",
              "};\n",
              "\n",
              "mpl.figure.prototype.send_message = function (type, properties) {\n",
              "    properties['type'] = type;\n",
              "    properties['figure_id'] = this.id;\n",
              "    this.ws.send(JSON.stringify(properties));\n",
              "};\n",
              "\n",
              "mpl.figure.prototype.send_draw_message = function () {\n",
              "    if (!this.waiting) {\n",
              "        this.waiting = true;\n",
              "        this.ws.send(JSON.stringify({ type: 'draw', figure_id: this.id }));\n",
              "    }\n",
              "};\n",
              "\n",
              "mpl.figure.prototype.handle_save = function (fig, _msg) {\n",
              "    var format_dropdown = fig.format_dropdown;\n",
              "    var format = format_dropdown.options[format_dropdown.selectedIndex].value;\n",
              "    fig.ondownload(fig, format);\n",
              "};\n",
              "\n",
              "mpl.figure.prototype.handle_resize = function (fig, msg) {\n",
              "    var size = msg['size'];\n",
              "    if (size[0] !== fig.canvas.width || size[1] !== fig.canvas.height) {\n",
              "        fig._resize_canvas(size[0], size[1], msg['forward']);\n",
              "        fig.send_message('refresh', {});\n",
              "    }\n",
              "};\n",
              "\n",
              "mpl.figure.prototype.handle_rubberband = function (fig, msg) {\n",
              "    var x0 = msg['x0'] / fig.ratio;\n",
              "    var y0 = (fig.canvas.height - msg['y0']) / fig.ratio;\n",
              "    var x1 = msg['x1'] / fig.ratio;\n",
              "    var y1 = (fig.canvas.height - msg['y1']) / fig.ratio;\n",
              "    x0 = Math.floor(x0) + 0.5;\n",
              "    y0 = Math.floor(y0) + 0.5;\n",
              "    x1 = Math.floor(x1) + 0.5;\n",
              "    y1 = Math.floor(y1) + 0.5;\n",
              "    var min_x = Math.min(x0, x1);\n",
              "    var min_y = Math.min(y0, y1);\n",
              "    var width = Math.abs(x1 - x0);\n",
              "    var height = Math.abs(y1 - y0);\n",
              "\n",
              "    fig.rubberband_context.clearRect(\n",
              "        0,\n",
              "        0,\n",
              "        fig.canvas.width / fig.ratio,\n",
              "        fig.canvas.height / fig.ratio\n",
              "    );\n",
              "\n",
              "    fig.rubberband_context.strokeRect(min_x, min_y, width, height);\n",
              "};\n",
              "\n",
              "mpl.figure.prototype.handle_figure_label = function (fig, msg) {\n",
              "    // Updates the figure title.\n",
              "    fig.header.textContent = msg['label'];\n",
              "};\n",
              "\n",
              "mpl.figure.prototype.handle_cursor = function (fig, msg) {\n",
              "    var cursor = msg['cursor'];\n",
              "    switch (cursor) {\n",
              "        case 0:\n",
              "            cursor = 'pointer';\n",
              "            break;\n",
              "        case 1:\n",
              "            cursor = 'default';\n",
              "            break;\n",
              "        case 2:\n",
              "            cursor = 'crosshair';\n",
              "            break;\n",
              "        case 3:\n",
              "            cursor = 'move';\n",
              "            break;\n",
              "    }\n",
              "    fig.rubberband_canvas.style.cursor = cursor;\n",
              "};\n",
              "\n",
              "mpl.figure.prototype.handle_message = function (fig, msg) {\n",
              "    fig.message.textContent = msg['message'];\n",
              "};\n",
              "\n",
              "mpl.figure.prototype.handle_draw = function (fig, _msg) {\n",
              "    // Request the server to send over a new figure.\n",
              "    fig.send_draw_message();\n",
              "};\n",
              "\n",
              "mpl.figure.prototype.handle_image_mode = function (fig, msg) {\n",
              "    fig.image_mode = msg['mode'];\n",
              "};\n",
              "\n",
              "mpl.figure.prototype.handle_history_buttons = function (fig, msg) {\n",
              "    for (var key in msg) {\n",
              "        if (!(key in fig.buttons)) {\n",
              "            continue;\n",
              "        }\n",
              "        fig.buttons[key].disabled = !msg[key];\n",
              "        fig.buttons[key].setAttribute('aria-disabled', !msg[key]);\n",
              "    }\n",
              "};\n",
              "\n",
              "mpl.figure.prototype.handle_navigate_mode = function (fig, msg) {\n",
              "    if (msg['mode'] === 'PAN') {\n",
              "        fig.buttons['Pan'].classList.add('active');\n",
              "        fig.buttons['Zoom'].classList.remove('active');\n",
              "    } else if (msg['mode'] === 'ZOOM') {\n",
              "        fig.buttons['Pan'].classList.remove('active');\n",
              "        fig.buttons['Zoom'].classList.add('active');\n",
              "    } else {\n",
              "        fig.buttons['Pan'].classList.remove('active');\n",
              "        fig.buttons['Zoom'].classList.remove('active');\n",
              "    }\n",
              "};\n",
              "\n",
              "mpl.figure.prototype.updated_canvas_event = function () {\n",
              "    // Called whenever the canvas gets updated.\n",
              "    this.send_message('ack', {});\n",
              "};\n",
              "\n",
              "// A function to construct a web socket function for onmessage handling.\n",
              "// Called in the figure constructor.\n",
              "mpl.figure.prototype._make_on_message_function = function (fig) {\n",
              "    return function socket_on_message(evt) {\n",
              "        if (evt.data instanceof Blob) {\n",
              "            var img = evt.data;\n",
              "            if (img.type !== 'image/png') {\n",
              "                /* FIXME: We get \"Resource interpreted as Image but\n",
              "                 * transferred with MIME type text/plain:\" errors on\n",
              "                 * Chrome.  But how to set the MIME type?  It doesn't seem\n",
              "                 * to be part of the websocket stream */\n",
              "                img.type = 'image/png';\n",
              "            }\n",
              "\n",
              "            /* Free the memory for the previous frames */\n",
              "            if (fig.imageObj.src) {\n",
              "                (window.URL || window.webkitURL).revokeObjectURL(\n",
              "                    fig.imageObj.src\n",
              "                );\n",
              "            }\n",
              "\n",
              "            fig.imageObj.src = (window.URL || window.webkitURL).createObjectURL(\n",
              "                img\n",
              "            );\n",
              "            fig.updated_canvas_event();\n",
              "            fig.waiting = false;\n",
              "            return;\n",
              "        } else if (\n",
              "            typeof evt.data === 'string' &&\n",
              "            evt.data.slice(0, 21) === 'data:image/png;base64'\n",
              "        ) {\n",
              "            fig.imageObj.src = evt.data;\n",
              "            fig.updated_canvas_event();\n",
              "            fig.waiting = false;\n",
              "            return;\n",
              "        }\n",
              "\n",
              "        var msg = JSON.parse(evt.data);\n",
              "        var msg_type = msg['type'];\n",
              "\n",
              "        // Call the  \"handle_{type}\" callback, which takes\n",
              "        // the figure and JSON message as its only arguments.\n",
              "        try {\n",
              "            var callback = fig['handle_' + msg_type];\n",
              "        } catch (e) {\n",
              "            console.log(\n",
              "                \"No handler for the '\" + msg_type + \"' message type: \",\n",
              "                msg\n",
              "            );\n",
              "            return;\n",
              "        }\n",
              "\n",
              "        if (callback) {\n",
              "            try {\n",
              "                // console.log(\"Handling '\" + msg_type + \"' message: \", msg);\n",
              "                callback(fig, msg);\n",
              "            } catch (e) {\n",
              "                console.log(\n",
              "                    \"Exception inside the 'handler_\" + msg_type + \"' callback:\",\n",
              "                    e,\n",
              "                    e.stack,\n",
              "                    msg\n",
              "                );\n",
              "            }\n",
              "        }\n",
              "    };\n",
              "};\n",
              "\n",
              "// from http://stackoverflow.com/questions/1114465/getting-mouse-location-in-canvas\n",
              "mpl.findpos = function (e) {\n",
              "    //this section is from http://www.quirksmode.org/js/events_properties.html\n",
              "    var targ;\n",
              "    if (!e) {\n",
              "        e = window.event;\n",
              "    }\n",
              "    if (e.target) {\n",
              "        targ = e.target;\n",
              "    } else if (e.srcElement) {\n",
              "        targ = e.srcElement;\n",
              "    }\n",
              "    if (targ.nodeType === 3) {\n",
              "        // defeat Safari bug\n",
              "        targ = targ.parentNode;\n",
              "    }\n",
              "\n",
              "    // pageX,Y are the mouse positions relative to the document\n",
              "    var boundingRect = targ.getBoundingClientRect();\n",
              "    var x = e.pageX - (boundingRect.left + document.body.scrollLeft);\n",
              "    var y = e.pageY - (boundingRect.top + document.body.scrollTop);\n",
              "\n",
              "    return { x: x, y: y };\n",
              "};\n",
              "\n",
              "/*\n",
              " * return a copy of an object with only non-object keys\n",
              " * we need this to avoid circular references\n",
              " * http://stackoverflow.com/a/24161582/3208463\n",
              " */\n",
              "function simpleKeys(original) {\n",
              "    return Object.keys(original).reduce(function (obj, key) {\n",
              "        if (typeof original[key] !== 'object') {\n",
              "            obj[key] = original[key];\n",
              "        }\n",
              "        return obj;\n",
              "    }, {});\n",
              "}\n",
              "\n",
              "mpl.figure.prototype.mouse_event = function (event, name) {\n",
              "    var canvas_pos = mpl.findpos(event);\n",
              "\n",
              "    if (name === 'button_press') {\n",
              "        this.canvas.focus();\n",
              "        this.canvas_div.focus();\n",
              "    }\n",
              "\n",
              "    var x = canvas_pos.x * this.ratio;\n",
              "    var y = canvas_pos.y * this.ratio;\n",
              "\n",
              "    this.send_message(name, {\n",
              "        x: x,\n",
              "        y: y,\n",
              "        button: event.button,\n",
              "        step: event.step,\n",
              "        guiEvent: simpleKeys(event),\n",
              "    });\n",
              "\n",
              "    /* This prevents the web browser from automatically changing to\n",
              "     * the text insertion cursor when the button is pressed.  We want\n",
              "     * to control all of the cursor setting manually through the\n",
              "     * 'cursor' event from matplotlib */\n",
              "    event.preventDefault();\n",
              "    return false;\n",
              "};\n",
              "\n",
              "mpl.figure.prototype._key_event_extra = function (_event, _name) {\n",
              "    // Handle any extra behaviour associated with a key event\n",
              "};\n",
              "\n",
              "mpl.figure.prototype.key_event = function (event, name) {\n",
              "    // Prevent repeat events\n",
              "    if (name === 'key_press') {\n",
              "        if (event.key === this._key) {\n",
              "            return;\n",
              "        } else {\n",
              "            this._key = event.key;\n",
              "        }\n",
              "    }\n",
              "    if (name === 'key_release') {\n",
              "        this._key = null;\n",
              "    }\n",
              "\n",
              "    var value = '';\n",
              "    if (event.ctrlKey && event.key !== 'Control') {\n",
              "        value += 'ctrl+';\n",
              "    }\n",
              "    else if (event.altKey && event.key !== 'Alt') {\n",
              "        value += 'alt+';\n",
              "    }\n",
              "    else if (event.shiftKey && event.key !== 'Shift') {\n",
              "        value += 'shift+';\n",
              "    }\n",
              "\n",
              "    value += 'k' + event.key;\n",
              "\n",
              "    this._key_event_extra(event, name);\n",
              "\n",
              "    this.send_message(name, { key: value, guiEvent: simpleKeys(event) });\n",
              "    return false;\n",
              "};\n",
              "\n",
              "mpl.figure.prototype.toolbar_button_onclick = function (name) {\n",
              "    if (name === 'download') {\n",
              "        this.handle_save(this, null);\n",
              "    } else {\n",
              "        this.send_message('toolbar_button', { name: name });\n",
              "    }\n",
              "};\n",
              "\n",
              "mpl.figure.prototype.toolbar_button_onmouseover = function (tooltip) {\n",
              "    this.message.textContent = tooltip;\n",
              "};\n",
              "\n",
              "///////////////// REMAINING CONTENT GENERATED BY embed_js.py /////////////////\n",
              "// prettier-ignore\n",
              "var _JSXTOOLS_RESIZE_OBSERVER=function(A){var t,i=new WeakMap,n=new WeakMap,a=new WeakMap,r=new WeakMap,o=new Set;function s(e){if(!(this instanceof s))throw new TypeError(\"Constructor requires 'new' operator\");i.set(this,e)}function h(){throw new TypeError(\"Function is not a constructor\")}function c(e,t,i,n){e=0 in arguments?Number(arguments[0]):0,t=1 in arguments?Number(arguments[1]):0,i=2 in arguments?Number(arguments[2]):0,n=3 in arguments?Number(arguments[3]):0,this.right=(this.x=this.left=e)+(this.width=i),this.bottom=(this.y=this.top=t)+(this.height=n),Object.freeze(this)}function d(){t=requestAnimationFrame(d);var s=new WeakMap,p=new Set;o.forEach((function(t){r.get(t).forEach((function(i){var r=t instanceof window.SVGElement,o=a.get(t),d=r?0:parseFloat(o.paddingTop),f=r?0:parseFloat(o.paddingRight),l=r?0:parseFloat(o.paddingBottom),u=r?0:parseFloat(o.paddingLeft),g=r?0:parseFloat(o.borderTopWidth),m=r?0:parseFloat(o.borderRightWidth),w=r?0:parseFloat(o.borderBottomWidth),b=u+f,F=d+l,v=(r?0:parseFloat(o.borderLeftWidth))+m,W=g+w,y=r?0:t.offsetHeight-W-t.clientHeight,E=r?0:t.offsetWidth-v-t.clientWidth,R=b+v,z=F+W,M=r?t.width:parseFloat(o.width)-R-E,O=r?t.height:parseFloat(o.height)-z-y;if(n.has(t)){var k=n.get(t);if(k[0]===M&&k[1]===O)return}n.set(t,[M,O]);var S=Object.create(h.prototype);S.target=t,S.contentRect=new c(u,d,M,O),s.has(i)||(s.set(i,[]),p.add(i)),s.get(i).push(S)}))})),p.forEach((function(e){i.get(e).call(e,s.get(e),e)}))}return s.prototype.observe=function(i){if(i instanceof window.Element){r.has(i)||(r.set(i,new Set),o.add(i),a.set(i,window.getComputedStyle(i)));var n=r.get(i);n.has(this)||n.add(this),cancelAnimationFrame(t),t=requestAnimationFrame(d)}},s.prototype.unobserve=function(i){if(i instanceof window.Element&&r.has(i)){var n=r.get(i);n.has(this)&&(n.delete(this),n.size||(r.delete(i),o.delete(i))),n.size||r.delete(i),o.size||cancelAnimationFrame(t)}},A.DOMRectReadOnly=c,A.ResizeObserver=s,A.ResizeObserverEntry=h,A}; // eslint-disable-line\n",
              "mpl.toolbar_items = [[\"Home\", \"Reset original view\", \"fa fa-home icon-home\", \"home\"], [\"Back\", \"Back to previous view\", \"fa fa-arrow-left icon-arrow-left\", \"back\"], [\"Forward\", \"Forward to next view\", \"fa fa-arrow-right icon-arrow-right\", \"forward\"], [\"\", \"\", \"\", \"\"], [\"Pan\", \"Left button pans, Right button zooms\\nx/y fixes axis, CTRL fixes aspect\", \"fa fa-arrows icon-move\", \"pan\"], [\"Zoom\", \"Zoom to rectangle\\nx/y fixes axis, CTRL fixes aspect\", \"fa fa-square-o icon-check-empty\", \"zoom\"], [\"\", \"\", \"\", \"\"], [\"Download\", \"Download plot\", \"fa fa-floppy-o icon-save\", \"download\"]];\n",
              "\n",
              "mpl.extensions = [\"eps\", \"jpeg\", \"pgf\", \"pdf\", \"png\", \"ps\", \"raw\", \"svg\", \"tif\"];\n",
              "\n",
              "mpl.default_extension = \"png\";/* global mpl */\n",
              "\n",
              "var comm_websocket_adapter = function (comm) {\n",
              "    // Create a \"websocket\"-like object which calls the given IPython comm\n",
              "    // object with the appropriate methods. Currently this is a non binary\n",
              "    // socket, so there is still some room for performance tuning.\n",
              "    var ws = {};\n",
              "\n",
              "    ws.binaryType = comm.kernel.ws.binaryType;\n",
              "    ws.readyState = comm.kernel.ws.readyState;\n",
              "    function updateReadyState(_event) {\n",
              "        if (comm.kernel.ws) {\n",
              "            ws.readyState = comm.kernel.ws.readyState;\n",
              "        } else {\n",
              "            ws.readyState = 3; // Closed state.\n",
              "        }\n",
              "    }\n",
              "    comm.kernel.ws.addEventListener('open', updateReadyState);\n",
              "    comm.kernel.ws.addEventListener('close', updateReadyState);\n",
              "    comm.kernel.ws.addEventListener('error', updateReadyState);\n",
              "\n",
              "    ws.close = function () {\n",
              "        comm.close();\n",
              "    };\n",
              "    ws.send = function (m) {\n",
              "        //console.log('sending', m);\n",
              "        comm.send(m);\n",
              "    };\n",
              "    // Register the callback with on_msg.\n",
              "    comm.on_msg(function (msg) {\n",
              "        //console.log('receiving', msg['content']['data'], msg);\n",
              "        var data = msg['content']['data'];\n",
              "        if (data['blob'] !== undefined) {\n",
              "            data = {\n",
              "                data: new Blob(msg['buffers'], { type: data['blob'] }),\n",
              "            };\n",
              "        }\n",
              "        // Pass the mpl event to the overridden (by mpl) onmessage function.\n",
              "        ws.onmessage(data);\n",
              "    });\n",
              "    return ws;\n",
              "};\n",
              "\n",
              "mpl.mpl_figure_comm = function (comm, msg) {\n",
              "    // This is the function which gets called when the mpl process\n",
              "    // starts-up an IPython Comm through the \"matplotlib\" channel.\n",
              "\n",
              "    var id = msg.content.data.id;\n",
              "    // Get hold of the div created by the display call when the Comm\n",
              "    // socket was opened in Python.\n",
              "    var element = document.getElementById(id);\n",
              "    var ws_proxy = comm_websocket_adapter(comm);\n",
              "\n",
              "    function ondownload(figure, _format) {\n",
              "        window.open(figure.canvas.toDataURL());\n",
              "    }\n",
              "\n",
              "    var fig = new mpl.figure(id, ws_proxy, ondownload, element);\n",
              "\n",
              "    // Call onopen now - mpl needs it, as it is assuming we've passed it a real\n",
              "    // web socket which is closed, not our websocket->open comm proxy.\n",
              "    ws_proxy.onopen();\n",
              "\n",
              "    fig.parent_element = element;\n",
              "    fig.cell_info = mpl.find_output_cell(\"<div id='\" + id + \"'></div>\");\n",
              "    if (!fig.cell_info) {\n",
              "        console.error('Failed to find cell for figure', id, fig);\n",
              "        return;\n",
              "    }\n",
              "    fig.cell_info[0].output_area.element.on(\n",
              "        'cleared',\n",
              "        { fig: fig },\n",
              "        fig._remove_fig_handler\n",
              "    );\n",
              "};\n",
              "\n",
              "mpl.figure.prototype.handle_close = function (fig, msg) {\n",
              "    var width = fig.canvas.width / fig.ratio;\n",
              "    fig.cell_info[0].output_area.element.off(\n",
              "        'cleared',\n",
              "        fig._remove_fig_handler\n",
              "    );\n",
              "    fig.resizeObserverInstance.unobserve(fig.canvas_div);\n",
              "\n",
              "    // Update the output cell to use the data from the current canvas.\n",
              "    fig.push_to_output();\n",
              "    var dataURL = fig.canvas.toDataURL();\n",
              "    // Re-enable the keyboard manager in IPython - without this line, in FF,\n",
              "    // the notebook keyboard shortcuts fail.\n",
              "    IPython.keyboard_manager.enable();\n",
              "    fig.parent_element.innerHTML =\n",
              "        '<img src=\"' + dataURL + '\" width=\"' + width + '\">';\n",
              "    fig.close_ws(fig, msg);\n",
              "};\n",
              "\n",
              "mpl.figure.prototype.close_ws = function (fig, msg) {\n",
              "    fig.send_message('closing', msg);\n",
              "    // fig.ws.close()\n",
              "};\n",
              "\n",
              "mpl.figure.prototype.push_to_output = function (_remove_interactive) {\n",
              "    // Turn the data on the canvas into data in the output cell.\n",
              "    var width = this.canvas.width / this.ratio;\n",
              "    var dataURL = this.canvas.toDataURL();\n",
              "    this.cell_info[1]['text/html'] =\n",
              "        '<img src=\"' + dataURL + '\" width=\"' + width + '\">';\n",
              "};\n",
              "\n",
              "mpl.figure.prototype.updated_canvas_event = function () {\n",
              "    // Tell IPython that the notebook contents must change.\n",
              "    IPython.notebook.set_dirty(true);\n",
              "    this.send_message('ack', {});\n",
              "    var fig = this;\n",
              "    // Wait a second, then push the new image to the DOM so\n",
              "    // that it is saved nicely (might be nice to debounce this).\n",
              "    setTimeout(function () {\n",
              "        fig.push_to_output();\n",
              "    }, 1000);\n",
              "};\n",
              "\n",
              "mpl.figure.prototype._init_toolbar = function () {\n",
              "    var fig = this;\n",
              "\n",
              "    var toolbar = document.createElement('div');\n",
              "    toolbar.classList = 'btn-toolbar';\n",
              "    this.root.appendChild(toolbar);\n",
              "\n",
              "    function on_click_closure(name) {\n",
              "        return function (_event) {\n",
              "            return fig.toolbar_button_onclick(name);\n",
              "        };\n",
              "    }\n",
              "\n",
              "    function on_mouseover_closure(tooltip) {\n",
              "        return function (event) {\n",
              "            if (!event.currentTarget.disabled) {\n",
              "                return fig.toolbar_button_onmouseover(tooltip);\n",
              "            }\n",
              "        };\n",
              "    }\n",
              "\n",
              "    fig.buttons = {};\n",
              "    var buttonGroup = document.createElement('div');\n",
              "    buttonGroup.classList = 'btn-group';\n",
              "    var button;\n",
              "    for (var toolbar_ind in mpl.toolbar_items) {\n",
              "        var name = mpl.toolbar_items[toolbar_ind][0];\n",
              "        var tooltip = mpl.toolbar_items[toolbar_ind][1];\n",
              "        var image = mpl.toolbar_items[toolbar_ind][2];\n",
              "        var method_name = mpl.toolbar_items[toolbar_ind][3];\n",
              "\n",
              "        if (!name) {\n",
              "            /* Instead of a spacer, we start a new button group. */\n",
              "            if (buttonGroup.hasChildNodes()) {\n",
              "                toolbar.appendChild(buttonGroup);\n",
              "            }\n",
              "            buttonGroup = document.createElement('div');\n",
              "            buttonGroup.classList = 'btn-group';\n",
              "            continue;\n",
              "        }\n",
              "\n",
              "        button = fig.buttons[name] = document.createElement('button');\n",
              "        button.classList = 'btn btn-default';\n",
              "        button.href = '#';\n",
              "        button.title = name;\n",
              "        button.innerHTML = '<i class=\"fa ' + image + ' fa-lg\"></i>';\n",
              "        button.addEventListener('click', on_click_closure(method_name));\n",
              "        button.addEventListener('mouseover', on_mouseover_closure(tooltip));\n",
              "        buttonGroup.appendChild(button);\n",
              "    }\n",
              "\n",
              "    if (buttonGroup.hasChildNodes()) {\n",
              "        toolbar.appendChild(buttonGroup);\n",
              "    }\n",
              "\n",
              "    // Add the status bar.\n",
              "    var status_bar = document.createElement('span');\n",
              "    status_bar.classList = 'mpl-message pull-right';\n",
              "    toolbar.appendChild(status_bar);\n",
              "    this.message = status_bar;\n",
              "\n",
              "    // Add the close button to the window.\n",
              "    var buttongrp = document.createElement('div');\n",
              "    buttongrp.classList = 'btn-group inline pull-right';\n",
              "    button = document.createElement('button');\n",
              "    button.classList = 'btn btn-mini btn-primary';\n",
              "    button.href = '#';\n",
              "    button.title = 'Stop Interaction';\n",
              "    button.innerHTML = '<i class=\"fa fa-power-off icon-remove icon-large\"></i>';\n",
              "    button.addEventListener('click', function (_evt) {\n",
              "        fig.handle_close(fig, {});\n",
              "    });\n",
              "    button.addEventListener(\n",
              "        'mouseover',\n",
              "        on_mouseover_closure('Stop Interaction')\n",
              "    );\n",
              "    buttongrp.appendChild(button);\n",
              "    var titlebar = this.root.querySelector('.ui-dialog-titlebar');\n",
              "    titlebar.insertBefore(buttongrp, titlebar.firstChild);\n",
              "};\n",
              "\n",
              "mpl.figure.prototype._remove_fig_handler = function (event) {\n",
              "    var fig = event.data.fig;\n",
              "    if (event.target !== this) {\n",
              "        // Ignore bubbled events from children.\n",
              "        return;\n",
              "    }\n",
              "    fig.close_ws(fig, {});\n",
              "};\n",
              "\n",
              "mpl.figure.prototype._root_extra_style = function (el) {\n",
              "    el.style.boxSizing = 'content-box'; // override notebook setting of border-box.\n",
              "};\n",
              "\n",
              "mpl.figure.prototype._canvas_extra_style = function (el) {\n",
              "    // this is important to make the div 'focusable\n",
              "    el.setAttribute('tabindex', 0);\n",
              "    // reach out to IPython and tell the keyboard manager to turn it's self\n",
              "    // off when our div gets focus\n",
              "\n",
              "    // location in version 3\n",
              "    if (IPython.notebook.keyboard_manager) {\n",
              "        IPython.notebook.keyboard_manager.register_events(el);\n",
              "    } else {\n",
              "        // location in version 2\n",
              "        IPython.keyboard_manager.register_events(el);\n",
              "    }\n",
              "};\n",
              "\n",
              "mpl.figure.prototype._key_event_extra = function (event, _name) {\n",
              "    var manager = IPython.notebook.keyboard_manager;\n",
              "    if (!manager) {\n",
              "        manager = IPython.keyboard_manager;\n",
              "    }\n",
              "\n",
              "    // Check for shift+enter\n",
              "    if (event.shiftKey && event.which === 13) {\n",
              "        this.canvas_div.blur();\n",
              "        // select the cell after this one\n",
              "        var index = IPython.notebook.find_cell_index(this.cell_info[0]);\n",
              "        IPython.notebook.select(index + 1);\n",
              "    }\n",
              "};\n",
              "\n",
              "mpl.figure.prototype.handle_save = function (fig, _msg) {\n",
              "    fig.ondownload(fig, null);\n",
              "};\n",
              "\n",
              "mpl.find_output_cell = function (html_output) {\n",
              "    // Return the cell and output element which can be found *uniquely* in the notebook.\n",
              "    // Note - this is a bit hacky, but it is done because the \"notebook_saving.Notebook\"\n",
              "    // IPython event is triggered only after the cells have been serialised, which for\n",
              "    // our purposes (turning an active figure into a static one), is too late.\n",
              "    var cells = IPython.notebook.get_cells();\n",
              "    var ncells = cells.length;\n",
              "    for (var i = 0; i < ncells; i++) {\n",
              "        var cell = cells[i];\n",
              "        if (cell.cell_type === 'code') {\n",
              "            for (var j = 0; j < cell.output_area.outputs.length; j++) {\n",
              "                var data = cell.output_area.outputs[j];\n",
              "                if (data.data) {\n",
              "                    // IPython >= 3 moved mimebundle to data attribute of output\n",
              "                    data = data.data;\n",
              "                }\n",
              "                if (data['text/html'] === html_output) {\n",
              "                    return [cell, data, j];\n",
              "                }\n",
              "            }\n",
              "        }\n",
              "    }\n",
              "};\n",
              "\n",
              "// Register the function which deals with the matplotlib target/channel.\n",
              "// The kernel may be null if the page has been refreshed.\n",
              "if (IPython.notebook.kernel !== null) {\n",
              "    IPython.notebook.kernel.comm_manager.register_target(\n",
              "        'matplotlib',\n",
              "        mpl.mpl_figure_comm\n",
              "    );\n",
              "}\n"
            ],
            "text/plain": [
              "<IPython.core.display.Javascript object>"
            ]
          },
          "metadata": {},
          "output_type": "display_data"
        },
        {
          "data": {
            "text/html": [
              "<img src=\"data:image/png;base64,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\" width=\"640\">"
            ],
            "text/plain": [
              "<IPython.core.display.HTML object>"
            ]
          },
          "metadata": {},
          "output_type": "display_data"
        }
      ],
      "source": [
        "# ONLY for jupyter notebook\n",
        "%matplotlib notebook\n",
        "\n",
        "# Import modules\n",
        "import matplotlib.pyplot as plt\n",
        "import math\n",
        "\n",
        "# Data and settings\n",
        "g = 9.8\n",
        "h = 0.\n",
        "t = 0.\n",
        "\n",
        "# Initial conditions and integration setting provided by the user\n",
        "theta_default = 23. # Default value\n",
        "while True:\n",
        "    x = input(\"Angle theta in [0,90] degrees (press return for {0} degree): \".format(theta_default))\n",
        "    if x == \"\":\n",
        "        theta = theta_default\n",
        "        break\n",
        "    try:\n",
        "        theta = float(x)\n",
        "    except:\n",
        "        theta = -1.\n",
        "    if(theta>0 and theta<90):\n",
        "        break\n",
        "theta = math.radians(theta)\n",
        "\n",
        "h_default = 0. # Default value\n",
        "while True:\n",
        "    x = input(\"Initial height h in m: (press return for h = {} m): \".format(h_default))\n",
        "    if x == \"\":\n",
        "        h = h_default\n",
        "        break\n",
        "    try:\n",
        "        h = float(x)\n",
        "    except:\n",
        "        h = -1\n",
        "    if(h>=0):\n",
        "        break\n",
        "\n",
        "v0_default = 10. # Default value\n",
        "while True:\n",
        "    x = input(\"Insert v_0 > 0 in m/s (press return for {0} m/s): \".format(v0_default))\n",
        "    if x == \"\":\n",
        "        v0 = v0_default\n",
        "        break\n",
        "    try:\n",
        "        v0 = float(x)\n",
        "    except:\n",
        "        v0 = -1\n",
        "    if(v0>0):\n",
        "        break\n",
        "\n",
        "dt_default = 0.1 # Default value\n",
        "while True:\n",
        "    x = input(\"Insert dt > 0 in sec (press return for {0} sec): \".format(dt_default))\n",
        "    if x == \"\":\n",
        "        dt = dt_default\n",
        "        break\n",
        "    try:\n",
        "        dt = float(x)\n",
        "    except:\n",
        "        dt = -1\n",
        "    if(dt>0):\n",
        "        break\n",
        "\n",
        "# Compute velocity components\n",
        "v0x = v0*math.cos(theta)\n",
        "v0y = v0*math.sin(theta)\n",
        "print(\"v0_x: %.3f m/s \\t v0_y: %.3f m/s\"%(v0x,v0y))\n",
        "\n",
        "# Results containers\n",
        "x = []\n",
        "y = []\n",
        "\n",
        "# Evolve\n",
        "xi = 0\n",
        "yi = h\n",
        "while yi>=0:\n",
        "    x.append(xi)\n",
        "    y.append(yi)\n",
        "    t += dt\n",
        "    xi = v0x*t\n",
        "    yi = h + v0y*t - 0.5*g*t*t\n",
        "\n",
        "# Plot results...\n",
        "plt.plot(x,y, label='trajectory', color='red', marker='.')\n",
        "plt.legend()\n",
        "\n",
        "# ...and make them look good\n",
        "plt.title('motion under gravity')\n",
        "plt.xlabel(\"x [m]\")\n",
        "plt.ylabel(\"y [m]\")\n",
        "plt.grid(True)\n",
        "plt.xlim(-0.1, max(x)*1.1)\n",
        "plt.ylim(-0.1,max(y)*1.10)\n",
        "plt.show()\n",
        "\n",
        "# Only for script\n",
        "#plot.show()"
      ]
    }
  ],
  "metadata": {
    "colab": {
      "collapsed_sections": [
        "E_9E1xhHqPra",
        "AOhtZi1BqPrc",
        "2nkKo-2_qPrf",
        "8YFJRfsWqPrh"
      ],
      "name": "1-Basics.ipynb",
      "provenance": [],
      "include_colab_link": true
    },
    "kernelspec": {
      "display_name": "Python 3 (ipykernel)",
      "language": "python",
      "name": "python3"
    },
    "language_info": {
      "codemirror_mode": {
        "name": "ipython",
        "version": 3
      },
      "file_extension": ".py",
      "mimetype": "text/x-python",
      "name": "python",
      "nbconvert_exporter": "python",
      "pygments_lexer": "ipython3",
      "version": "3.8.2"
    }
  },
  "nbformat": 4,
  "nbformat_minor": 0
}