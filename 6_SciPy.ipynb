{
  "cells": [
    {
      "cell_type": "markdown",
      "metadata": {
        "id": "view-in-github",
        "colab_type": "text"
      },
      "source": [
        "<a href=\"https://colab.research.google.com/github/marino1846067/CMP2021/blob/main/6_SciPy.ipynb\" target=\"_parent\"><img src=\"https://colab.research.google.com/assets/colab-badge.svg\" alt=\"Open In Colab\"/></a>"
      ]
    },
    {
      "cell_type": "markdown",
      "metadata": {
        "id": "uOW17J0cjT8A"
      },
      "source": [
        "# SCIPY\n",
        "\n",
        "Scipy, or Scientific Python, is a collection of functions to perform basic scientific programming and data analysis.\n",
        "\n",
        "Some of its contents are:\n",
        "- Fourier transforms (`scipy.fft`)\n",
        "- numerical integration (`scipy.integrate`)\n",
        "- interpolation tools (`scipy.interpolate`)\n",
        "- linear algebra routines (`scipy.linalg`)\n",
        "- signal processing tools (`scipy.signal`)\n",
        "- statistical functions (`scipy.stats`)\n",
        "\n",
        "It is also the ecosystem for several scientific packages and provides a consistent interface to the functions, avoiding duplication.  The libraries `scikit-learn` (for machine learning) and `scikit-image` (for image processing) rely on `scipy` heavily."
      ]
    },
    {
      "cell_type": "code",
      "execution_count": null,
      "metadata": {
        "id": "sydR5OBSjT8F"
      },
      "outputs": [],
      "source": [
        "import scipy"
      ]
    },
    {
      "cell_type": "code",
      "execution_count": null,
      "metadata": {
        "id": "jZqDGSFfjT8F"
      },
      "outputs": [],
      "source": [
        "import matplotlib.pyplot as plt"
      ]
    },
    {
      "cell_type": "code",
      "execution_count": null,
      "metadata": {
        "id": "SNn6A-o1GzO9"
      },
      "outputs": [],
      "source": [
        "import numpy as np"
      ]
    },
    {
      "cell_type": "markdown",
      "metadata": {
        "id": "L53kYTGhAx3X"
      },
      "source": [
        "## Integrating with `scipy.integrate`\n",
        "\n",
        "To integrate a list of numbers using `scipy`, you might use a function called `trapz` (for trapezoid, the type of integration being used), or `quad` (from quadrature), both from the `integrate` package."
      ]
    },
    {
      "cell_type": "code",
      "execution_count": null,
      "metadata": {
        "colab": {
          "base_uri": "https://localhost:8080/"
        },
        "id": "nms2dZv-BBbL",
        "outputId": "17001afc-d0c6-4be1-ba2c-4b7a0f720cb3"
      },
      "outputs": [
        {
          "name": "stdout",
          "output_type": "stream",
          "text": [
            "12.5\n"
          ]
        }
      ],
      "source": [
        "import scipy.integrate as integrate\n",
        "result = integrate.trapz([0, 1, 2, 3, 4, 5])\n",
        "print(result)"
      ]
    },
    {
      "cell_type": "markdown",
      "metadata": {
        "id": "hbelU7NyB2OF"
      },
      "source": [
        "`trapz` here is assuming the $y$-values we provided are taken at evenly spaced values of $x$ with $\\Delta x=1$.  You can provide specific values of $x$ with a list, or a different $\\Delta x$ with the keyword `dx`."
      ]
    },
    {
      "cell_type": "code",
      "execution_count": null,
      "metadata": {
        "colab": {
          "base_uri": "https://localhost:8080/"
        },
        "id": "RYK6aNNvBU9n",
        "outputId": "69c6cc8f-1024-44ea-fdca-14d89164c202"
      },
      "outputs": [
        {
          "name": "stdout",
          "output_type": "stream",
          "text": [
            "(2.0, 2.220446049250313e-14)\n"
          ]
        }
      ],
      "source": [
        "result = integrate.quad(np.sin, 0, np.pi)\n",
        "print(result)"
      ]
    },
    {
      "cell_type": "markdown",
      "metadata": {
        "id": "-QK4kB1YBlcP"
      },
      "source": [
        "`quad` takes a function name and the limits of the integral, but no data points. It returns the integral with an estimate of the error.\n"
      ]
    },
    {
      "cell_type": "markdown",
      "metadata": {
        "id": "ZlLsuLdwFJJ-"
      },
      "source": [
        "Consider\n",
        "$$\n",
        "\\int_0^2 x^4\\log (x+\\sqrt{x^2+1}) dx\\,.\n",
        "$$\n",
        "\n"
      ]
    },
    {
      "cell_type": "code",
      "execution_count": null,
      "metadata": {
        "colab": {
          "base_uri": "https://localhost:8080/",
          "height": 317
        },
        "id": "qBFsX0eQFzUz",
        "outputId": "2c0bad87-2335-40c4-adb4-6fbc359c7dc0"
      },
      "outputs": [
        {
          "data": {
            "text/plain": [
              "<matplotlib.legend.Legend at 0x12a889280>"
            ]
          },
          "execution_count": 6,
          "metadata": {},
          "output_type": "execute_result"
        },
        {
          "data": {
            "image/png": "[encoded data removed]",
            "text/plain": [
              "<Figure size 432x288 with 1 Axes>"
            ]
          },
          "metadata": {
            "needs_background": "light"
          },
          "output_type": "display_data"
        }
      ],
      "source": [
        "%matplotlib inline\n",
        "\n",
        "#import matplotlib.pyplot as plt\n",
        "\n",
        "x = np.linspace(0, 2, 10000)\n",
        "\n",
        "def integrand(x):\n",
        "    return x**4*np.log(x+np.sqrt(x**2+1))\n",
        "\n",
        "y = integrand(x)\n",
        "\n",
        "plt.yscale('log')\n",
        "plt.xlabel('x')\n",
        "plt.ylabel('Integrand')\n",
        "plt.plot(x, y, 'b-', label='Integrand')\n",
        "plt.legend()"
      ]
    },
    {
      "cell_type": "markdown",
      "metadata": {
        "id": "bB4jDaBgGskQ"
      },
      "source": [
        "Notice that at low $x$-values the integrand hardly varies.  The `scipy.integrate.quad()` routine is **adaptive**, i.e., it adjusts the integrand evaluations to concentrate where its variations are more significant."
      ]
    },
    {
      "cell_type": "code",
      "execution_count": null,
      "metadata": {
        "colab": {
          "base_uri": "https://localhost:8080/"
        },
        "id": "NEnkEmQCHY8R",
        "outputId": "fbf13461-8f0e-46f6-c713-2db5678ca903"
      },
      "outputs": [
        {
          "name": "stdout",
          "output_type": "stream",
          "text": [
            "(8.153364119811167, 9.052052573966981e-14)\n"
          ]
        }
      ],
      "source": [
        "print(integrate.quad(integrand, 0, 2))"
      ]
    },
    {
      "cell_type": "markdown",
      "metadata": {
        "id": "3ifeZhQFHz6u"
      },
      "source": [
        "## Integrating ODEs with `scipy.integrate.odeint`\n",
        "\n",
        "Many physical phenomena are modeled by differential equations: oscillations of simple systems (spring-mass, pendulum, etc.), fluid mechanics (Navier-Stokes, Laplace's, etc.), quantum mechanics (Schrödinger’s), etc.  Here is how to numerically solve equations of this kin, in relatively simple cases...\n",
        "\n",
        "The example looks at the 1D dynamics of a spring (with rest length $L$ and elastic constant $k$) and  mass $m$ in the presence of a drag force (with drag coefficient $\\beta$).  Newton’s second law reads:\n",
        "$$\n",
        "{{d^2x}\\over {dt^2}} + {\\beta \\over m}{{dx}\\over {dt}} + {k\\over m}(x-L) = 0\\,.\n",
        "$$\n",
        "To solve this numerically we rever to `scipy.integrate.odeint`, for which a call has the syntax\n",
        "```Python\n",
        "scipy.integrate.odeint(func, y0, t, args=())\n",
        "```\n",
        "`func` is the **system of first order equations**, the array `y0` contains the initial values, time `t` is an array of time values, and arguments `args()` contains the parameters of `func` (here $L$, $k$, $m$, and $\\beta$).  The unknowns in a system of differential equations are functions: `odeint` will return the values of these functions at the values provided via `t`."
      ]
    },
    {
      "cell_type": "code",
      "execution_count": null,
      "metadata": {
        "colab": {
          "base_uri": "https://localhost:8080/",
          "height": 594
        },
        "id": "s_9Vj_yWLd9f",
        "outputId": "ca60922e-fc2e-4e36-af5c-20688c37236c"
      },
      "outputs": [
        {
          "data": {
            "image/png": "[encoded data removed]",
            "text/plain": [
              "<Figure size 432x288 with 1 Axes>"
            ]
          },
          "metadata": {
            "needs_background": "light"
          },
          "output_type": "display_data"
        },
        {
          "data": {
            "image/png": "[encoded data removed]",
            "text/plain": [
              "<Figure size 432x288 with 1 Axes>"
            ]
          },
          "metadata": {
            "needs_background": "light"
          },
          "output_type": "display_data"
        }
      ],
      "source": [
        "from scipy.integrate import odeint\n",
        " \n",
        "# The system of first order ODEs: returns dx/dt, dv/dt\n",
        "def odes(u, t):\n",
        "    x, v = u\n",
        "    return (v, (-k*(x-L) - beta*v)/m)\n",
        "\n",
        "# Sampling times\n",
        "t = np.arange(0, 20.1, 0.01)\n",
        "\n",
        "# Initial values of x, v\n",
        "u0 = np.array([1,0])\n",
        " \n",
        "# Assume certain values of the physical parameters\n",
        "beta = 0.4\n",
        "k = 8.0\n",
        "L = 0.5\n",
        "m = 1.0\n",
        "\n",
        "# Solve the ODEs\n",
        "u = odeint(odes, u0, t)\n",
        "\n",
        "# Plot x and v vs t using matplotlib\n",
        "# u[:,0] is x\n",
        "plt.plot(t, u[:,0], label='x')\n",
        "# u[:,1] is v\n",
        "plt.plot(t, u[:,1], label='v')\n",
        "plt.title('Damped Oscillator')\n",
        "plt.xlabel('Time')\n",
        "plt.legend()\n",
        "plt.show()\n",
        "\n",
        "# Plot in phase space using matplotlib\n",
        "plt.plot(u[:,0],u[:,1])\n",
        "plt.title('Phase-space')\n",
        "plt.xlabel('Position')\n",
        "plt.ylabel('Velocity')\n",
        "plt.show()"
      ]
    },
    {
      "cell_type": "markdown",
      "metadata": {
        "id": "Yf4Oi9kEjT8G"
      },
      "source": [
        "## Fitting Data with `scipy.optimize.curve_fit`\n",
        "\n",
        "The `scipy.optimize` package provides functions for minimizing (or maximizing) objective functions, possibly subject to constraints. It includes solvers for nonlinear problems (with support for both local and global optimization algorithms), linear programing, constrained and nonlinear least-squares, root finding, and curve fitting.\n",
        "\n",
        "A typical use case is to fit data to scientific models and estimate the model parameters.  This can be easily achieved with [`scipy.optimize.curve_fit`](https://docs.scipy.org/doc/scipy/reference/generated/scipy.optimize.curve_fit.html).\n",
        "\n",
        "In this example we:\n",
        "\n",
        "1. generate some data according to a model\n",
        "1. add some random noise to the data\n",
        "1. write the data to file\n",
        "1. read back the data with numpy\n",
        "1. fit the data with `curve_fit`"
      ]
    },
    {
      "cell_type": "markdown",
      "metadata": {
        "id": "N5AhxXfhjT8G"
      },
      "source": [
        "### 1. Generate data"
      ]
    },
    {
      "cell_type": "code",
      "execution_count": null,
      "metadata": {
        "colab": {
          "base_uri": "https://localhost:8080/"
        },
        "id": "rb4PBlQEjT8H",
        "outputId": "a97c063b-86fe-46f5-d787-fb69f21bd764"
      },
      "outputs": [
        {
          "name": "stdout",
          "output_type": "stream",
          "text": [
            "<class 'numpy.ndarray'>\n",
            "<class 'numpy.ndarray'>\n",
            "(100,)\n",
            "(100,)\n"
          ]
        }
      ],
      "source": [
        "nevents = 100\n",
        "\n",
        "x = np.linspace(10, 100, nevents)\n",
        "\n",
        "def background(t, A=100, tau=10):\n",
        "    return A * np.exp(-t/tau)\n",
        "\n",
        "y = background(x)\n",
        "\n",
        "print(type(x))\n",
        "print(type(y))\n",
        "print(x.shape)\n",
        "print(y.shape)"
      ]
    },
    {
      "cell_type": "code",
      "execution_count": null,
      "metadata": {
        "colab": {
          "base_uri": "https://localhost:8080/",
          "height": 317
        },
        "id": "FC_lvleyjT8H",
        "outputId": "2b1f1600-c6fb-4fb9-b911-19f6954320f1"
      },
      "outputs": [
        {
          "data": {
            "text/plain": [
              "<matplotlib.legend.Legend at 0x7f0ff42971d0>"
            ]
          },
          "execution_count": 13,
          "metadata": {},
          "output_type": "execute_result"
        },
        {
          "data": {
            "image/png": "[encoded data removed]",
            "text/plain": [
              "<Figure size 432x288 with 1 Axes>"
            ]
          },
          "metadata": {
            "needs_background": "light"
          },
          "output_type": "display_data"
        }
      ],
      "source": [
        "%matplotlib inline\n",
        "\n",
        "#import matplotlib.pyplot as plt\n",
        "\n",
        "plt.plot(x, y, 'b-', label='Background')\n",
        "plt.xlabel('x')\n",
        "plt.legend()"
      ]
    },
    {
      "cell_type": "markdown",
      "metadata": {
        "id": "C5zMv0_9jT8I"
      },
      "source": [
        "### 2. Add random noise to the background"
      ]
    },
    {
      "cell_type": "code",
      "execution_count": null,
      "metadata": {
        "id": "O7uR1woEjT8I"
      },
      "outputs": [],
      "source": [
        "noise = 3 * np.random.normal(size=x.size)\n",
        "\n",
        "y_noise = y + noise"
      ]
    },
    {
      "cell_type": "code",
      "execution_count": null,
      "metadata": {
        "colab": {
          "base_uri": "https://localhost:8080/",
          "height": 317
        },
        "id": "N1NyIahfjT8J",
        "outputId": "0dc25008-4850-4311-e859-c2a427efbd66"
      },
      "outputs": [
        {
          "data": {
            "text/plain": [
              "<matplotlib.legend.Legend at 0x7f0ff412a910>"
            ]
          },
          "execution_count": 15,
          "metadata": {},
          "output_type": "execute_result"
        },
        {
          "data": {
            "image/png": "[encoded data removed]",
            "text/plain": [
              "<Figure size 432x288 with 1 Axes>"
            ]
          },
          "metadata": {
            "needs_background": "light"
          },
          "output_type": "display_data"
        }
      ],
      "source": [
        "#%matplotlib notebook\n",
        "plt.plot(x, y_noise, 'r-', label='Background + noise')\n",
        "plt.plot(x, y, 'g^', label='Analytical')\n",
        "plt.xlabel('x')\n",
        "plt.legend()"
      ]
    },
    {
      "cell_type": "markdown",
      "metadata": {
        "id": "SqCIVIZ3jT8J"
      },
      "source": [
        "### 3. Write data to file\n",
        "\n",
        "This time we use `numpy.savetxt` and loop over the arrays."
      ]
    },
    {
      "cell_type": "code",
      "execution_count": null,
      "metadata": {
        "id": "-74zzyHRjT8K"
      },
      "outputs": [],
      "source": [
        "fname = 'data.txt'\n",
        "\n",
        "with open(fname,'w') as f:\n",
        "    for i in range(len(x)):\n",
        "        f.writelines(\"%.5f %.5f %.5f\" % (x[i], y[i], y_noise[i]))\n",
        "        f.write('\\n')"
      ]
    },
    {
      "cell_type": "code",
      "execution_count": null,
      "metadata": {
        "colab": {
          "base_uri": "https://localhost:8080/"
        },
        "id": "DwoOaikFlP-Z",
        "outputId": "73d1ce0c-5a48-4255-99e6-35cd45547c95"
      },
      "outputs": [
        {
          "name": "stdout",
          "output_type": "stream",
          "text": [
            "10.00000 36.78794 40.20787\n",
            "10.90909 33.59110 34.15394\n",
            "11.81818 30.67206 28.38377\n",
            "12.72727 28.00668 24.67887\n",
            "13.63636 25.57292 25.04687\n",
            "14.54545 23.35065 18.81812\n",
            "15.45455 21.32149 22.30094\n",
            "16.36364 19.46867 22.06495\n",
            "17.27273 17.77686 26.12436\n",
            "18.18182 16.23206 16.92050\n",
            "19.09091 14.82151 9.38036\n",
            "20.00000 13.53353 13.51542\n",
            "20.90909 12.35747 8.26049\n",
            "21.81818 11.28362 10.55352\n",
            "22.72727 10.30308 13.16199\n",
            "23.63636 9.40775 9.97164\n",
            "24.54545 8.59022 13.76866\n",
            "25.45455 7.84374 6.92119\n",
            "26.36364 7.16212 2.87731\n",
            "27.27273 6.53974 4.85542\n",
            "28.18182 5.97144 9.26303\n",
            "29.09091 5.45253 6.59593\n",
            "30.00000 4.97871 2.39149\n",
            "30.90909 4.54606 5.77428\n",
            "31.81818 4.15101 3.62759\n",
            "32.72727 3.79029 -0.52146\n",
            "33.63636 3.46092 8.45032\n",
            "34.54545 3.16017 5.53655\n",
            "35.45455 2.88555 1.06265\n",
            "36.36364 2.63480 -0.98004\n",
            "37.27273 2.40584 8.63638\n",
            "38.18182 2.19677 2.96321\n",
            "39.09091 2.00587 -0.39086\n",
            "40.00000 1.83156 5.18836\n",
            "40.90909 1.67240 1.56262\n",
            "41.81818 1.52707 -5.11587\n",
            "42.72727 1.39437 1.58920\n",
            "43.63636 1.27320 1.27392\n",
            "44.54545 1.16256 2.98642\n",
            "45.45455 1.06153 -5.05395\n",
            "46.36364 0.96929 3.83934\n",
            "47.27273 0.88506 2.80099\n",
            "48.18182 0.80815 -2.68520\n",
            "49.09091 0.73792 1.22272\n",
            "50.00000 0.67379 0.41395\n",
            "50.90909 0.61524 -0.33335\n",
            "51.81818 0.56178 -4.36310\n",
            "52.72727 0.51296 4.73089\n",
            "53.63636 0.46838 -1.46103\n",
            "54.54545 0.42768 -0.37391\n",
            "55.45455 0.39052 -4.11062\n",
            "56.36364 0.35658 -2.05275\n",
            "57.27273 0.32559 0.60208\n",
            "58.18182 0.29730 5.99708\n",
            "59.09091 0.27147 2.03878\n",
            "60.00000 0.24788 -1.68193\n",
            "60.90909 0.22634 6.19850\n",
            "61.81818 0.20667 -3.97014\n",
            "62.72727 0.18871 0.48771\n",
            "63.63636 0.17231 0.84667\n",
            "64.54545 0.15734 2.81533\n",
            "65.45455 0.14366 -5.53463\n",
            "66.36364 0.13118 -5.98826\n",
            "67.27273 0.11978 5.07527\n",
            "68.18182 0.10937 -3.33174\n",
            "69.09091 0.09987 -2.30204\n",
            "70.00000 0.09119 4.05716\n",
            "70.90909 0.08326 -2.78606\n",
            "71.81818 0.07603 0.13277\n",
            "72.72727 0.06942 -2.50317\n",
            "73.63636 0.06339 -0.49740\n",
            "74.54545 0.05788 -1.53063\n",
            "75.45455 0.05285 -3.74732\n",
            "76.36364 0.04826 1.91862\n",
            "77.27273 0.04406 0.96765\n",
            "78.18182 0.04024 -7.08459\n",
            "79.09091 0.03674 2.54735\n",
            "80.00000 0.03355 -6.92373\n",
            "80.90909 0.03063 1.49629\n",
            "81.81818 0.02797 -0.48556\n",
            "82.72727 0.02554 -3.33568\n",
            "83.63636 0.02332 -1.16839\n",
            "84.54545 0.02129 -1.25009\n",
            "85.45455 0.01944 4.59820\n",
            "86.36364 0.01775 3.34111\n",
            "87.27273 0.01621 3.94294\n",
            "88.18182 0.01480 -2.98784\n",
            "89.09091 0.01352 5.93540\n",
            "90.00000 0.01234 0.35523\n",
            "90.90909 0.01127 -1.96537\n",
            "91.81818 0.01029 1.29031\n",
            "92.72727 0.00940 1.74139\n",
            "93.63636 0.00858 3.45249\n",
            "94.54545 0.00783 -0.03866\n",
            "95.45455 0.00715 -2.03241\n",
            "96.36364 0.00653 -0.45352\n",
            "97.27273 0.00596 -3.95118\n",
            "98.18182 0.00545 -2.90009\n",
            "99.09091 0.00497 4.54566\n",
            "100.00000 0.00454 0.17112\n"
          ]
        }
      ],
      "source": [
        "!cat data.txt"
      ]
    },
    {
      "cell_type": "markdown",
      "metadata": {
        "id": "gJRIvbH_jT8L"
      },
      "source": [
        "### 4. Read data from file"
      ]
    },
    {
      "cell_type": "code",
      "execution_count": null,
      "metadata": {
        "colab": {
          "base_uri": "https://localhost:8080/"
        },
        "id": "rW20-_EsjT8L",
        "outputId": "055d9609-c43e-4696-d943-acac7bc3b0cb"
      },
      "outputs": [
        {
          "name": "stdout",
          "output_type": "stream",
          "text": [
            "(100,)\n",
            "(100,)\n",
            "(100,)\n"
          ]
        }
      ],
      "source": [
        "t, z, w = np.loadtxt(fname, unpack=True)\n",
        "print(t.shape)\n",
        "print(z.shape)\n",
        "print(w.shape)"
      ]
    },
    {
      "cell_type": "code",
      "execution_count": null,
      "metadata": {
        "colab": {
          "base_uri": "https://localhost:8080/",
          "height": 317
        },
        "id": "j0S82nSgjT8L",
        "outputId": "fda886e6-158b-4d4a-db6e-90003b1d3ca4"
      },
      "outputs": [
        {
          "data": {
            "text/plain": [
              "<matplotlib.legend.Legend at 0x7f0ff39def50>"
            ]
          },
          "execution_count": 20,
          "metadata": {},
          "output_type": "execute_result"
        },
        {
          "data": {
            "image/png": "[encoded data removed]",
            "text/plain": [
              "<Figure size 432x288 with 1 Axes>"
            ]
          },
          "metadata": {
            "needs_background": "light"
          },
          "output_type": "display_data"
        }
      ],
      "source": [
        "#%matplotlib notebook\n",
        "plt.plot(t, z, 'r-', label='z')\n",
        "plt.plot(t, w, 'b--', label='w')\n",
        "\n",
        "plt.xlabel('Time [s]')\n",
        "plt.legend()"
      ]
    },
    {
      "cell_type": "markdown",
      "metadata": {
        "id": "6FV6dPYgjT8L"
      },
      "source": [
        "### 5. Fit data\n",
        "\n",
        "`curve_fit` takes at least three arguments:\n",
        "1. the function that you want to fit;\n",
        "1. a set of independent data;\n",
        "1. a set of dependent data.\n",
        "\n",
        "We will keep using NumPy arrays for the data.  One can also:\n",
        "4. provide initial guesses for the function parameters in a keyword `p0`;\n",
        "5. give relative or absolute errors on the dependent data using the keyword `sigma` (and `absolute_sigma`)."
      ]
    },
    {
      "cell_type": "code",
      "execution_count": null,
      "metadata": {
        "id": "PWJt2XnijT8M"
      },
      "outputs": [],
      "source": [
        "def fitfunc(x, N, alpha, c):\n",
        "    return N*np.exp(-alpha*x) + c\n",
        "\n",
        "param_labels = ['N', 'alpha', 'c']"
      ]
    },
    {
      "cell_type": "code",
      "execution_count": null,
      "metadata": {
        "colab": {
          "base_uri": "https://localhost:8080/"
        },
        "id": "YvCaSUqCjT8M",
        "outputId": "177291a7-04c8-4839-d664-c22616aa31eb"
      },
      "outputs": [
        {
          "name": "stderr",
          "output_type": "stream",
          "text": [
            "/usr/local/lib/python3.7/dist-packages/ipykernel_launcher.py:2: RuntimeWarning: overflow encountered in exp\n",
            "  \n",
            "/usr/local/lib/python3.7/dist-packages/ipykernel_launcher.py:2: RuntimeWarning: overflow encountered in multiply\n",
            "  \n"
          ]
        }
      ],
      "source": [
        "from scipy.optimize import curve_fit\n",
        "\n",
        "fit_pars, cov_matrix = curve_fit(fitfunc, t, w)"
      ]
    },
    {
      "cell_type": "code",
      "execution_count": null,
      "metadata": {
        "colab": {
          "base_uri": "https://localhost:8080/"
        },
        "id": "eE874WJ1jT8M",
        "outputId": "76056441-c2b9-418a-9ffb-d4900d0264d7"
      },
      "outputs": [
        {
          "name": "stdout",
          "output_type": "stream",
          "text": [
            "[ 9.91807170e+01  9.82915429e-02 -3.36024303e-01]\n"
          ]
        }
      ],
      "source": [
        "print(fit_pars)"
      ]
    },
    {
      "cell_type": "code",
      "execution_count": null,
      "metadata": {
        "colab": {
          "base_uri": "https://localhost:8080/"
        },
        "id": "MBPlZ_GvjT8M",
        "outputId": "263d7836-db45-4b19-ecef-153081fe5a73"
      },
      "outputs": [
        {
          "name": "stdout",
          "output_type": "stream",
          "text": [
            "[[1.41917015e+02 9.55097302e-02 1.96228160e+00]\n",
            " [9.55097302e-02 7.30441867e-05 2.07090104e-03]\n",
            " [1.96228160e+00 2.07090104e-03 2.04459446e-01]]\n"
          ]
        }
      ],
      "source": [
        "print(cov_matrix)"
      ]
    },
    {
      "cell_type": "code",
      "execution_count": null,
      "metadata": {
        "colab": {
          "base_uri": "https://localhost:8080/"
        },
        "id": "7xekA2ozET9M",
        "outputId": "36ea0ba9-9427-4ffe-de87-45cd8d72b61c"
      },
      "outputs": [
        {
          "name": "stdout",
          "output_type": "stream",
          "text": [
            "99.18071695237191 +/- 11.912892785894757\n",
            "0.09829154291511531 +/- 0.00854658918303631\n",
            "-0.3360243034725031 +/- 0.4521719210829457\n"
          ]
        }
      ],
      "source": [
        "for i in range(3):\n",
        "    print(fit_pars[i], \"+/-\", cov_matrix[i, i]**0.5)"
      ]
    },
    {
      "cell_type": "code",
      "execution_count": null,
      "metadata": {
        "colab": {
          "base_uri": "https://localhost:8080/"
        },
        "id": "P85myhcdwqwC",
        "outputId": "d9aed984-e27b-4ddc-f4ce-48275c14e8c6"
      },
      "outputs": [
        {
          "name": "stdout",
          "output_type": "stream",
          "text": [
            " 12.0% error on parameter N\n",
            " 8.7% error on parameter alpha\n",
            " 134.6% error on parameter c\n"
          ]
        }
      ],
      "source": [
        "for i in range(3):\n",
        "    print(\"{0: .1f}% error on parameter {1}\".format(np.abs(100*cov_matrix[i, i]**0.5/fit_pars[i]), param_labels[i]))"
      ]
    },
    {
      "cell_type": "code",
      "execution_count": null,
      "metadata": {
        "id": "ln8UBBK94YDa"
      },
      "outputs": [],
      "source": [
        "fit_pars_guess, cov_matrix_guess = curve_fit(fitfunc, t, w, p0=[100., 0.1, 0.])"
      ]
    },
    {
      "cell_type": "code",
      "execution_count": null,
      "metadata": {
        "colab": {
          "base_uri": "https://localhost:8080/"
        },
        "id": "v3E3fPsM4iCC",
        "outputId": "d7c7bb0e-68eb-40f3-bfdf-9182b2be0b2a"
      },
      "outputs": [
        {
          "name": "stdout",
          "output_type": "stream",
          "text": [
            " 12.0% error on parameter N\n",
            " 8.7% error on parameter alpha\n",
            " 134.6% error on parameter c\n"
          ]
        }
      ],
      "source": [
        "for i in range(3):\n",
        "    print(\"{0: .1f}% error on parameter {1}\".format(np.abs(100*cov_matrix_guess[i, i]**0.5/fit_pars_guess[i]), param_labels[i]))"
      ]
    },
    {
      "cell_type": "code",
      "execution_count": null,
      "metadata": {
        "colab": {
          "base_uri": "https://localhost:8080/",
          "height": 300
        },
        "id": "HgvFxYm7jT8N",
        "outputId": "338e83a2-bece-4d52-d1ce-1f865fd10056"
      },
      "outputs": [
        {
          "data": {
            "image/png": "[encoded data removed]",
            "text/plain": [
              "<Figure size 432x288 with 1 Axes>"
            ]
          },
          "metadata": {
            "needs_background": "light"
          },
          "output_type": "display_data"
        }
      ],
      "source": [
        "#%matplotlib notebook\n",
        "plt.plot(x, y, 'g--', label='Background')\n",
        "\n",
        "plt.plot(t, w, 'b-', label='Data points $w$')\n",
        "\n",
        "plt.plot(t, fitfunc(t, *fit_pars), 'm-', label='Fit N: %.2f alpha: %.3f  c: %.3f' % tuple(fit_pars))\n",
        "\n",
        "plt.legend()\n",
        "plt.xlabel('t')\n",
        "plt.grid()"
      ]
    },
    {
      "cell_type": "code",
      "execution_count": null,
      "metadata": {
        "id": "TX3ZPhOQ365o"
      },
      "outputs": [],
      "source": [
        ""
      ]
    }
  ],
  "metadata": {
    "colab": {
      "collapsed_sections": [],
      "name": "6-SciPy.ipynb",
      "provenance": [],
      "include_colab_link": true
    },
    "kernelspec": {
      "display_name": "Python 3 (ipykernel)",
      "language": "python",
      "name": "python3"
    },
    "language_info": {
      "codemirror_mode": {
        "name": "ipython",
        "version": 3
      },
      "file_extension": ".py",
      "mimetype": "text/x-python",
      "name": "python",
      "nbconvert_exporter": "python",
      "pygments_lexer": "ipython3",
      "version": "3.9.8"
    }
  },
  "nbformat": 4,
  "nbformat_minor": 0
}