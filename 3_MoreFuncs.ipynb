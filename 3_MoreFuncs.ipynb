{
  "nbformat": 4,
  "nbformat_minor": 0,
  "metadata": {
    "kernelspec": {
      "display_name": "Python 3 (ipykernel)",
      "language": "python",
      "name": "python3"
    },
    "language_info": {
      "codemirror_mode": {
        "name": "ipython",
        "version": 3
      },
      "file_extension": ".py",
      "mimetype": "text/x-python",
      "name": "python",
      "nbconvert_exporter": "python",
      "pygments_lexer": "ipython3",
      "version": "3.8.2"
    },
    "colab": {
      "name": "3-MoreFuncs.ipynb",
      "provenance": [],
      "collapsed_sections": [],
      "include_colab_link": true
    }
  },
  "cells": [
    {
      "cell_type": "markdown",
      "metadata": {
        "id": "view-in-github",
        "colab_type": "text"
      },
      "source": [
        "<a href=\"https://colab.research.google.com/github/marino1846067/python/blob/main/3_MoreFuncs.ipynb\" target=\"_parent\"><img src=\"https://colab.research.google.com/assets/colab-badge.svg\" alt=\"Open In Colab\"/></a>"
      ]
    },
    {
      "cell_type": "markdown",
      "metadata": {
        "id": "m_tlLBd6i6OD"
      },
      "source": [
        "# FUNCTIONS: ADVANCED TOPICS\n",
        "This notebook covers some of the useful features of Python functions\n",
        "\n",
        "## 1. Returning multiple values\n",
        "In C++ a function can return only one value\n",
        "```c++\n",
        "T function(args) {\n",
        " T val;\n",
        " // calculations\n",
        " return val;\n",
        "}\n",
        "```\n",
        "where `T` can be any type or class.\n",
        "\n",
        "**Python functions can return an arbitrary number of values (of arbitrary type combinations).**"
      ]
    },
    {
      "cell_type": "code",
      "metadata": {
        "colab": {
          "base_uri": "https://localhost:8080/"
        },
        "id": "KRaFjeeEi6OG",
        "outputId": "911a6d9e-cc30-400d-ce14-ba960737d2f7"
      },
      "source": [
        "def xplus(x):\n",
        "    return x+1, x+2, x+3, x+4\n",
        "\n",
        "print(type(xplus(3)))\n",
        "\n",
        "output = xplus(4)\n",
        "print(type(output))\n",
        "print(output)"
      ],
      "execution_count": null,
      "outputs": [
        {
          "output_type": "stream",
          "name": "stdout",
          "text": [
            "<class 'tuple'>\n",
            "<class 'tuple'>\n",
            "(5, 6, 7, 8)\n"
          ]
        }
      ]
    },
    {
      "cell_type": "code",
      "metadata": {
        "colab": {
          "base_uri": "https://localhost:8080/"
        },
        "id": "UkSVUsRHi6OH",
        "outputId": "4ab7b48f-5a3a-4a50-8958-542f7b7e3b80"
      },
      "source": [
        "list_output = list(xplus(2.2))\n",
        "print(list_output)"
      ],
      "execution_count": null,
      "outputs": [
        {
          "output_type": "stream",
          "name": "stdout",
          "text": [
            "[3.2, 4.2, 5.2, 6.2]\n"
          ]
        }
      ]
    },
    {
      "cell_type": "markdown",
      "metadata": {
        "id": "Cdltze2Ki6OH"
      },
      "source": [
        "### Example: calculating boost parameters\n",
        "\n",
        "Let's compute simple kinematic information and boost parameters.\n",
        "\n",
        "For simplcity we assume the momentum along the *x* axis, but you should **TRY TO GENERALIZE THIS EXAMPLE.**"
      ]
    },
    {
      "cell_type": "code",
      "metadata": {
        "colab": {
          "base_uri": "https://localhost:8080/"
        },
        "id": "1ISrRqTZi6OH",
        "outputId": "22377c07-5b9e-4858-cb7d-c8f544dd8c6b"
      },
      "source": [
        "import math as m\n",
        "\n",
        "m_pi = 0.140 # GeV\n",
        "p_pi = 1.2   # GeV\n",
        "\n",
        "def make_p4(mass, p):\n",
        "    return [m.sqrt(mass**2 + p**2), p, 0, 0] # momentum along the x axis as a list [E, px, py, pz]\n",
        "\n",
        "p4_pi = make_p4(m_pi, p_pi)\n",
        "print(\"pi 4-momentum:\", p4_pi)\n",
        "\n",
        "def boost_params(p4):\n",
        "    p = m.sqrt(p4[1]**2 + p4[2]**2 + p4[3]**2)\n",
        "    E = p4[0]\n",
        "    mass = m.sqrt(E**2 - p**2)\n",
        "    return p/E, E/mass, p/mass # beta, gamma, beta * gamma (as a tuple)\n",
        "\n",
        "beta_pi, gamma_pi, betagamma_pi = boost_params(p4_pi)\n",
        "\n",
        "print(\"pi boost: beta = {0:.3f}, gamma = {1:.3f}, beta*gamma = {2:.3f}\".format(beta_pi, gamma_pi, betagamma_pi))"
      ],
      "execution_count": null,
      "outputs": [
        {
          "output_type": "stream",
          "name": "stdout",
          "text": [
            "pi 4-momentum: [1.2081390648431165, 1.2, 0, 0]\n",
            "pi boost: beta = 0.993, gamma = 8.630, beta*gamma = 8.571\n"
          ]
        }
      ]
    },
    {
      "cell_type": "markdown",
      "metadata": {
        "id": "llAxJn-Ri6OI"
      },
      "source": [
        "## 2. The `_` variable\n",
        "\n",
        "If you return more values you need to make sure that all of them are used when calling the function."
      ]
    },
    {
      "cell_type": "markdown",
      "metadata": {
        "id": "SOeEfuwhi6OI"
      },
      "source": [
        "#### Example: suppose we only need $\\beta$ and $\\gamma$ and not $\\beta\\gamma$."
      ]
    },
    {
      "cell_type": "code",
      "metadata": {
        "colab": {
          "base_uri": "https://localhost:8080/",
          "height": 240
        },
        "id": "xEVodpZDi6OI",
        "outputId": "4b9d5dd0-55ec-4ebf-8d7d-fb45336febca"
      },
      "source": [
        "m_B = 5.279 # GeV\n",
        "p_B = 0.3   # GeV\n",
        "\n",
        "beta_B, gamma_B = boost_params(make_p4(m_B, p_B))\n",
        "print(beta_B)"
      ],
      "execution_count": null,
      "outputs": [
        {
          "output_type": "error",
          "ename": "ValueError",
          "evalue": "ignored",
          "traceback": [
            "\u001b[0;31m---------------------------------------------------------------------------\u001b[0m",
            "\u001b[0;31mValueError\u001b[0m                                Traceback (most recent call last)",
            "\u001b[0;32m<ipython-input-4-ccdb8f616b58>\u001b[0m in \u001b[0;36m<module>\u001b[0;34m()\u001b[0m\n\u001b[1;32m      2\u001b[0m \u001b[0mp_B\u001b[0m \u001b[0;34m=\u001b[0m \u001b[0;36m0.3\u001b[0m   \u001b[0;31m# GeV\u001b[0m\u001b[0;34m\u001b[0m\u001b[0;34m\u001b[0m\u001b[0m\n\u001b[1;32m      3\u001b[0m \u001b[0;34m\u001b[0m\u001b[0m\n\u001b[0;32m----> 4\u001b[0;31m \u001b[0mbeta_B\u001b[0m\u001b[0;34m,\u001b[0m \u001b[0mgamma_B\u001b[0m \u001b[0;34m=\u001b[0m \u001b[0mboost_params\u001b[0m\u001b[0;34m(\u001b[0m\u001b[0mmake_p4\u001b[0m\u001b[0;34m(\u001b[0m\u001b[0mm_B\u001b[0m\u001b[0;34m,\u001b[0m \u001b[0mp_B\u001b[0m\u001b[0;34m)\u001b[0m\u001b[0;34m)\u001b[0m\u001b[0;34m\u001b[0m\u001b[0;34m\u001b[0m\u001b[0m\n\u001b[0m\u001b[1;32m      5\u001b[0m \u001b[0mprint\u001b[0m\u001b[0;34m(\u001b[0m\u001b[0mbeta_B\u001b[0m\u001b[0;34m)\u001b[0m\u001b[0;34m\u001b[0m\u001b[0;34m\u001b[0m\u001b[0m\n",
            "\u001b[0;31mValueError\u001b[0m: too many values to unpack (expected 2)"
          ]
        }
      ]
    },
    {
      "cell_type": "markdown",
      "metadata": {
        "id": "rvQm1ulgi6OJ"
      },
      "source": [
        "You are forced to have 3 variables to write to, in order for the function to work.\n",
        "\n",
        "This can be tedious because at times you might not need all these returned values, or simply do not care. Fear not: Python has a solution for this as well.\n",
        "\n",
        "The `_`  is a special variable that can be used for a number of purposes. One of them is to ignore values we do not care about.\n",
        "\n",
        "Suppose we want to use only $\\beta_B$."
      ]
    },
    {
      "cell_type": "code",
      "metadata": {
        "colab": {
          "base_uri": "https://localhost:8080/"
        },
        "id": "DIbemM5di6OJ",
        "outputId": "06c4eeb0-fdf9-4363-fd9c-289ec7691bfb"
      },
      "source": [
        "beta_B, *_ = boost_params(make_p4(m_B, p_B))\n",
        "\n",
        "print(\"B beta:\", beta_B)"
      ],
      "execution_count": null,
      "outputs": [
        {
          "output_type": "stream",
          "name": "stdout",
          "text": [
            "B beta: 0.05673740118652557\n"
          ]
        }
      ]
    },
    {
      "cell_type": "code",
      "metadata": {
        "colab": {
          "base_uri": "https://localhost:8080/"
        },
        "id": "rUXHsTHXi6OJ",
        "outputId": "c9d69620-f88c-4e38-d495-474be1ca160c"
      },
      "source": [
        "print(_)\n",
        "print(type(_))\n",
        "print(len(_))"
      ],
      "execution_count": null,
      "outputs": [
        {
          "output_type": "stream",
          "name": "stdout",
          "text": [
            "[1.0016134628566604, 0.05682894487592347]\n",
            "<class 'list'>\n",
            "2\n"
          ]
        }
      ]
    },
    {
      "cell_type": "markdown",
      "metadata": {
        "id": "S12-VbAAi6OJ"
      },
      "source": [
        "In this case `*_` means that 0 or more vales are unpacked and assigned to `_`.\n",
        "\n",
        "Here `_` is a list of 2 objects. You can use `_` like any other variable."
      ]
    },
    {
      "cell_type": "code",
      "metadata": {
        "scrolled": true,
        "colab": {
          "base_uri": "https://localhost:8080/"
        },
        "id": "cQQR2HICi6OK",
        "outputId": "05f6b873-168b-46c0-a1c6-cbe6a1a84ad3"
      },
      "source": [
        "print(_)\n",
        "print(_[0], _[1])"
      ],
      "execution_count": null,
      "outputs": [
        {
          "output_type": "stream",
          "name": "stdout",
          "text": [
            "[1.0016134628566604, 0.05682894487592347]\n",
            "1.0016134628566604 0.05682894487592347\n"
          ]
        }
      ]
    },
    {
      "cell_type": "markdown",
      "metadata": {
        "id": "PeejJobJi6OK"
      },
      "source": [
        "#### Similarly"
      ]
    },
    {
      "cell_type": "code",
      "metadata": {
        "colab": {
          "base_uri": "https://localhost:8080/"
        },
        "id": "PFkxCL3Vi6OK",
        "outputId": "e548d987-0094-4974-e4b1-7bc627e466ab"
      },
      "source": [
        "a, b, *_ = xplus(13)\n",
        "print(a, b, _)\n",
        "\n",
        "a, b, c, _ = xplus(13)\n",
        "print(a, b, c, _)\n",
        "\n",
        "a, b, c, *_ = xplus(13)\n",
        "print(a, b, c, _)\n",
        "\n",
        "a, _, c, _ = xplus(13)\n",
        "print(a, c, _)\n",
        "\n",
        "a, *_, d = xplus(13)\n",
        "print(a, d, _)"
      ],
      "execution_count": null,
      "outputs": [
        {
          "output_type": "stream",
          "name": "stdout",
          "text": [
            "14 15 [16, 17]\n",
            "14 15 16 17\n",
            "14 15 16 [17]\n",
            "14 16 17\n",
            "14 17 [15, 16]\n"
          ]
        }
      ]
    },
    {
      "cell_type": "markdown",
      "metadata": {
        "id": "Z2wGmkk9i6OK"
      },
      "source": [
        "#### Watch out, however: only one `*_` is allowed"
      ]
    },
    {
      "cell_type": "code",
      "metadata": {
        "colab": {
          "base_uri": "https://localhost:8080/",
          "height": 130
        },
        "id": "tfGdNBkXi6OL",
        "outputId": "94edffa1-7686-41b3-960c-2a22f7ebf17f"
      },
      "source": [
        "*_, c, *_ = xplus(13)"
      ],
      "execution_count": null,
      "outputs": [
        {
          "output_type": "error",
          "ename": "SyntaxError",
          "evalue": "ignored",
          "traceback": [
            "\u001b[0;36m  File \u001b[0;32m\"<ipython-input-10-bc02b60955cc>\"\u001b[0;36m, line \u001b[0;32m1\u001b[0m\n\u001b[0;31m    *_, c, *_ = xplus(13)\u001b[0m\n\u001b[0m                         ^\u001b[0m\n\u001b[0;31mSyntaxError\u001b[0m\u001b[0;31m:\u001b[0m two starred expressions in assignment\n"
          ]
        }
      ]
    },
    {
      "cell_type": "markdown",
      "metadata": {
        "id": "DqwlmAa9i6OL"
      },
      "source": [
        "#### If the multiple values have special meanings, using a dictionary should be considered"
      ]
    },
    {
      "cell_type": "code",
      "metadata": {
        "colab": {
          "base_uri": "https://localhost:8080/"
        },
        "id": "x2nyKDyRi6OL",
        "outputId": "37399731-213e-48b4-d47a-edd555ac63d5"
      },
      "source": [
        "def boost_dict(p4):\n",
        "    p = m.sqrt(p4[1]**2 + p4[2]**2 + p4[3]**2)\n",
        "    E = p4[0]\n",
        "    mass = m.sqrt(E**2 - p**2)\n",
        "    return {'beta': p/E, 'gamma': E/mass, 'betagamma': p/mass}\n",
        "\n",
        "m_mu = 0.106 # GeV\n",
        "p_mu = 0.020 # GeV\n",
        "\n",
        "boost_mu = boost_dict(make_p4(m_mu, p_mu))\n",
        "\n",
        "print(boost_mu)\n",
        "\n",
        "print(\"mu beta: \", boost_mu['beta'])"
      ],
      "execution_count": null,
      "outputs": [
        {
          "output_type": "stream",
          "name": "stdout",
          "text": [
            "{'beta': 0.1854078591978247, 'gamma': 1.0176442686914566, 'betagamma': 0.18867924528301888}\n",
            "mu beta:  0.1854078591978247\n"
          ]
        }
      ]
    },
    {
      "cell_type": "markdown",
      "metadata": {
        "id": "HjC_B8zDi6OL"
      },
      "source": [
        "## 3. Anonymous (`lambda`) functions \n",
        "`lambda` functions are a special class of functions that consist of a simple single statement.\n",
        "\n",
        "Suppose we want to compute `1 + x**2 - x**3` for elements of a list, using a comprehension."
      ]
    },
    {
      "cell_type": "code",
      "metadata": {
        "colab": {
          "base_uri": "https://localhost:8080/"
        },
        "id": "i7FKco4Ci6OM",
        "outputId": "b6c00f49-ff8b-4cc8-f2fb-6c20f3135529"
      },
      "source": [
        "import random as r\n",
        "\n",
        "def myfunc(x):\n",
        "    return 1 + x**2 - x**3\n",
        "\n",
        "def apply_to_list(alist, f):\n",
        "    return [f(x) for x in alist]\n",
        "\n",
        "alist = [r.normalvariate(1., 0.3) for i in range(5)]\n",
        "\n",
        "print(alist)\n",
        "print(apply_to_list(alist, myfunc))"
      ],
      "execution_count": null,
      "outputs": [
        {
          "output_type": "stream",
          "name": "stdout",
          "text": [
            "[1.010836448599934, 0.8067165649899771, 0.9336191540146304, 1.0045731292260436, 0.8904494912048868]\n",
            "[0.9889274216543622, 1.1257872390605097, 1.0578605142271245, 0.9953849481119323, 1.0868626308929965]\n"
          ]
        }
      ]
    },
    {
      "cell_type": "markdown",
      "metadata": {
        "id": "i4ZEtRONi6OM"
      },
      "source": [
        "Function `myfunc()` has really no other use other than when applied to a list. So its name is basically useless.\n",
        "\n",
        "Further, if we wanted now to apply a new function we would need to define a new useless function.\n",
        "\n",
        "Rather than definining a standard function with \n",
        "```python\n",
        "def myfunc(x):\n",
        "    return 1 + x**2 - x**3\n",
        "```\n",
        "we can do something more light weight."
      ]
    },
    {
      "cell_type": "markdown",
      "metadata": {
        "id": "xcm54G_7i6OM"
      },
      "source": [
        "We can create functions on the fly which do not have a name. Technically it means the function object does not have the `__name__` attribute [remember: also functions are objects in Python, so they have attributes and `__name__` is one of them].\n",
        "\n",
        "The solution with a `lambda` function is quite simple."
      ]
    },
    {
      "cell_type": "code",
      "metadata": {
        "scrolled": true,
        "colab": {
          "base_uri": "https://localhost:8080/"
        },
        "id": "WnAT4wwti6OM",
        "outputId": "0fa4c3dc-5bb1-4b10-87cf-e69261990d9e"
      },
      "source": [
        "print(apply_to_list(alist, myfunc))\n",
        "print(apply_to_list(alist, lambda x: 1 + x**2 - x**3))"
      ],
      "execution_count": null,
      "outputs": [
        {
          "output_type": "stream",
          "name": "stdout",
          "text": [
            "[0.9889274216543622, 1.1257872390605097, 1.0578605142271245, 0.9953849481119323, 1.0868626308929965]\n",
            "[0.9889274216543622, 1.1257872390605097, 1.0578605142271245, 0.9953849481119323, 1.0868626308929965]\n"
          ]
        }
      ]
    },
    {
      "cell_type": "markdown",
      "metadata": {
        "id": "rRgrdJeni6ON"
      },
      "source": [
        "### Sorting lists with lambda functions\n",
        "A typical use of `lambda` functions is list sorting."
      ]
    },
    {
      "cell_type": "code",
      "metadata": {
        "colab": {
          "base_uri": "https://localhost:8080/"
        },
        "id": "C3AO8rrmi6ON",
        "outputId": "8172f1fb-2658-471c-d957-14caf54d3aff"
      },
      "source": [
        "vals = [r.uniform(0., 3.) for i in range(5)]\n",
        "print(\"Original data:\", vals)\n",
        "print(\"Formated data:\", [\"{0:0.3f}\".format(x) for x in vals])\n",
        "\n",
        "vals.sort()\n",
        "print(\"Sorted data:\", [\"%.3f\"%x for x in vals])\n",
        "\n",
        "vals.sort(key=lambda x: m.sin(x))\n",
        "print(\"Data sorted by sin with lambda:\",[\"%.3f\"%x for x in vals])\n",
        "\n",
        "vals.sort(key=m.sin)\n",
        "print(\"Data sorted by sin without lambda:\",[\"%.3f\"%x for x in vals])"
      ],
      "execution_count": null,
      "outputs": [
        {
          "output_type": "stream",
          "name": "stdout",
          "text": [
            "Original data: [0.1419598536959179, 1.8554390384353914, 1.922361201436153, 0.6526796067279187, 2.940977870549786]\n",
            "Formated data: ['0.142', '1.855', '1.922', '0.653', '2.941']\n",
            "Sorted data: ['0.142', '0.653', '1.855', '1.922', '2.941']\n",
            "Data sorted by sin with lambda: ['0.142', '2.941', '0.653', '1.922', '1.855']\n",
            "Data sorted by sin without lambda: ['0.142', '2.941', '0.653', '1.922', '1.855']\n"
          ]
        }
      ]
    },
    {
      "cell_type": "markdown",
      "metadata": {
        "id": "s1aNrf1Wi6ON"
      },
      "source": [
        "As an additonal use, we can sort the numbers based on unique numerals appearing in the number itself"
      ]
    },
    {
      "cell_type": "code",
      "metadata": {
        "colab": {
          "base_uri": "https://localhost:8080/"
        },
        "id": "HKaO6LOZi6ON",
        "outputId": "94c68d84-33d1-42fb-95bf-9b9cf92977bd"
      },
      "source": [
        "print([\"{0:0.3f}\".format(x) for x in vals])\n",
        "\n",
        "new_vals = [set(\"%.3f\"%x) for x in vals]\n",
        "print(new_vals)\n",
        "\n",
        "vals.sort(key=lambda x: len(set(\"%.3f\"%x)))\n",
        "print([\"%.3f\"%x for x in vals])"
      ],
      "execution_count": null,
      "outputs": [
        {
          "output_type": "stream",
          "name": "stdout",
          "text": [
            "['1.922', '1.855', '0.142', '2.941', '0.653']\n",
            "[{'.', '1', '2', '9'}, {'8', '.', '1', '5'}, {'1', '0', '4', '2', '.'}, {'.', '1', '4', '2', '9'}, {'6', '0', '3', '5', '.'}]\n",
            "['1.922', '1.855', '0.142', '2.941', '0.653']\n"
          ]
        }
      ]
    },
    {
      "cell_type": "markdown",
      "metadata": {
        "id": "jE9JNHJxi6ON"
      },
      "source": [
        "## 4. Functions with arbitrary number of arguments\n",
        "\n",
        "As seen for example with the `print()` function, functions can have a variable number of arguments. The same behaviour can easily be defined for any custom defined function for both **positional and keyword arguments**.\n",
        "\n",
        "### Positional arguments\n",
        "\n",
        "Additional arguments are taken via the special `*arg` argument which is a **tuple** of additional positional arguments."
      ]
    },
    {
      "cell_type": "code",
      "metadata": {
        "id": "czcCS1MYi6ON"
      },
      "source": [
        "def myfunc(a, *arg):\n",
        "    print(\"Positional arguments: %s %s\" % (a, arg))\n",
        "    if len(arg):\n",
        "        for x in arg:\n",
        "            print('[%s]\\t'%x)\n",
        "        print(type(arg), '\\n')"
      ],
      "execution_count": null,
      "outputs": []
    },
    {
      "cell_type": "code",
      "metadata": {
        "colab": {
          "base_uri": "https://localhost:8080/"
        },
        "id": "F1Hm_94gi6OO",
        "outputId": "dec7c1c1-0587-497c-e368-2d0222de5815"
      },
      "source": [
        "myfunc(1.1)"
      ],
      "execution_count": null,
      "outputs": [
        {
          "output_type": "stream",
          "name": "stdout",
          "text": [
            "Positional arguments: 1.1 ()\n"
          ]
        }
      ]
    },
    {
      "cell_type": "code",
      "metadata": {
        "colab": {
          "base_uri": "https://localhost:8080/"
        },
        "id": "qjfx58AJi6OO",
        "outputId": "0841c136-8143-469f-c535-abffc964c3a3"
      },
      "source": [
        "myfunc('hello')"
      ],
      "execution_count": null,
      "outputs": [
        {
          "output_type": "stream",
          "name": "stdout",
          "text": [
            "Positional arguments: hello ()\n"
          ]
        }
      ]
    },
    {
      "cell_type": "code",
      "metadata": {
        "colab": {
          "base_uri": "https://localhost:8080/",
          "height": 188
        },
        "id": "IRhlaMGAwiEO",
        "outputId": "5ff9ee45-0d62-4d98-f893-70b88e2ffef9"
      },
      "source": [
        "myfunc()"
      ],
      "execution_count": null,
      "outputs": [
        {
          "output_type": "error",
          "ename": "TypeError",
          "evalue": "ignored",
          "traceback": [
            "\u001b[0;31m---------------------------------------------------------------------------\u001b[0m",
            "\u001b[0;31mTypeError\u001b[0m                                 Traceback (most recent call last)",
            "\u001b[0;32m<ipython-input-52-a6a9c68c30b3>\u001b[0m in \u001b[0;36m<module>\u001b[0;34m()\u001b[0m\n\u001b[0;32m----> 1\u001b[0;31m \u001b[0mmyfunc\u001b[0m\u001b[0;34m(\u001b[0m\u001b[0;34m)\u001b[0m\u001b[0;34m\u001b[0m\u001b[0;34m\u001b[0m\u001b[0m\n\u001b[0m",
            "\u001b[0;31mTypeError\u001b[0m: myfunc() missing 1 required positional argument: 'a'"
          ]
        }
      ]
    },
    {
      "cell_type": "code",
      "metadata": {
        "colab": {
          "base_uri": "https://localhost:8080/"
        },
        "id": "2cxdu3Pli6OP",
        "outputId": "6e78dbc9-4329-4d2a-fe45-59fa25565c34"
      },
      "source": [
        "myfunc(-0.2, 0.3, 'hello')"
      ],
      "execution_count": null,
      "outputs": [
        {
          "output_type": "stream",
          "name": "stdout",
          "text": [
            "Positional arguments: -0.2 (0.3, 'hello')\n",
            "[0.3]\t\n",
            "[hello]\t\n",
            "<class 'tuple'> \n",
            "\n"
          ]
        }
      ]
    },
    {
      "cell_type": "code",
      "metadata": {
        "colab": {
          "base_uri": "https://localhost:8080/"
        },
        "id": "tHsJ7z0Ji6OQ",
        "outputId": "79e2163a-3603-4f11-91e6-832a05ae5da4"
      },
      "source": [
        "myfunc(-0.2, 0.3, 'hello', 'goodbye', -2, 100)"
      ],
      "execution_count": null,
      "outputs": [
        {
          "output_type": "stream",
          "name": "stdout",
          "text": [
            "Positional arguments: -0.2 (0.3, 'hello', 'goodbye', -2, 100)\n",
            "[0.3]\t\n",
            "[hello]\t\n",
            "[goodbye]\t\n",
            "[-2]\t\n",
            "[100]\t\n",
            "<class 'tuple'> \n",
            "\n"
          ]
        }
      ]
    },
    {
      "cell_type": "markdown",
      "metadata": {
        "id": "MaxYThCTi6OR"
      },
      "source": [
        "### Keyword arguments\n",
        "\n",
        "For optional keyword arguments, the `**karg` feature is used.  This is a **dictionary**."
      ]
    },
    {
      "cell_type": "code",
      "metadata": {
        "id": "y3-jnO8Qi6OS"
      },
      "source": [
        "def myfunc2(a, mu=0.0, sig=0.1, **karg):\n",
        "    print(\"a: %s\"%(a))\n",
        "    print(\"Keyword arguments: %s %s %s\" % (mu, sig, karg))\n",
        "    if len(karg):\n",
        "        for x in karg:\n",
        "            print('[%s]\\t' % x)\n",
        "        print(type(karg), '\\n')"
      ],
      "execution_count": null,
      "outputs": []
    },
    {
      "cell_type": "code",
      "metadata": {
        "colab": {
          "base_uri": "https://localhost:8080/"
        },
        "id": "6BngpfAyi6OS",
        "outputId": "e4ca0c1a-6658-4d97-b685-9d09af979724"
      },
      "source": [
        "myfunc2(0.11111)"
      ],
      "execution_count": null,
      "outputs": [
        {
          "output_type": "stream",
          "name": "stdout",
          "text": [
            "a: 0.11111\n",
            "Keyword arguments: 0.0 0.1 {}\n"
          ]
        }
      ]
    },
    {
      "cell_type": "code",
      "metadata": {
        "colab": {
          "base_uri": "https://localhost:8080/"
        },
        "id": "qGG38nigi6OT",
        "outputId": "bbcfb2ba-3b51-4f67-9129-02b6dce28b8d"
      },
      "source": [
        "myfunc2(0.3, sig=0.5)"
      ],
      "execution_count": null,
      "outputs": [
        {
          "output_type": "stream",
          "name": "stdout",
          "text": [
            "a: 0.3\n",
            "Keyword arguments: 0.0 0.5 {}\n"
          ]
        }
      ]
    },
    {
      "cell_type": "code",
      "metadata": {
        "colab": {
          "base_uri": "https://localhost:8080/"
        },
        "id": "SQgaY_zIi6OT",
        "outputId": "33bcf209-2756-412f-b690-5bd97b41ce95"
      },
      "source": [
        "myfunc2(0.3, color='red')"
      ],
      "execution_count": null,
      "outputs": [
        {
          "output_type": "stream",
          "name": "stdout",
          "text": [
            "a: 0.3\n",
            "Keyword arguments: 0.0 0.1 {'color': 'red'}\n",
            "[color]\t\n",
            "<class 'dict'> \n",
            "\n"
          ]
        }
      ]
    },
    {
      "cell_type": "code",
      "metadata": {
        "colab": {
          "base_uri": "https://localhost:8080/"
        },
        "id": "c_YjpG5si6OT",
        "outputId": "38557f8c-b218-4e81-b65c-1df338607bc9"
      },
      "source": [
        "myfunc2(3, color='red', mu=0.6)"
      ],
      "execution_count": null,
      "outputs": [
        {
          "output_type": "stream",
          "name": "stdout",
          "text": [
            "a: 3\n",
            "Keyword arguments: 0.6 0.1 {'color': 'red'}\n",
            "[color]\t\n",
            "<class 'dict'> \n",
            "\n"
          ]
        }
      ]
    },
    {
      "cell_type": "markdown",
      "metadata": {
        "id": "MXNooT9ci6OT"
      },
      "source": [
        "The additional keyword arguments are stored as a dictionary."
      ]
    },
    {
      "cell_type": "code",
      "metadata": {
        "colab": {
          "base_uri": "https://localhost:8080/"
        },
        "id": "fPHAPMiqi6OU",
        "outputId": "b2e90d73-8d13-4910-8c8e-ea6ecbbe39ca"
      },
      "source": [
        "def myfunc3(a,mu=0.0, sig=0.1, **karg):\n",
        "    print(\"a: %s\"%(a))\n",
        "    print(\"Keyword arguments: %s %s %s\" % (mu, sig, karg))\n",
        "    if len(karg):\n",
        "        for x in karg.keys():\n",
        "            print('[%s = %s]\\t'%(x, karg[x]))\n",
        "        print(type(karg), '\\n')\n",
        "        \n",
        "myfunc3(0.1)"
      ],
      "execution_count": null,
      "outputs": [
        {
          "output_type": "stream",
          "name": "stdout",
          "text": [
            "a: 0.1\n",
            "Keyword arguments: 0.0 0.1 {}\n"
          ]
        }
      ]
    },
    {
      "cell_type": "code",
      "metadata": {
        "colab": {
          "base_uri": "https://localhost:8080/"
        },
        "id": "04AJkcc-i6OU",
        "outputId": "738534ca-dfea-4cf5-aa31-2b55a29a3432"
      },
      "source": [
        "myfunc3(0.3, color='red', mu=0.6)"
      ],
      "execution_count": null,
      "outputs": [
        {
          "output_type": "stream",
          "name": "stdout",
          "text": [
            "a: 0.3\n",
            "Keyword arguments: 0.6 0.1 {'color': 'red'}\n",
            "[color = red]\t\n",
            "<class 'dict'> \n",
            "\n"
          ]
        }
      ]
    },
    {
      "cell_type": "markdown",
      "metadata": {
        "id": "moGGuabni6OU"
      },
      "source": [
        "### Combine both positional and keyword arguments for the most generic function"
      ]
    },
    {
      "cell_type": "code",
      "metadata": {
        "colab": {
          "base_uri": "https://localhost:8080/"
        },
        "id": "glE-LFXYi6OV",
        "outputId": "763dd6a5-8699-4575-f21e-bf0a6c5c6ba1"
      },
      "source": [
        "def myfunc4(a, *arg, mu=0, sig=1, **karg):\n",
        "    print(\"Myfunc4 called\")\n",
        "    print(\"Positional:  a: %s.     Optional: %s\" % (a, arg))\n",
        "    if len(arg):\n",
        "        for x in arg:\n",
        "            print('[%s]\\t' % x)\n",
        "        print(type(arg), '\\n')\n",
        "    print(\"keyword: %s %s %s\" % (mu, sig, karg))    \n",
        "    if len(karg):\n",
        "        for x in karg.keys():\n",
        "            print('[%s = %s]\\t' % (x, karg[x]))\n",
        "        print(type(karg), '\\n')\n",
        "    \n",
        "myfunc4(-0.1)"
      ],
      "execution_count": null,
      "outputs": [
        {
          "output_type": "stream",
          "name": "stdout",
          "text": [
            "Myfunc4 called\n",
            "Positional:  a: -0.1.     Optional: ()\n",
            "keyword: 0 1 {}\n"
          ]
        }
      ]
    },
    {
      "cell_type": "code",
      "metadata": {
        "colab": {
          "base_uri": "https://localhost:8080/"
        },
        "id": "aL-EPmbRi6OV",
        "outputId": "9298f6c4-676b-41e9-aa3b-61e97098314e"
      },
      "source": [
        "myfunc4(-0.1, 10.1)"
      ],
      "execution_count": null,
      "outputs": [
        {
          "output_type": "stream",
          "name": "stdout",
          "text": [
            "Myfunc4 called\n",
            "Positional:  a: -0.1.     Optional: (10.1,)\n",
            "[10.1]\t\n",
            "<class 'tuple'> \n",
            "\n",
            "keyword: 0 1 {}\n"
          ]
        }
      ]
    },
    {
      "cell_type": "code",
      "metadata": {
        "colab": {
          "base_uri": "https://localhost:8080/"
        },
        "id": "rGTvl08Xi6OV",
        "outputId": "9564bdf0-8797-49c0-b893-a1ea39d9080d"
      },
      "source": [
        "myfunc4(-0.1, mu=10.1)"
      ],
      "execution_count": null,
      "outputs": [
        {
          "output_type": "stream",
          "name": "stdout",
          "text": [
            "Myfunc4 called\n",
            "Positional:  a: -0.1.     Optional: ()\n",
            "keyword: 10.1 1 {}\n"
          ]
        }
      ]
    },
    {
      "cell_type": "code",
      "metadata": {
        "colab": {
          "base_uri": "https://localhost:8080/"
        },
        "id": "wsjH_PRki6OV",
        "outputId": "00dc4660-a818-4a87-85bf-316b73435bbf"
      },
      "source": [
        "myfunc4(0.3, 'x', 'y', 0.9, color='red', mu=0.6, thick=1.1, fill='true')"
      ],
      "execution_count": null,
      "outputs": [
        {
          "output_type": "stream",
          "name": "stdout",
          "text": [
            "Myfunc4 called\n",
            "Positional:  a: 0.3.     Optional: ('x', 'y', 0.9)\n",
            "[x]\t\n",
            "[y]\t\n",
            "[0.9]\t\n",
            "<class 'tuple'> \n",
            "\n",
            "keyword: 0.6 1 {'color': 'red', 'thick': 1.1, 'fill': 'true'}\n",
            "[color = red]\t\n",
            "[thick = 1.1]\t\n",
            "[fill = true]\t\n",
            "<class 'dict'> \n",
            "\n"
          ]
        }
      ]
    },
    {
      "cell_type": "markdown",
      "metadata": {
        "id": "m75z6Yg_i6OV"
      },
      "source": [
        "# COMMAND LINE ARGUMENTS\n",
        "\n",
        "Since we covered function arguments, it is only natural to wonder how to provide arguments to a Python script being run from command line.\n",
        "\n",
        "The `sys` module grants easy access to command line arguments as a list. An example is in `examples/Python/cmd_line_args.py`, which reads:\n",
        "\n",
        "```Python\n",
        "import sys, os\n",
        "\n",
        "print(\"Running \" + __file__)\n",
        "\n",
        "print(\"Running \" + os.path.basename(__file__))\n",
        "\n",
        "print(\"Program called with %d arguments\" % len(sys.argv))\n",
        "\n",
        "for a in sys.argv:\n",
        "    print(a)\n",
        "```\n",
        "\n",
        "Run this in a terminal (with `python3`!) to see what happens."
      ]
    },
    {
      "cell_type": "markdown",
      "metadata": {
        "id": "uwv8fpcii6OV"
      },
      "source": [
        "# READY FOR `examples/Python/4-NumPy.ipynb`!"
      ]
    }
  ]
}